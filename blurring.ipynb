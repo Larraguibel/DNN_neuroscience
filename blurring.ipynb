{
  "cells": [
    {
      "cell_type": "markdown",
      "source": [
        "## 1. Importaciones"
      ],
      "metadata": {
        "id": "vEWrR9RbtKOK"
      }
    },
    {
      "cell_type": "code",
      "execution_count": 1,
      "metadata": {
        "id": "f09jgx6Ox0Wi"
      },
      "outputs": [],
      "source": [
        "cuda = True\n",
        "train_batch_size = 32\n",
        "test_batch_size = 124\n",
        "best_loss = float(\"inf\")\n",
        "best_epoch = -1\n",
        "dataset_path = './cifar10'\n",
        "gsync_save = True"
      ]
    },
    {
      "cell_type": "code",
      "execution_count": 2,
      "metadata": {
        "id": "QhK5mjUvx0Wm"
      },
      "outputs": [],
      "source": [
        "from torchvision import transforms, datasets\n",
        "import torch\n",
        "import matplotlib.pyplot as plt"
      ]
    },
    {
      "cell_type": "code",
      "execution_count": 3,
      "metadata": {
        "colab": {
          "base_uri": "https://localhost:8080/"
        },
        "id": "Ytvb4HUex0Wn",
        "outputId": "3cec8bcf-597f-43b8-ed7a-6e2dd7167fe8"
      },
      "outputs": [
        {
          "output_type": "stream",
          "name": "stdout",
          "text": [
            "--2023-11-07 13:01:35--  https://raw.githubusercontent.com/StefOe/colab-pytorch-utils/HEAD/utils.py\n",
            "Resolving raw.githubusercontent.com (raw.githubusercontent.com)... 185.199.108.133, 185.199.109.133, 185.199.110.133, ...\n",
            "Connecting to raw.githubusercontent.com (raw.githubusercontent.com)|185.199.108.133|:443... connected.\n",
            "HTTP request sent, awaiting response... 200 OK\n",
            "Length: 4519 (4.4K) [text/plain]\n",
            "Saving to: ‘utils.py’\n",
            "\n",
            "utils.py            100%[===================>]   4.41K  --.-KB/s    in 0s      \n",
            "\n",
            "2023-11-07 13:01:36 (60.1 MB/s) - ‘utils.py’ saved [4519/4519]\n",
            "\n",
            "Requirement already satisfied: tqdm in /usr/local/lib/python3.10/dist-packages (4.66.1)\n",
            "--2023-11-07 13:01:59--  https://github.com/StefOe/all-conv-pytorch/raw/HEAD/allconv.py\n",
            "Resolving github.com (github.com)... 140.82.114.3\n",
            "Connecting to github.com (github.com)|140.82.114.3|:443... connected.\n",
            "HTTP request sent, awaiting response... 302 Found\n",
            "Location: https://raw.githubusercontent.com/StefOe/all-conv-pytorch/8545bb3ff7ac4410e52d8db930f0485074073ea9/allconv.py [following]\n",
            "--2023-11-07 13:02:00--  https://raw.githubusercontent.com/StefOe/all-conv-pytorch/8545bb3ff7ac4410e52d8db930f0485074073ea9/allconv.py\n",
            "Resolving raw.githubusercontent.com (raw.githubusercontent.com)... 185.199.108.133, 185.199.109.133, 185.199.111.133, ...\n",
            "Connecting to raw.githubusercontent.com (raw.githubusercontent.com)|185.199.108.133|:443... connected.\n",
            "HTTP request sent, awaiting response... 200 OK\n",
            "Length: 1457 (1.4K) [text/plain]\n",
            "Saving to: ‘allconv.py’\n",
            "\n",
            "allconv.py          100%[===================>]   1.42K  --.-KB/s    in 0s      \n",
            "\n",
            "2023-11-07 13:02:00 (25.4 MB/s) - ‘allconv.py’ saved [1457/1457]\n",
            "\n"
          ]
        }
      ],
      "source": [
        "try:\n",
        "    import torch\n",
        "except ModuleNotFoundError:\n",
        "    from os import path\n",
        "    from wheel.pep425tags import get_abbr_impl, get_impl_ver, get_abi_tag\n",
        "    platform = '{}{}-{}'.format(get_abbr_impl(), get_impl_ver(), get_abi_tag())\n",
        "\n",
        "    accelerator = 'cu80' if path.exists('/opt/bin/nvidia-smi') else 'cpu'\n",
        "\n",
        "    !pip install -q http://download.pytorch.org/whl/{accelerator}/torch-0.3.1-{platform}-linux_x86_64.whl\n",
        "    import torch\n",
        "import torch.nn as nn\n",
        "import torch.nn.functional as F\n",
        "import torch.optim as optim\n",
        "from torch.autograd import Variable\n",
        "\n",
        "\n",
        "try:\n",
        "    import torchvision\n",
        "except ModuleNotFoundError:\n",
        "    !pip install -q torchvision\n",
        "\n",
        "from torchvision import datasets, transforms\n",
        "\n",
        "\n",
        "if gsync_save:\n",
        "    try:\n",
        "        import utils\n",
        "    except ModuleNotFoundError:\n",
        "        !wget https://raw.githubusercontent.com/StefOe/colab-pytorch-utils/HEAD/utils.py\n",
        "        import utils\n",
        "\n",
        "    gsync = utils.GDriveSync()\n",
        "\n",
        "\n",
        "try:\n",
        "    from allconv import AllConvNet\n",
        "except ModuleNotFoundError:\n",
        "    !wget https://github.com/StefOe/all-conv-pytorch/raw/HEAD/allconv.py\n",
        "    from allconv import AllConvNet"
      ]
    },
    {
      "cell_type": "markdown",
      "source": [
        "## 2. Transformacion y carga de datos"
      ],
      "metadata": {
        "id": "IioCdEF2tPxX"
      }
    },
    {
      "cell_type": "code",
      "execution_count": 4,
      "metadata": {
        "colab": {
          "base_uri": "https://localhost:8080/"
        },
        "id": "PRNLrPRpx0Wo",
        "outputId": "dcff8c23-e141-46e3-99bf-45c5c4740f6e"
      },
      "outputs": [
        {
          "output_type": "stream",
          "name": "stdout",
          "text": [
            "Downloading https://www.cs.toronto.edu/~kriz/cifar-10-python.tar.gz to ./cifar10/cifar-10-python.tar.gz\n"
          ]
        },
        {
          "output_type": "stream",
          "name": "stderr",
          "text": [
            "100%|██████████| 170498071/170498071 [00:03<00:00, 42962404.76it/s]\n"
          ]
        },
        {
          "output_type": "stream",
          "name": "stdout",
          "text": [
            "Extracting ./cifar10/cifar-10-python.tar.gz to ./cifar10\n"
          ]
        }
      ],
      "source": [
        "# Semilla para estandarizar resultados\n",
        "torch.manual_seed(2320)\n",
        "\n",
        "cuda = cuda and torch.cuda.is_available()\n",
        "\n",
        "trainset = datasets.CIFAR10(root=dataset_path, train=True, download=True)\n",
        "train_mean = trainset.data.mean(axis=(0, 1, 2)) / 255\n",
        "train_std = trainset.data.std(axis=(0, 1, 2)) / 255\n",
        "\n",
        "\n",
        "# Data normal (32x32)\n",
        "\n",
        "transform_train = transforms.Compose([\n",
        "    transforms.RandomCrop(32, padding=4),\n",
        "    transforms.RandomHorizontalFlip(),\n",
        "    transforms.ToTensor(),\n",
        "    transforms.Normalize(train_mean, train_std)\n",
        "])\n",
        "\n",
        "transform_test = transforms.Compose([\n",
        "    transforms.ToTensor(),\n",
        "    transforms.Normalize(train_mean, train_std)\n",
        "])\n",
        "\n",
        "\n",
        "#  transformaciones a 8x8 y de vuelta a 32x32 por bilineal\n",
        "\n",
        "transform_train8x8 = transforms.Compose([\n",
        "    transforms.Resize((8,8)),\n",
        "    transforms.Resize((32,32)),\n",
        "    transforms.RandomCrop(32, padding=4),\n",
        "    transforms.RandomHorizontalFlip(),\n",
        "    transforms.ToTensor(),\n",
        "    transforms.Normalize(train_mean, train_std)\n",
        "])\n"
      ]
    },
    {
      "cell_type": "code",
      "execution_count": 5,
      "metadata": {
        "colab": {
          "base_uri": "https://localhost:8080/"
        },
        "id": "NLklIFWrx0Wo",
        "outputId": "65f4015d-5d37-49b4-bbff-a22bce294a9b"
      },
      "outputs": [
        {
          "output_type": "stream",
          "name": "stdout",
          "text": [
            "Files already downloaded and verified\n",
            "Files already downloaded and verified\n"
          ]
        }
      ],
      "source": [
        "kwargs = {'num_workers': 1, 'pin_memory': True} if cuda else {}\n",
        "\n",
        "# Data normal\n",
        "\n",
        "train_loader = torch.utils.data.DataLoader(datasets.CIFAR10(\n",
        "    root=dataset_path, train=True, download=True,\n",
        "    transform=transform_train),\n",
        "    batch_size=train_batch_size, shuffle=True, **kwargs)\n",
        "\n",
        "test_loader = torch.utils.data.DataLoader(\n",
        "    datasets.CIFAR10(root=dataset_path, train=False, download=True,\n",
        "    transform=transform_test),\n",
        "    batch_size=test_batch_size, shuffle=True, **kwargs)"
      ]
    },
    {
      "cell_type": "code",
      "execution_count": 6,
      "metadata": {
        "colab": {
          "base_uri": "https://localhost:8080/"
        },
        "id": "qX0Fm3arx0Wp",
        "outputId": "32db2525-e8be-4c2d-e869-8ca6ae49144c"
      },
      "outputs": [
        {
          "output_type": "stream",
          "name": "stdout",
          "text": [
            "Files already downloaded and verified\n"
          ]
        }
      ],
      "source": [
        "# Data de entrenamiento blurreada\n",
        "\n",
        "train_loader_blur = torch.utils.data.DataLoader(datasets.CIFAR10(\n",
        "    root=dataset_path, train=True, download=True,\n",
        "    transform=transform_train8x8),\n",
        "    batch_size=train_batch_size, shuffle=True, **kwargs)\n"
      ]
    },
    {
      "cell_type": "code",
      "source": [
        "for batch_data, batch_labels in train_loader_blur:\n",
        "    first_image = batch_data[0].permute(1, 2, 0).numpy()\n",
        "    plt.imshow(first_image)\n",
        "    plt.show()\n",
        "    break"
      ],
      "metadata": {
        "id": "20q8cKdW4J3e",
        "colab": {
          "base_uri": "https://localhost:8080/",
          "height": 0
        },
        "outputId": "d4879290-ebdc-4f16-e6bb-c8efcfd9d46a"
      },
      "execution_count": 7,
      "outputs": [
        {
          "output_type": "stream",
          "name": "stderr",
          "text": [
            "WARNING:matplotlib.image:Clipping input data to the valid range for imshow with RGB data ([0..1] for floats or [0..255] for integers).\n"
          ]
        },
        {
          "output_type": "display_data",
          "data": {
            "text/plain": [
              "<Figure size 640x480 with 1 Axes>"
            ],
            "image/png": "[encoded data removed]"
          },
          "metadata": {}
        }
      ]
    },
    {
      "cell_type": "code",
      "source": [
        "for batch_data, batch_labels in train_loader:\n",
        "    first_image = batch_data[0].permute(1, 2, 0).numpy()\n",
        "    plt.imshow(first_image)\n",
        "    plt.show()\n",
        "    break"
      ],
      "metadata": {
        "colab": {
          "base_uri": "https://localhost:8080/",
          "height": 0
        },
        "id": "GwZ7RpKOFZe1",
        "outputId": "ba165b40-f9f8-4530-9fa5-ccdbb7cc64f9"
      },
      "execution_count": 8,
      "outputs": [
        {
          "output_type": "stream",
          "name": "stderr",
          "text": [
            "WARNING:matplotlib.image:Clipping input data to the valid range for imshow with RGB data ([0..1] for floats or [0..255] for integers).\n"
          ]
        },
        {
          "output_type": "display_data",
          "data": {
            "text/plain": [
              "<Figure size 640x480 with 1 Axes>"
            ],
            "image/png": "[encoded data removed]"
          },
          "metadata": {}
        }
      ]
    },
    {
      "cell_type": "markdown",
      "source": [
        "## 3. Entrenamiento"
      ],
      "metadata": {
        "id": "B3NvyfItyVqR"
      }
    },
    {
      "cell_type": "code",
      "source": [
        "model = AllConvNet(3)\n",
        "if cuda:\n",
        "    model.cuda()\n",
        "\n",
        "criterion = nn.CrossEntropyLoss()\n",
        "optimizer = optim.SGD(model.parameters(), lr=0.001, momentum=0.9)\n",
        "scheduler = optim.lr_scheduler.MultiStepLR(\n",
        "    optimizer, milestones=[200, 250, 300], gamma=0.1)"
      ],
      "metadata": {
        "id": "o0ATJOEVGQCS"
      },
      "execution_count": 9,
      "outputs": []
    },
    {
      "cell_type": "code",
      "source": [
        "def train(epoch):\n",
        "    model.train()\n",
        "    for batch_idx, (data, target) in enumerate(train_loader):\n",
        "        if cuda:\n",
        "            data, target = data.cuda(), target.cuda()\n",
        "        data, target = Variable(data), Variable(target)\n",
        "\n",
        "        optimizer.zero_grad()\n",
        "        output = model(data)\n",
        "        loss = criterion(output, target)\n",
        "        loss.backward()\n",
        "        optimizer.step()\n",
        "\n",
        "        if batch_idx % 100 == 0:\n",
        "          print('Train Epoch: {} [{}/{} ({:.0f}%)]\\tLoss: {:.6f}'.format(\n",
        "              epoch, batch_idx * len(data), len(train_loader.dataset),\n",
        "              100. * batch_idx / len(train_loader), loss.item()))\n",
        "\n",
        "\n",
        "def blur_train(epoch):\n",
        "    model.train()\n",
        "    for batch_idx, (data, target) in enumerate(train_loader_blur):\n",
        "        if cuda:\n",
        "            data, target = data.cuda(), target.cuda() # Pasar la data a la GPU\n",
        "        data, target = Variable(data), Variable(target)\n",
        "\n",
        "        optimizer.zero_grad() # Seteo en 0 los valores de los gradientes\n",
        "        output = model(data) # Hago forward\n",
        "        loss = criterion(output, target) # Se calcula la CrossEntropyLoss\n",
        "        loss.backward()\n",
        "        optimizer.step() # Actualización de los parámetros\n",
        "\n",
        "        if batch_idx % 100 == 0:\n",
        "          print('Train Epoch: {} [{}/{} ({:.0f}%)]\\tLoss: {:.6f}'.format(\n",
        "              epoch, batch_idx * len(data), len(train_loader.dataset),\n",
        "              100. * batch_idx / len(train_loader), loss.item()))\n",
        "\n",
        "\n",
        "def test(epoch, best_loss, best_epoch):\n",
        "    model.eval()\n",
        "    test_loss = 0\n",
        "    correct = 0\n",
        "    for data, target in test_loader:\n",
        "        if cuda:\n",
        "            data, target = data.cuda(), target.cuda()\n",
        "        data, target = Variable(data), Variable(target)\n",
        "\n",
        "        output = model(data)\n",
        "        # sum up batch loss\n",
        "        test_loss += criterion(output, target).item()\n",
        "        # get the index of the max log-probability\n",
        "        pred = output.data.max(1, keepdim=True)[1]\n",
        "        correct += pred.eq(target.data.view_as(pred)).long().cpu().sum()\n",
        "\n",
        "    test_loss /= len(test_loader.dataset)\n",
        "    print(\n",
        "        '\\nTest set: Average loss: {:.4f}, Accuracy: {}/{} ({:.0f}%)\\n'.format(\n",
        "            test_loss, correct, len(test_loader.dataset), 100. * correct /\n",
        "            len(test_loader.dataset)))\n",
        "\n",
        "    if test_loss < best_loss:\n",
        "        best_epoch = epoch\n",
        "        best_loss = test_loss\n",
        "        torch.save(model, \"best.pt\")\n",
        "        if gsync_save:\n",
        "            gsync.update_file_to_folder(\"best.pt\")\n",
        "    return best_loss, best_epoch"
      ],
      "metadata": {
        "id": "vMTAjIebycPa"
      },
      "execution_count": 12,
      "outputs": []
    },
    {
      "cell_type": "code",
      "source": [
        "def begin_model(n_epochs: int, blur_epochs: int, blur_start: int):\n",
        "  best_loss = float(\"inf\")\n",
        "  best_epoch = -1\n",
        "\n",
        "  if n_epochs <  blur_epochs + blur_start:\n",
        "    print('ERROR: parámetros inconsistentes')\n",
        "\n",
        "  else:\n",
        "    if blur_start == 0:\n",
        "\n",
        "      print(f''' {'*'*30}\n",
        "      Blurred image Training begin\n",
        "                 {'*'*30}\n",
        "      ''')\n",
        "\n",
        "      for epoch in range(blur_epochs):\n",
        "        scheduler.step()\n",
        "        blur_train(epoch)\n",
        "        best_loss, best_epoch = test(epoch, best_loss, best_epoch)\n",
        "\n",
        "      print(f''' {'*'*30}\n",
        "      Blurred image Training End. Training with normal images\n",
        "                 {'*'*30}\n",
        "      ''')\n",
        "\n",
        "      for epoch in range(blur_start + blur_epochs, n_epochs):\n",
        "        scheduler.step()\n",
        "        train(epoch)\n",
        "        best_loss, best_epoch = test(epoch, best_loss, best_epoch)\n",
        "\n",
        "\n",
        "    elif blur_start != 0:\n",
        "\n",
        "      for epoch in range(blur_start):\n",
        "        scheduler.step()\n",
        "        train(epoch)\n",
        "        best_loss, best_epoch = test(epoch, best_loss, best_epoch)\n",
        "\n",
        "      print(f''' {'*'*30}\n",
        "      Blurred image Training begin\n",
        "                 {'*'*30}\n",
        "      ''')\n",
        "\n",
        "      for epoch in range(blur_start, blur_start + blur_epochs):\n",
        "        scheduler.step()\n",
        "        train(epoch)\n",
        "        best_loss, best_epoch = test(epoch, best_loss, best_epoch)\n",
        "\n",
        "      print(f''' {'*'*30}\n",
        "      Blurred image Training End. Training with normal images\n",
        "                 {'*'*30}\n",
        "      ''')\n",
        "\n",
        "      for epoch in range(blur_start + blur_epochs, n_epochs):\n",
        "        scheduler.step()\n",
        "        train(epoch)\n",
        "        best_loss, best_epoch = test(epoch, best_loss, best_epoch)"
      ],
      "metadata": {
        "id": "IeFf_Fw20xao"
      },
      "execution_count": 20,
      "outputs": []
    },
    {
      "cell_type": "code",
      "source": [
        "begin_model(n_epochs=5, blur_epochs=1, blur_start=2)"
      ],
      "metadata": {
        "colab": {
          "base_uri": "https://localhost:8080/"
        },
        "id": "y8GQyTyn3r37",
        "outputId": "1adfbefa-c50e-443a-cd52-4df7d2c2ee5c"
      },
      "execution_count": 22,
      "outputs": [
        {
          "output_type": "stream",
          "name": "stdout",
          "text": [
            "Train Epoch: 0 [0/50000 (0%)]\tLoss: 2.303426\n",
            "Train Epoch: 0 [3200/50000 (6%)]\tLoss: 2.301904\n",
            "Train Epoch: 0 [6400/50000 (13%)]\tLoss: 2.303166\n",
            "Train Epoch: 0 [9600/50000 (19%)]\tLoss: 2.302562\n",
            "Train Epoch: 0 [12800/50000 (26%)]\tLoss: 2.302717\n",
            "Train Epoch: 0 [16000/50000 (32%)]\tLoss: 2.301476\n",
            "Train Epoch: 0 [19200/50000 (38%)]\tLoss: 2.302559\n",
            "Train Epoch: 0 [22400/50000 (45%)]\tLoss: 2.302887\n",
            "Train Epoch: 0 [25600/50000 (51%)]\tLoss: 2.303017\n",
            "Train Epoch: 0 [28800/50000 (58%)]\tLoss: 2.303121\n",
            "Train Epoch: 0 [32000/50000 (64%)]\tLoss: 2.302105\n",
            "Train Epoch: 0 [35200/50000 (70%)]\tLoss: 2.301988\n",
            "Train Epoch: 0 [38400/50000 (77%)]\tLoss: 2.301359\n",
            "Train Epoch: 0 [41600/50000 (83%)]\tLoss: 2.304173\n",
            "Train Epoch: 0 [44800/50000 (90%)]\tLoss: 2.303765\n",
            "Train Epoch: 0 [48000/50000 (96%)]\tLoss: 2.303158\n",
            "\n",
            "Test set: Average loss: 0.0186, Accuracy: 1122/10000 (11%)\n",
            "\n"
          ]
        },
        {
          "output_type": "stream",
          "name": "stderr",
          "text": [
            "Uploading file best.pt: 100%|██████████| 100/100 [00:01<00:00, 74.89it/s]\n"
          ]
        },
        {
          "output_type": "stream",
          "name": "stdout",
          "text": [
            "Train Epoch: 1 [0/50000 (0%)]\tLoss: 2.302464\n",
            "Train Epoch: 1 [3200/50000 (6%)]\tLoss: 2.301512\n",
            "Train Epoch: 1 [6400/50000 (13%)]\tLoss: 2.302392\n",
            "Train Epoch: 1 [9600/50000 (19%)]\tLoss: 2.299674\n",
            "Train Epoch: 1 [12800/50000 (26%)]\tLoss: 2.301609\n",
            "Train Epoch: 1 [16000/50000 (32%)]\tLoss: 2.303283\n",
            "Train Epoch: 1 [19200/50000 (38%)]\tLoss: 2.301216\n",
            "Train Epoch: 1 [22400/50000 (45%)]\tLoss: 2.303541\n",
            "Train Epoch: 1 [25600/50000 (51%)]\tLoss: 2.302678\n",
            "Train Epoch: 1 [28800/50000 (58%)]\tLoss: 2.302315\n",
            "Train Epoch: 1 [32000/50000 (64%)]\tLoss: 2.300914\n",
            "Train Epoch: 1 [35200/50000 (70%)]\tLoss: 2.304406\n",
            "Train Epoch: 1 [38400/50000 (77%)]\tLoss: 2.302978\n",
            "Train Epoch: 1 [41600/50000 (83%)]\tLoss: 2.302028\n",
            "Train Epoch: 1 [44800/50000 (90%)]\tLoss: 2.303169\n",
            "Train Epoch: 1 [48000/50000 (96%)]\tLoss: 2.302046\n",
            "\n",
            "Test set: Average loss: 0.0186, Accuracy: 1042/10000 (10%)\n",
            "\n"
          ]
        },
        {
          "output_type": "stream",
          "name": "stderr",
          "text": [
            "Uploading file best.pt: 100%|██████████| 100/100 [00:01<00:00, 80.78it/s]"
          ]
        },
        {
          "output_type": "stream",
          "name": "stdout",
          "text": [
            " ******************************\n",
            "      Blurred image Training begin\n",
            "\n",
            "      ******************************\n",
            "      \n"
          ]
        },
        {
          "output_type": "stream",
          "name": "stderr",
          "text": [
            "\n"
          ]
        },
        {
          "output_type": "stream",
          "name": "stdout",
          "text": [
            "Train Epoch: 2 [0/50000 (0%)]\tLoss: 2.304267\n",
            "Train Epoch: 2 [3200/50000 (6%)]\tLoss: 2.301482\n",
            "Train Epoch: 2 [6400/50000 (13%)]\tLoss: 2.302687\n",
            "Train Epoch: 2 [9600/50000 (19%)]\tLoss: 2.302382\n",
            "Train Epoch: 2 [12800/50000 (26%)]\tLoss: 2.303570\n",
            "Train Epoch: 2 [16000/50000 (32%)]\tLoss: 2.297655\n",
            "Train Epoch: 2 [19200/50000 (38%)]\tLoss: 2.302156\n",
            "Train Epoch: 2 [22400/50000 (45%)]\tLoss: 2.301665\n",
            "Train Epoch: 2 [25600/50000 (51%)]\tLoss: 2.299475\n",
            "Train Epoch: 2 [28800/50000 (58%)]\tLoss: 2.300481\n",
            "Train Epoch: 2 [32000/50000 (64%)]\tLoss: 2.305017\n",
            "Train Epoch: 2 [35200/50000 (70%)]\tLoss: 2.301507\n",
            "Train Epoch: 2 [38400/50000 (77%)]\tLoss: 2.296222\n",
            "Train Epoch: 2 [41600/50000 (83%)]\tLoss: 2.297585\n",
            "Train Epoch: 2 [44800/50000 (90%)]\tLoss: 2.295449\n",
            "Train Epoch: 2 [48000/50000 (96%)]\tLoss: 2.293576\n",
            "\n",
            "Test set: Average loss: 0.0186, Accuracy: 1019/10000 (10%)\n",
            "\n"
          ]
        },
        {
          "output_type": "stream",
          "name": "stderr",
          "text": [
            "Uploading file best.pt: 100%|██████████| 100/100 [00:01<00:00, 62.51it/s]"
          ]
        },
        {
          "output_type": "stream",
          "name": "stdout",
          "text": [
            " ******************************\n",
            "      Blurred image Training End. Training with normal images\n",
            "\n",
            "      ******************************\n",
            "      \n"
          ]
        },
        {
          "output_type": "stream",
          "name": "stderr",
          "text": [
            "\n"
          ]
        },
        {
          "output_type": "stream",
          "name": "stdout",
          "text": [
            "Train Epoch: 3 [0/50000 (0%)]\tLoss: 2.297748\n",
            "Train Epoch: 3 [3200/50000 (6%)]\tLoss: 2.323836\n",
            "Train Epoch: 3 [6400/50000 (13%)]\tLoss: 2.211112\n",
            "Train Epoch: 3 [9600/50000 (19%)]\tLoss: 2.187857\n",
            "Train Epoch: 3 [12800/50000 (26%)]\tLoss: 2.261793\n",
            "Train Epoch: 3 [16000/50000 (32%)]\tLoss: 2.230420\n",
            "Train Epoch: 3 [19200/50000 (38%)]\tLoss: 2.239369\n",
            "Train Epoch: 3 [22400/50000 (45%)]\tLoss: 2.134238\n",
            "Train Epoch: 3 [25600/50000 (51%)]\tLoss: 2.246457\n",
            "Train Epoch: 3 [28800/50000 (58%)]\tLoss: 2.148014\n",
            "Train Epoch: 3 [32000/50000 (64%)]\tLoss: 2.010816\n",
            "Train Epoch: 3 [35200/50000 (70%)]\tLoss: 2.171177\n",
            "Train Epoch: 3 [38400/50000 (77%)]\tLoss: 2.213880\n",
            "Train Epoch: 3 [41600/50000 (83%)]\tLoss: 1.973024\n",
            "Train Epoch: 3 [44800/50000 (90%)]\tLoss: 2.139604\n",
            "Train Epoch: 3 [48000/50000 (96%)]\tLoss: 2.337658\n",
            "\n",
            "Test set: Average loss: 0.0178, Accuracy: 1513/10000 (15%)\n",
            "\n"
          ]
        },
        {
          "output_type": "stream",
          "name": "stderr",
          "text": [
            "Uploading file best.pt: 100%|██████████| 100/100 [00:01<00:00, 74.62it/s]\n"
          ]
        },
        {
          "output_type": "stream",
          "name": "stdout",
          "text": [
            "Train Epoch: 4 [0/50000 (0%)]\tLoss: 2.169511\n",
            "Train Epoch: 4 [3200/50000 (6%)]\tLoss: 2.251434\n",
            "Train Epoch: 4 [6400/50000 (13%)]\tLoss: 2.252971\n",
            "Train Epoch: 4 [9600/50000 (19%)]\tLoss: 2.164151\n",
            "Train Epoch: 4 [12800/50000 (26%)]\tLoss: 2.387008\n",
            "Train Epoch: 4 [16000/50000 (32%)]\tLoss: 2.160199\n",
            "Train Epoch: 4 [19200/50000 (38%)]\tLoss: 2.230280\n",
            "Train Epoch: 4 [22400/50000 (45%)]\tLoss: 2.195400\n",
            "Train Epoch: 4 [25600/50000 (51%)]\tLoss: 2.203545\n",
            "Train Epoch: 4 [28800/50000 (58%)]\tLoss: 2.277100\n",
            "Train Epoch: 4 [32000/50000 (64%)]\tLoss: 2.105086\n",
            "Train Epoch: 4 [35200/50000 (70%)]\tLoss: 2.211580\n",
            "Train Epoch: 4 [38400/50000 (77%)]\tLoss: 2.108370\n",
            "Train Epoch: 4 [41600/50000 (83%)]\tLoss: 2.310982\n",
            "Train Epoch: 4 [44800/50000 (90%)]\tLoss: 2.066406\n",
            "Train Epoch: 4 [48000/50000 (96%)]\tLoss: 2.210916\n",
            "\n",
            "Test set: Average loss: 0.0177, Accuracy: 1550/10000 (16%)\n",
            "\n"
          ]
        },
        {
          "output_type": "stream",
          "name": "stderr",
          "text": [
            "Uploading file best.pt: 100%|██████████| 100/100 [00:01<00:00, 67.50it/s]\n"
          ]
        }
      ]
    },
    {
      "cell_type": "code",
      "source": [],
      "metadata": {
        "id": "uXhBo5Ke71Ff"
      },
      "execution_count": null,
      "outputs": []
    }
  ],
  "metadata": {
    "kernelspec": {
      "display_name": "Python 3",
      "name": "python3"
    },
    "language_info": {
      "codemirror_mode": {
        "name": "ipython",
        "version": 3
      },
      "file_extension": ".py",
      "mimetype": "text/x-python",
      "name": "python",
      "nbconvert_exporter": "python",
      "pygments_lexer": "ipython3",
      "version": "3.9.16"
    },
    "colab": {
      "provenance": [],
      "gpuType": "T4"
    },
    "accelerator": "GPU"
  },
  "nbformat": 4,
  "nbformat_minor": 0
}