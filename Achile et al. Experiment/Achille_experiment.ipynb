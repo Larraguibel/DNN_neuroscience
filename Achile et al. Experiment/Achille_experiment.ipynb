{
  "cells": [
    {
      "cell_type": "markdown",
      "metadata": {
        "id": "view-in-github"
      },
      "source": [
        "<a href=\"https://colab.research.google.com/github/Larraguibel/DNN_neuroscience/blob/main/blurring.ipynb\" target=\"_parent\"><img src=\"https://colab.research.google.com/assets/colab-badge.svg\" alt=\"Open In Colab\"/></a>"
      ]
    },
    {
      "cell_type": "markdown",
      "metadata": {
        "id": "vEWrR9RbtKOK"
      },
      "source": [
        "## 1. Importaciones"
      ]
    },
    {
      "cell_type": "code",
      "execution_count": null,
      "metadata": {
        "id": "f09jgx6Ox0Wi"
      },
      "outputs": [],
      "source": [
        "cuda = True\n",
        "train_batch_size = 32\n",
        "test_batch_size = 124\n",
        "best_loss = float(\"inf\")\n",
        "best_epoch = -1\n",
        "dataset_path = './cifar10'\n",
        "gsync_save = True"
      ]
    },
    {
      "cell_type": "code",
      "execution_count": null,
      "metadata": {
        "id": "QhK5mjUvx0Wm"
      },
      "outputs": [],
      "source": [
        "from torchvision import transforms, datasets\n",
        "import torch\n",
        "import matplotlib.pyplot as plt\n",
        "from google.colab import drive"
      ]
    },
    {
      "cell_type": "code",
      "execution_count": null,
      "metadata": {
        "colab": {
          "base_uri": "https://localhost:8080/"
        },
        "id": "Ytvb4HUex0Wn",
        "outputId": "f95c368f-ff86-401c-c34c-f3a3f7ff14f2"
      },
      "outputs": [
        {
          "output_type": "stream",
          "name": "stdout",
          "text": [
            "--2023-12-07 17:19:55--  https://raw.githubusercontent.com/StefOe/colab-pytorch-utils/HEAD/utils.py\n",
            "Resolving raw.githubusercontent.com (raw.githubusercontent.com)... 185.199.108.133, 185.199.109.133, 185.199.110.133, ...\n",
            "Connecting to raw.githubusercontent.com (raw.githubusercontent.com)|185.199.108.133|:443... connected.\n",
            "HTTP request sent, awaiting response... 200 OK\n",
            "Length: 4519 (4.4K) [text/plain]\n",
            "Saving to: ‘utils.py’\n",
            "\n",
            "\rutils.py              0%[                    ]       0  --.-KB/s               \rutils.py            100%[===================>]   4.41K  --.-KB/s    in 0s      \n",
            "\n",
            "2023-12-07 17:19:55 (70.2 MB/s) - ‘utils.py’ saved [4519/4519]\n",
            "\n",
            "Requirement already satisfied: tqdm in /usr/local/lib/python3.10/dist-packages (4.66.1)\n",
            "--2023-12-07 17:20:25--  https://github.com/StefOe/all-conv-pytorch/raw/HEAD/allconv.py\n",
            "Resolving github.com (github.com)... 140.82.113.3\n",
            "Connecting to github.com (github.com)|140.82.113.3|:443... connected.\n",
            "HTTP request sent, awaiting response... 302 Found\n",
            "Location: https://raw.githubusercontent.com/StefOe/all-conv-pytorch/8545bb3ff7ac4410e52d8db930f0485074073ea9/allconv.py [following]\n",
            "--2023-12-07 17:20:25--  https://raw.githubusercontent.com/StefOe/all-conv-pytorch/8545bb3ff7ac4410e52d8db930f0485074073ea9/allconv.py\n",
            "Resolving raw.githubusercontent.com (raw.githubusercontent.com)... 185.199.108.133, 185.199.109.133, 185.199.110.133, ...\n",
            "Connecting to raw.githubusercontent.com (raw.githubusercontent.com)|185.199.108.133|:443... connected.\n",
            "HTTP request sent, awaiting response... 200 OK\n",
            "Length: 1457 (1.4K) [text/plain]\n",
            "Saving to: ‘allconv.py’\n",
            "\n",
            "allconv.py          100%[===================>]   1.42K  --.-KB/s    in 0s      \n",
            "\n",
            "2023-12-07 17:20:25 (21.0 MB/s) - ‘allconv.py’ saved [1457/1457]\n",
            "\n"
          ]
        }
      ],
      "source": [
        "try:\n",
        "    import torch\n",
        "except ModuleNotFoundError:\n",
        "    from os import path\n",
        "    from wheel.pep425tags import get_abbr_impl, get_impl_ver, get_abi_tag\n",
        "    platform = '{}{}-{}'.format(get_abbr_impl(), get_impl_ver(), get_abi_tag())\n",
        "\n",
        "    accelerator = 'cu80' if path.exists('/opt/bin/nvidia-smi') else 'cpu'\n",
        "\n",
        "    !pip install -q http://download.pytorch.org/whl/{accelerator}/torch-0.3.1-{platform}-linux_x86_64.whl\n",
        "    import torch\n",
        "import torch.nn as nn\n",
        "import torch.nn.functional as F\n",
        "import torch.optim as optim\n",
        "from torch.autograd import Variable\n",
        "\n",
        "\n",
        "try:\n",
        "    import torchvision\n",
        "except ModuleNotFoundError:\n",
        "    !pip install -q torchvision\n",
        "\n",
        "from torchvision import datasets, transforms\n",
        "\n",
        "\n",
        "if gsync_save:\n",
        "    try:\n",
        "        import utils\n",
        "    except ModuleNotFoundError:\n",
        "        !wget https://raw.githubusercontent.com/StefOe/colab-pytorch-utils/HEAD/utils.py\n",
        "        import utils\n",
        "\n",
        "    gsync = utils.GDriveSync()\n",
        "\n",
        "\n",
        "try:\n",
        "    from allconv import AllConvNet\n",
        "except ModuleNotFoundError:\n",
        "    !wget https://github.com/StefOe/all-conv-pytorch/raw/HEAD/allconv.py\n",
        "    from allconv import AllConvNet"
      ]
    },
    {
      "cell_type": "markdown",
      "metadata": {
        "id": "IioCdEF2tPxX"
      },
      "source": [
        "## 2. Transformacion y carga de datos"
      ]
    },
    {
      "cell_type": "code",
      "execution_count": null,
      "metadata": {
        "colab": {
          "base_uri": "https://localhost:8080/"
        },
        "id": "PRNLrPRpx0Wo",
        "outputId": "ee7bff43-1441-48c4-f1f5-1f95c31f6130"
      },
      "outputs": [
        {
          "output_type": "stream",
          "name": "stdout",
          "text": [
            "Downloading https://www.cs.toronto.edu/~kriz/cifar-10-python.tar.gz to ./cifar10/cifar-10-python.tar.gz\n"
          ]
        },
        {
          "output_type": "stream",
          "name": "stderr",
          "text": [
            "100%|██████████| 170498071/170498071 [00:01<00:00, 92662539.74it/s] \n"
          ]
        },
        {
          "output_type": "stream",
          "name": "stdout",
          "text": [
            "Extracting ./cifar10/cifar-10-python.tar.gz to ./cifar10\n"
          ]
        }
      ],
      "source": [
        "# Semilla para estandarizar resultados\n",
        "torch.manual_seed(2320)\n",
        "\n",
        "cuda = cuda and torch.cuda.is_available()\n",
        "\n",
        "trainset = datasets.CIFAR10(root=dataset_path, train=True, download=True)\n",
        "train_mean = trainset.data.mean(axis=(0, 1, 2)) / 255\n",
        "train_std = trainset.data.std(axis=(0, 1, 2)) / 255\n",
        "\n",
        "\n",
        "# Data normal (32x32)\n",
        "\n",
        "transform_train = transforms.Compose([\n",
        "    transforms.RandomCrop(32, padding=4),\n",
        "    transforms.RandomHorizontalFlip(),\n",
        "    transforms.ToTensor(),\n",
        "    transforms.Normalize(train_mean, train_std)\n",
        "])\n",
        "\n",
        "transform_test = transforms.Compose([\n",
        "    transforms.ToTensor(),\n",
        "    transforms.Normalize(train_mean, train_std)\n",
        "])\n",
        "\n",
        "\n",
        "#  transformaciones a 8x8 y de vuelta a 32x32 por bilineal\n",
        "\n",
        "transform_train8x8 = transforms.Compose([\n",
        "    transforms.Resize((8,8)),\n",
        "    transforms.Resize((32,32)),\n",
        "    transforms.RandomCrop(32, padding=4),\n",
        "    transforms.RandomHorizontalFlip(),\n",
        "    transforms.ToTensor(),\n",
        "    transforms.Normalize(train_mean, train_std)\n",
        "])\n"
      ]
    },
    {
      "cell_type": "code",
      "execution_count": null,
      "metadata": {
        "colab": {
          "base_uri": "https://localhost:8080/"
        },
        "id": "NLklIFWrx0Wo",
        "outputId": "0f3afddc-d19c-4c8c-a730-58e245ed0a0d"
      },
      "outputs": [
        {
          "output_type": "stream",
          "name": "stdout",
          "text": [
            "Files already downloaded and verified\n",
            "Files already downloaded and verified\n"
          ]
        }
      ],
      "source": [
        "kwargs = {'num_workers': 1, 'pin_memory': True} if cuda else {}\n",
        "\n",
        "# Data normal\n",
        "\n",
        "train_loader = torch.utils.data.DataLoader(datasets.CIFAR10(\n",
        "    root=dataset_path, train=True, download=True,\n",
        "    transform=transform_train),\n",
        "    batch_size=train_batch_size, shuffle=True, **kwargs)\n",
        "\n",
        "test_loader = torch.utils.data.DataLoader(\n",
        "    datasets.CIFAR10(root=dataset_path, train=False, download=True,\n",
        "    transform=transform_test),\n",
        "    batch_size=test_batch_size, shuffle=True, **kwargs)"
      ]
    },
    {
      "cell_type": "code",
      "execution_count": null,
      "metadata": {
        "colab": {
          "base_uri": "https://localhost:8080/"
        },
        "id": "qX0Fm3arx0Wp",
        "outputId": "94b0e70f-7cb8-4528-a4ba-580a38f2e09c"
      },
      "outputs": [
        {
          "output_type": "stream",
          "name": "stdout",
          "text": [
            "Files already downloaded and verified\n"
          ]
        }
      ],
      "source": [
        "# Data de entrenamiento blurreada\n",
        "\n",
        "train_loader_blur = torch.utils.data.DataLoader(datasets.CIFAR10(\n",
        "    root=dataset_path, train=True, download=True,\n",
        "    transform=transform_train8x8),\n",
        "    batch_size=train_batch_size, shuffle=True, **kwargs)\n"
      ]
    },
    {
      "cell_type": "code",
      "execution_count": null,
      "metadata": {
        "colab": {
          "base_uri": "https://localhost:8080/"
        },
        "id": "20q8cKdW4J3e",
        "outputId": "1c0dbd04-6d3a-4a6c-942e-10e58c038642"
      },
      "outputs": [
        {
          "output_type": "stream",
          "name": "stderr",
          "text": [
            "WARNING:matplotlib.image:Clipping input data to the valid range for imshow with RGB data ([0..1] for floats or [0..255] for integers).\n"
          ]
        },
        {
          "output_type": "display_data",
          "data": {
            "text/plain": [
              "<Figure size 640x480 with 1 Axes>"
            ],
            "image/png": "[encoded data removed]"
          },
          "metadata": {}
        }
      ],
      "source": [
        "for batch_data, batch_labels in train_loader_blur:\n",
        "    first_image = batch_data[0].permute(1, 2, 0).numpy()\n",
        "    plt.imshow(first_image)\n",
        "    plt.show()\n",
        "    break"
      ]
    },
    {
      "cell_type": "code",
      "execution_count": null,
      "metadata": {
        "colab": {
          "base_uri": "https://localhost:8080/"
        },
        "id": "GwZ7RpKOFZe1",
        "outputId": "a0f57d03-038f-4793-8cc9-ee1fe01e843c"
      },
      "outputs": [
        {
          "output_type": "stream",
          "name": "stderr",
          "text": [
            "WARNING:matplotlib.image:Clipping input data to the valid range for imshow with RGB data ([0..1] for floats or [0..255] for integers).\n"
          ]
        },
        {
          "output_type": "display_data",
          "data": {
            "text/plain": [
              "<Figure size 640x480 with 1 Axes>"
            ],
            "image/png": "[encoded data removed]"
          },
          "metadata": {}
        }
      ],
      "source": [
        "for batch_data, batch_labels in train_loader:\n",
        "    first_image = batch_data[0].permute(1, 2, 0).numpy()\n",
        "    plt.imshow(first_image)\n",
        "    plt.show()\n",
        "    break"
      ]
    },
    {
      "cell_type": "markdown",
      "metadata": {
        "id": "B3NvyfItyVqR"
      },
      "source": [
        "## 3. Entrenamiento"
      ]
    },
    {
      "cell_type": "code",
      "execution_count": null,
      "metadata": {
        "id": "o0ATJOEVGQCS"
      },
      "outputs": [],
      "source": [
        "model = AllConvNet(3)\n",
        "if cuda:\n",
        "    model.cuda()\n",
        "\n",
        "criterion = nn.CrossEntropyLoss()\n",
        "optimizer = optim.SGD(model.parameters(), lr=0.001, momentum=0.9)\n",
        "scheduler = optim.lr_scheduler.MultiStepLR(\n",
        "    optimizer, milestones=[200, 250, 300], gamma=0.1)"
      ]
    },
    {
      "cell_type": "code",
      "execution_count": null,
      "metadata": {
        "id": "vMTAjIebycPa"
      },
      "outputs": [],
      "source": [
        "def train(epoch):\n",
        "    model.train()\n",
        "    for batch_idx, (data, target) in enumerate(train_loader):\n",
        "        if cuda:\n",
        "            data, target = data.cuda(), target.cuda()\n",
        "        data, target = Variable(data), Variable(target)\n",
        "\n",
        "        optimizer.zero_grad()\n",
        "        output = model(data)\n",
        "        loss = criterion(output, target)\n",
        "        loss.backward()\n",
        "        optimizer.step()\n",
        "\n",
        "        if batch_idx % 100 == 0:\n",
        "          print('Train Epoch: {} [{}/{} ({:.0f}%)]\\tLoss: {:.6f}'.format(\n",
        "              epoch, batch_idx * len(data), len(train_loader.dataset),\n",
        "              100. * batch_idx / len(train_loader), loss.item()))\n",
        "\n",
        "\n",
        "def blur_train(epoch):\n",
        "    model.train()\n",
        "    for batch_idx, (data, target) in enumerate(train_loader_blur):\n",
        "        if cuda:\n",
        "            data, target = data.cuda(), target.cuda() # Pasar la data a la GPU\n",
        "        data, target = Variable(data), Variable(target)\n",
        "\n",
        "        optimizer.zero_grad() # Seteo en 0 los valores de los gradientes\n",
        "        output = model(data) # Hago forward\n",
        "        loss = criterion(output, target) # Se calcula la CrossEntropyLoss\n",
        "        loss.backward()\n",
        "        optimizer.step() # Actualización de los parámetros\n",
        "\n",
        "        if batch_idx % 100 == 0:\n",
        "          print('Train Epoch: {} [{}/{} ({:.0f}%)]\\tLoss: {:.6f}'.format(\n",
        "              epoch, batch_idx * len(data), len(train_loader.dataset),\n",
        "              100. * batch_idx / len(train_loader), loss.item()))\n",
        "\n",
        "\n",
        "def test(epoch, best_loss, best_epoch):\n",
        "    model.eval()\n",
        "    test_loss = 0\n",
        "    correct = 0\n",
        "    for data, target in test_loader:\n",
        "        if cuda:\n",
        "            data, target = data.cuda(), target.cuda()\n",
        "        data, target = Variable(data), Variable(target)\n",
        "\n",
        "        output = model(data)\n",
        "        # sum up batch loss\n",
        "        test_loss += criterion(output, target).item()\n",
        "        # get the index of the max log-probability\n",
        "        pred = output.data.max(1, keepdim=True)[1]\n",
        "        correct += pred.eq(target.data.view_as(pred)).long().cpu().sum()\n",
        "        acc = 100*correct/len(test_loader.dataset)\n",
        "\n",
        "\n",
        "    test_loss /= len(test_loader.dataset)\n",
        "    print(\n",
        "        '\\nTest set: Average loss: {:.4f}, Accuracy: {} ({:.0f}%)\\n'.format(\n",
        "            test_loss, acc, 100. * correct /\n",
        "            len(test_loader.dataset)))\n",
        "\n",
        "    if test_loss < best_loss:\n",
        "        best_epoch = epoch\n",
        "        best_loss = test_loss\n",
        "        torch.save(model, \"best.pt\")\n",
        "        if gsync_save:\n",
        "            gsync.update_file_to_folder(\"best.pt\")\n",
        "    return best_loss, best_epoch, acc"
      ]
    },
    {
      "cell_type": "markdown",
      "metadata": {
        "id": "A-ydOWNxBfso"
      },
      "source": [
        "Esta primera version del codigo,  entrena:\n",
        "\n",
        "*   normalmente para `normal_init` epocas\n",
        "*   con blur para `blur_epochs` epocas\n",
        "*   normalmente para otras `after_blur` epocas."
      ]
    },
    {
      "cell_type": "code",
      "execution_count": null,
      "metadata": {
        "id": "IeFf_Fw20xao"
      },
      "outputs": [],
      "source": [
        "def begin_model_easy(normal_init: int, blur_epochs: int, after_blur: int, model=None):\n",
        "  best_loss = float(\"inf\")\n",
        "  best_epoch = -1\n",
        "\n",
        "  if model is None:\n",
        "    model = AllConvNet(3)\n",
        "\n",
        "    if cuda:\n",
        "        model.cuda()\n",
        "\n",
        "  if normal_init<0 or blur_epochs<0 or after_blur<0:\n",
        "    print('ERROR: parámetros inconsistentes')\n",
        "  else:\n",
        "\n",
        "    criterion = nn.CrossEntropyLoss()\n",
        "    optimizer = optim.SGD(model.parameters(), lr=0.001, momentum=0.9)\n",
        "    scheduler = optim.lr_scheduler.MultiStepLR(\n",
        "    optimizer, milestones=[200, 250, 300], gamma=0.1)\n",
        "\n",
        "    if normal_init == 0:\n",
        "\n",
        "      print(f''' {'*'*30}\n",
        "      Blurred image Training begin\n",
        "      {'*'*30}\n",
        "      ''')\n",
        "\n",
        "      for epoch in range(blur_epochs):\n",
        "        scheduler.step()\n",
        "        blur_train(epoch)\n",
        "        best_loss, best_epoch, acc = test(epoch, best_loss, best_epoch)\n",
        "\n",
        "      print(f''' {'*'*30}\n",
        "      Blurred image Training End. Training with normal images\n",
        "      {'*'*30}\n",
        "      ''')\n",
        "\n",
        "      for epoch in range(blur_epochs, blur_epochs + after_blur):\n",
        "        scheduler.step()\n",
        "        train(epoch)\n",
        "        best_loss, best_epoch, acc = test(epoch, best_loss, best_epoch)\n",
        "\n",
        "\n",
        "    elif normal_init != 0:\n",
        "\n",
        "      print(f''' {'*'*30}\n",
        "      Normal training begin\n",
        "      {'*'*30}\n",
        "      ''')\n",
        "      for epoch in range(normal_init):\n",
        "        scheduler.step()\n",
        "        train(epoch)\n",
        "        best_loss, best_epoch, acc = test(epoch, best_loss, best_epoch)\n",
        "\n",
        "      print(f''' {'*'*30}\n",
        "      Blurred image Training begin\n",
        "      {'*'*30}\n",
        "      ''')\n",
        "\n",
        "      for epoch in range(normal_init, normal_init + blur_epochs):\n",
        "        scheduler.step()\n",
        "        blur_train(epoch)\n",
        "        best_loss, best_epoch, acc = test(epoch, best_loss, best_epoch)\n",
        "\n",
        "      print(f''' {'*'*30}\n",
        "      Blurred image Training End. Training with normal images\n",
        "      {'*'*30}\n",
        "      ''')\n",
        "\n",
        "      for epoch in range(normal_init+blur_epochs, normal_init+blur_epochs+after_blur):\n",
        "        scheduler.step()\n",
        "        train(epoch)\n",
        "        best_loss, best_epoch, acc = test(epoch, best_loss, best_epoch)\n",
        "\n",
        "  print(f'''\n",
        "  *********************\n",
        "  final accuracy: {acc}\n",
        "  *********************\n",
        "  ''')\n",
        "\n",
        "  return acc"
      ]
    },
    {
      "cell_type": "markdown",
      "metadata": {
        "id": "vBA2kT8xCKoC"
      },
      "source": [
        "# Experimento 1 de Achille et al.\n",
        "\n",
        "Vamos a entrenar con blur por $t_0$ epocas, con $t_0\\in \\{0, 20, 40, ... , 140\\}$ y sucesivamente entrenamos por $160$ epocas sin blur.\n",
        "\n",
        "Para ahorrar calculos,\n",
        "* primero entrenamos modelo con blur por $140$ epocas y con un checkpoint cada $20$ epocas,\n",
        "* sucesivamente entrenamos desde cada checkpoint por $160$ epocas sin blur, (se podra' hacer en paralelo?).\n",
        "\n"
      ]
    },
    {
      "cell_type": "markdown",
      "metadata": {
        "id": "0CYFG97zMbsb"
      },
      "source": [
        "## 1.1. Entrenar modelos"
      ]
    },
    {
      "cell_type": "code",
      "execution_count": null,
      "metadata": {
        "colab": {
          "base_uri": "https://localhost:8080/"
        },
        "id": "aZLKiDmyG6Z6",
        "outputId": "bb8c64f4-1706-4504-b621-a613311a845e"
      },
      "outputs": [
        {
          "output_type": "stream",
          "name": "stdout",
          "text": [
            "Mounted at /content/gdrive\n"
          ]
        }
      ],
      "source": [
        "# Damos acceso a google drive para guardar modelos\n",
        "\n",
        "drive.mount('/content/gdrive')"
      ]
    },
    {
      "cell_type": "markdown",
      "metadata": {
        "id": "RtOEnPiPU24a"
      },
      "source": [
        "En primer lugar, entrenamos el modelo que tiene las primeras 40 épocas con blur, y las 120 restantes sin blur. Despues de eso, se entrenarán con blur los modelos normales preentrenados, extraidos de MyDrive."
      ]
    },
    {
      "cell_type": "code",
      "execution_count": null,
      "metadata": {
        "id": "FPrdS5IgEkC1"
      },
      "outputs": [],
      "source": [
        "# Entrenamos modelo que empieza con 40 épocas blur y sigue con 120 normales\n",
        "\n",
        "model = AllConvNet(3)\n",
        "if cuda:\n",
        "    model.cuda()\n",
        "\n",
        "print(f\"Training the model with Blur starting from 0 non-blurred epochs\")\n",
        "\n",
        "acc = begin_model_easy(normal_init=0, blur_epochs=40, after_blur=120, model=model)\n",
        "\n",
        "checkpoint_save_path = f\"/content/gdrive/MyDrive/EXP/guardar_y_pasar/40blurred_from_0.pt\"\n",
        "\n",
        "checkpoint = {\n",
        "  'began_blur_epoch': 0,\n",
        "  'model_state_dict': model.state_dict(),\n",
        "  'accuracy': acc\n",
        "    }\n",
        "torch.save(checkpoint, checkpoint_save_path)"
      ]
    },
    {
      "cell_type": "code",
      "source": [
        "# Añadir gráfico de accuracy vs epochs cada 10 épocas para cada modelo, y guardar el plt."
      ],
      "metadata": {
        "id": "V0pdH6fnTLjt"
      },
      "execution_count": null,
      "outputs": []
    },
    {
      "cell_type": "code",
      "execution_count": null,
      "metadata": {
        "id": "1pBz0sTVvagg"
      },
      "outputs": [],
      "source": [
        "# Cargamos modelos guardados:\n",
        "# (parentesis) No se cargó la data del optimizador. No debiese ser relevante debido  al tamaño del modelo, por lo que leí.\n",
        "# Quité el primer modelo con 20 épocas, porque lo entrené antes y el codigo se cayó. Aun así pude guardarlo.\n",
        "\n",
        "# Asegurarse de tener una carpeta con el nombre correspondiente en drive. Usar una que contenga los modelos preentrenados,\n",
        "# y otra vacía para guardar los nuevos modelos.\n",
        "\n",
        "model_paths = [f'/content/gdrive/MyDrive/Colab Notebooks/checkpoints1/checkpoint_epoch_{19 + 20*i}.pt' for i in range(7)]\n",
        "\n",
        "for index, mod_path in enumerate(model_paths):\n",
        "  model_data = torch.load(mod_path)\n",
        "  model_state_dict = model_data['model_state_dict']\n",
        "\n",
        "  model = AllConvNet(3)\n",
        "  if cuda:\n",
        "      model.cuda()\n",
        "  model.load_state_dict(model_state_dict)\n",
        "\n",
        "  print(f\"Training the model with Blur starting from {int(model_data['epoch'])} non-blurred epochs\")\n",
        "\n",
        "  acc = begin_model_easy(normal_init=0, blur_epochs=40, after_blur=160, model=model)\n",
        "  checkpoint_save_path = f\"/content/gdrive/MyDrive/Colab Notebooks/40epochs_blur_checkpoints/40blurred_from_{int(model_data['epoch'])}.pt\"\n",
        "\n",
        "  checkpoint = {\n",
        "    'began_blur_epoch': 20 + 20*index,\n",
        "    'model_state_dict': model.state_dict(),\n",
        "    'accuracy': acc,\n",
        "      }\n",
        "  torch.save(checkpoint, checkpoint_save_path)\n",
        "\n",
        "  print(f'''\n",
        "\n",
        "  MODEL SAVED AS 40blurred_from_{int(model_data['epoch'])}.pt in DRIVE!\n",
        "\n",
        "  ''')\n"
      ]
    },
    {
      "cell_type": "markdown",
      "metadata": {
        "id": "h3ONGV41MjOu"
      },
      "source": [
        "## 1.2. Generar gráficos"
      ]
    },
    {
      "cell_type": "code",
      "execution_count": null,
      "metadata": {
        "id": "psLYGkQoMmXs"
      },
      "outputs": [],
      "source": [
        "cant_archivos = 6 # cambiarlo a la cantidad de modelos que ya se encuentren en la carpeta 40epochs_blur_checkpoints\n",
        "\n",
        "model_paths = [f\"/content/gdrive/MyDrive/Colab Notebooks/40epochs_blur_checkpoints/40blurred_from_{20*i}.pt\" for i in range(cant_archivos)]\n",
        "accuracies = []\n",
        "begin_epoch = [20*i for i in range(cant_archivos)]\n",
        "\n",
        "for path in model_paths:\n",
        "  model_data = torch.load(path)\n",
        "  model_state_dict = model_data['model_state_dict']\n",
        "\n",
        "  model = AllConvNet(3)\n",
        "  model.load_state_dict(model_state_dict)\n",
        "  accuracies.append(model_data['accuracy'])"
      ]
    },
    {
      "cell_type": "code",
      "execution_count": null,
      "metadata": {
        "id": "8D2t-4QZUvdO",
        "colab": {
          "base_uri": "https://localhost:8080/",
          "height": 417
        },
        "outputId": "185c8a63-8c3c-4af3-c430-84ab0830a9f1"
      },
      "outputs": [
        {
          "output_type": "error",
          "ename": "TypeError",
          "evalue": "ignored",
          "traceback": [
            "\u001b[0;31m---------------------------------------------------------------------------\u001b[0m",
            "\u001b[0;31mTypeError\u001b[0m                                 Traceback (most recent call last)",
            "\u001b[0;32m<ipython-input-14-500f05459774>\u001b[0m in \u001b[0;36m<cell line: 1>\u001b[0;34m()\u001b[0m\n\u001b[0;32m----> 1\u001b[0;31m \u001b[0mfig\u001b[0m\u001b[0;34m,\u001b[0m \u001b[0max\u001b[0m \u001b[0;34m=\u001b[0m \u001b[0mplt\u001b[0m\u001b[0;34m.\u001b[0m\u001b[0mfigure\u001b[0m\u001b[0;34m(\u001b[0m\u001b[0;36m10\u001b[0m\u001b[0;34m,\u001b[0m\u001b[0;36m10\u001b[0m\u001b[0;34m)\u001b[0m\u001b[0;34m\u001b[0m\u001b[0;34m\u001b[0m\u001b[0m\n\u001b[0m\u001b[1;32m      2\u001b[0m \u001b[0mplt\u001b[0m\u001b[0;34m.\u001b[0m\u001b[0mplot\u001b[0m\u001b[0;34m(\u001b[0m\u001b[0mbegin_epoch\u001b[0m\u001b[0;34m,\u001b[0m \u001b[0maccuracies\u001b[0m\u001b[0;34m,\u001b[0m \u001b[0mcolor\u001b[0m\u001b[0;34m=\u001b[0m\u001b[0;34m'purple'\u001b[0m\u001b[0;34m,\u001b[0m \u001b[0max\u001b[0m\u001b[0;34m=\u001b[0m\u001b[0max\u001b[0m\u001b[0;34m)\u001b[0m\u001b[0;34m\u001b[0m\u001b[0;34m\u001b[0m\u001b[0m\n\u001b[1;32m      3\u001b[0m \u001b[0mplt\u001b[0m\u001b[0;34m.\u001b[0m\u001b[0mgrid\u001b[0m\u001b[0;34m(\u001b[0m\u001b[0;34m)\u001b[0m\u001b[0;34m\u001b[0m\u001b[0;34m\u001b[0m\u001b[0m\n\u001b[1;32m      4\u001b[0m \u001b[0mplt\u001b[0m\u001b[0;34m.\u001b[0m\u001b[0mscatter\u001b[0m\u001b[0;34m(\u001b[0m\u001b[0mbegin_epoch\u001b[0m\u001b[0;34m,\u001b[0m \u001b[0maccuracies\u001b[0m\u001b[0;34m,\u001b[0m \u001b[0mcolor\u001b[0m\u001b[0;34m=\u001b[0m\u001b[0;34m'orange'\u001b[0m\u001b[0;34m,\u001b[0m \u001b[0max\u001b[0m\u001b[0;34m=\u001b[0m\u001b[0max\u001b[0m\u001b[0;34m)\u001b[0m\u001b[0;34m\u001b[0m\u001b[0;34m\u001b[0m\u001b[0m\n\u001b[1;32m      5\u001b[0m \u001b[0mplt\u001b[0m\u001b[0;34m.\u001b[0m\u001b[0mylabel\u001b[0m\u001b[0;34m(\u001b[0m\u001b[0;34m'Accuracy'\u001b[0m\u001b[0;34m)\u001b[0m\u001b[0;34m\u001b[0m\u001b[0;34m\u001b[0m\u001b[0m\n",
            "\u001b[0;32m/usr/local/lib/python3.10/dist-packages/matplotlib/_api/deprecation.py\u001b[0m in \u001b[0;36mwrapper\u001b[0;34m(*args, **kwargs)\u001b[0m\n\u001b[1;32m    452\u001b[0m                 \u001b[0;34m\"parameter will become keyword-only %(removal)s.\"\u001b[0m\u001b[0;34m,\u001b[0m\u001b[0;34m\u001b[0m\u001b[0;34m\u001b[0m\u001b[0m\n\u001b[1;32m    453\u001b[0m                 name=name, obj_type=f\"parameter of {func.__name__}()\")\n\u001b[0;32m--> 454\u001b[0;31m         \u001b[0;32mreturn\u001b[0m \u001b[0mfunc\u001b[0m\u001b[0;34m(\u001b[0m\u001b[0;34m*\u001b[0m\u001b[0margs\u001b[0m\u001b[0;34m,\u001b[0m \u001b[0;34m**\u001b[0m\u001b[0mkwargs\u001b[0m\u001b[0;34m)\u001b[0m\u001b[0;34m\u001b[0m\u001b[0;34m\u001b[0m\u001b[0m\n\u001b[0m\u001b[1;32m    455\u001b[0m \u001b[0;34m\u001b[0m\u001b[0m\n\u001b[1;32m    456\u001b[0m     \u001b[0;31m# Don't modify *func*'s signature, as boilerplate.py needs it.\u001b[0m\u001b[0;34m\u001b[0m\u001b[0;34m\u001b[0m\u001b[0m\n",
            "\u001b[0;32m/usr/local/lib/python3.10/dist-packages/matplotlib/pyplot.py\u001b[0m in \u001b[0;36mfigure\u001b[0;34m(num, figsize, dpi, facecolor, edgecolor, frameon, FigureClass, clear, **kwargs)\u001b[0m\n\u001b[1;32m    838\u001b[0m                 RuntimeWarning)\n\u001b[1;32m    839\u001b[0m \u001b[0;34m\u001b[0m\u001b[0m\n\u001b[0;32m--> 840\u001b[0;31m         manager = new_figure_manager(\n\u001b[0m\u001b[1;32m    841\u001b[0m             \u001b[0mnum\u001b[0m\u001b[0;34m,\u001b[0m \u001b[0mfigsize\u001b[0m\u001b[0;34m=\u001b[0m\u001b[0mfigsize\u001b[0m\u001b[0;34m,\u001b[0m \u001b[0mdpi\u001b[0m\u001b[0;34m=\u001b[0m\u001b[0mdpi\u001b[0m\u001b[0;34m,\u001b[0m\u001b[0;34m\u001b[0m\u001b[0;34m\u001b[0m\u001b[0m\n\u001b[1;32m    842\u001b[0m             \u001b[0mfacecolor\u001b[0m\u001b[0;34m=\u001b[0m\u001b[0mfacecolor\u001b[0m\u001b[0;34m,\u001b[0m \u001b[0medgecolor\u001b[0m\u001b[0;34m=\u001b[0m\u001b[0medgecolor\u001b[0m\u001b[0;34m,\u001b[0m \u001b[0mframeon\u001b[0m\u001b[0;34m=\u001b[0m\u001b[0mframeon\u001b[0m\u001b[0;34m,\u001b[0m\u001b[0;34m\u001b[0m\u001b[0;34m\u001b[0m\u001b[0m\n",
            "\u001b[0;32m/usr/local/lib/python3.10/dist-packages/matplotlib/pyplot.py\u001b[0m in \u001b[0;36mnew_figure_manager\u001b[0;34m(*args, **kwargs)\u001b[0m\n\u001b[1;32m    382\u001b[0m     \u001b[0;34m\"\"\"Create a new figure manager instance.\"\"\"\u001b[0m\u001b[0;34m\u001b[0m\u001b[0;34m\u001b[0m\u001b[0m\n\u001b[1;32m    383\u001b[0m     \u001b[0m_warn_if_gui_out_of_main_thread\u001b[0m\u001b[0;34m(\u001b[0m\u001b[0;34m)\u001b[0m\u001b[0;34m\u001b[0m\u001b[0;34m\u001b[0m\u001b[0m\n\u001b[0;32m--> 384\u001b[0;31m     \u001b[0;32mreturn\u001b[0m \u001b[0m_get_backend_mod\u001b[0m\u001b[0;34m(\u001b[0m\u001b[0;34m)\u001b[0m\u001b[0;34m.\u001b[0m\u001b[0mnew_figure_manager\u001b[0m\u001b[0;34m(\u001b[0m\u001b[0;34m*\u001b[0m\u001b[0margs\u001b[0m\u001b[0;34m,\u001b[0m \u001b[0;34m**\u001b[0m\u001b[0mkwargs\u001b[0m\u001b[0;34m)\u001b[0m\u001b[0;34m\u001b[0m\u001b[0;34m\u001b[0m\u001b[0m\n\u001b[0m\u001b[1;32m    385\u001b[0m \u001b[0;34m\u001b[0m\u001b[0m\n\u001b[1;32m    386\u001b[0m \u001b[0;34m\u001b[0m\u001b[0m\n",
            "\u001b[0;32m/usr/local/lib/python3.10/dist-packages/matplotlib_inline/backend_inline.py\u001b[0m in \u001b[0;36mnew_figure_manager\u001b[0;34m(num, FigureClass, *args, **kwargs)\u001b[0m\n\u001b[1;32m     25\u001b[0m     \u001b[0mThis\u001b[0m \u001b[0mfunction\u001b[0m \u001b[0;32mis\u001b[0m \u001b[0mpart\u001b[0m \u001b[0mof\u001b[0m \u001b[0mthe\u001b[0m \u001b[0mAPI\u001b[0m \u001b[0mexpected\u001b[0m \u001b[0mby\u001b[0m \u001b[0mMatplotlib\u001b[0m \u001b[0mbackends\u001b[0m\u001b[0;34m.\u001b[0m\u001b[0;34m\u001b[0m\u001b[0;34m\u001b[0m\u001b[0m\n\u001b[1;32m     26\u001b[0m     \"\"\"\n\u001b[0;32m---> 27\u001b[0;31m     \u001b[0;32mreturn\u001b[0m \u001b[0mnew_figure_manager_given_figure\u001b[0m\u001b[0;34m(\u001b[0m\u001b[0mnum\u001b[0m\u001b[0;34m,\u001b[0m \u001b[0mFigureClass\u001b[0m\u001b[0;34m(\u001b[0m\u001b[0;34m*\u001b[0m\u001b[0margs\u001b[0m\u001b[0;34m,\u001b[0m \u001b[0;34m**\u001b[0m\u001b[0mkwargs\u001b[0m\u001b[0;34m)\u001b[0m\u001b[0;34m)\u001b[0m\u001b[0;34m\u001b[0m\u001b[0;34m\u001b[0m\u001b[0m\n\u001b[0m\u001b[1;32m     28\u001b[0m \u001b[0;34m\u001b[0m\u001b[0m\n\u001b[1;32m     29\u001b[0m \u001b[0;34m\u001b[0m\u001b[0m\n",
            "\u001b[0;32m/usr/local/lib/python3.10/dist-packages/matplotlib/_api/deprecation.py\u001b[0m in \u001b[0;36mwrapper\u001b[0;34m(*args, **kwargs)\u001b[0m\n\u001b[1;32m    452\u001b[0m                 \u001b[0;34m\"parameter will become keyword-only %(removal)s.\"\u001b[0m\u001b[0;34m,\u001b[0m\u001b[0;34m\u001b[0m\u001b[0;34m\u001b[0m\u001b[0m\n\u001b[1;32m    453\u001b[0m                 name=name, obj_type=f\"parameter of {func.__name__}()\")\n\u001b[0;32m--> 454\u001b[0;31m         \u001b[0;32mreturn\u001b[0m \u001b[0mfunc\u001b[0m\u001b[0;34m(\u001b[0m\u001b[0;34m*\u001b[0m\u001b[0margs\u001b[0m\u001b[0;34m,\u001b[0m \u001b[0;34m**\u001b[0m\u001b[0mkwargs\u001b[0m\u001b[0;34m)\u001b[0m\u001b[0;34m\u001b[0m\u001b[0;34m\u001b[0m\u001b[0m\n\u001b[0m\u001b[1;32m    455\u001b[0m \u001b[0;34m\u001b[0m\u001b[0m\n\u001b[1;32m    456\u001b[0m     \u001b[0;31m# Don't modify *func*'s signature, as boilerplate.py needs it.\u001b[0m\u001b[0;34m\u001b[0m\u001b[0;34m\u001b[0m\u001b[0m\n",
            "\u001b[0;32m/usr/local/lib/python3.10/dist-packages/matplotlib/figure.py\u001b[0m in \u001b[0;36m__init__\u001b[0;34m(self, figsize, dpi, facecolor, edgecolor, linewidth, frameon, subplotpars, tight_layout, constrained_layout, layout, **kwargs)\u001b[0m\n\u001b[1;32m   2534\u001b[0m             raise ValueError('figure size must be positive finite not '\n\u001b[1;32m   2535\u001b[0m                              f'{figsize}')\n\u001b[0;32m-> 2536\u001b[0;31m         \u001b[0mself\u001b[0m\u001b[0;34m.\u001b[0m\u001b[0mbbox_inches\u001b[0m \u001b[0;34m=\u001b[0m \u001b[0mBbox\u001b[0m\u001b[0;34m.\u001b[0m\u001b[0mfrom_bounds\u001b[0m\u001b[0;34m(\u001b[0m\u001b[0;36m0\u001b[0m\u001b[0;34m,\u001b[0m \u001b[0;36m0\u001b[0m\u001b[0;34m,\u001b[0m \u001b[0;34m*\u001b[0m\u001b[0mfigsize\u001b[0m\u001b[0;34m)\u001b[0m\u001b[0;34m\u001b[0m\u001b[0;34m\u001b[0m\u001b[0m\n\u001b[0m\u001b[1;32m   2537\u001b[0m \u001b[0;34m\u001b[0m\u001b[0m\n\u001b[1;32m   2538\u001b[0m         \u001b[0mself\u001b[0m\u001b[0;34m.\u001b[0m\u001b[0mdpi_scale_trans\u001b[0m \u001b[0;34m=\u001b[0m \u001b[0mAffine2D\u001b[0m\u001b[0;34m(\u001b[0m\u001b[0;34m)\u001b[0m\u001b[0;34m.\u001b[0m\u001b[0mscale\u001b[0m\u001b[0;34m(\u001b[0m\u001b[0mdpi\u001b[0m\u001b[0;34m)\u001b[0m\u001b[0;34m\u001b[0m\u001b[0;34m\u001b[0m\u001b[0m\n",
            "\u001b[0;31mTypeError\u001b[0m: Value after * must be an iterable, not int"
          ]
        }
      ],
      "source": [
        "fig, ax = plt.figure(10,10)\n",
        "plt.plot(begin_epoch, accuracies, color='purple', ax=ax)\n",
        "plt.grid()\n",
        "plt.scatter(begin_epoch, accuracies, color='orange', ax=ax)\n",
        "plt.ylabel('Accuracy')\n",
        "plt.xlabel('Epoch')\n",
        "plt.suptitle('accuracies vs blurring-begin epoch')"
      ]
    }
  ],
  "metadata": {
    "accelerator": "GPU",
    "colab": {
      "provenance": []
    },
    "kernelspec": {
      "display_name": "Python 3",
      "name": "python3"
    },
    "language_info": {
      "codemirror_mode": {
        "name": "ipython",
        "version": 3
      },
      "file_extension": ".py",
      "mimetype": "text/x-python",
      "name": "python",
      "nbconvert_exporter": "python",
      "pygments_lexer": "ipython3",
      "version": "3.9.16"
    }
  },
  "nbformat": 4,
  "nbformat_minor": 0
}