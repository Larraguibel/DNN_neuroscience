{
  "cells": [
    {
      "cell_type": "markdown",
      "metadata": {
        "id": "view-in-github"
      },
      "source": [
        "<a href=\"https://colab.research.google.com/github/Larraguibel/DNN_neuroscience/blob/main/blurring.ipynb\" target=\"_parent\"><img src=\"https://colab.research.google.com/assets/colab-badge.svg\" alt=\"Open In Colab\"/></a>"
      ]
    },
    {
      "cell_type": "markdown",
      "source": [
        "## 1. Importaciones"
      ],
      "metadata": {
        "id": "vEWrR9RbtKOK"
      }
    },
    {
      "cell_type": "code",
      "execution_count": 2,
      "metadata": {
        "id": "f09jgx6Ox0Wi"
      },
      "outputs": [],
      "source": [
        "cuda = True\n",
        "train_batch_size = 32\n",
        "test_batch_size = 124\n",
        "best_loss = float(\"inf\")\n",
        "best_epoch = -1\n",
        "dataset_path = './cifar10'\n",
        "gsync_save = True"
      ]
    },
    {
      "cell_type": "code",
      "execution_count": 3,
      "metadata": {
        "id": "QhK5mjUvx0Wm"
      },
      "outputs": [],
      "source": [
        "from torchvision import transforms, datasets\n",
        "import torch\n",
        "import matplotlib.pyplot as plt\n",
        "from google.colab import drive"
      ]
    },
    {
      "cell_type": "code",
      "execution_count": 4,
      "metadata": {
        "id": "Ytvb4HUex0Wn",
        "colab": {
          "base_uri": "https://localhost:8080/"
        },
        "outputId": "e9c800f0-82e7-4afe-cf4f-e1b842790e25"
      },
      "outputs": [
        {
          "output_type": "stream",
          "name": "stdout",
          "text": [
            "--2023-12-05 23:36:46--  https://raw.githubusercontent.com/StefOe/colab-pytorch-utils/HEAD/utils.py\n",
            "Resolving raw.githubusercontent.com (raw.githubusercontent.com)... 185.199.108.133, 185.199.109.133, 185.199.110.133, ...\n",
            "Connecting to raw.githubusercontent.com (raw.githubusercontent.com)|185.199.108.133|:443... connected.\n",
            "HTTP request sent, awaiting response... 200 OK\n",
            "Length: 4519 (4.4K) [text/plain]\n",
            "Saving to: ‘utils.py’\n",
            "\n",
            "utils.py            100%[===================>]   4.41K  --.-KB/s    in 0s      \n",
            "\n",
            "2023-12-05 23:36:47 (62.2 MB/s) - ‘utils.py’ saved [4519/4519]\n",
            "\n",
            "Requirement already satisfied: tqdm in /usr/local/lib/python3.10/dist-packages (4.66.1)\n",
            "--2023-12-05 23:39:37--  https://github.com/StefOe/all-conv-pytorch/raw/HEAD/allconv.py\n",
            "Resolving github.com (github.com)... 20.205.243.166\n",
            "Connecting to github.com (github.com)|20.205.243.166|:443... connected.\n",
            "HTTP request sent, awaiting response... 302 Found\n",
            "Location: https://raw.githubusercontent.com/StefOe/all-conv-pytorch/8545bb3ff7ac4410e52d8db930f0485074073ea9/allconv.py [following]\n",
            "--2023-12-05 23:39:38--  https://raw.githubusercontent.com/StefOe/all-conv-pytorch/8545bb3ff7ac4410e52d8db930f0485074073ea9/allconv.py\n",
            "Resolving raw.githubusercontent.com (raw.githubusercontent.com)... 185.199.108.133, 185.199.109.133, 185.199.110.133, ...\n",
            "Connecting to raw.githubusercontent.com (raw.githubusercontent.com)|185.199.108.133|:443... connected.\n",
            "HTTP request sent, awaiting response... 200 OK\n",
            "Length: 1457 (1.4K) [text/plain]\n",
            "Saving to: ‘allconv.py’\n",
            "\n",
            "allconv.py          100%[===================>]   1.42K  --.-KB/s    in 0s      \n",
            "\n",
            "2023-12-05 23:39:38 (28.3 MB/s) - ‘allconv.py’ saved [1457/1457]\n",
            "\n"
          ]
        }
      ],
      "source": [
        "try:\n",
        "    import torch\n",
        "except ModuleNotFoundError:\n",
        "    from os import path\n",
        "    from wheel.pep425tags import get_abbr_impl, get_impl_ver, get_abi_tag\n",
        "    platform = '{}{}-{}'.format(get_abbr_impl(), get_impl_ver(), get_abi_tag())\n",
        "\n",
        "    accelerator = 'cu80' if path.exists('/opt/bin/nvidia-smi') else 'cpu'\n",
        "\n",
        "    !pip install -q http://download.pytorch.org/whl/{accelerator}/torch-0.3.1-{platform}-linux_x86_64.whl\n",
        "    import torch\n",
        "import torch.nn as nn\n",
        "import torch.nn.functional as F\n",
        "import torch.optim as optim\n",
        "from torch.autograd import Variable\n",
        "\n",
        "\n",
        "try:\n",
        "    import torchvision\n",
        "except ModuleNotFoundError:\n",
        "    !pip install -q torchvision\n",
        "\n",
        "from torchvision import datasets, transforms\n",
        "\n",
        "\n",
        "if gsync_save:\n",
        "    try:\n",
        "        import utils\n",
        "    except ModuleNotFoundError:\n",
        "        !wget https://raw.githubusercontent.com/StefOe/colab-pytorch-utils/HEAD/utils.py\n",
        "        import utils\n",
        "\n",
        "    gsync = utils.GDriveSync()\n",
        "\n",
        "\n",
        "try:\n",
        "    from allconv import AllConvNet\n",
        "except ModuleNotFoundError:\n",
        "    !wget https://github.com/StefOe/all-conv-pytorch/raw/HEAD/allconv.py\n",
        "    from allconv import AllConvNet"
      ]
    },
    {
      "cell_type": "markdown",
      "source": [
        "## 2. Transformacion y carga de datos"
      ],
      "metadata": {
        "id": "IioCdEF2tPxX"
      }
    },
    {
      "cell_type": "code",
      "execution_count": 5,
      "metadata": {
        "colab": {
          "base_uri": "https://localhost:8080/"
        },
        "id": "PRNLrPRpx0Wo",
        "outputId": "1f93ad42-a9af-4b1b-a135-baf50bc8da33"
      },
      "outputs": [
        {
          "output_type": "stream",
          "name": "stdout",
          "text": [
            "Downloading https://www.cs.toronto.edu/~kriz/cifar-10-python.tar.gz to ./cifar10/cifar-10-python.tar.gz\n"
          ]
        },
        {
          "output_type": "stream",
          "name": "stderr",
          "text": [
            "100%|██████████| 170498071/170498071 [00:12<00:00, 13447424.86it/s]\n"
          ]
        },
        {
          "output_type": "stream",
          "name": "stdout",
          "text": [
            "Extracting ./cifar10/cifar-10-python.tar.gz to ./cifar10\n"
          ]
        }
      ],
      "source": [
        "# Semilla para estandarizar resultados\n",
        "torch.manual_seed(2320)\n",
        "\n",
        "cuda = cuda and torch.cuda.is_available()\n",
        "\n",
        "trainset = datasets.CIFAR10(root=dataset_path, train=True, download=True)\n",
        "train_mean = trainset.data.mean(axis=(0, 1, 2)) / 255\n",
        "train_std = trainset.data.std(axis=(0, 1, 2)) / 255\n",
        "\n",
        "\n",
        "# Data normal (32x32)\n",
        "\n",
        "transform_train = transforms.Compose([\n",
        "    transforms.RandomCrop(32, padding=4),\n",
        "    transforms.RandomHorizontalFlip(),\n",
        "    transforms.ToTensor(),\n",
        "    transforms.Normalize(train_mean, train_std)\n",
        "])\n",
        "\n",
        "transform_test = transforms.Compose([\n",
        "    transforms.ToTensor(),\n",
        "    transforms.Normalize(train_mean, train_std)\n",
        "])\n",
        "\n",
        "\n",
        "#  transformaciones a 8x8 y de vuelta a 32x32 por bilineal\n",
        "\n",
        "transform_train8x8 = transforms.Compose([\n",
        "    transforms.Resize((8,8)),\n",
        "    transforms.Resize((32,32)),\n",
        "    transforms.RandomCrop(32, padding=4),\n",
        "    transforms.RandomHorizontalFlip(),\n",
        "    transforms.ToTensor(),\n",
        "    transforms.Normalize(train_mean, train_std)\n",
        "])\n"
      ]
    },
    {
      "cell_type": "code",
      "execution_count": 6,
      "metadata": {
        "colab": {
          "base_uri": "https://localhost:8080/"
        },
        "id": "NLklIFWrx0Wo",
        "outputId": "d480e82b-88b5-4cf6-8bce-1634779eb240"
      },
      "outputs": [
        {
          "output_type": "stream",
          "name": "stdout",
          "text": [
            "Files already downloaded and verified\n",
            "Files already downloaded and verified\n"
          ]
        }
      ],
      "source": [
        "kwargs = {'num_workers': 1, 'pin_memory': True} if cuda else {}\n",
        "\n",
        "# Data normal\n",
        "\n",
        "train_loader = torch.utils.data.DataLoader(datasets.CIFAR10(\n",
        "    root=dataset_path, train=True, download=True,\n",
        "    transform=transform_train),\n",
        "    batch_size=train_batch_size, shuffle=True, **kwargs)\n",
        "\n",
        "test_loader = torch.utils.data.DataLoader(\n",
        "    datasets.CIFAR10(root=dataset_path, train=False, download=True,\n",
        "    transform=transform_test),\n",
        "    batch_size=test_batch_size, shuffle=True, **kwargs)"
      ]
    },
    {
      "cell_type": "code",
      "execution_count": 7,
      "metadata": {
        "colab": {
          "base_uri": "https://localhost:8080/"
        },
        "id": "qX0Fm3arx0Wp",
        "outputId": "d7819a97-28ad-4d8b-dc32-65d70e989aa9"
      },
      "outputs": [
        {
          "output_type": "stream",
          "name": "stdout",
          "text": [
            "Files already downloaded and verified\n"
          ]
        }
      ],
      "source": [
        "# Data de entrenamiento blurreada\n",
        "\n",
        "train_loader_blur = torch.utils.data.DataLoader(datasets.CIFAR10(\n",
        "    root=dataset_path, train=True, download=True,\n",
        "    transform=transform_train8x8),\n",
        "    batch_size=train_batch_size, shuffle=True, **kwargs)\n"
      ]
    },
    {
      "cell_type": "code",
      "source": [
        "for batch_data, batch_labels in train_loader_blur:\n",
        "    first_image = batch_data[0].permute(1, 2, 0).numpy()\n",
        "    plt.imshow(first_image)\n",
        "    plt.show()\n",
        "    break"
      ],
      "metadata": {
        "id": "20q8cKdW4J3e",
        "colab": {
          "base_uri": "https://localhost:8080/",
          "height": 0
        },
        "outputId": "e429c8e4-69bb-4039-af03-6772518198b8"
      },
      "execution_count": 8,
      "outputs": [
        {
          "output_type": "stream",
          "name": "stderr",
          "text": [
            "WARNING:matplotlib.image:Clipping input data to the valid range for imshow with RGB data ([0..1] for floats or [0..255] for integers).\n"
          ]
        },
        {
          "output_type": "display_data",
          "data": {
            "text/plain": [
              "<Figure size 640x480 with 1 Axes>"
            ],
            "image/png": "[encoded data removed]"
          },
          "metadata": {}
        }
      ]
    },
    {
      "cell_type": "code",
      "source": [
        "for batch_data, batch_labels in train_loader:\n",
        "    first_image = batch_data[0].permute(1, 2, 0).numpy()\n",
        "    plt.imshow(first_image)\n",
        "    plt.show()\n",
        "    break"
      ],
      "metadata": {
        "colab": {
          "base_uri": "https://localhost:8080/",
          "height": 0
        },
        "id": "GwZ7RpKOFZe1",
        "outputId": "fc95c11c-5c77-47a3-d072-79e56a74fa56"
      },
      "execution_count": 9,
      "outputs": [
        {
          "output_type": "stream",
          "name": "stderr",
          "text": [
            "WARNING:matplotlib.image:Clipping input data to the valid range for imshow with RGB data ([0..1] for floats or [0..255] for integers).\n"
          ]
        },
        {
          "output_type": "display_data",
          "data": {
            "text/plain": [
              "<Figure size 640x480 with 1 Axes>"
            ],
            "image/png": "[encoded data removed]"
          },
          "metadata": {}
        }
      ]
    },
    {
      "cell_type": "markdown",
      "source": [
        "## 3. Entrenamiento"
      ],
      "metadata": {
        "id": "B3NvyfItyVqR"
      }
    },
    {
      "cell_type": "code",
      "source": [
        "model = AllConvNet(3)\n",
        "if cuda:\n",
        "    model.cuda()\n",
        "\n",
        "criterion = nn.CrossEntropyLoss()\n",
        "optimizer = optim.SGD(model.parameters(), lr=0.001, momentum=0.9)\n",
        "scheduler = optim.lr_scheduler.MultiStepLR(\n",
        "    optimizer, milestones=[200, 250, 300], gamma=0.1)"
      ],
      "metadata": {
        "id": "o0ATJOEVGQCS"
      },
      "execution_count": 12,
      "outputs": []
    },
    {
      "cell_type": "code",
      "source": [
        "def train(epoch):\n",
        "    model.train()\n",
        "    for batch_idx, (data, target) in enumerate(train_loader):\n",
        "        if cuda:\n",
        "            data, target = data.cuda(), target.cuda()\n",
        "        data, target = Variable(data), Variable(target)\n",
        "\n",
        "        optimizer.zero_grad()\n",
        "        output = model(data)\n",
        "        loss = criterion(output, target)\n",
        "        loss.backward()\n",
        "        optimizer.step()\n",
        "\n",
        "        if batch_idx % 100 == 0:\n",
        "          print('Train Epoch: {} [{}/{} ({:.0f}%)]\\tLoss: {:.6f}'.format(\n",
        "              epoch, batch_idx * len(data), len(train_loader.dataset),\n",
        "              100. * batch_idx / len(train_loader), loss.item()))\n",
        "\n",
        "\n",
        "def blur_train(epoch):\n",
        "    model.train()\n",
        "    for batch_idx, (data, target) in enumerate(train_loader_blur):\n",
        "        if cuda:\n",
        "            data, target = data.cuda(), target.cuda() # Pasar la data a la GPU\n",
        "        data, target = Variable(data), Variable(target)\n",
        "\n",
        "        optimizer.zero_grad() # Seteo en 0 los valores de los gradientes\n",
        "        output = model(data) # Hago forward\n",
        "        loss = criterion(output, target) # Se calcula la CrossEntropyLoss\n",
        "        loss.backward()\n",
        "        optimizer.step() # Actualización de los parámetros\n",
        "\n",
        "        if batch_idx % 100 == 0:\n",
        "          print('Train Epoch: {} [{}/{} ({:.0f}%)]\\tLoss: {:.6f}'.format(\n",
        "              epoch, batch_idx * len(data), len(train_loader.dataset),\n",
        "              100. * batch_idx / len(train_loader), loss.item()))\n",
        "\n",
        "\n",
        "def test(epoch, best_loss, best_epoch):\n",
        "    model.eval()\n",
        "    test_loss = 0\n",
        "    correct = 0\n",
        "    for data, target in test_loader:\n",
        "        if cuda:\n",
        "            data, target = data.cuda(), target.cuda()\n",
        "        data, target = Variable(data), Variable(target)\n",
        "\n",
        "        output = model(data)\n",
        "        # sum up batch loss\n",
        "        test_loss += criterion(output, target).item()\n",
        "        # get the index of the max log-probability\n",
        "        pred = output.data.max(1, keepdim=True)[1]\n",
        "        correct += pred.eq(target.data.view_as(pred)).long().cpu().sum()\n",
        "        acc = 100*correct/len(test_loader.dataset)\n",
        "\n",
        "\n",
        "    test_loss /= len(test_loader.dataset)\n",
        "    print(\n",
        "        '\\nTest set: Average loss: {:.4f}, Accuracy: {} ({:.0f}%)\\n'.format(\n",
        "            test_loss, acc, 100. * correct /\n",
        "            len(test_loader.dataset)))\n",
        "\n",
        "    if test_loss < best_loss:\n",
        "        best_epoch = epoch\n",
        "        best_loss = test_loss\n",
        "        torch.save(model, \"best.pt\")\n",
        "        if gsync_save:\n",
        "            gsync.update_file_to_folder(\"best.pt\")\n",
        "    return best_loss, best_epoch, acc"
      ],
      "metadata": {
        "id": "vMTAjIebycPa"
      },
      "execution_count": 13,
      "outputs": []
    },
    {
      "cell_type": "markdown",
      "source": [
        "Esta primera version del codigo,  entrena:\n",
        "\n",
        "*   normalmente para `normal_init` epocas\n",
        "*   con blur para `blur_epochs` epocas\n",
        "*   normalmente para otras `after_blur` epocas."
      ],
      "metadata": {
        "id": "A-ydOWNxBfso"
      }
    },
    {
      "cell_type": "code",
      "source": [
        "def begin_model_easy(normal_init: int, blur_epochs: int, after_blur: int, model=None):\n",
        "  best_loss = float(\"inf\")\n",
        "  best_epoch = -1\n",
        "\n",
        "  if model is None:\n",
        "    model = AllConvNet(3)\n",
        "\n",
        "    if cuda:\n",
        "        model.cuda()\n",
        "\n",
        "  if normal_init<0 or blur_epochs<0 or after_blur<0:\n",
        "    print('ERROR: parámetros inconsistentes')\n",
        "  else:\n",
        "\n",
        "    criterion = nn.CrossEntropyLoss()\n",
        "    optimizer = optim.SGD(model.parameters(), lr=0.001, momentum=0.9)\n",
        "    scheduler = optim.lr_scheduler.MultiStepLR(\n",
        "    optimizer, milestones=[200, 250, 300], gamma=0.1)\n",
        "\n",
        "    if normal_init == 0:\n",
        "\n",
        "      print(f''' {'*'*30}\n",
        "      Blurred image Training begin\n",
        "      {'*'*30}\n",
        "      ''')\n",
        "\n",
        "      for epoch in range(blur_epochs):\n",
        "        scheduler.step()\n",
        "        blur_train(epoch)\n",
        "        best_loss, best_epoch, acc = test(epoch, best_loss, best_epoch)\n",
        "\n",
        "      print(f''' {'*'*30}\n",
        "      Blurred image Training End. Training with normal images\n",
        "      {'*'*30}\n",
        "      ''')\n",
        "\n",
        "      for epoch in range(blur_epochs, blur_epochs + after_blur):\n",
        "        scheduler.step()\n",
        "        train(epoch)\n",
        "        best_loss, best_epoch, acc = test(epoch, best_loss, best_epoch)\n",
        "\n",
        "\n",
        "    elif normal_init != 0:\n",
        "\n",
        "      print(f''' {'*'*30}\n",
        "      Normal training begin\n",
        "      {'*'*30}\n",
        "      ''')\n",
        "      for epoch in range(normal_init):\n",
        "        scheduler.step()\n",
        "        train(epoch)\n",
        "        best_loss, best_epoch, acc = test(epoch, best_loss, best_epoch)\n",
        "\n",
        "      print(f''' {'*'*30}\n",
        "      Blurred image Training begin\n",
        "      {'*'*30}\n",
        "      ''')\n",
        "\n",
        "      for epoch in range(normal_init, normal_init + blur_epochs):\n",
        "        scheduler.step()\n",
        "        blur_train(epoch)\n",
        "        best_loss, best_epoch, acc = test(epoch, best_loss, best_epoch)\n",
        "\n",
        "      print(f''' {'*'*30}\n",
        "      Blurred image Training End. Training with normal images\n",
        "      {'*'*30}\n",
        "      ''')\n",
        "\n",
        "      for epoch in range(normal_init+blur_epochs, normal_init+blur_epochs+after_blur):\n",
        "        scheduler.step()\n",
        "        train(epoch)\n",
        "        best_loss, best_epoch, acc = test(epoch, best_loss, best_epoch)\n",
        "\n",
        "  print(f'''\n",
        "  *********************\n",
        "  final accuracy: {acc}\n",
        "  *********************\n",
        "  ''')\n",
        "\n",
        "  return acc"
      ],
      "metadata": {
        "id": "IeFf_Fw20xao"
      },
      "execution_count": 14,
      "outputs": []
    },
    {
      "cell_type": "markdown",
      "source": [
        "# Experimento 1 de Achille et al.\n",
        "\n",
        "Vamos a entrenar con blur por $t_0$ epocas, con $t_0\\in \\{0, 20, 40, ... , 140\\}$ y sucesivamente entrenamos por $160$ epocas sin blur.\n",
        "\n",
        "Para ahorrar calculos,\n",
        "* primero entrenamos modelo con blur por $140$ epocas y con un checkpoint cada $20$ epocas,\n",
        "* sucesivamente entrenamos desde cada checkpoint por $160$ epocas sin blur, (se podra' hacer en paralelo?).\n",
        "\n"
      ],
      "metadata": {
        "id": "vBA2kT8xCKoC"
      }
    },
    {
      "cell_type": "markdown",
      "source": [
        "## 1.1. Entrenar modelos"
      ],
      "metadata": {
        "id": "0CYFG97zMbsb"
      }
    },
    {
      "cell_type": "code",
      "source": [
        "# Damos acceso a google drive para guardar modelos\n",
        "\n",
        "drive.mount('/content/gdrive')"
      ],
      "metadata": {
        "id": "aZLKiDmyG6Z6",
        "colab": {
          "base_uri": "https://localhost:8080/"
        },
        "outputId": "22b31479-cfe8-466a-d893-77dc1f69d9e7"
      },
      "execution_count": 10,
      "outputs": [
        {
          "output_type": "stream",
          "name": "stdout",
          "text": [
            "Mounted at /content/gdrive\n"
          ]
        }
      ]
    },
    {
      "cell_type": "markdown",
      "source": [
        "En primer lugar, entrenamos el modelo que tiene las primeras 40 épocas con blur, y las 120 restantes sin blur. Despues de eso, se entrenarán con blur los modelos normales preentrenados, extraidos de MyDrive."
      ],
      "metadata": {
        "id": "RtOEnPiPU24a"
      }
    },
    {
      "cell_type": "code",
      "source": [
        "# Entrenamos modelo que empieza con 40 épocas blur y sigue con 120 normales\n",
        "\n",
        "model = AllConvNet(3)\n",
        "if cuda:\n",
        "    model.cuda()\n",
        "\n",
        "print(f\"Training the model with Blur starting from 0 non-blurred epochs\")\n",
        "\n",
        "acc = begin_model_easy(normal_init=0, blur_epochs=40, after_blur=120, model=model)\n",
        "\n",
        "checkpoint_save_path = f\"/content/gdrive/MyDrive/EXP/guardar_y_pasar/40blurred_from_0.pt\"\n",
        "\n",
        "checkpoint = {\n",
        "  'began_blur_epoch': 0,\n",
        "  'model_state_dict': model.state_dict(),\n",
        "  'accuracy': acc\n",
        "    }\n",
        "torch.save(checkpoint, checkpoint_save_path)"
      ],
      "metadata": {
        "id": "FPrdS5IgEkC1"
      },
      "execution_count": null,
      "outputs": []
    },
    {
      "cell_type": "code",
      "source": [
        "# Cargamos modelos guardados:\n",
        "# (parentesis) No se cargó la data del optimizador. No debiese ser relevante debido  al tamaño del modelo, por lo que leí.\n",
        "# Quité el primer modelo con 20 épocas, porque lo entrené antes y el codigo se cayó. Aun así pude guardarlo.\n",
        "\n",
        "# Asegurarse de tener una carpeta con el nombre correspondiente en drive. Usar una que contenga los modelos preentrenados,\n",
        "# y otra vacía para guardar los nuevos modelos.\n",
        "\n",
        "model_paths = [f'/content/gdrive/MyDrive/Colab Notebooks/checkpoints1/checkpoint_epoch_{19 + 20*i}.pt' for i in range(7)]\n",
        "\n",
        "for index, mod_path in enumerate(model_paths):\n",
        "  model_data = torch.load(mod_path)\n",
        "  model_state_dict = model_data['model_state_dict']\n",
        "\n",
        "  model = AllConvNet(3)\n",
        "  if cuda:\n",
        "      model.cuda()\n",
        "  model.load_state_dict(model_state_dict)\n",
        "\n",
        "  print(f\"Training the model with Blur starting from {int(model_data['epoch'])} non-blurred epochs\")\n",
        "\n",
        "  acc = begin_model_easy(normal_init=0, blur_epochs=40, after_blur=140-int(model_data['epoch']), model=model)\n",
        "  checkpoint_save_path = f\"/content/gdrive/MyDrive/Colab Notebooks/40epochs_blur_checkpoints/40blurred_from_{int(model_data['epoch'])}.pt\"\n",
        "\n",
        "  checkpoint = {\n",
        "    'began_blur_epoch': 20 + 20*index,\n",
        "    'model_state_dict': model.state_dict(),\n",
        "    'accuracy': acc,\n",
        "      }\n",
        "  torch.save(checkpoint, checkpoint_save_path)\n",
        "\n",
        "  print(f'''\n",
        "\n",
        "  MODEL SAVED AS 40blurred_from_{int(model_data['epoch'])}.pt in DRIVE!\n",
        "\n",
        "  ''')\n"
      ],
      "metadata": {
        "id": "1pBz0sTVvagg"
      },
      "execution_count": null,
      "outputs": []
    },
    {
      "cell_type": "markdown",
      "source": [
        "## 1.2. Generar gráficos"
      ],
      "metadata": {
        "id": "h3ONGV41MjOu"
      }
    },
    {
      "cell_type": "code",
      "source": [
        "cant_archivos = 6 # cambiarlo a la cantidad de modelos que ya se encuentren en la carpeta 40epochs_blur_checkpoints\n",
        "\n",
        "model_paths = [f\"/content/gdrive/MyDrive/Colab Notebooks/40epochs_blur_checkpoints/40blurred_from_{20*i}.pt\" for i in range(cant_archivos)]\n",
        "accuracies = []\n",
        "begin_epoch = [20*i for i in range(cant_archivos)]\n",
        "\n",
        "for path in model_paths:\n",
        "  model_data = torch.load(path)\n",
        "  model_state_dict = model_data['model_state_dict']\n",
        "\n",
        "  model = AllConvNet(3)\n",
        "  model.load_state_dict(model_state_dict)\n",
        "  accuracies.append(model_data['accuracy'])"
      ],
      "metadata": {
        "id": "psLYGkQoMmXs"
      },
      "execution_count": 17,
      "outputs": []
    },
    {
      "cell_type": "code",
      "source": [
        "fig, ax = plt.subplots(figsize=(8, 6))\n",
        "ax.plot(begin_epoch, accuracies, color='purple')\n",
        "plt.grid()\n",
        "ax.scatter(begin_epoch, accuracies, color='orange')\n",
        "plt.ylabel('Accuracy')\n",
        "plt.xlabel('Epoch')\n",
        "plt.suptitle('accuracies vs blurring-begin epoch')"
      ],
      "metadata": {
        "id": "8D2t-4QZUvdO",
        "colab": {
          "base_uri": "https://localhost:8080/",
          "height": 619
        },
        "outputId": "97e138c4-71de-43c9-efd4-8466becb809f"
      },
      "execution_count": 23,
      "outputs": [
        {
          "output_type": "execute_result",
          "data": {
            "text/plain": [
              "Text(0.5, 0.98, 'accuracies vs blurring-begin epoch')"
            ]
          },
          "metadata": {},
          "execution_count": 23
        },
        {
          "output_type": "display_data",
          "data": {
            "text/plain": [
              "<Figure size 800x600 with 1 Axes>"
            ],
            "image/png": "[encoded data removed]"
          },
          "metadata": {}
        }
      ]
    },
    {
      "cell_type": "code",
      "source": [],
      "metadata": {
        "id": "x9w3XlgEYDXT"
      },
      "execution_count": null,
      "outputs": []
    }
  ],
  "metadata": {
    "kernelspec": {
      "display_name": "Python 3",
      "name": "python3"
    },
    "language_info": {
      "codemirror_mode": {
        "name": "ipython",
        "version": 3
      },
      "file_extension": ".py",
      "mimetype": "text/x-python",
      "name": "python",
      "nbconvert_exporter": "python",
      "pygments_lexer": "ipython3",
      "version": "3.9.16"
    },
    "colab": {
      "provenance": [],
      "gpuType": "T4"
    },
    "accelerator": "GPU"
  },
  "nbformat": 4,
  "nbformat_minor": 0
}