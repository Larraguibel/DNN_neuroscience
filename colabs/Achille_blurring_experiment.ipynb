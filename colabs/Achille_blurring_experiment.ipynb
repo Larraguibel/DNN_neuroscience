{
  "cells": [
    {
      "cell_type": "markdown",
      "metadata": {
        "id": "view-in-github"
      },
      "source": [
        "<a href=\"https://colab.research.google.com/github/Larraguibel/DNN_neuroscience/blob/main/blurring.ipynb\" target=\"_parent\"><img src=\"https://colab.research.google.com/assets/colab-badge.svg\" alt=\"Open In Colab\"/></a>"
      ]
    },
    {
      "cell_type": "markdown",
      "metadata": {
        "id": "vEWrR9RbtKOK"
      },
      "source": [
        "## 1. Importaciones y definiciones"
      ]
    },
    {
      "cell_type": "code",
      "source": [
        "!pip install --upgrade torch torchvision"
      ],
      "metadata": {
        "id": "ob8wgGXqE7Ge"
      },
      "execution_count": null,
      "outputs": []
    },
    {
      "cell_type": "markdown",
      "source": [
        "## 1.1 Librerías y parámetros"
      ],
      "metadata": {
        "id": "3TG3IHqeXm4r"
      }
    },
    {
      "cell_type": "code",
      "execution_count": null,
      "metadata": {
        "id": "QhK5mjUvx0Wm"
      },
      "outputs": [],
      "source": [
        "from torchvision import transforms, datasets\n",
        "import torch\n",
        "import matplotlib.pyplot as plt\n",
        "from google.colab import drive\n",
        "import numpy as np\n",
        "import torch.nn.functional as F\n",
        "import torch.nn as nn"
      ]
    },
    {
      "cell_type": "code",
      "execution_count": null,
      "metadata": {
        "id": "f09jgx6Ox0Wi"
      },
      "outputs": [],
      "source": [
        "cuda = True\n",
        "train_batch_size = 32\n",
        "test_batch_size = 124\n",
        "best_loss = float(\"inf\")\n",
        "best_epoch = -1\n",
        "dataset_path = './cifar10'\n",
        "gsync_save = True"
      ]
    },
    {
      "cell_type": "code",
      "execution_count": null,
      "metadata": {
        "id": "Ytvb4HUex0Wn"
      },
      "outputs": [],
      "source": [
        "try:\n",
        "    import torch\n",
        "except ModuleNotFoundError:\n",
        "    from os import path\n",
        "    from wheel.pep425tags import get_abbr_impl, get_impl_ver, get_abi_tag\n",
        "    platform = '{}{}-{}'.format(get_abbr_impl(), get_impl_ver(), get_abi_tag())\n",
        "\n",
        "    accelerator = 'cu80' if path.exists('/opt/bin/nvidia-smi') else 'cpu'\n",
        "\n",
        "    !pip install -q http://download.pytorch.org/whl/{accelerator}/torch-0.3.1-{platform}-linux_x86_64.whl\n",
        "    import torch\n",
        "\n",
        "import torch.nn as nn\n",
        "import torch.nn.functional as F\n",
        "import torch.optim as optim\n",
        "from torch.autograd import Variable\n",
        "\n",
        "try:\n",
        "    import torchvision\n",
        "except ModuleNotFoundError:\n",
        "    !pip install -q torchvision\n",
        "\n",
        "from torchvision import datasets, transforms\n",
        "\n",
        "if gsync_save:\n",
        "    try:\n",
        "        import utils\n",
        "    except ModuleNotFoundError:\n",
        "        !wget https://raw.githubusercontent.com/StefOe/colab-pytorch-utils/HEAD/utils.py\n",
        "        import utils"
      ]
    },
    {
      "cell_type": "markdown",
      "source": [
        "## 1.2 Arquitectura de AllConvNet"
      ],
      "metadata": {
        "id": "cuhtKPPcXqKN"
      }
    },
    {
      "cell_type": "code",
      "source": [
        "class AllConvNet(nn.Module):\n",
        "    def __init__(self, input_size, n_classes=10, **kwargs):\n",
        "        super(AllConvNet, self).__init__()\n",
        "        self.conv1 = nn.Conv2d(input_size, 96, 3, padding=1)\n",
        "        self.bn1 = nn.BatchNorm2d(96)\n",
        "        self.conv2 = nn.Conv2d(96, 96, 3, padding=1)\n",
        "        self.bn2 = nn.BatchNorm2d(96)\n",
        "        self.conv3 = nn.Conv2d(96, 96, 3, padding=1, stride=2)\n",
        "        self.bn3 = nn.BatchNorm2d(96)\n",
        "        self.conv4 = nn.Conv2d(96, 192, 3, padding=1)\n",
        "        self.bn4 = nn.BatchNorm2d(192)\n",
        "        self.conv5 = nn.Conv2d(192, 192, 3, padding=1)\n",
        "        self.bn5 = nn.BatchNorm2d(192)\n",
        "        self.conv6 = nn.Conv2d(192, 192, 3, padding=1, stride=2)\n",
        "        self.bn6 = nn.BatchNorm2d(192)\n",
        "        self.conv7 = nn.Conv2d(192, 192, 3, padding=1)\n",
        "        self.bn7 = nn.BatchNorm2d(192)\n",
        "        self.conv8 = nn.Conv2d(192, 192, 1)\n",
        "        self.bn8 = nn.BatchNorm2d(192)\n",
        "\n",
        "        self.class_conv = nn.Conv2d(192, n_classes, 1)\n",
        "\n",
        "    def forward(self, x):\n",
        "        x_drop = F.dropout(x, .2)\n",
        "        conv1_out = F.relu(self.bn1(self.conv1(x_drop)))\n",
        "        conv2_out = F.relu(self.bn2(self.conv2(conv1_out)))\n",
        "        conv3_out = F.relu(self.bn3(self.conv3(conv2_out)))\n",
        "        conv3_out_drop = F.dropout(conv3_out, .5)\n",
        "        conv4_out = F.relu(self.bn4(self.conv4(conv3_out_drop)))\n",
        "        conv5_out = F.relu(self.bn5(self.conv5(conv4_out)))\n",
        "        conv6_out = F.relu(self.bn6(self.conv6(conv5_out)))\n",
        "        conv6_out_drop = F.dropout(conv6_out, .5)\n",
        "        conv7_out = F.relu(self.bn7(self.conv7(conv6_out_drop)))\n",
        "        conv8_out = F.relu(self.bn8(self.conv8(conv7_out)))\n",
        "\n",
        "        class_out = F.relu(self.class_conv(conv8_out))\n",
        "        pool_out = F.adaptive_avg_pool2d(class_out, 1)\n",
        "        pool_out.squeeze_(-1)\n",
        "        pool_out.squeeze_(-1)\n",
        "        return pool_out\n"
      ],
      "metadata": {
        "id": "9jdT_RCAXd8Q"
      },
      "execution_count": null,
      "outputs": []
    },
    {
      "cell_type": "markdown",
      "metadata": {
        "id": "IioCdEF2tPxX"
      },
      "source": [
        "## 2. Transformacion y carga de datos"
      ]
    },
    {
      "cell_type": "code",
      "source": [
        "# Damos acceso a google drive para guardar modelos\n",
        "\n",
        "drive.mount('/content/gdrive');"
      ],
      "metadata": {
        "id": "jGz-utEpW8hl",
        "colab": {
          "base_uri": "https://localhost:8080/"
        },
        "outputId": "b1c02bb8-0e6e-46ba-cc52-02da7aecc540"
      },
      "execution_count": null,
      "outputs": [
        {
          "output_type": "stream",
          "name": "stdout",
          "text": [
            "Mounted at /content/gdrive\n"
          ]
        }
      ]
    },
    {
      "cell_type": "code",
      "source": [
        "class NormalizeNegativeImages(object):\n",
        "\n",
        "    def __call__(self, item):\n",
        "        min_value_pixel = torch.min(item)\n",
        "        if min_value_pixel < 0:\n",
        "            item -= min_value_pixel\n",
        "            item /= torch.max(item)\n",
        "        return item"
      ],
      "metadata": {
        "id": "uvslvgYq5ExH"
      },
      "execution_count": null,
      "outputs": []
    },
    {
      "cell_type": "code",
      "execution_count": null,
      "metadata": {
        "colab": {
          "base_uri": "https://localhost:8080/"
        },
        "id": "PRNLrPRpx0Wo",
        "outputId": "e5ccb293-9689-4e9a-89c2-710dcf65b2ea"
      },
      "outputs": [
        {
          "output_type": "stream",
          "name": "stdout",
          "text": [
            "Downloading https://www.cs.toronto.edu/~kriz/cifar-10-python.tar.gz to ./cifar10/cifar-10-python.tar.gz\n"
          ]
        },
        {
          "output_type": "stream",
          "name": "stderr",
          "text": [
            "100%|██████████| 170498071/170498071 [00:13<00:00, 12922170.17it/s]\n"
          ]
        },
        {
          "output_type": "stream",
          "name": "stdout",
          "text": [
            "Extracting ./cifar10/cifar-10-python.tar.gz to ./cifar10\n"
          ]
        }
      ],
      "source": [
        "# Semilla para estandarizar resultados\n",
        "torch.manual_seed(2320)\n",
        "\n",
        "cuda = cuda and torch.cuda.is_available()\n",
        "trainset = datasets.CIFAR10(root=dataset_path, train=True, download=True)\n",
        "train_mean = trainset.data.mean(axis=(0, 1, 2)) / 255\n",
        "train_std = trainset.data.std(axis=(0, 1, 2)) / 255\n",
        "\n",
        "# Data normal (32x32)\n",
        "\n",
        "transform_train = transforms.Compose([\n",
        "     transforms.ToTensor(),\n",
        "     transforms.Normalize(train_mean, train_std),\n",
        "     NormalizeNegativeImages(),\n",
        "     transforms.RandomCrop(32, padding=4),\n",
        "     transforms.RandomHorizontalFlip()\n",
        "])\n",
        "\n",
        "transform_test = transforms.Compose([\n",
        "    transforms.ToTensor(),\n",
        "    transforms.Normalize(train_mean, train_std),\n",
        "    NormalizeNegativeImages()\n",
        "])\n",
        "\n",
        "#  transformaciones a 8x8 y de vuelta a 32x32 por bilineal\n",
        "\n",
        "transform_test8x8 = transforms.Compose([\n",
        "    transforms.ToTensor(),\n",
        "    transforms.Normalize(train_mean, train_std),\n",
        "    NormalizeNegativeImages(),\n",
        "    transforms.Resize((8,8)),\n",
        "    transforms.Resize((32,32)),\n",
        "])\n",
        "\n",
        "transform_train8x8 = transforms.Compose([\n",
        "    transforms.ToTensor(),\n",
        "    transforms.Normalize(train_mean, train_std),\n",
        "    NormalizeNegativeImages(),\n",
        "    transforms.Resize((8,8)),\n",
        "    transforms.Resize((32,32)),\n",
        "    transforms.RandomCrop(32, padding=4),\n",
        "    transforms.RandomHorizontalFlip()\n",
        "])\n",
        "\n",
        "# Crearemos transformaciones sin randomizar nada para la resta de imágenes.\n",
        "\n",
        "transform_train_no_random = transforms.Compose([\n",
        "     transforms.ToTensor(),\n",
        "     transforms.Normalize(train_mean, train_std),\n",
        "     NormalizeNegativeImages()\n",
        "])\n",
        "\n",
        "transform_train8x8_no_random = transforms.Compose([\n",
        "    transforms.ToTensor(),\n",
        "    transforms.Normalize(train_mean, train_std),\n",
        "    NormalizeNegativeImages(),\n",
        "    transforms.Resize((8,8)),\n",
        "    transforms.Resize((32,32))\n",
        "])"
      ]
    },
    {
      "cell_type": "code",
      "execution_count": null,
      "metadata": {
        "colab": {
          "base_uri": "https://localhost:8080/"
        },
        "id": "NLklIFWrx0Wo",
        "outputId": "b2ce5408-83f3-447a-f8cd-185fc09ef06d"
      },
      "outputs": [
        {
          "output_type": "stream",
          "name": "stdout",
          "text": [
            "Files already downloaded and verified\n",
            "Files already downloaded and verified\n",
            "Files already downloaded and verified\n",
            "Files already downloaded and verified\n",
            "Files already downloaded and verified\n",
            "Files already downloaded and verified\n"
          ]
        }
      ],
      "source": [
        "kwargs = {'num_workers': 1, 'pin_memory': True} if cuda else {}\n",
        "\n",
        "# Data normal\n",
        "\n",
        "train_loader = torch.utils.data.DataLoader(datasets.CIFAR10(\n",
        "    root=dataset_path, train=True, download=True,\n",
        "    transform=transform_train),\n",
        "    batch_size=train_batch_size, shuffle=True, **kwargs)\n",
        "\n",
        "\n",
        "test_loader = torch.utils.data.DataLoader(\n",
        "    datasets.CIFAR10(root=dataset_path, train=False, download=True,\n",
        "    transform=transform_test),\n",
        "    batch_size=test_batch_size, shuffle=True, **kwargs)\n",
        "\n",
        "# Data de entrenamiento blurreada\n",
        "\n",
        "train_loader_blur = torch.utils.data.DataLoader(datasets.CIFAR10(\n",
        "    root=dataset_path, train=True, download=True,\n",
        "    transform=transform_train8x8),\n",
        "    batch_size=train_batch_size, shuffle=True, **kwargs)\n",
        "\n",
        "test_loader_blur = torch.utils.data.DataLoader(\n",
        "    datasets.CIFAR10(root=dataset_path, train=False, download=True,\n",
        "    transform=transform_test8x8),\n",
        "    batch_size=test_batch_size, shuffle=True, **kwargs)\n",
        "\n",
        "# Data sin random ni data augmentation para mostrar imágenes\n",
        "\n",
        "train_loader_no_random = torch.utils.data.DataLoader(datasets.CIFAR10(\n",
        "    root=dataset_path, train=True, download=True,\n",
        "    transform=transform_test),\n",
        "    batch_size=train_batch_size, shuffle=False, **kwargs)\n",
        "\n",
        "train_loader_blur_no_random = torch.utils.data.DataLoader(datasets.CIFAR10(\n",
        "    root=dataset_path, train=True, download=True,\n",
        "    transform=transform_train8x8_no_random),\n",
        "    batch_size=train_batch_size, shuffle=False, **kwargs)"
      ]
    },
    {
      "cell_type": "code",
      "execution_count": null,
      "metadata": {
        "colab": {
          "base_uri": "https://localhost:8080/",
          "height": 455
        },
        "id": "20q8cKdW4J3e",
        "outputId": "f6140263-7401-4abb-e27f-60ed99411d6d"
      },
      "outputs": [
        {
          "output_type": "stream",
          "name": "stdout",
          "text": [
            "<class 'torch.Tensor'>\n"
          ]
        },
        {
          "output_type": "stream",
          "name": "stderr",
          "text": [
            "/usr/local/lib/python3.10/dist-packages/torchvision/transforms/functional.py:1603: UserWarning: The default value of the antialias parameter of all the resizing transforms (Resize(), RandomResizedCrop(), etc.) will change from None to True in v0.17, in order to be consistent across the PIL and Tensor backends. To suppress this warning, directly pass antialias=True (recommended, future default), antialias=None (current default, which means False for Tensors and True for PIL), or antialias=False (only works on Tensors - PIL will still use antialiasing). This also applies if you are using the inference transforms from the models weights: update the call to weights.transforms(antialias=True).\n",
            "  warnings.warn(\n"
          ]
        },
        {
          "output_type": "stream",
          "name": "stdout",
          "text": [
            "<class 'torch.Tensor'>\n"
          ]
        },
        {
          "output_type": "display_data",
          "data": {
            "text/plain": [
              "<Figure size 800x400 with 2 Axes>"
            ],
            "image/png": "[encoded data removed]"
          },
          "metadata": {}
        }
      ],
      "source": [
        "fig, ax = plt.subplots(1, 2, figsize=(8, 4))\n",
        "loaders = [train_loader_no_random, train_loader_blur_no_random]\n",
        "label = ['normal image', 'blurred image']\n",
        "\n",
        "for ax_index, loader in enumerate(loaders):\n",
        "  for batch_data, batch_labels in loader:\n",
        "    print(type(batch_data[0]))\n",
        "    first_image = batch_data[0].permute(1, 2, 0).numpy()\n",
        "    ax[ax_index].imshow(first_image)\n",
        "    ax[ax_index].set_title(label[ax_index])\n",
        "    break\n",
        "\n",
        "plt.show()"
      ]
    },
    {
      "cell_type": "markdown",
      "metadata": {
        "id": "B3NvyfItyVqR"
      },
      "source": [
        "## 3. Entrenamiento"
      ]
    },
    {
      "cell_type": "code",
      "source": [
        "criterion = nn.CrossEntropyLoss()"
      ],
      "metadata": {
        "id": "6eiVJYCLYzvj"
      },
      "execution_count": null,
      "outputs": []
    },
    {
      "cell_type": "markdown",
      "source": [
        "### 3.1 Funciones auxiliares\n"
      ],
      "metadata": {
        "id": "YNlQPSbfYgp5"
      }
    },
    {
      "cell_type": "code",
      "source": [
        "# Se definen funciones auxiliares\n",
        "\n",
        "def initialize_model():\n",
        "\n",
        "    '''\n",
        "    Initialize a simple AllConvNet(3) and returns the model and all the\n",
        "    needed information to train it.\n",
        "    '''\n",
        "\n",
        "    global cuda\n",
        "    global criterion\n",
        "\n",
        "    model = AllConvNet(3)\n",
        "\n",
        "    if cuda:\n",
        "        model.cuda()\n",
        "\n",
        "    optimizer = optim.SGD(model.parameters(), lr=0.001, momentum=0.9)\n",
        "    scheduler = optim.lr_scheduler.MultiStepLR(\n",
        "                optimizer, milestones=[200, 250, 300],\n",
        "                gamma=0.1)\n",
        "\n",
        "    return model, optimizer, criterion, scheduler\n",
        "\n",
        "\n",
        "def pretty_print(text: str, char='*'):\n",
        "\n",
        "    '''\n",
        "    Prints in a prettier way with more space. You can change the asterisks\n",
        "    if something else is prefered.\n",
        "    '''\n",
        "\n",
        "    n_char = len(text)\n",
        "    print(\n",
        "    f'''\n",
        "    {char * n_char}\n",
        "    {text}\n",
        "    {char * n_char}\n",
        "    ''')\n",
        "\n",
        "\n",
        "def load_pretrained_model(drive_path=None):\n",
        "\n",
        "    '''\n",
        "    Reads the google drive path and load the model into an AllConvNet(3). It loads\n",
        "    the optimizer as well. If no path is given, the function instanciates an\n",
        "    AllConvNet(3) and the necessary classes for the training and testing.\n",
        "    '''\n",
        "\n",
        "    global cuda\n",
        "    global criterion\n",
        "\n",
        "    model = AllConvNet(3)\n",
        "\n",
        "    if cuda:\n",
        "      model.cuda()\n",
        "\n",
        "    optimizer = optim.SGD(model.parameters(), lr=0.001, momentum=0.9)\n",
        "\n",
        "    if drive_path is None:\n",
        "      model_data = {\n",
        "      'pretrained_epochs': 0,\n",
        "      'model_state_dict': -1,\n",
        "      'optimizer_state_dict': -1,\n",
        "      'final_accuracy': 0,\n",
        "      'training_data_dict': {},\n",
        "      'test_data_dict': {}}\n",
        "\n",
        "    else:\n",
        "      model_data = torch.load(drive_path)\n",
        "      model_state_dict = model_data['model_state_dict']\n",
        "      opt_state_dict = model_data['optimizer_state_dict']\n",
        "      model.load_state_dict(model_state_dict)\n",
        "      optimizer.load_state_dict(opt_state_dict)\n",
        "\n",
        "    scheduler = optim.lr_scheduler.MultiStepLR(\n",
        "                optimizer, milestones=[200, 250, 300], gamma=0.1)\n",
        "\n",
        "    return_dict = {'model': model,\n",
        "                   'model_data': model_data,\n",
        "                   'optimizer': optimizer,\n",
        "                   'scheduler': scheduler}\n",
        "\n",
        "    return return_dict\n",
        "\n",
        "\n",
        "def save_training_data(save_dict: dict, acc: int, current_epoch: int,\n",
        "                       total_epochs: int, save_every=10, altered=False):\n",
        "\n",
        "    '''\n",
        "    If the current epoch is a multiple of the a determined number, or is the last\n",
        "    epoch, the function takes an existing dictionary containing the epochs as\n",
        "    keys and the accuracy as value, and adds the acc of the current epoch.\n",
        "    '''\n",
        "\n",
        "    data_type = 'Normal'\n",
        "    if altered:\n",
        "      data_type = 'Altered'\n",
        "\n",
        "    if current_epoch % save_every == 0 or current_epoch == total_epochs:\n",
        "      round_acc = round(acc.item(), 2)\n",
        "      save_dict[f'{current_epoch}'] = round_acc\n",
        "      pretty_print(f'{data_type} Data Saved: ({current_epoch}, {round_acc})', char='-')\n",
        "    return save_dict\n",
        "\n",
        "\n",
        "def save_model(pretrained_epochs, model_state_dict, optimizer_state_dict,\n",
        "               final_accuracy, training_data_dict, test_data_dict,\n",
        "               checkpt_path):\n",
        "\n",
        "    '''\n",
        "    Saves the AllConvNet model with all the imporatant information in the given\n",
        "    drive path.\n",
        "    '''\n",
        "\n",
        "    checkpoint = {\n",
        "      'pretrained_epochs': pretrained_epochs,\n",
        "      'model_state_dict': model_state_dict,\n",
        "      'optimizer_state_dict': optimizer_state_dict,\n",
        "      'final_accuracy': round(final_accuracy, 2),\n",
        "      'training_data_dict': training_data_dict,\n",
        "      'test_data_dict': test_data_dict}\n",
        "\n",
        "    torch.save(checkpoint, checkpt_path)\n",
        "\n",
        "\n",
        "def save_plot(path: str, training_data: dict, altered_test_data: dict,\n",
        "              altered_begin: int, blur=False):\n",
        "\n",
        "    '''\n",
        "    Generates a graph of epochs vs accuracies by using the keys and values stored\n",
        "    in a dictionary. Then, the plot is save into the given drive path.\n",
        "    '''\n",
        "\n",
        "    epocas = list(training_data.keys())\n",
        "    accuracies = list(training_data.values())\n",
        "\n",
        "    title_text = f'Epochs vs Accuracies (Trained with HF images since epoch {altered_begin} for 40 epochs)'\n",
        "    train_stuff = 'High Frecuency'\n",
        "\n",
        "    if blur:\n",
        "        title_text = f'Epochs vs Accuracies (Trained with blurred images since epoch {altered_begin} for 40 epochs)'\n",
        "        train_stuff = 'Blurred'\n",
        "\n",
        "    ax = plt.figure(figsize=(12,6))\n",
        "    plt.plot(epocas, accuracies, label=f'Trained with {train_stuff} Images')\n",
        "    plt.grid()\n",
        "    plt.title(title_text)\n",
        "    plt.xlabel('Epochs')\n",
        "    plt.ylabel('Accuracies')\n",
        "\n",
        "    last_acc, last_ep = accuracies[-1], epocas[-1]\n",
        "    text_upper_left = f'Last {train_stuff} epoch: {last_ep}\\nLast {train_stuff} acc: {last_acc:.2f}'\n",
        "    plt.text(0.02, 0.77, text_upper_left, transform=plt.gca().transAxes,\n",
        "            bbox=dict(facecolor='lightgray', edgecolor='lightgray',\n",
        "                      boxstyle='round,pad=0.5', alpha=0.5))\n",
        "\n",
        "    # Añadir los cuadros de texto sobre épocas múltiplos de 40.\n",
        "\n",
        "    for ep, acc in zip(epocas, accuracies):\n",
        "        if int(ep) % 40 == 0:\n",
        "            text = f'Epoch: {ep}\\nAcc: {acc:.2f}'\n",
        "            plt.annotate(text, (ep, acc), textcoords=\"offset points\", xytext=(0,-8),\n",
        "                         ha='center', va='bottom', bbox=dict(facecolor='lightgray',\n",
        "                         edgecolor='lightgray', boxstyle='round,pad=0.5', alpha=0.5))\n",
        "\n",
        "    # Plotear el modelo entrenado con imágenes normales.\n",
        "\n",
        "    std_text = f'/content/gdrive/MyDrive/Christ Diego Mircea/resultados experimentos'\n",
        "    normal_image_training_path = std_text + '/allconv_noblur_checkpts/checkpoint_epoch_360.pt'\n",
        "    normal_images_data = load_pretrained_model(normal_image_training_path)\n",
        "    model_data_normal = normal_images_data['model_data']\n",
        "    train_data_normal = model_data_normal['training_data_dict']\n",
        "\n",
        "    epochs_normal = list(train_data_normal.keys())\n",
        "    accs_normal = list(train_data_normal.values())\n",
        "    plot_length = len(epocas)\n",
        "    plt.plot(epochs_normal[:plot_length], accs_normal[:plot_length],\n",
        "              color='lightgreen', linestyle='--', marker='o',\n",
        "              label='Normal images training')\n",
        "\n",
        "    # Plotear accuaracy del modelo para clasificar el altered loader\n",
        "\n",
        "    altered_epochs_test = list(altered_test_data.keys())\n",
        "    altered_epochs_acc = list(altered_test_data.values())\n",
        "    plt.plot(altered_epochs_test, altered_epochs_acc,\n",
        "             color='lightcoral', linestyle='--', marker='o',\n",
        "             label=f'Test with {train_stuff} Images')\n",
        "\n",
        "\n",
        "    plt.scatter(epocas, accuracies, color='orange')\n",
        "    plt.legend()\n",
        "    plt.tight_layout()\n",
        "    plt.savefig(path)"
      ],
      "metadata": {
        "id": "MYigfKowVOXs"
      },
      "execution_count": null,
      "outputs": []
    },
    {
      "cell_type": "code",
      "execution_count": null,
      "metadata": {
        "id": "vMTAjIebycPa"
      },
      "outputs": [],
      "source": [
        "def train(epoch: int, loader: torch.utils.data.DataLoader,\n",
        "          model: AllConvNet, optimizer):\n",
        "\n",
        "    global criterion\n",
        "    global cuda\n",
        "\n",
        "    model.train()\n",
        "    for batch_idx, (data, target) in enumerate(loader):\n",
        "        if cuda:\n",
        "            data, target = data.cuda(), target.cuda()\n",
        "        data, target = Variable(data), Variable(target)\n",
        "\n",
        "        optimizer.zero_grad()\n",
        "        output = model(data)\n",
        "        loss = criterion(output, target)\n",
        "        loss.backward()\n",
        "        optimizer.step()\n",
        "\n",
        "        if batch_idx % 100 == 0:\n",
        "          print('Train epoch: {} [{}/{} ({:.0f}%)]\\tLoss: {:.6f}'.format(\n",
        "              epoch, batch_idx * len(data), len(loader.dataset),\n",
        "              100. * batch_idx / len(loader), loss.item()))\n",
        "\n",
        "\n",
        "def test(epoch: int, best_loss: int, best_epoch: int,\n",
        "         test_loader: torch.utils.data.DataLoader, model: AllConvNet,\n",
        "         show_altered=False):\n",
        "\n",
        "    global criterion\n",
        "    global cuda\n",
        "\n",
        "    model.eval()\n",
        "    test_loss = 0\n",
        "    correct = 0\n",
        "    for data, target in test_loader:\n",
        "        if cuda:\n",
        "            data, target = data.cuda(), target.cuda()\n",
        "        data, target = Variable(data), Variable(target)\n",
        "\n",
        "        output = model(data)\n",
        "        # sum up batch loss\n",
        "        test_loss += criterion(output, target).item()\n",
        "        # get the index of the max log-probability\n",
        "        pred = output.data.max(1, keepdim=True)[1]\n",
        "        correct += pred.eq(target.data.view_as(pred)).long().cpu().sum()\n",
        "        acc = 100 * correct / len(test_loader.dataset)\n",
        "\n",
        "    test_loss /= len(test_loader.dataset)\n",
        "\n",
        "    altered_text = 'Normal'\n",
        "    if show_altered:\n",
        "        altered_text = 'Altered'\n",
        "\n",
        "    print(\n",
        "        '\\n{} Test set: Average loss: {:.4f}, Accuracy: {} ({:.0f}%)\\n'.format(\n",
        "            altered_text, test_loss, acc, 100. * correct /\n",
        "            len(test_loader.dataset)))\n",
        "\n",
        "\n",
        "    if test_loss < best_loss:\n",
        "        best_epoch = epoch\n",
        "        best_loss = test_loss\n",
        "\n",
        "    return best_loss, best_epoch, acc"
      ]
    },
    {
      "cell_type": "markdown",
      "source": [
        "### 3.2 Definición del modelo"
      ],
      "metadata": {
        "id": "mOinFQbbYmH5"
      }
    },
    {
      "cell_type": "code",
      "execution_count": null,
      "metadata": {
        "id": "IeFf_Fw20xao"
      },
      "outputs": [],
      "source": [
        "def begin_model_easy(normal_loader: torch.utils.data.DataLoader,\n",
        "                     altered_loader: torch.utils.data.DataLoader,\n",
        "                     normal_test: torch.utils.data.DataLoader,\n",
        "                     altered_test: torch.utils.data.DataLoader,\n",
        "                     normal_init=0, altered_epochs=40, after_altered=160,\n",
        "                     model_path=None):\n",
        "\n",
        "  '''\n",
        "  Trains the model by using the two given loaders (altered and normal), in the\n",
        "  periods indicated. If no model path is given, then an AllConvNet(3) is\n",
        "  instanciated. Parameters related to the number of epochs to train with each\n",
        "  dataset are set to run as they are in Achille et al. experiment.\n",
        "  '''\n",
        "\n",
        "  criterion = nn.CrossEntropyLoss()\n",
        "  loader_type = torch.utils.data.dataloader.DataLoader\n",
        "  best_loss = float(\"inf\")\n",
        "  best_epoch = -1\n",
        "  num_parameters_not_ok = (normal_init < 0 or altered_epochs < 0 or after_altered < 0)\n",
        "  loaders_not_ok = (altered_loader is loader_type or normal_loader is loader_type)\n",
        "\n",
        "  if num_parameters_not_ok or loaders_not_ok:\n",
        "    raise Exception(\"There are Inconsistencies in the parameters\")\n",
        "\n",
        "  else:\n",
        "    packed_data = load_pretrained_model(drive_path=model_path)\n",
        "    model = packed_data['model']\n",
        "    model_data = packed_data['model_data']\n",
        "    scheduler = packed_data['scheduler']\n",
        "    optimizer = packed_data['optimizer']\n",
        "    training_data_dict = model_data['training_data_dict']\n",
        "    test_data_dict = model_data.get('test_data_dict', {})\n",
        "    pretrained_epochs = model_data['pretrained_epochs']\n",
        "    orig_acc = model_data['final_accuracy']\n",
        "    total_epochs = pretrained_epochs + normal_init + altered_epochs + after_altered\n",
        "    training_begins_from = pretrained_epochs\n",
        "\n",
        "    if training_begins_from == 0:\n",
        "      training_begins_from = -1\n",
        "\n",
        "    if normal_init == 0:\n",
        "\n",
        "      pretty_print(f'Begin training with altered images')\n",
        "      pretty_print(f\"Accuracy before training: {orig_acc}\", ' ')\n",
        "      for epoch in range(training_begins_from + 1,\n",
        "                         pretrained_epochs + altered_epochs + 1):\n",
        "        scheduler.step()\n",
        "        train(epoch, altered_loader, model, optimizer)\n",
        "\n",
        "        best_loss, best_epoch, acc = test(epoch, best_loss, best_epoch,\n",
        "                                          normal_test, model)\n",
        "\n",
        "        alt_best_loss, alt_best_epoch, alt_acc = test(epoch, best_loss,\n",
        "                                                      best_epoch, altered_test,\n",
        "                                                      model)\n",
        "\n",
        "        training_data_dict = save_training_data(save_dict=training_data_dict,\n",
        "                                                acc=acc, current_epoch=epoch,\n",
        "                                                total_epochs=total_epochs)\n",
        "\n",
        "        test_data_dict = save_training_data(save_dict=test_data_dict,\n",
        "                                            acc=alt_acc, current_epoch=epoch,\n",
        "                                            total_epochs=total_epochs,\n",
        "                                            altered=True)\n",
        "\n",
        "      pretty_print('Altered image training finished. Training with normal images')\n",
        "      for epoch in range(pretrained_epochs + altered_epochs + 1,\n",
        "                         pretrained_epochs + altered_epochs + after_altered + 1):\n",
        "        scheduler.step()\n",
        "        train(epoch, normal_loader, model, optimizer)\n",
        "\n",
        "        best_loss, best_epoch, acc = test(epoch, best_loss, best_epoch,\n",
        "                                          normal_test, model)\n",
        "\n",
        "        alt_best_loss, alt_best_epoch, alt_acc = test(epoch, best_loss,\n",
        "                                                      best_epoch, altered_test,\n",
        "                                                      model)\n",
        "\n",
        "        training_data_dict = save_training_data(save_dict=training_data_dict,\n",
        "                                                acc=acc, current_epoch=epoch,\n",
        "                                                total_epochs=total_epochs)\n",
        "\n",
        "        test_data_dict = save_training_data(save_dict=test_data_dict,\n",
        "                                            acc=alt_acc, current_epoch=epoch,\n",
        "                                            total_epochs=total_epochs,\n",
        "                                            altered=True)\n",
        "\n",
        "    elif normal_init != 0:\n",
        "\n",
        "      pretty_print(\"Begin training with normal images\")\n",
        "      pretty_print(f\"Accuracy before training: {orig_acc}\", ' ')\n",
        "\n",
        "      for epoch in range(training_begins_from + 1,\n",
        "                         pretrained_epochs + normal_init + 1):\n",
        "        scheduler.step()\n",
        "        train(epoch, normal_loader, model, optimizer)\n",
        "\n",
        "        best_loss, best_epoch, acc = test(epoch, best_loss, best_epoch,\n",
        "                                          normal_test, model)\n",
        "\n",
        "        alt_best_loss, alt_best_epoch, alt_acc = test(epoch, best_loss,\n",
        "                                                      best_epoch, altered_test,\n",
        "                                                      model)\n",
        "\n",
        "        training_data_dict = save_training_data(save_dict=training_data_dict,\n",
        "                                                acc=acc, current_epoch=epoch,\n",
        "                                                total_epochs=total_epochs)\n",
        "\n",
        "        test_data_dict = save_training_data(save_dict=test_data_dict,\n",
        "                                            acc=alt_acc, current_epoch=epoch,\n",
        "                                            total_epochs=total_epochs,\n",
        "                                            altered=True)\n",
        "\n",
        "      pretty_print(\"Begin training with altered images\")\n",
        "\n",
        "      for epoch in range(pretrained_epochs + normal_init + 1,\n",
        "                         pretrained_epochs + normal_init + altered_epochs + 1):\n",
        "        scheduler.step()\n",
        "        train(epoch, altered_loader, model, optimizer)\n",
        "\n",
        "        best_loss, best_epoch, acc = test(epoch, best_loss, best_epoch,\n",
        "                                          normal_test, model)\n",
        "\n",
        "        alt_best_loss, alt_best_epoch, alt_acc = test(epoch, best_loss,\n",
        "                                                      best_epoch, altered_test,\n",
        "                                                      model)\n",
        "\n",
        "        training_data_dict = save_training_data(save_dict=training_data_dict,\n",
        "                                                acc=acc, current_epoch=epoch,\n",
        "                                                total_epochs=total_epochs)\n",
        "\n",
        "        test_data_dict = save_training_data(save_dict=test_data_dict,\n",
        "                                            acc=alt_acc, current_epoch=epoch,\n",
        "                                            total_epochs=total_epochs,\n",
        "                                            altered=True)\n",
        "\n",
        "      pretty_print('Altered image training finished. Training with normal images')\n",
        "\n",
        "      for epoch in range(pretrained_epochs + normal_init + altered_epochs + 1,\n",
        "                         total_epochs + 1):\n",
        "        scheduler.step()\n",
        "        train(epoch, normal_loader, model, optimizer)\n",
        "        best_loss, best_epoch, acc = test(epoch, best_loss, best_epoch,\n",
        "                                          normal_test, model)\n",
        "        alt_best_loss, alt_best_epoch, alt_acc = test(epoch, best_loss,\n",
        "                                                      best_epoch, altered_test,\n",
        "                                                      model)\n",
        "        training_data_dict = save_training_data(save_dict=training_data_dict,\n",
        "                                                acc=acc, current_epoch=epoch,\n",
        "                                                total_epochs=total_epochs)\n",
        "\n",
        "        test_data_dict = save_training_data(save_dict=test_data_dict,\n",
        "                                            acc=alt_acc, current_epoch=epoch,\n",
        "                                            total_epochs=total_epochs,\n",
        "                                            altered=True)\n",
        "\n",
        "  pretty_print(f'final accuracy: {acc.item()}')\n",
        "\n",
        "  dict_return = {'model': model,\n",
        "                 'optimizer': optimizer,\n",
        "                 'final_accuracy': round(acc.item(), 2),\n",
        "                 'training_data_dict': training_data_dict,\n",
        "                 'test_data_dict': test_data_dict,\n",
        "                 'model_data': model_data}\n",
        "\n",
        "  return dict_return"
      ]
    },
    {
      "cell_type": "markdown",
      "metadata": {
        "id": "vBA2kT8xCKoC"
      },
      "source": [
        "# Experimento 1 de Achille et al.\n",
        "\n",
        "Vamos a entrenar con blur por $t_0$ epocas, con $t_0\\in \\{0, 20, 40, ... , 140\\}$ y sucesivamente entrenamos por $160$ epocas sin blur.\n",
        "\n",
        "Para ahorrar calculos,\n",
        "* primero entrenamos modelo con blur por $140$ epocas y con un checkpoint cada $20$ epocas,\n",
        "* sucesivamente entrenamos desde cada checkpoint por $160$ epocas sin blur, (se podra' hacer en paralelo?).\n",
        "\n"
      ]
    },
    {
      "cell_type": "markdown",
      "metadata": {
        "id": "0CYFG97zMbsb"
      },
      "source": [
        "## 4. Entrenar modelos"
      ]
    },
    {
      "cell_type": "markdown",
      "metadata": {
        "id": "RtOEnPiPU24a"
      },
      "source": [
        "En primer lugar, entrenamos el modelo que tiene las primeras 40 épocas con blur, y las 120 restantes sin blur. Despues de eso, se entrenarán con blur los modelos normales preentrenados, extraidos de MyDrive."
      ]
    },
    {
      "cell_type": "markdown",
      "source": [
        "### 4.1 modelo partiendo en 0"
      ],
      "metadata": {
        "id": "r3osMWqkGLgT"
      }
    },
    {
      "cell_type": "code",
      "execution_count": null,
      "metadata": {
        "id": "FPrdS5IgEkC1",
        "colab": {
          "base_uri": "https://localhost:8080/",
          "height": 1000
        },
        "outputId": "ac45a0fc-da0a-4b8d-e39c-411b132c5da7"
      },
      "outputs": [
        {
          "output_type": "stream",
          "name": "stdout",
          "text": [
            "\n",
            "    **********************************\n",
            "    Begin training with altered images\n",
            "    **********************************\n",
            "    \n",
            "\n",
            "                               \n",
            "    Accuracy before training: 0\n",
            "                               \n",
            "    \n"
          ]
        },
        {
          "output_type": "stream",
          "name": "stderr",
          "text": [
            "/usr/local/lib/python3.10/dist-packages/torch/optim/lr_scheduler.py:136: UserWarning: Detected call of `lr_scheduler.step()` before `optimizer.step()`. In PyTorch 1.1.0 and later, you should call them in the opposite order: `optimizer.step()` before `lr_scheduler.step()`.  Failure to do this will result in PyTorch skipping the first value of the learning rate schedule. See more details at https://pytorch.org/docs/stable/optim.html#how-to-adjust-learning-rate\n",
            "  warnings.warn(\"Detected call of `lr_scheduler.step()` before `optimizer.step()`. \"\n",
            "/usr/local/lib/python3.10/dist-packages/torchvision/transforms/functional.py:1603: UserWarning: The default value of the antialias parameter of all the resizing transforms (Resize(), RandomResizedCrop(), etc.) will change from None to True in v0.17, in order to be consistent across the PIL and Tensor backends. To suppress this warning, directly pass antialias=True (recommended, future default), antialias=None (current default, which means False for Tensors and True for PIL), or antialias=False (only works on Tensors - PIL will still use antialiasing). This also applies if you are using the inference transforms from the models weights: update the call to weights.transforms(antialias=True).\n",
            "  warnings.warn(\n"
          ]
        },
        {
          "output_type": "stream",
          "name": "stdout",
          "text": [
            "Train epoch: 0 [0/50000 (0%)]\tLoss: 2.305534\n",
            "Train epoch: 0 [3200/50000 (6%)]\tLoss: 2.303848\n",
            "Train epoch: 0 [6400/50000 (13%)]\tLoss: 2.300708\n",
            "Train epoch: 0 [9600/50000 (19%)]\tLoss: 2.305184\n",
            "Train epoch: 0 [12800/50000 (26%)]\tLoss: 2.293713\n",
            "Train epoch: 0 [16000/50000 (32%)]\tLoss: 2.299305\n",
            "Train epoch: 0 [19200/50000 (38%)]\tLoss: 2.307136\n",
            "Train epoch: 0 [22400/50000 (45%)]\tLoss: 2.303616\n",
            "Train epoch: 0 [25600/50000 (51%)]\tLoss: 2.301422\n",
            "Train epoch: 0 [28800/50000 (58%)]\tLoss: 2.305568\n",
            "Train epoch: 0 [32000/50000 (64%)]\tLoss: 2.300459\n",
            "Train epoch: 0 [35200/50000 (70%)]\tLoss: 2.298089\n",
            "Train epoch: 0 [38400/50000 (77%)]\tLoss: 2.303315\n",
            "Train epoch: 0 [41600/50000 (83%)]\tLoss: 2.304363\n",
            "Train epoch: 0 [44800/50000 (90%)]\tLoss: 2.303545\n",
            "Train epoch: 0 [48000/50000 (96%)]\tLoss: 2.300589\n",
            "\n",
            "Test set: Average loss: 0.0187, Accuracy: 10.0 (10%)\n",
            "\n"
          ]
        },
        {
          "output_type": "stream",
          "name": "stderr",
          "text": [
            "/usr/local/lib/python3.10/dist-packages/torchvision/transforms/functional.py:1603: UserWarning: The default value of the antialias parameter of all the resizing transforms (Resize(), RandomResizedCrop(), etc.) will change from None to True in v0.17, in order to be consistent across the PIL and Tensor backends. To suppress this warning, directly pass antialias=True (recommended, future default), antialias=None (current default, which means False for Tensors and True for PIL), or antialias=False (only works on Tensors - PIL will still use antialiasing). This also applies if you are using the inference transforms from the models weights: update the call to weights.transforms(antialias=True).\n",
            "  warnings.warn(\n"
          ]
        },
        {
          "output_type": "stream",
          "name": "stdout",
          "text": [
            "\n",
            "Test set: Average loss: 0.0187, Accuracy: 10.0 (10%)\n",
            "\n",
            "\n",
            "    ----------------------------\n",
            "    Normal Data Saved: (0, 10.0)\n",
            "    ----------------------------\n",
            "    \n",
            "\n",
            "    -----------------------------\n",
            "    Altered Data Saved: (0, 10.0)\n",
            "    -----------------------------\n",
            "    \n"
          ]
        },
        {
          "output_type": "stream",
          "name": "stderr",
          "text": [
            "/usr/local/lib/python3.10/dist-packages/torchvision/transforms/functional.py:1603: UserWarning: The default value of the antialias parameter of all the resizing transforms (Resize(), RandomResizedCrop(), etc.) will change from None to True in v0.17, in order to be consistent across the PIL and Tensor backends. To suppress this warning, directly pass antialias=True (recommended, future default), antialias=None (current default, which means False for Tensors and True for PIL), or antialias=False (only works on Tensors - PIL will still use antialiasing). This also applies if you are using the inference transforms from the models weights: update the call to weights.transforms(antialias=True).\n",
            "  warnings.warn(\n"
          ]
        },
        {
          "output_type": "stream",
          "name": "stdout",
          "text": [
            "Train epoch: 1 [0/50000 (0%)]\tLoss: 2.303844\n",
            "Train epoch: 1 [3200/50000 (6%)]\tLoss: 2.303416\n",
            "Train epoch: 1 [6400/50000 (13%)]\tLoss: 2.303267\n",
            "Train epoch: 1 [9600/50000 (19%)]\tLoss: 2.302592\n",
            "Train epoch: 1 [12800/50000 (26%)]\tLoss: 2.302582\n",
            "Train epoch: 1 [16000/50000 (32%)]\tLoss: 2.302603\n",
            "Train epoch: 1 [19200/50000 (38%)]\tLoss: 2.302581\n",
            "Train epoch: 1 [22400/50000 (45%)]\tLoss: 2.302596\n",
            "Train epoch: 1 [25600/50000 (51%)]\tLoss: 2.302585\n",
            "Train epoch: 1 [28800/50000 (58%)]\tLoss: 2.302586\n",
            "Train epoch: 1 [32000/50000 (64%)]\tLoss: 2.302585\n",
            "Train epoch: 1 [35200/50000 (70%)]\tLoss: 2.302592\n",
            "Train epoch: 1 [38400/50000 (77%)]\tLoss: 2.302581\n",
            "Train epoch: 1 [41600/50000 (83%)]\tLoss: 2.302577\n",
            "Train epoch: 1 [44800/50000 (90%)]\tLoss: 2.302501\n",
            "Train epoch: 1 [48000/50000 (96%)]\tLoss: 2.302666\n",
            "\n",
            "Test set: Average loss: 0.0187, Accuracy: 10.0 (10%)\n",
            "\n"
          ]
        },
        {
          "output_type": "stream",
          "name": "stderr",
          "text": [
            "/usr/local/lib/python3.10/dist-packages/torchvision/transforms/functional.py:1603: UserWarning: The default value of the antialias parameter of all the resizing transforms (Resize(), RandomResizedCrop(), etc.) will change from None to True in v0.17, in order to be consistent across the PIL and Tensor backends. To suppress this warning, directly pass antialias=True (recommended, future default), antialias=None (current default, which means False for Tensors and True for PIL), or antialias=False (only works on Tensors - PIL will still use antialiasing). This also applies if you are using the inference transforms from the models weights: update the call to weights.transforms(antialias=True).\n",
            "  warnings.warn(\n"
          ]
        },
        {
          "output_type": "stream",
          "name": "stdout",
          "text": [
            "\n",
            "Test set: Average loss: 0.0187, Accuracy: 10.0 (10%)\n",
            "\n"
          ]
        },
        {
          "output_type": "stream",
          "name": "stderr",
          "text": [
            "/usr/local/lib/python3.10/dist-packages/torchvision/transforms/functional.py:1603: UserWarning: The default value of the antialias parameter of all the resizing transforms (Resize(), RandomResizedCrop(), etc.) will change from None to True in v0.17, in order to be consistent across the PIL and Tensor backends. To suppress this warning, directly pass antialias=True (recommended, future default), antialias=None (current default, which means False for Tensors and True for PIL), or antialias=False (only works on Tensors - PIL will still use antialiasing). This also applies if you are using the inference transforms from the models weights: update the call to weights.transforms(antialias=True).\n",
            "  warnings.warn(\n"
          ]
        },
        {
          "output_type": "stream",
          "name": "stdout",
          "text": [
            "Train epoch: 2 [0/50000 (0%)]\tLoss: 2.302078\n",
            "Train epoch: 2 [3200/50000 (6%)]\tLoss: 2.302730\n",
            "Train epoch: 2 [6400/50000 (13%)]\tLoss: 2.301646\n",
            "Train epoch: 2 [9600/50000 (19%)]\tLoss: 2.303118\n",
            "Train epoch: 2 [12800/50000 (26%)]\tLoss: 2.302661\n",
            "Train epoch: 2 [16000/50000 (32%)]\tLoss: 2.302268\n",
            "Train epoch: 2 [19200/50000 (38%)]\tLoss: 2.302741\n",
            "Train epoch: 2 [22400/50000 (45%)]\tLoss: 2.303669\n",
            "Train epoch: 2 [25600/50000 (51%)]\tLoss: 2.302045\n",
            "Train epoch: 2 [28800/50000 (58%)]\tLoss: 2.303153\n",
            "Train epoch: 2 [32000/50000 (64%)]\tLoss: 2.302609\n",
            "Train epoch: 2 [35200/50000 (70%)]\tLoss: 2.301540\n",
            "Train epoch: 2 [38400/50000 (77%)]\tLoss: 2.302600\n",
            "Train epoch: 2 [41600/50000 (83%)]\tLoss: 2.302580\n",
            "Train epoch: 2 [44800/50000 (90%)]\tLoss: 2.302578\n",
            "Train epoch: 2 [48000/50000 (96%)]\tLoss: 2.302218\n",
            "\n",
            "Test set: Average loss: 0.0187, Accuracy: 10.0 (10%)\n",
            "\n"
          ]
        },
        {
          "output_type": "stream",
          "name": "stderr",
          "text": [
            "/usr/local/lib/python3.10/dist-packages/torchvision/transforms/functional.py:1603: UserWarning: The default value of the antialias parameter of all the resizing transforms (Resize(), RandomResizedCrop(), etc.) will change from None to True in v0.17, in order to be consistent across the PIL and Tensor backends. To suppress this warning, directly pass antialias=True (recommended, future default), antialias=None (current default, which means False for Tensors and True for PIL), or antialias=False (only works on Tensors - PIL will still use antialiasing). This also applies if you are using the inference transforms from the models weights: update the call to weights.transforms(antialias=True).\n",
            "  warnings.warn(\n"
          ]
        },
        {
          "output_type": "stream",
          "name": "stdout",
          "text": [
            "\n",
            "Test set: Average loss: 0.0187, Accuracy: 10.0 (10%)\n",
            "\n"
          ]
        },
        {
          "output_type": "stream",
          "name": "stderr",
          "text": [
            "/usr/local/lib/python3.10/dist-packages/torchvision/transforms/functional.py:1603: UserWarning: The default value of the antialias parameter of all the resizing transforms (Resize(), RandomResizedCrop(), etc.) will change from None to True in v0.17, in order to be consistent across the PIL and Tensor backends. To suppress this warning, directly pass antialias=True (recommended, future default), antialias=None (current default, which means False for Tensors and True for PIL), or antialias=False (only works on Tensors - PIL will still use antialiasing). This also applies if you are using the inference transforms from the models weights: update the call to weights.transforms(antialias=True).\n",
            "  warnings.warn(\n"
          ]
        },
        {
          "output_type": "stream",
          "name": "stdout",
          "text": [
            "Train epoch: 3 [0/50000 (0%)]\tLoss: 2.302886\n",
            "Train epoch: 3 [3200/50000 (6%)]\tLoss: 2.302224\n",
            "Train epoch: 3 [6400/50000 (13%)]\tLoss: 2.303151\n",
            "Train epoch: 3 [9600/50000 (19%)]\tLoss: 2.302169\n",
            "Train epoch: 3 [12800/50000 (26%)]\tLoss: 2.303895\n",
            "Train epoch: 3 [16000/50000 (32%)]\tLoss: 2.302580\n",
            "Train epoch: 3 [19200/50000 (38%)]\tLoss: 2.302596\n",
            "Train epoch: 3 [22400/50000 (45%)]\tLoss: 2.302606\n",
            "Train epoch: 3 [25600/50000 (51%)]\tLoss: 2.302586\n",
            "Train epoch: 3 [28800/50000 (58%)]\tLoss: 2.302351\n",
            "Train epoch: 3 [32000/50000 (64%)]\tLoss: 2.302143\n",
            "Train epoch: 3 [35200/50000 (70%)]\tLoss: 2.302577\n",
            "Train epoch: 3 [38400/50000 (77%)]\tLoss: 2.302604\n",
            "Train epoch: 3 [41600/50000 (83%)]\tLoss: 2.302659\n",
            "Train epoch: 3 [44800/50000 (90%)]\tLoss: 2.302643\n",
            "Train epoch: 3 [48000/50000 (96%)]\tLoss: 2.302633\n",
            "\n",
            "Test set: Average loss: 0.0187, Accuracy: 10.020000457763672 (10%)\n",
            "\n"
          ]
        },
        {
          "output_type": "stream",
          "name": "stderr",
          "text": [
            "/usr/local/lib/python3.10/dist-packages/torchvision/transforms/functional.py:1603: UserWarning: The default value of the antialias parameter of all the resizing transforms (Resize(), RandomResizedCrop(), etc.) will change from None to True in v0.17, in order to be consistent across the PIL and Tensor backends. To suppress this warning, directly pass antialias=True (recommended, future default), antialias=None (current default, which means False for Tensors and True for PIL), or antialias=False (only works on Tensors - PIL will still use antialiasing). This also applies if you are using the inference transforms from the models weights: update the call to weights.transforms(antialias=True).\n",
            "  warnings.warn(\n"
          ]
        },
        {
          "output_type": "stream",
          "name": "stdout",
          "text": [
            "\n",
            "Test set: Average loss: 0.0187, Accuracy: 10.020000457763672 (10%)\n",
            "\n"
          ]
        },
        {
          "output_type": "stream",
          "name": "stderr",
          "text": [
            "/usr/local/lib/python3.10/dist-packages/torchvision/transforms/functional.py:1603: UserWarning: The default value of the antialias parameter of all the resizing transforms (Resize(), RandomResizedCrop(), etc.) will change from None to True in v0.17, in order to be consistent across the PIL and Tensor backends. To suppress this warning, directly pass antialias=True (recommended, future default), antialias=None (current default, which means False for Tensors and True for PIL), or antialias=False (only works on Tensors - PIL will still use antialiasing). This also applies if you are using the inference transforms from the models weights: update the call to weights.transforms(antialias=True).\n",
            "  warnings.warn(\n"
          ]
        },
        {
          "output_type": "stream",
          "name": "stdout",
          "text": [
            "Train epoch: 4 [0/50000 (0%)]\tLoss: 2.302605\n",
            "Train epoch: 4 [3200/50000 (6%)]\tLoss: 2.302577\n",
            "Train epoch: 4 [6400/50000 (13%)]\tLoss: 2.302500\n",
            "Train epoch: 4 [9600/50000 (19%)]\tLoss: 2.304066\n",
            "Train epoch: 4 [12800/50000 (26%)]\tLoss: 2.303947\n",
            "Train epoch: 4 [16000/50000 (32%)]\tLoss: 2.303140\n",
            "Train epoch: 4 [19200/50000 (38%)]\tLoss: 2.302625\n",
            "Train epoch: 4 [22400/50000 (45%)]\tLoss: 2.302388\n",
            "Train epoch: 4 [25600/50000 (51%)]\tLoss: 2.301100\n",
            "Train epoch: 4 [28800/50000 (58%)]\tLoss: 2.302736\n",
            "Train epoch: 4 [32000/50000 (64%)]\tLoss: 2.300581\n",
            "Train epoch: 4 [35200/50000 (70%)]\tLoss: 2.302683\n",
            "Train epoch: 4 [38400/50000 (77%)]\tLoss: 2.303005\n",
            "Train epoch: 4 [41600/50000 (83%)]\tLoss: 2.302767\n",
            "Train epoch: 4 [44800/50000 (90%)]\tLoss: 2.302575\n",
            "Train epoch: 4 [48000/50000 (96%)]\tLoss: 2.302575\n",
            "\n",
            "Test set: Average loss: 0.0187, Accuracy: 10.229999542236328 (10%)\n",
            "\n"
          ]
        },
        {
          "output_type": "stream",
          "name": "stderr",
          "text": [
            "/usr/local/lib/python3.10/dist-packages/torchvision/transforms/functional.py:1603: UserWarning: The default value of the antialias parameter of all the resizing transforms (Resize(), RandomResizedCrop(), etc.) will change from None to True in v0.17, in order to be consistent across the PIL and Tensor backends. To suppress this warning, directly pass antialias=True (recommended, future default), antialias=None (current default, which means False for Tensors and True for PIL), or antialias=False (only works on Tensors - PIL will still use antialiasing). This also applies if you are using the inference transforms from the models weights: update the call to weights.transforms(antialias=True).\n",
            "  warnings.warn(\n"
          ]
        },
        {
          "output_type": "stream",
          "name": "stdout",
          "text": [
            "\n",
            "Test set: Average loss: 0.0187, Accuracy: 10.229999542236328 (10%)\n",
            "\n"
          ]
        },
        {
          "output_type": "stream",
          "name": "stderr",
          "text": [
            "/usr/local/lib/python3.10/dist-packages/torchvision/transforms/functional.py:1603: UserWarning: The default value of the antialias parameter of all the resizing transforms (Resize(), RandomResizedCrop(), etc.) will change from None to True in v0.17, in order to be consistent across the PIL and Tensor backends. To suppress this warning, directly pass antialias=True (recommended, future default), antialias=None (current default, which means False for Tensors and True for PIL), or antialias=False (only works on Tensors - PIL will still use antialiasing). This also applies if you are using the inference transforms from the models weights: update the call to weights.transforms(antialias=True).\n",
            "  warnings.warn(\n"
          ]
        },
        {
          "output_type": "stream",
          "name": "stdout",
          "text": [
            "Train epoch: 5 [0/50000 (0%)]\tLoss: 2.302594\n",
            "Train epoch: 5 [3200/50000 (6%)]\tLoss: 2.302206\n",
            "Train epoch: 5 [6400/50000 (13%)]\tLoss: 2.303463\n",
            "Train epoch: 5 [9600/50000 (19%)]\tLoss: 2.301873\n",
            "Train epoch: 5 [12800/50000 (26%)]\tLoss: 2.302582\n",
            "Train epoch: 5 [16000/50000 (32%)]\tLoss: 2.302548\n",
            "Train epoch: 5 [19200/50000 (38%)]\tLoss: 2.303074\n",
            "Train epoch: 5 [22400/50000 (45%)]\tLoss: 2.302218\n",
            "Train epoch: 5 [25600/50000 (51%)]\tLoss: 2.303404\n",
            "Train epoch: 5 [28800/50000 (58%)]\tLoss: 2.301302\n",
            "Train epoch: 5 [32000/50000 (64%)]\tLoss: 2.302689\n",
            "Train epoch: 5 [35200/50000 (70%)]\tLoss: 2.301671\n",
            "Train epoch: 5 [38400/50000 (77%)]\tLoss: 2.301394\n",
            "Train epoch: 5 [41600/50000 (83%)]\tLoss: 2.302358\n",
            "Train epoch: 5 [44800/50000 (90%)]\tLoss: 2.302438\n",
            "Train epoch: 5 [48000/50000 (96%)]\tLoss: 2.302964\n",
            "\n",
            "Test set: Average loss: 0.0187, Accuracy: 10.0 (10%)\n",
            "\n"
          ]
        },
        {
          "output_type": "stream",
          "name": "stderr",
          "text": [
            "/usr/local/lib/python3.10/dist-packages/torchvision/transforms/functional.py:1603: UserWarning: The default value of the antialias parameter of all the resizing transforms (Resize(), RandomResizedCrop(), etc.) will change from None to True in v0.17, in order to be consistent across the PIL and Tensor backends. To suppress this warning, directly pass antialias=True (recommended, future default), antialias=None (current default, which means False for Tensors and True for PIL), or antialias=False (only works on Tensors - PIL will still use antialiasing). This also applies if you are using the inference transforms from the models weights: update the call to weights.transforms(antialias=True).\n",
            "  warnings.warn(\n"
          ]
        },
        {
          "output_type": "stream",
          "name": "stdout",
          "text": [
            "\n",
            "Test set: Average loss: 0.0187, Accuracy: 10.0 (10%)\n",
            "\n"
          ]
        },
        {
          "output_type": "stream",
          "name": "stderr",
          "text": [
            "/usr/local/lib/python3.10/dist-packages/torchvision/transforms/functional.py:1603: UserWarning: The default value of the antialias parameter of all the resizing transforms (Resize(), RandomResizedCrop(), etc.) will change from None to True in v0.17, in order to be consistent across the PIL and Tensor backends. To suppress this warning, directly pass antialias=True (recommended, future default), antialias=None (current default, which means False for Tensors and True for PIL), or antialias=False (only works on Tensors - PIL will still use antialiasing). This also applies if you are using the inference transforms from the models weights: update the call to weights.transforms(antialias=True).\n",
            "  warnings.warn(\n"
          ]
        },
        {
          "output_type": "stream",
          "name": "stdout",
          "text": [
            "Train epoch: 6 [0/50000 (0%)]\tLoss: 2.302829\n",
            "Train epoch: 6 [3200/50000 (6%)]\tLoss: 2.304173\n",
            "Train epoch: 6 [6400/50000 (13%)]\tLoss: 2.303659\n",
            "Train epoch: 6 [9600/50000 (19%)]\tLoss: 2.302633\n",
            "Train epoch: 6 [12800/50000 (26%)]\tLoss: 2.302376\n",
            "Train epoch: 6 [16000/50000 (32%)]\tLoss: 2.301583\n",
            "Train epoch: 6 [19200/50000 (38%)]\tLoss: 2.302299\n",
            "Train epoch: 6 [22400/50000 (45%)]\tLoss: 2.302088\n",
            "Train epoch: 6 [25600/50000 (51%)]\tLoss: 2.302315\n",
            "Train epoch: 6 [28800/50000 (58%)]\tLoss: 2.302536\n",
            "Train epoch: 6 [32000/50000 (64%)]\tLoss: 2.302634\n",
            "Train epoch: 6 [35200/50000 (70%)]\tLoss: 2.302606\n",
            "Train epoch: 6 [38400/50000 (77%)]\tLoss: 2.302626\n",
            "Train epoch: 6 [41600/50000 (83%)]\tLoss: 2.302625\n",
            "Train epoch: 6 [44800/50000 (90%)]\tLoss: 2.302909\n",
            "Train epoch: 6 [48000/50000 (96%)]\tLoss: 2.302615\n",
            "\n",
            "Test set: Average loss: 0.0187, Accuracy: 10.0 (10%)\n",
            "\n"
          ]
        },
        {
          "output_type": "stream",
          "name": "stderr",
          "text": [
            "/usr/local/lib/python3.10/dist-packages/torchvision/transforms/functional.py:1603: UserWarning: The default value of the antialias parameter of all the resizing transforms (Resize(), RandomResizedCrop(), etc.) will change from None to True in v0.17, in order to be consistent across the PIL and Tensor backends. To suppress this warning, directly pass antialias=True (recommended, future default), antialias=None (current default, which means False for Tensors and True for PIL), or antialias=False (only works on Tensors - PIL will still use antialiasing). This also applies if you are using the inference transforms from the models weights: update the call to weights.transforms(antialias=True).\n",
            "  warnings.warn(\n"
          ]
        },
        {
          "output_type": "stream",
          "name": "stdout",
          "text": [
            "\n",
            "Test set: Average loss: 0.0187, Accuracy: 10.0 (10%)\n",
            "\n"
          ]
        },
        {
          "output_type": "stream",
          "name": "stderr",
          "text": [
            "/usr/local/lib/python3.10/dist-packages/torchvision/transforms/functional.py:1603: UserWarning: The default value of the antialias parameter of all the resizing transforms (Resize(), RandomResizedCrop(), etc.) will change from None to True in v0.17, in order to be consistent across the PIL and Tensor backends. To suppress this warning, directly pass antialias=True (recommended, future default), antialias=None (current default, which means False for Tensors and True for PIL), or antialias=False (only works on Tensors - PIL will still use antialiasing). This also applies if you are using the inference transforms from the models weights: update the call to weights.transforms(antialias=True).\n",
            "  warnings.warn(\n"
          ]
        },
        {
          "output_type": "stream",
          "name": "stdout",
          "text": [
            "Train epoch: 7 [0/50000 (0%)]\tLoss: 2.302586\n",
            "Train epoch: 7 [3200/50000 (6%)]\tLoss: 2.302865\n",
            "Train epoch: 7 [6400/50000 (13%)]\tLoss: 2.302589\n",
            "Train epoch: 7 [9600/50000 (19%)]\tLoss: 2.303335\n",
            "Train epoch: 7 [12800/50000 (26%)]\tLoss: 2.302565\n",
            "Train epoch: 7 [16000/50000 (32%)]\tLoss: 2.302489\n",
            "Train epoch: 7 [19200/50000 (38%)]\tLoss: 2.302599\n",
            "Train epoch: 7 [22400/50000 (45%)]\tLoss: 2.302320\n",
            "Train epoch: 7 [25600/50000 (51%)]\tLoss: 2.302807\n",
            "Train epoch: 7 [28800/50000 (58%)]\tLoss: 2.302357\n",
            "Train epoch: 7 [32000/50000 (64%)]\tLoss: 2.302709\n",
            "Train epoch: 7 [35200/50000 (70%)]\tLoss: 2.302559\n",
            "Train epoch: 7 [38400/50000 (77%)]\tLoss: 2.302804\n",
            "Train epoch: 7 [41600/50000 (83%)]\tLoss: 2.302424\n",
            "Train epoch: 7 [44800/50000 (90%)]\tLoss: 2.302594\n",
            "Train epoch: 7 [48000/50000 (96%)]\tLoss: 2.302569\n",
            "\n",
            "Test set: Average loss: 0.0187, Accuracy: 10.0 (10%)\n",
            "\n"
          ]
        },
        {
          "output_type": "stream",
          "name": "stderr",
          "text": [
            "/usr/local/lib/python3.10/dist-packages/torchvision/transforms/functional.py:1603: UserWarning: The default value of the antialias parameter of all the resizing transforms (Resize(), RandomResizedCrop(), etc.) will change from None to True in v0.17, in order to be consistent across the PIL and Tensor backends. To suppress this warning, directly pass antialias=True (recommended, future default), antialias=None (current default, which means False for Tensors and True for PIL), or antialias=False (only works on Tensors - PIL will still use antialiasing). This also applies if you are using the inference transforms from the models weights: update the call to weights.transforms(antialias=True).\n",
            "  warnings.warn(\n"
          ]
        },
        {
          "output_type": "stream",
          "name": "stdout",
          "text": [
            "\n",
            "Test set: Average loss: 0.0187, Accuracy: 10.0 (10%)\n",
            "\n"
          ]
        },
        {
          "output_type": "stream",
          "name": "stderr",
          "text": [
            "/usr/local/lib/python3.10/dist-packages/torchvision/transforms/functional.py:1603: UserWarning: The default value of the antialias parameter of all the resizing transforms (Resize(), RandomResizedCrop(), etc.) will change from None to True in v0.17, in order to be consistent across the PIL and Tensor backends. To suppress this warning, directly pass antialias=True (recommended, future default), antialias=None (current default, which means False for Tensors and True for PIL), or antialias=False (only works on Tensors - PIL will still use antialiasing). This also applies if you are using the inference transforms from the models weights: update the call to weights.transforms(antialias=True).\n",
            "  warnings.warn(\n"
          ]
        },
        {
          "output_type": "stream",
          "name": "stdout",
          "text": [
            "Train epoch: 8 [0/50000 (0%)]\tLoss: 2.303004\n",
            "Train epoch: 8 [3200/50000 (6%)]\tLoss: 2.302085\n",
            "Train epoch: 8 [6400/50000 (13%)]\tLoss: 2.302617\n",
            "Train epoch: 8 [9600/50000 (19%)]\tLoss: 2.302214\n",
            "Train epoch: 8 [12800/50000 (26%)]\tLoss: 2.302012\n",
            "Train epoch: 8 [16000/50000 (32%)]\tLoss: 2.302660\n",
            "Train epoch: 8 [19200/50000 (38%)]\tLoss: 2.302626\n",
            "Train epoch: 8 [22400/50000 (45%)]\tLoss: 2.302672\n",
            "Train epoch: 8 [25600/50000 (51%)]\tLoss: 2.303016\n",
            "Train epoch: 8 [28800/50000 (58%)]\tLoss: 2.302231\n",
            "Train epoch: 8 [32000/50000 (64%)]\tLoss: 2.302839\n",
            "Train epoch: 8 [35200/50000 (70%)]\tLoss: 2.302794\n",
            "Train epoch: 8 [38400/50000 (77%)]\tLoss: 2.302629\n",
            "Train epoch: 8 [41600/50000 (83%)]\tLoss: 2.302546\n",
            "Train epoch: 8 [44800/50000 (90%)]\tLoss: 2.302590\n",
            "Train epoch: 8 [48000/50000 (96%)]\tLoss: 2.302612\n",
            "\n",
            "Test set: Average loss: 0.0187, Accuracy: 10.0 (10%)\n",
            "\n"
          ]
        },
        {
          "output_type": "stream",
          "name": "stderr",
          "text": [
            "/usr/local/lib/python3.10/dist-packages/torchvision/transforms/functional.py:1603: UserWarning: The default value of the antialias parameter of all the resizing transforms (Resize(), RandomResizedCrop(), etc.) will change from None to True in v0.17, in order to be consistent across the PIL and Tensor backends. To suppress this warning, directly pass antialias=True (recommended, future default), antialias=None (current default, which means False for Tensors and True for PIL), or antialias=False (only works on Tensors - PIL will still use antialiasing). This also applies if you are using the inference transforms from the models weights: update the call to weights.transforms(antialias=True).\n",
            "  warnings.warn(\n"
          ]
        },
        {
          "output_type": "stream",
          "name": "stdout",
          "text": [
            "\n",
            "Test set: Average loss: 0.0187, Accuracy: 10.0 (10%)\n",
            "\n"
          ]
        },
        {
          "output_type": "stream",
          "name": "stderr",
          "text": [
            "/usr/local/lib/python3.10/dist-packages/torchvision/transforms/functional.py:1603: UserWarning: The default value of the antialias parameter of all the resizing transforms (Resize(), RandomResizedCrop(), etc.) will change from None to True in v0.17, in order to be consistent across the PIL and Tensor backends. To suppress this warning, directly pass antialias=True (recommended, future default), antialias=None (current default, which means False for Tensors and True for PIL), or antialias=False (only works on Tensors - PIL will still use antialiasing). This also applies if you are using the inference transforms from the models weights: update the call to weights.transforms(antialias=True).\n",
            "  warnings.warn(\n"
          ]
        },
        {
          "output_type": "stream",
          "name": "stdout",
          "text": [
            "Train epoch: 9 [0/50000 (0%)]\tLoss: 2.302443\n",
            "Train epoch: 9 [3200/50000 (6%)]\tLoss: 2.303482\n",
            "Train epoch: 9 [6400/50000 (13%)]\tLoss: 2.302608\n",
            "Train epoch: 9 [9600/50000 (19%)]\tLoss: 2.302394\n",
            "Train epoch: 9 [12800/50000 (26%)]\tLoss: 2.303247\n",
            "Train epoch: 9 [16000/50000 (32%)]\tLoss: 2.302602\n",
            "Train epoch: 9 [19200/50000 (38%)]\tLoss: 2.302583\n",
            "Train epoch: 9 [22400/50000 (45%)]\tLoss: 2.302524\n",
            "Train epoch: 9 [25600/50000 (51%)]\tLoss: 2.302327\n",
            "Train epoch: 9 [28800/50000 (58%)]\tLoss: 2.302597\n",
            "Train epoch: 9 [32000/50000 (64%)]\tLoss: 2.302576\n",
            "Train epoch: 9 [35200/50000 (70%)]\tLoss: 2.302553\n",
            "Train epoch: 9 [38400/50000 (77%)]\tLoss: 2.302643\n",
            "Train epoch: 9 [41600/50000 (83%)]\tLoss: 2.303113\n",
            "Train epoch: 9 [44800/50000 (90%)]\tLoss: 2.302175\n",
            "Train epoch: 9 [48000/50000 (96%)]\tLoss: 2.301006\n",
            "\n",
            "Test set: Average loss: 0.0187, Accuracy: 10.0 (10%)\n",
            "\n"
          ]
        },
        {
          "output_type": "stream",
          "name": "stderr",
          "text": [
            "/usr/local/lib/python3.10/dist-packages/torchvision/transforms/functional.py:1603: UserWarning: The default value of the antialias parameter of all the resizing transforms (Resize(), RandomResizedCrop(), etc.) will change from None to True in v0.17, in order to be consistent across the PIL and Tensor backends. To suppress this warning, directly pass antialias=True (recommended, future default), antialias=None (current default, which means False for Tensors and True for PIL), or antialias=False (only works on Tensors - PIL will still use antialiasing). This also applies if you are using the inference transforms from the models weights: update the call to weights.transforms(antialias=True).\n",
            "  warnings.warn(\n"
          ]
        },
        {
          "output_type": "stream",
          "name": "stdout",
          "text": [
            "\n",
            "Test set: Average loss: 0.0187, Accuracy: 10.0 (10%)\n",
            "\n"
          ]
        },
        {
          "output_type": "stream",
          "name": "stderr",
          "text": [
            "/usr/local/lib/python3.10/dist-packages/torchvision/transforms/functional.py:1603: UserWarning: The default value of the antialias parameter of all the resizing transforms (Resize(), RandomResizedCrop(), etc.) will change from None to True in v0.17, in order to be consistent across the PIL and Tensor backends. To suppress this warning, directly pass antialias=True (recommended, future default), antialias=None (current default, which means False for Tensors and True for PIL), or antialias=False (only works on Tensors - PIL will still use antialiasing). This also applies if you are using the inference transforms from the models weights: update the call to weights.transforms(antialias=True).\n",
            "  warnings.warn(\n"
          ]
        },
        {
          "output_type": "stream",
          "name": "stdout",
          "text": [
            "Train epoch: 10 [0/50000 (0%)]\tLoss: 2.302713\n",
            "Train epoch: 10 [3200/50000 (6%)]\tLoss: 2.299818\n",
            "Train epoch: 10 [6400/50000 (13%)]\tLoss: 2.298889\n",
            "Train epoch: 10 [9600/50000 (19%)]\tLoss: 2.302860\n",
            "Train epoch: 10 [12800/50000 (26%)]\tLoss: 2.302819\n",
            "Train epoch: 10 [16000/50000 (32%)]\tLoss: 2.302787\n",
            "Train epoch: 10 [19200/50000 (38%)]\tLoss: 2.302745\n",
            "Train epoch: 10 [22400/50000 (45%)]\tLoss: 2.303287\n",
            "Train epoch: 10 [25600/50000 (51%)]\tLoss: 2.302522\n",
            "Train epoch: 10 [28800/50000 (58%)]\tLoss: 2.302451\n",
            "Train epoch: 10 [32000/50000 (64%)]\tLoss: 2.302480\n",
            "Train epoch: 10 [35200/50000 (70%)]\tLoss: 2.302620\n",
            "Train epoch: 10 [38400/50000 (77%)]\tLoss: 2.302717\n",
            "Train epoch: 10 [41600/50000 (83%)]\tLoss: 2.302565\n",
            "Train epoch: 10 [44800/50000 (90%)]\tLoss: 2.302186\n",
            "Train epoch: 10 [48000/50000 (96%)]\tLoss: 2.302093\n",
            "\n",
            "Test set: Average loss: 0.0187, Accuracy: 10.0 (10%)\n",
            "\n"
          ]
        },
        {
          "output_type": "stream",
          "name": "stderr",
          "text": [
            "/usr/local/lib/python3.10/dist-packages/torchvision/transforms/functional.py:1603: UserWarning: The default value of the antialias parameter of all the resizing transforms (Resize(), RandomResizedCrop(), etc.) will change from None to True in v0.17, in order to be consistent across the PIL and Tensor backends. To suppress this warning, directly pass antialias=True (recommended, future default), antialias=None (current default, which means False for Tensors and True for PIL), or antialias=False (only works on Tensors - PIL will still use antialiasing). This also applies if you are using the inference transforms from the models weights: update the call to weights.transforms(antialias=True).\n",
            "  warnings.warn(\n"
          ]
        },
        {
          "output_type": "stream",
          "name": "stdout",
          "text": [
            "\n",
            "Test set: Average loss: 0.0187, Accuracy: 10.0 (10%)\n",
            "\n",
            "\n",
            "    -----------------------------\n",
            "    Normal Data Saved: (10, 10.0)\n",
            "    -----------------------------\n",
            "    \n",
            "\n",
            "    ------------------------------\n",
            "    Altered Data Saved: (10, 10.0)\n",
            "    ------------------------------\n",
            "    \n"
          ]
        },
        {
          "output_type": "stream",
          "name": "stderr",
          "text": [
            "/usr/local/lib/python3.10/dist-packages/torchvision/transforms/functional.py:1603: UserWarning: The default value of the antialias parameter of all the resizing transforms (Resize(), RandomResizedCrop(), etc.) will change from None to True in v0.17, in order to be consistent across the PIL and Tensor backends. To suppress this warning, directly pass antialias=True (recommended, future default), antialias=None (current default, which means False for Tensors and True for PIL), or antialias=False (only works on Tensors - PIL will still use antialiasing). This also applies if you are using the inference transforms from the models weights: update the call to weights.transforms(antialias=True).\n",
            "  warnings.warn(\n"
          ]
        },
        {
          "output_type": "stream",
          "name": "stdout",
          "text": [
            "Train epoch: 11 [0/50000 (0%)]\tLoss: 2.301902\n",
            "Train epoch: 11 [3200/50000 (6%)]\tLoss: 2.303009\n",
            "Train epoch: 11 [6400/50000 (13%)]\tLoss: 2.302306\n",
            "Train epoch: 11 [9600/50000 (19%)]\tLoss: 2.302590\n",
            "Train epoch: 11 [12800/50000 (26%)]\tLoss: 2.302583\n",
            "Train epoch: 11 [16000/50000 (32%)]\tLoss: 2.302177\n",
            "Train epoch: 11 [19200/50000 (38%)]\tLoss: 2.302307\n",
            "Train epoch: 11 [22400/50000 (45%)]\tLoss: 2.302272\n",
            "Train epoch: 11 [25600/50000 (51%)]\tLoss: 2.302120\n",
            "Train epoch: 11 [28800/50000 (58%)]\tLoss: 2.303494\n",
            "Train epoch: 11 [32000/50000 (64%)]\tLoss: 2.303135\n",
            "Train epoch: 11 [35200/50000 (70%)]\tLoss: 2.302228\n",
            "Train epoch: 11 [38400/50000 (77%)]\tLoss: 2.302410\n",
            "Train epoch: 11 [41600/50000 (83%)]\tLoss: 2.302495\n",
            "Train epoch: 11 [44800/50000 (90%)]\tLoss: 2.303206\n",
            "Train epoch: 11 [48000/50000 (96%)]\tLoss: 2.302731\n",
            "\n",
            "Test set: Average loss: 0.0187, Accuracy: 10.0 (10%)\n",
            "\n"
          ]
        },
        {
          "output_type": "stream",
          "name": "stderr",
          "text": [
            "/usr/local/lib/python3.10/dist-packages/torchvision/transforms/functional.py:1603: UserWarning: The default value of the antialias parameter of all the resizing transforms (Resize(), RandomResizedCrop(), etc.) will change from None to True in v0.17, in order to be consistent across the PIL and Tensor backends. To suppress this warning, directly pass antialias=True (recommended, future default), antialias=None (current default, which means False for Tensors and True for PIL), or antialias=False (only works on Tensors - PIL will still use antialiasing). This also applies if you are using the inference transforms from the models weights: update the call to weights.transforms(antialias=True).\n",
            "  warnings.warn(\n"
          ]
        },
        {
          "output_type": "stream",
          "name": "stdout",
          "text": [
            "\n",
            "Test set: Average loss: 0.0187, Accuracy: 10.0 (10%)\n",
            "\n"
          ]
        },
        {
          "output_type": "stream",
          "name": "stderr",
          "text": [
            "/usr/local/lib/python3.10/dist-packages/torchvision/transforms/functional.py:1603: UserWarning: The default value of the antialias parameter of all the resizing transforms (Resize(), RandomResizedCrop(), etc.) will change from None to True in v0.17, in order to be consistent across the PIL and Tensor backends. To suppress this warning, directly pass antialias=True (recommended, future default), antialias=None (current default, which means False for Tensors and True for PIL), or antialias=False (only works on Tensors - PIL will still use antialiasing). This also applies if you are using the inference transforms from the models weights: update the call to weights.transforms(antialias=True).\n",
            "  warnings.warn(\n"
          ]
        },
        {
          "output_type": "stream",
          "name": "stdout",
          "text": [
            "Train epoch: 12 [0/50000 (0%)]\tLoss: 2.303194\n",
            "Train epoch: 12 [3200/50000 (6%)]\tLoss: 2.302717\n",
            "Train epoch: 12 [6400/50000 (13%)]\tLoss: 2.302579\n",
            "Train epoch: 12 [9600/50000 (19%)]\tLoss: 2.301709\n",
            "Train epoch: 12 [12800/50000 (26%)]\tLoss: 2.302606\n",
            "Train epoch: 12 [16000/50000 (32%)]\tLoss: 2.302804\n",
            "Train epoch: 12 [19200/50000 (38%)]\tLoss: 2.302027\n",
            "Train epoch: 12 [22400/50000 (45%)]\tLoss: 2.301374\n",
            "Train epoch: 12 [25600/50000 (51%)]\tLoss: 2.302929\n",
            "Train epoch: 12 [28800/50000 (58%)]\tLoss: 2.302963\n",
            "Train epoch: 12 [32000/50000 (64%)]\tLoss: 2.302967\n",
            "Train epoch: 12 [35200/50000 (70%)]\tLoss: 2.302204\n",
            "Train epoch: 12 [38400/50000 (77%)]\tLoss: 2.303583\n",
            "Train epoch: 12 [41600/50000 (83%)]\tLoss: 2.302841\n",
            "Train epoch: 12 [44800/50000 (90%)]\tLoss: 2.302577\n",
            "Train epoch: 12 [48000/50000 (96%)]\tLoss: 2.302648\n",
            "\n",
            "Test set: Average loss: 0.0187, Accuracy: 10.0 (10%)\n",
            "\n"
          ]
        },
        {
          "output_type": "stream",
          "name": "stderr",
          "text": [
            "/usr/local/lib/python3.10/dist-packages/torchvision/transforms/functional.py:1603: UserWarning: The default value of the antialias parameter of all the resizing transforms (Resize(), RandomResizedCrop(), etc.) will change from None to True in v0.17, in order to be consistent across the PIL and Tensor backends. To suppress this warning, directly pass antialias=True (recommended, future default), antialias=None (current default, which means False for Tensors and True for PIL), or antialias=False (only works on Tensors - PIL will still use antialiasing). This also applies if you are using the inference transforms from the models weights: update the call to weights.transforms(antialias=True).\n",
            "  warnings.warn(\n"
          ]
        },
        {
          "output_type": "stream",
          "name": "stdout",
          "text": [
            "\n",
            "Test set: Average loss: 0.0187, Accuracy: 10.0 (10%)\n",
            "\n"
          ]
        },
        {
          "output_type": "stream",
          "name": "stderr",
          "text": [
            "/usr/local/lib/python3.10/dist-packages/torchvision/transforms/functional.py:1603: UserWarning: The default value of the antialias parameter of all the resizing transforms (Resize(), RandomResizedCrop(), etc.) will change from None to True in v0.17, in order to be consistent across the PIL and Tensor backends. To suppress this warning, directly pass antialias=True (recommended, future default), antialias=None (current default, which means False for Tensors and True for PIL), or antialias=False (only works on Tensors - PIL will still use antialiasing). This also applies if you are using the inference transforms from the models weights: update the call to weights.transforms(antialias=True).\n",
            "  warnings.warn(\n"
          ]
        },
        {
          "output_type": "stream",
          "name": "stdout",
          "text": [
            "Train epoch: 13 [0/50000 (0%)]\tLoss: 2.302537\n",
            "Train epoch: 13 [3200/50000 (6%)]\tLoss: 2.302263\n",
            "Train epoch: 13 [6400/50000 (13%)]\tLoss: 2.301341\n",
            "Train epoch: 13 [9600/50000 (19%)]\tLoss: 2.300930\n",
            "Train epoch: 13 [12800/50000 (26%)]\tLoss: 2.303566\n",
            "Train epoch: 13 [16000/50000 (32%)]\tLoss: 2.303840\n",
            "Train epoch: 13 [19200/50000 (38%)]\tLoss: 2.303829\n",
            "Train epoch: 13 [22400/50000 (45%)]\tLoss: 2.303971\n",
            "Train epoch: 13 [25600/50000 (51%)]\tLoss: 2.301694\n",
            "Train epoch: 13 [28800/50000 (58%)]\tLoss: 2.302628\n",
            "Train epoch: 13 [32000/50000 (64%)]\tLoss: 2.301730\n",
            "Train epoch: 13 [35200/50000 (70%)]\tLoss: 2.302514\n",
            "Train epoch: 13 [38400/50000 (77%)]\tLoss: 2.302182\n",
            "Train epoch: 13 [41600/50000 (83%)]\tLoss: 2.302534\n",
            "Train epoch: 13 [44800/50000 (90%)]\tLoss: 2.302556\n",
            "Train epoch: 13 [48000/50000 (96%)]\tLoss: 2.302318\n",
            "\n",
            "Test set: Average loss: 0.0187, Accuracy: 10.0 (10%)\n",
            "\n"
          ]
        },
        {
          "output_type": "stream",
          "name": "stderr",
          "text": [
            "/usr/local/lib/python3.10/dist-packages/torchvision/transforms/functional.py:1603: UserWarning: The default value of the antialias parameter of all the resizing transforms (Resize(), RandomResizedCrop(), etc.) will change from None to True in v0.17, in order to be consistent across the PIL and Tensor backends. To suppress this warning, directly pass antialias=True (recommended, future default), antialias=None (current default, which means False for Tensors and True for PIL), or antialias=False (only works on Tensors - PIL will still use antialiasing). This also applies if you are using the inference transforms from the models weights: update the call to weights.transforms(antialias=True).\n",
            "  warnings.warn(\n"
          ]
        },
        {
          "output_type": "stream",
          "name": "stdout",
          "text": [
            "\n",
            "Test set: Average loss: 0.0187, Accuracy: 10.0 (10%)\n",
            "\n"
          ]
        },
        {
          "output_type": "stream",
          "name": "stderr",
          "text": [
            "/usr/local/lib/python3.10/dist-packages/torchvision/transforms/functional.py:1603: UserWarning: The default value of the antialias parameter of all the resizing transforms (Resize(), RandomResizedCrop(), etc.) will change from None to True in v0.17, in order to be consistent across the PIL and Tensor backends. To suppress this warning, directly pass antialias=True (recommended, future default), antialias=None (current default, which means False for Tensors and True for PIL), or antialias=False (only works on Tensors - PIL will still use antialiasing). This also applies if you are using the inference transforms from the models weights: update the call to weights.transforms(antialias=True).\n",
            "  warnings.warn(\n"
          ]
        },
        {
          "output_type": "stream",
          "name": "stdout",
          "text": [
            "Train epoch: 14 [0/50000 (0%)]\tLoss: 2.302560\n",
            "Train epoch: 14 [3200/50000 (6%)]\tLoss: 2.302583\n",
            "Train epoch: 14 [6400/50000 (13%)]\tLoss: 2.302510\n",
            "Train epoch: 14 [9600/50000 (19%)]\tLoss: 2.301356\n",
            "Train epoch: 14 [12800/50000 (26%)]\tLoss: 2.304621\n",
            "Train epoch: 14 [16000/50000 (32%)]\tLoss: 2.301939\n",
            "Train epoch: 14 [19200/50000 (38%)]\tLoss: 2.302731\n",
            "Train epoch: 14 [22400/50000 (45%)]\tLoss: 2.303015\n",
            "Train epoch: 14 [25600/50000 (51%)]\tLoss: 2.302656\n",
            "Train epoch: 14 [28800/50000 (58%)]\tLoss: 2.302610\n",
            "Train epoch: 14 [32000/50000 (64%)]\tLoss: 2.301951\n",
            "Train epoch: 14 [35200/50000 (70%)]\tLoss: 2.302438\n",
            "Train epoch: 14 [38400/50000 (77%)]\tLoss: 2.302247\n",
            "Train epoch: 14 [41600/50000 (83%)]\tLoss: 2.302734\n",
            "Train epoch: 14 [44800/50000 (90%)]\tLoss: 2.302426\n",
            "Train epoch: 14 [48000/50000 (96%)]\tLoss: 2.303258\n",
            "\n",
            "Test set: Average loss: 0.0187, Accuracy: 10.0 (10%)\n",
            "\n"
          ]
        },
        {
          "output_type": "stream",
          "name": "stderr",
          "text": [
            "/usr/local/lib/python3.10/dist-packages/torchvision/transforms/functional.py:1603: UserWarning: The default value of the antialias parameter of all the resizing transforms (Resize(), RandomResizedCrop(), etc.) will change from None to True in v0.17, in order to be consistent across the PIL and Tensor backends. To suppress this warning, directly pass antialias=True (recommended, future default), antialias=None (current default, which means False for Tensors and True for PIL), or antialias=False (only works on Tensors - PIL will still use antialiasing). This also applies if you are using the inference transforms from the models weights: update the call to weights.transforms(antialias=True).\n",
            "  warnings.warn(\n"
          ]
        },
        {
          "output_type": "stream",
          "name": "stdout",
          "text": [
            "\n",
            "Test set: Average loss: 0.0187, Accuracy: 10.0 (10%)\n",
            "\n"
          ]
        },
        {
          "output_type": "stream",
          "name": "stderr",
          "text": [
            "/usr/local/lib/python3.10/dist-packages/torchvision/transforms/functional.py:1603: UserWarning: The default value of the antialias parameter of all the resizing transforms (Resize(), RandomResizedCrop(), etc.) will change from None to True in v0.17, in order to be consistent across the PIL and Tensor backends. To suppress this warning, directly pass antialias=True (recommended, future default), antialias=None (current default, which means False for Tensors and True for PIL), or antialias=False (only works on Tensors - PIL will still use antialiasing). This also applies if you are using the inference transforms from the models weights: update the call to weights.transforms(antialias=True).\n",
            "  warnings.warn(\n"
          ]
        },
        {
          "output_type": "stream",
          "name": "stdout",
          "text": [
            "Train epoch: 15 [0/50000 (0%)]\tLoss: 2.302690\n",
            "Train epoch: 15 [3200/50000 (6%)]\tLoss: 2.302577\n",
            "Train epoch: 15 [6400/50000 (13%)]\tLoss: 2.302060\n",
            "Train epoch: 15 [9600/50000 (19%)]\tLoss: 2.303282\n",
            "Train epoch: 15 [12800/50000 (26%)]\tLoss: 2.302144\n",
            "Train epoch: 15 [16000/50000 (32%)]\tLoss: 2.302394\n",
            "Train epoch: 15 [19200/50000 (38%)]\tLoss: 2.303372\n",
            "Train epoch: 15 [22400/50000 (45%)]\tLoss: 2.302719\n",
            "Train epoch: 15 [25600/50000 (51%)]\tLoss: 2.303494\n",
            "Train epoch: 15 [28800/50000 (58%)]\tLoss: 2.302285\n",
            "Train epoch: 15 [32000/50000 (64%)]\tLoss: 2.302256\n",
            "Train epoch: 15 [35200/50000 (70%)]\tLoss: 2.303186\n",
            "Train epoch: 15 [38400/50000 (77%)]\tLoss: 2.302205\n",
            "Train epoch: 15 [41600/50000 (83%)]\tLoss: 2.301396\n",
            "Train epoch: 15 [44800/50000 (90%)]\tLoss: 2.301304\n",
            "Train epoch: 15 [48000/50000 (96%)]\tLoss: 2.301390\n",
            "\n",
            "Test set: Average loss: 0.0186, Accuracy: 10.0 (10%)\n",
            "\n"
          ]
        },
        {
          "output_type": "stream",
          "name": "stderr",
          "text": [
            "/usr/local/lib/python3.10/dist-packages/torchvision/transforms/functional.py:1603: UserWarning: The default value of the antialias parameter of all the resizing transforms (Resize(), RandomResizedCrop(), etc.) will change from None to True in v0.17, in order to be consistent across the PIL and Tensor backends. To suppress this warning, directly pass antialias=True (recommended, future default), antialias=None (current default, which means False for Tensors and True for PIL), or antialias=False (only works on Tensors - PIL will still use antialiasing). This also applies if you are using the inference transforms from the models weights: update the call to weights.transforms(antialias=True).\n",
            "  warnings.warn(\n"
          ]
        },
        {
          "output_type": "stream",
          "name": "stdout",
          "text": [
            "\n",
            "Test set: Average loss: 0.0186, Accuracy: 10.0 (10%)\n",
            "\n"
          ]
        },
        {
          "output_type": "stream",
          "name": "stderr",
          "text": [
            "/usr/local/lib/python3.10/dist-packages/torchvision/transforms/functional.py:1603: UserWarning: The default value of the antialias parameter of all the resizing transforms (Resize(), RandomResizedCrop(), etc.) will change from None to True in v0.17, in order to be consistent across the PIL and Tensor backends. To suppress this warning, directly pass antialias=True (recommended, future default), antialias=None (current default, which means False for Tensors and True for PIL), or antialias=False (only works on Tensors - PIL will still use antialiasing). This also applies if you are using the inference transforms from the models weights: update the call to weights.transforms(antialias=True).\n",
            "  warnings.warn(\n"
          ]
        },
        {
          "output_type": "stream",
          "name": "stdout",
          "text": [
            "Train epoch: 16 [0/50000 (0%)]\tLoss: 2.302148\n",
            "Train epoch: 16 [3200/50000 (6%)]\tLoss: 2.299724\n",
            "Train epoch: 16 [6400/50000 (13%)]\tLoss: 2.302432\n",
            "Train epoch: 16 [9600/50000 (19%)]\tLoss: 2.304357\n",
            "Train epoch: 16 [12800/50000 (26%)]\tLoss: 2.302499\n",
            "Train epoch: 16 [16000/50000 (32%)]\tLoss: 2.304038\n",
            "Train epoch: 16 [19200/50000 (38%)]\tLoss: 2.303108\n",
            "Train epoch: 16 [22400/50000 (45%)]\tLoss: 2.302852\n",
            "Train epoch: 16 [25600/50000 (51%)]\tLoss: 2.303321\n",
            "Train epoch: 16 [28800/50000 (58%)]\tLoss: 2.303363\n",
            "Train epoch: 16 [32000/50000 (64%)]\tLoss: 2.302343\n",
            "Train epoch: 16 [35200/50000 (70%)]\tLoss: 2.305081\n",
            "Train epoch: 16 [38400/50000 (77%)]\tLoss: 2.302676\n",
            "Train epoch: 16 [41600/50000 (83%)]\tLoss: 2.302649\n",
            "Train epoch: 16 [44800/50000 (90%)]\tLoss: 2.301904\n",
            "Train epoch: 16 [48000/50000 (96%)]\tLoss: 2.301786\n",
            "\n",
            "Test set: Average loss: 0.0186, Accuracy: 10.0 (10%)\n",
            "\n"
          ]
        },
        {
          "output_type": "stream",
          "name": "stderr",
          "text": [
            "/usr/local/lib/python3.10/dist-packages/torchvision/transforms/functional.py:1603: UserWarning: The default value of the antialias parameter of all the resizing transforms (Resize(), RandomResizedCrop(), etc.) will change from None to True in v0.17, in order to be consistent across the PIL and Tensor backends. To suppress this warning, directly pass antialias=True (recommended, future default), antialias=None (current default, which means False for Tensors and True for PIL), or antialias=False (only works on Tensors - PIL will still use antialiasing). This also applies if you are using the inference transforms from the models weights: update the call to weights.transforms(antialias=True).\n",
            "  warnings.warn(\n"
          ]
        },
        {
          "output_type": "stream",
          "name": "stdout",
          "text": [
            "\n",
            "Test set: Average loss: 0.0186, Accuracy: 10.0 (10%)\n",
            "\n"
          ]
        },
        {
          "output_type": "stream",
          "name": "stderr",
          "text": [
            "/usr/local/lib/python3.10/dist-packages/torchvision/transforms/functional.py:1603: UserWarning: The default value of the antialias parameter of all the resizing transforms (Resize(), RandomResizedCrop(), etc.) will change from None to True in v0.17, in order to be consistent across the PIL and Tensor backends. To suppress this warning, directly pass antialias=True (recommended, future default), antialias=None (current default, which means False for Tensors and True for PIL), or antialias=False (only works on Tensors - PIL will still use antialiasing). This also applies if you are using the inference transforms from the models weights: update the call to weights.transforms(antialias=True).\n",
            "  warnings.warn(\n"
          ]
        },
        {
          "output_type": "stream",
          "name": "stdout",
          "text": [
            "Train epoch: 17 [0/50000 (0%)]\tLoss: 2.302017\n",
            "Train epoch: 17 [3200/50000 (6%)]\tLoss: 2.301681\n",
            "Train epoch: 17 [6400/50000 (13%)]\tLoss: 2.301642\n",
            "Train epoch: 17 [9600/50000 (19%)]\tLoss: 2.302345\n",
            "Train epoch: 17 [12800/50000 (26%)]\tLoss: 2.301384\n",
            "Train epoch: 17 [16000/50000 (32%)]\tLoss: 2.302286\n",
            "Train epoch: 17 [19200/50000 (38%)]\tLoss: 2.299293\n",
            "Train epoch: 17 [22400/50000 (45%)]\tLoss: 2.304219\n",
            "Train epoch: 17 [25600/50000 (51%)]\tLoss: 2.301803\n",
            "Train epoch: 17 [28800/50000 (58%)]\tLoss: 2.301995\n",
            "Train epoch: 17 [32000/50000 (64%)]\tLoss: 2.303450\n",
            "Train epoch: 17 [35200/50000 (70%)]\tLoss: 2.302588\n",
            "Train epoch: 17 [38400/50000 (77%)]\tLoss: 2.301888\n",
            "Train epoch: 17 [41600/50000 (83%)]\tLoss: 2.302039\n",
            "Train epoch: 17 [44800/50000 (90%)]\tLoss: 2.303140\n",
            "Train epoch: 17 [48000/50000 (96%)]\tLoss: 2.301495\n",
            "\n",
            "Test set: Average loss: 0.0186, Accuracy: 10.0 (10%)\n",
            "\n"
          ]
        },
        {
          "output_type": "stream",
          "name": "stderr",
          "text": [
            "/usr/local/lib/python3.10/dist-packages/torchvision/transforms/functional.py:1603: UserWarning: The default value of the antialias parameter of all the resizing transforms (Resize(), RandomResizedCrop(), etc.) will change from None to True in v0.17, in order to be consistent across the PIL and Tensor backends. To suppress this warning, directly pass antialias=True (recommended, future default), antialias=None (current default, which means False for Tensors and True for PIL), or antialias=False (only works on Tensors - PIL will still use antialiasing). This also applies if you are using the inference transforms from the models weights: update the call to weights.transforms(antialias=True).\n",
            "  warnings.warn(\n"
          ]
        },
        {
          "output_type": "stream",
          "name": "stdout",
          "text": [
            "\n",
            "Test set: Average loss: 0.0186, Accuracy: 10.0 (10%)\n",
            "\n"
          ]
        },
        {
          "output_type": "stream",
          "name": "stderr",
          "text": [
            "/usr/local/lib/python3.10/dist-packages/torchvision/transforms/functional.py:1603: UserWarning: The default value of the antialias parameter of all the resizing transforms (Resize(), RandomResizedCrop(), etc.) will change from None to True in v0.17, in order to be consistent across the PIL and Tensor backends. To suppress this warning, directly pass antialias=True (recommended, future default), antialias=None (current default, which means False for Tensors and True for PIL), or antialias=False (only works on Tensors - PIL will still use antialiasing). This also applies if you are using the inference transforms from the models weights: update the call to weights.transforms(antialias=True).\n",
            "  warnings.warn(\n"
          ]
        },
        {
          "output_type": "stream",
          "name": "stdout",
          "text": [
            "Train epoch: 18 [0/50000 (0%)]\tLoss: 2.303684\n",
            "Train epoch: 18 [3200/50000 (6%)]\tLoss: 2.303512\n",
            "Train epoch: 18 [6400/50000 (13%)]\tLoss: 2.302633\n",
            "Train epoch: 18 [9600/50000 (19%)]\tLoss: 2.299144\n",
            "Train epoch: 18 [12800/50000 (26%)]\tLoss: 2.302757\n",
            "Train epoch: 18 [16000/50000 (32%)]\tLoss: 2.302594\n",
            "Train epoch: 18 [19200/50000 (38%)]\tLoss: 2.301521\n",
            "Train epoch: 18 [22400/50000 (45%)]\tLoss: 2.300183\n",
            "Train epoch: 18 [25600/50000 (51%)]\tLoss: 2.304634\n",
            "Train epoch: 18 [28800/50000 (58%)]\tLoss: 2.300857\n",
            "Train epoch: 18 [32000/50000 (64%)]\tLoss: 2.301198\n",
            "Train epoch: 18 [35200/50000 (70%)]\tLoss: 2.302499\n",
            "Train epoch: 18 [38400/50000 (77%)]\tLoss: 2.303288\n",
            "Train epoch: 18 [41600/50000 (83%)]\tLoss: 2.300117\n",
            "Train epoch: 18 [44800/50000 (90%)]\tLoss: 2.299787\n",
            "Train epoch: 18 [48000/50000 (96%)]\tLoss: 2.301340\n",
            "\n",
            "Test set: Average loss: 0.0186, Accuracy: 10.0 (10%)\n",
            "\n"
          ]
        },
        {
          "output_type": "stream",
          "name": "stderr",
          "text": [
            "/usr/local/lib/python3.10/dist-packages/torchvision/transforms/functional.py:1603: UserWarning: The default value of the antialias parameter of all the resizing transforms (Resize(), RandomResizedCrop(), etc.) will change from None to True in v0.17, in order to be consistent across the PIL and Tensor backends. To suppress this warning, directly pass antialias=True (recommended, future default), antialias=None (current default, which means False for Tensors and True for PIL), or antialias=False (only works on Tensors - PIL will still use antialiasing). This also applies if you are using the inference transforms from the models weights: update the call to weights.transforms(antialias=True).\n",
            "  warnings.warn(\n"
          ]
        },
        {
          "output_type": "stream",
          "name": "stdout",
          "text": [
            "\n",
            "Test set: Average loss: 0.0186, Accuracy: 10.0 (10%)\n",
            "\n"
          ]
        },
        {
          "output_type": "stream",
          "name": "stderr",
          "text": [
            "/usr/local/lib/python3.10/dist-packages/torchvision/transforms/functional.py:1603: UserWarning: The default value of the antialias parameter of all the resizing transforms (Resize(), RandomResizedCrop(), etc.) will change from None to True in v0.17, in order to be consistent across the PIL and Tensor backends. To suppress this warning, directly pass antialias=True (recommended, future default), antialias=None (current default, which means False for Tensors and True for PIL), or antialias=False (only works on Tensors - PIL will still use antialiasing). This also applies if you are using the inference transforms from the models weights: update the call to weights.transforms(antialias=True).\n",
            "  warnings.warn(\n"
          ]
        },
        {
          "output_type": "stream",
          "name": "stdout",
          "text": [
            "Train epoch: 19 [0/50000 (0%)]\tLoss: 2.301835\n",
            "Train epoch: 19 [3200/50000 (6%)]\tLoss: 2.299469\n",
            "Train epoch: 19 [6400/50000 (13%)]\tLoss: 2.303482\n",
            "Train epoch: 19 [9600/50000 (19%)]\tLoss: 2.301561\n",
            "Train epoch: 19 [12800/50000 (26%)]\tLoss: 2.304939\n",
            "Train epoch: 19 [16000/50000 (32%)]\tLoss: 2.304502\n",
            "Train epoch: 19 [19200/50000 (38%)]\tLoss: 2.301374\n",
            "Train epoch: 19 [22400/50000 (45%)]\tLoss: 2.301622\n",
            "Train epoch: 19 [25600/50000 (51%)]\tLoss: 2.302940\n",
            "Train epoch: 19 [28800/50000 (58%)]\tLoss: 2.303628\n",
            "Train epoch: 19 [32000/50000 (64%)]\tLoss: 2.302310\n",
            "Train epoch: 19 [35200/50000 (70%)]\tLoss: 2.298854\n",
            "Train epoch: 19 [38400/50000 (77%)]\tLoss: 2.297722\n",
            "Train epoch: 19 [41600/50000 (83%)]\tLoss: 2.301186\n",
            "Train epoch: 19 [44800/50000 (90%)]\tLoss: 2.301502\n",
            "Train epoch: 19 [48000/50000 (96%)]\tLoss: 2.298732\n",
            "\n",
            "Test set: Average loss: 0.0186, Accuracy: 10.0 (10%)\n",
            "\n"
          ]
        },
        {
          "output_type": "stream",
          "name": "stderr",
          "text": [
            "/usr/local/lib/python3.10/dist-packages/torchvision/transforms/functional.py:1603: UserWarning: The default value of the antialias parameter of all the resizing transforms (Resize(), RandomResizedCrop(), etc.) will change from None to True in v0.17, in order to be consistent across the PIL and Tensor backends. To suppress this warning, directly pass antialias=True (recommended, future default), antialias=None (current default, which means False for Tensors and True for PIL), or antialias=False (only works on Tensors - PIL will still use antialiasing). This also applies if you are using the inference transforms from the models weights: update the call to weights.transforms(antialias=True).\n",
            "  warnings.warn(\n"
          ]
        },
        {
          "output_type": "stream",
          "name": "stdout",
          "text": [
            "\n",
            "Test set: Average loss: 0.0186, Accuracy: 10.0 (10%)\n",
            "\n"
          ]
        },
        {
          "output_type": "stream",
          "name": "stderr",
          "text": [
            "/usr/local/lib/python3.10/dist-packages/torchvision/transforms/functional.py:1603: UserWarning: The default value of the antialias parameter of all the resizing transforms (Resize(), RandomResizedCrop(), etc.) will change from None to True in v0.17, in order to be consistent across the PIL and Tensor backends. To suppress this warning, directly pass antialias=True (recommended, future default), antialias=None (current default, which means False for Tensors and True for PIL), or antialias=False (only works on Tensors - PIL will still use antialiasing). This also applies if you are using the inference transforms from the models weights: update the call to weights.transforms(antialias=True).\n",
            "  warnings.warn(\n"
          ]
        },
        {
          "output_type": "stream",
          "name": "stdout",
          "text": [
            "Train epoch: 20 [0/50000 (0%)]\tLoss: 2.304579\n",
            "Train epoch: 20 [3200/50000 (6%)]\tLoss: 2.305908\n",
            "Train epoch: 20 [6400/50000 (13%)]\tLoss: 2.302149\n",
            "Train epoch: 20 [9600/50000 (19%)]\tLoss: 2.298195\n",
            "Train epoch: 20 [12800/50000 (26%)]\tLoss: 2.301139\n",
            "Train epoch: 20 [16000/50000 (32%)]\tLoss: 2.301798\n",
            "Train epoch: 20 [19200/50000 (38%)]\tLoss: 2.302298\n",
            "Train epoch: 20 [22400/50000 (45%)]\tLoss: 2.303146\n",
            "Train epoch: 20 [25600/50000 (51%)]\tLoss: 2.304076\n",
            "Train epoch: 20 [28800/50000 (58%)]\tLoss: 2.297605\n",
            "Train epoch: 20 [32000/50000 (64%)]\tLoss: 2.300490\n",
            "Train epoch: 20 [35200/50000 (70%)]\tLoss: 2.302751\n",
            "Train epoch: 20 [38400/50000 (77%)]\tLoss: 2.278373\n",
            "Train epoch: 20 [41600/50000 (83%)]\tLoss: 2.299246\n",
            "Train epoch: 20 [44800/50000 (90%)]\tLoss: 2.302078\n",
            "Train epoch: 20 [48000/50000 (96%)]\tLoss: 2.301894\n",
            "\n",
            "Test set: Average loss: 0.0186, Accuracy: 10.010000228881836 (10%)\n",
            "\n"
          ]
        },
        {
          "output_type": "stream",
          "name": "stderr",
          "text": [
            "/usr/local/lib/python3.10/dist-packages/torchvision/transforms/functional.py:1603: UserWarning: The default value of the antialias parameter of all the resizing transforms (Resize(), RandomResizedCrop(), etc.) will change from None to True in v0.17, in order to be consistent across the PIL and Tensor backends. To suppress this warning, directly pass antialias=True (recommended, future default), antialias=None (current default, which means False for Tensors and True for PIL), or antialias=False (only works on Tensors - PIL will still use antialiasing). This also applies if you are using the inference transforms from the models weights: update the call to weights.transforms(antialias=True).\n",
            "  warnings.warn(\n"
          ]
        },
        {
          "output_type": "stream",
          "name": "stdout",
          "text": [
            "\n",
            "Test set: Average loss: 0.0186, Accuracy: 10.020000457763672 (10%)\n",
            "\n",
            "\n",
            "    ------------------------------\n",
            "    Normal Data Saved: (20, 10.01)\n",
            "    ------------------------------\n",
            "    \n",
            "\n",
            "    -------------------------------\n",
            "    Altered Data Saved: (20, 10.02)\n",
            "    -------------------------------\n",
            "    \n"
          ]
        },
        {
          "output_type": "stream",
          "name": "stderr",
          "text": [
            "/usr/local/lib/python3.10/dist-packages/torchvision/transforms/functional.py:1603: UserWarning: The default value of the antialias parameter of all the resizing transforms (Resize(), RandomResizedCrop(), etc.) will change from None to True in v0.17, in order to be consistent across the PIL and Tensor backends. To suppress this warning, directly pass antialias=True (recommended, future default), antialias=None (current default, which means False for Tensors and True for PIL), or antialias=False (only works on Tensors - PIL will still use antialiasing). This also applies if you are using the inference transforms from the models weights: update the call to weights.transforms(antialias=True).\n",
            "  warnings.warn(\n"
          ]
        },
        {
          "output_type": "stream",
          "name": "stdout",
          "text": [
            "Train epoch: 21 [0/50000 (0%)]\tLoss: 2.305066\n",
            "Train epoch: 21 [3200/50000 (6%)]\tLoss: 2.304776\n",
            "Train epoch: 21 [6400/50000 (13%)]\tLoss: 2.297121\n",
            "Train epoch: 21 [9600/50000 (19%)]\tLoss: 2.295743\n",
            "Train epoch: 21 [12800/50000 (26%)]\tLoss: 2.300778\n",
            "Train epoch: 21 [16000/50000 (32%)]\tLoss: 2.279380\n",
            "Train epoch: 21 [19200/50000 (38%)]\tLoss: 2.295969\n",
            "Train epoch: 21 [22400/50000 (45%)]\tLoss: 2.312565\n",
            "Train epoch: 21 [25600/50000 (51%)]\tLoss: 2.316892\n",
            "Train epoch: 21 [28800/50000 (58%)]\tLoss: 2.268206\n",
            "Train epoch: 21 [32000/50000 (64%)]\tLoss: 2.262421\n",
            "Train epoch: 21 [35200/50000 (70%)]\tLoss: 2.322567\n",
            "Train epoch: 21 [38400/50000 (77%)]\tLoss: 2.244486\n",
            "Train epoch: 21 [41600/50000 (83%)]\tLoss: 2.290372\n",
            "Train epoch: 21 [44800/50000 (90%)]\tLoss: 2.253055\n",
            "Train epoch: 21 [48000/50000 (96%)]\tLoss: 2.297650\n",
            "\n",
            "Test set: Average loss: 0.0185, Accuracy: 12.380000114440918 (12%)\n",
            "\n"
          ]
        },
        {
          "output_type": "stream",
          "name": "stderr",
          "text": [
            "/usr/local/lib/python3.10/dist-packages/torchvision/transforms/functional.py:1603: UserWarning: The default value of the antialias parameter of all the resizing transforms (Resize(), RandomResizedCrop(), etc.) will change from None to True in v0.17, in order to be consistent across the PIL and Tensor backends. To suppress this warning, directly pass antialias=True (recommended, future default), antialias=None (current default, which means False for Tensors and True for PIL), or antialias=False (only works on Tensors - PIL will still use antialiasing). This also applies if you are using the inference transforms from the models weights: update the call to weights.transforms(antialias=True).\n",
            "  warnings.warn(\n"
          ]
        },
        {
          "output_type": "stream",
          "name": "stdout",
          "text": [
            "\n",
            "Test set: Average loss: 0.0185, Accuracy: 12.880000114440918 (13%)\n",
            "\n"
          ]
        },
        {
          "output_type": "stream",
          "name": "stderr",
          "text": [
            "/usr/local/lib/python3.10/dist-packages/torchvision/transforms/functional.py:1603: UserWarning: The default value of the antialias parameter of all the resizing transforms (Resize(), RandomResizedCrop(), etc.) will change from None to True in v0.17, in order to be consistent across the PIL and Tensor backends. To suppress this warning, directly pass antialias=True (recommended, future default), antialias=None (current default, which means False for Tensors and True for PIL), or antialias=False (only works on Tensors - PIL will still use antialiasing). This also applies if you are using the inference transforms from the models weights: update the call to weights.transforms(antialias=True).\n",
            "  warnings.warn(\n"
          ]
        },
        {
          "output_type": "stream",
          "name": "stdout",
          "text": [
            "Train epoch: 22 [0/50000 (0%)]\tLoss: 2.256958\n",
            "Train epoch: 22 [3200/50000 (6%)]\tLoss: 2.209581\n",
            "Train epoch: 22 [6400/50000 (13%)]\tLoss: 2.242279\n",
            "Train epoch: 22 [9600/50000 (19%)]\tLoss: 2.261526\n",
            "Train epoch: 22 [12800/50000 (26%)]\tLoss: 2.286712\n",
            "Train epoch: 22 [16000/50000 (32%)]\tLoss: 2.239591\n",
            "Train epoch: 22 [19200/50000 (38%)]\tLoss: 2.241596\n",
            "Train epoch: 22 [22400/50000 (45%)]\tLoss: 2.293864\n",
            "Train epoch: 22 [25600/50000 (51%)]\tLoss: 2.279661\n",
            "Train epoch: 22 [28800/50000 (58%)]\tLoss: 2.269452\n",
            "Train epoch: 22 [32000/50000 (64%)]\tLoss: 2.217890\n",
            "Train epoch: 22 [35200/50000 (70%)]\tLoss: 2.275155\n",
            "Train epoch: 22 [38400/50000 (77%)]\tLoss: 2.256625\n",
            "Train epoch: 22 [41600/50000 (83%)]\tLoss: 2.239166\n",
            "Train epoch: 22 [44800/50000 (90%)]\tLoss: 2.278318\n",
            "Train epoch: 22 [48000/50000 (96%)]\tLoss: 2.228820\n",
            "\n",
            "Test set: Average loss: 0.0184, Accuracy: 16.020000457763672 (16%)\n",
            "\n"
          ]
        },
        {
          "output_type": "stream",
          "name": "stderr",
          "text": [
            "/usr/local/lib/python3.10/dist-packages/torchvision/transforms/functional.py:1603: UserWarning: The default value of the antialias parameter of all the resizing transforms (Resize(), RandomResizedCrop(), etc.) will change from None to True in v0.17, in order to be consistent across the PIL and Tensor backends. To suppress this warning, directly pass antialias=True (recommended, future default), antialias=None (current default, which means False for Tensors and True for PIL), or antialias=False (only works on Tensors - PIL will still use antialiasing). This also applies if you are using the inference transforms from the models weights: update the call to weights.transforms(antialias=True).\n",
            "  warnings.warn(\n"
          ]
        },
        {
          "output_type": "stream",
          "name": "stdout",
          "text": [
            "\n",
            "Test set: Average loss: 0.0184, Accuracy: 16.040000915527344 (16%)\n",
            "\n"
          ]
        },
        {
          "output_type": "stream",
          "name": "stderr",
          "text": [
            "/usr/local/lib/python3.10/dist-packages/torchvision/transforms/functional.py:1603: UserWarning: The default value of the antialias parameter of all the resizing transforms (Resize(), RandomResizedCrop(), etc.) will change from None to True in v0.17, in order to be consistent across the PIL and Tensor backends. To suppress this warning, directly pass antialias=True (recommended, future default), antialias=None (current default, which means False for Tensors and True for PIL), or antialias=False (only works on Tensors - PIL will still use antialiasing). This also applies if you are using the inference transforms from the models weights: update the call to weights.transforms(antialias=True).\n",
            "  warnings.warn(\n"
          ]
        },
        {
          "output_type": "stream",
          "name": "stdout",
          "text": [
            "Train epoch: 23 [0/50000 (0%)]\tLoss: 2.315328\n",
            "Train epoch: 23 [3200/50000 (6%)]\tLoss: 2.267748\n",
            "Train epoch: 23 [6400/50000 (13%)]\tLoss: 2.275513\n",
            "Train epoch: 23 [9600/50000 (19%)]\tLoss: 2.224712\n",
            "Train epoch: 23 [12800/50000 (26%)]\tLoss: 2.253469\n",
            "Train epoch: 23 [16000/50000 (32%)]\tLoss: 2.247569\n",
            "Train epoch: 23 [19200/50000 (38%)]\tLoss: 2.324184\n",
            "Train epoch: 23 [22400/50000 (45%)]\tLoss: 2.287031\n",
            "Train epoch: 23 [25600/50000 (51%)]\tLoss: 2.191730\n",
            "Train epoch: 23 [28800/50000 (58%)]\tLoss: 2.272974\n",
            "Train epoch: 23 [32000/50000 (64%)]\tLoss: 2.310565\n",
            "Train epoch: 23 [35200/50000 (70%)]\tLoss: 2.249145\n",
            "Train epoch: 23 [38400/50000 (77%)]\tLoss: 2.297312\n",
            "Train epoch: 23 [41600/50000 (83%)]\tLoss: 2.286705\n",
            "Train epoch: 23 [44800/50000 (90%)]\tLoss: 2.285458\n",
            "Train epoch: 23 [48000/50000 (96%)]\tLoss: 2.337902\n",
            "\n",
            "Test set: Average loss: 0.0184, Accuracy: 16.270000457763672 (16%)\n",
            "\n"
          ]
        },
        {
          "output_type": "stream",
          "name": "stderr",
          "text": [
            "/usr/local/lib/python3.10/dist-packages/torchvision/transforms/functional.py:1603: UserWarning: The default value of the antialias parameter of all the resizing transforms (Resize(), RandomResizedCrop(), etc.) will change from None to True in v0.17, in order to be consistent across the PIL and Tensor backends. To suppress this warning, directly pass antialias=True (recommended, future default), antialias=None (current default, which means False for Tensors and True for PIL), or antialias=False (only works on Tensors - PIL will still use antialiasing). This also applies if you are using the inference transforms from the models weights: update the call to weights.transforms(antialias=True).\n",
            "  warnings.warn(\n"
          ]
        },
        {
          "output_type": "stream",
          "name": "stdout",
          "text": [
            "\n",
            "Test set: Average loss: 0.0184, Accuracy: 16.389999389648438 (16%)\n",
            "\n"
          ]
        },
        {
          "output_type": "stream",
          "name": "stderr",
          "text": [
            "/usr/local/lib/python3.10/dist-packages/torchvision/transforms/functional.py:1603: UserWarning: The default value of the antialias parameter of all the resizing transforms (Resize(), RandomResizedCrop(), etc.) will change from None to True in v0.17, in order to be consistent across the PIL and Tensor backends. To suppress this warning, directly pass antialias=True (recommended, future default), antialias=None (current default, which means False for Tensors and True for PIL), or antialias=False (only works on Tensors - PIL will still use antialiasing). This also applies if you are using the inference transforms from the models weights: update the call to weights.transforms(antialias=True).\n",
            "  warnings.warn(\n"
          ]
        },
        {
          "output_type": "stream",
          "name": "stdout",
          "text": [
            "Train epoch: 24 [0/50000 (0%)]\tLoss: 2.265142\n",
            "Train epoch: 24 [3200/50000 (6%)]\tLoss: 2.203150\n",
            "Train epoch: 24 [6400/50000 (13%)]\tLoss: 2.315995\n",
            "Train epoch: 24 [9600/50000 (19%)]\tLoss: 2.185413\n",
            "Train epoch: 24 [12800/50000 (26%)]\tLoss: 2.287704\n",
            "Train epoch: 24 [16000/50000 (32%)]\tLoss: 2.299430\n",
            "Train epoch: 24 [19200/50000 (38%)]\tLoss: 2.315761\n",
            "Train epoch: 24 [22400/50000 (45%)]\tLoss: 2.297742\n",
            "Train epoch: 24 [25600/50000 (51%)]\tLoss: 2.240301\n",
            "Train epoch: 24 [28800/50000 (58%)]\tLoss: 2.285787\n",
            "Train epoch: 24 [32000/50000 (64%)]\tLoss: 2.288674\n",
            "Train epoch: 24 [35200/50000 (70%)]\tLoss: 2.232620\n",
            "Train epoch: 24 [38400/50000 (77%)]\tLoss: 2.273678\n",
            "Train epoch: 24 [41600/50000 (83%)]\tLoss: 2.141613\n",
            "Train epoch: 24 [44800/50000 (90%)]\tLoss: 2.247686\n",
            "Train epoch: 24 [48000/50000 (96%)]\tLoss: 2.281358\n",
            "\n",
            "Test set: Average loss: 0.0184, Accuracy: 16.479999542236328 (16%)\n",
            "\n"
          ]
        },
        {
          "output_type": "stream",
          "name": "stderr",
          "text": [
            "/usr/local/lib/python3.10/dist-packages/torchvision/transforms/functional.py:1603: UserWarning: The default value of the antialias parameter of all the resizing transforms (Resize(), RandomResizedCrop(), etc.) will change from None to True in v0.17, in order to be consistent across the PIL and Tensor backends. To suppress this warning, directly pass antialias=True (recommended, future default), antialias=None (current default, which means False for Tensors and True for PIL), or antialias=False (only works on Tensors - PIL will still use antialiasing). This also applies if you are using the inference transforms from the models weights: update the call to weights.transforms(antialias=True).\n",
            "  warnings.warn(\n"
          ]
        },
        {
          "output_type": "stream",
          "name": "stdout",
          "text": [
            "\n",
            "Test set: Average loss: 0.0184, Accuracy: 16.389999389648438 (16%)\n",
            "\n"
          ]
        },
        {
          "output_type": "stream",
          "name": "stderr",
          "text": [
            "/usr/local/lib/python3.10/dist-packages/torchvision/transforms/functional.py:1603: UserWarning: The default value of the antialias parameter of all the resizing transforms (Resize(), RandomResizedCrop(), etc.) will change from None to True in v0.17, in order to be consistent across the PIL and Tensor backends. To suppress this warning, directly pass antialias=True (recommended, future default), antialias=None (current default, which means False for Tensors and True for PIL), or antialias=False (only works on Tensors - PIL will still use antialiasing). This also applies if you are using the inference transforms from the models weights: update the call to weights.transforms(antialias=True).\n",
            "  warnings.warn(\n"
          ]
        },
        {
          "output_type": "stream",
          "name": "stdout",
          "text": [
            "Train epoch: 25 [0/50000 (0%)]\tLoss: 2.253134\n",
            "Train epoch: 25 [3200/50000 (6%)]\tLoss: 2.173755\n",
            "Train epoch: 25 [6400/50000 (13%)]\tLoss: 2.257622\n",
            "Train epoch: 25 [9600/50000 (19%)]\tLoss: 2.243479\n",
            "Train epoch: 25 [12800/50000 (26%)]\tLoss: 2.225289\n",
            "Train epoch: 25 [16000/50000 (32%)]\tLoss: 2.318657\n",
            "Train epoch: 25 [19200/50000 (38%)]\tLoss: 2.256166\n",
            "Train epoch: 25 [22400/50000 (45%)]\tLoss: 2.277700\n",
            "Train epoch: 25 [25600/50000 (51%)]\tLoss: 2.270860\n",
            "Train epoch: 25 [28800/50000 (58%)]\tLoss: 2.280378\n",
            "Train epoch: 25 [32000/50000 (64%)]\tLoss: 2.336103\n",
            "Train epoch: 25 [35200/50000 (70%)]\tLoss: 2.237112\n",
            "Train epoch: 25 [38400/50000 (77%)]\tLoss: 2.289189\n",
            "Train epoch: 25 [41600/50000 (83%)]\tLoss: 2.243399\n",
            "Train epoch: 25 [44800/50000 (90%)]\tLoss: 2.230118\n",
            "Train epoch: 25 [48000/50000 (96%)]\tLoss: 2.282423\n",
            "\n",
            "Test set: Average loss: 0.0183, Accuracy: 16.290000915527344 (16%)\n",
            "\n"
          ]
        },
        {
          "output_type": "stream",
          "name": "stderr",
          "text": [
            "/usr/local/lib/python3.10/dist-packages/torchvision/transforms/functional.py:1603: UserWarning: The default value of the antialias parameter of all the resizing transforms (Resize(), RandomResizedCrop(), etc.) will change from None to True in v0.17, in order to be consistent across the PIL and Tensor backends. To suppress this warning, directly pass antialias=True (recommended, future default), antialias=None (current default, which means False for Tensors and True for PIL), or antialias=False (only works on Tensors - PIL will still use antialiasing). This also applies if you are using the inference transforms from the models weights: update the call to weights.transforms(antialias=True).\n",
            "  warnings.warn(\n"
          ]
        },
        {
          "output_type": "stream",
          "name": "stdout",
          "text": [
            "\n",
            "Test set: Average loss: 0.0183, Accuracy: 16.290000915527344 (16%)\n",
            "\n"
          ]
        },
        {
          "output_type": "stream",
          "name": "stderr",
          "text": [
            "/usr/local/lib/python3.10/dist-packages/torchvision/transforms/functional.py:1603: UserWarning: The default value of the antialias parameter of all the resizing transforms (Resize(), RandomResizedCrop(), etc.) will change from None to True in v0.17, in order to be consistent across the PIL and Tensor backends. To suppress this warning, directly pass antialias=True (recommended, future default), antialias=None (current default, which means False for Tensors and True for PIL), or antialias=False (only works on Tensors - PIL will still use antialiasing). This also applies if you are using the inference transforms from the models weights: update the call to weights.transforms(antialias=True).\n",
            "  warnings.warn(\n"
          ]
        },
        {
          "output_type": "stream",
          "name": "stdout",
          "text": [
            "Train epoch: 26 [0/50000 (0%)]\tLoss: 2.275882\n",
            "Train epoch: 26 [3200/50000 (6%)]\tLoss: 2.306963\n",
            "Train epoch: 26 [6400/50000 (13%)]\tLoss: 2.254330\n",
            "Train epoch: 26 [9600/50000 (19%)]\tLoss: 2.283095\n",
            "Train epoch: 26 [12800/50000 (26%)]\tLoss: 2.224737\n",
            "Train epoch: 26 [16000/50000 (32%)]\tLoss: 2.254452\n",
            "Train epoch: 26 [19200/50000 (38%)]\tLoss: 2.212121\n",
            "Train epoch: 26 [22400/50000 (45%)]\tLoss: 2.266133\n",
            "Train epoch: 26 [25600/50000 (51%)]\tLoss: 2.190460\n",
            "Train epoch: 26 [28800/50000 (58%)]\tLoss: 2.282112\n",
            "Train epoch: 26 [32000/50000 (64%)]\tLoss: 2.245266\n",
            "Train epoch: 26 [35200/50000 (70%)]\tLoss: 2.274454\n",
            "Train epoch: 26 [38400/50000 (77%)]\tLoss: 2.228856\n",
            "Train epoch: 26 [41600/50000 (83%)]\tLoss: 2.349108\n",
            "Train epoch: 26 [44800/50000 (90%)]\tLoss: 2.292487\n",
            "Train epoch: 26 [48000/50000 (96%)]\tLoss: 2.259048\n",
            "\n",
            "Test set: Average loss: 0.0183, Accuracy: 14.15999984741211 (14%)\n",
            "\n"
          ]
        },
        {
          "output_type": "stream",
          "name": "stderr",
          "text": [
            "/usr/local/lib/python3.10/dist-packages/torchvision/transforms/functional.py:1603: UserWarning: The default value of the antialias parameter of all the resizing transforms (Resize(), RandomResizedCrop(), etc.) will change from None to True in v0.17, in order to be consistent across the PIL and Tensor backends. To suppress this warning, directly pass antialias=True (recommended, future default), antialias=None (current default, which means False for Tensors and True for PIL), or antialias=False (only works on Tensors - PIL will still use antialiasing). This also applies if you are using the inference transforms from the models weights: update the call to weights.transforms(antialias=True).\n",
            "  warnings.warn(\n"
          ]
        },
        {
          "output_type": "stream",
          "name": "stdout",
          "text": [
            "\n",
            "Test set: Average loss: 0.0183, Accuracy: 14.319999694824219 (14%)\n",
            "\n"
          ]
        },
        {
          "output_type": "stream",
          "name": "stderr",
          "text": [
            "/usr/local/lib/python3.10/dist-packages/torchvision/transforms/functional.py:1603: UserWarning: The default value of the antialias parameter of all the resizing transforms (Resize(), RandomResizedCrop(), etc.) will change from None to True in v0.17, in order to be consistent across the PIL and Tensor backends. To suppress this warning, directly pass antialias=True (recommended, future default), antialias=None (current default, which means False for Tensors and True for PIL), or antialias=False (only works on Tensors - PIL will still use antialiasing). This also applies if you are using the inference transforms from the models weights: update the call to weights.transforms(antialias=True).\n",
            "  warnings.warn(\n"
          ]
        },
        {
          "output_type": "stream",
          "name": "stdout",
          "text": [
            "Train epoch: 27 [0/50000 (0%)]\tLoss: 2.198513\n",
            "Train epoch: 27 [3200/50000 (6%)]\tLoss: 2.286674\n",
            "Train epoch: 27 [6400/50000 (13%)]\tLoss: 2.262738\n",
            "Train epoch: 27 [9600/50000 (19%)]\tLoss: 2.267883\n",
            "Train epoch: 27 [12800/50000 (26%)]\tLoss: 2.235715\n",
            "Train epoch: 27 [16000/50000 (32%)]\tLoss: 2.280241\n",
            "Train epoch: 27 [19200/50000 (38%)]\tLoss: 2.239127\n",
            "Train epoch: 27 [22400/50000 (45%)]\tLoss: 2.215285\n",
            "Train epoch: 27 [25600/50000 (51%)]\tLoss: 2.214750\n",
            "Train epoch: 27 [28800/50000 (58%)]\tLoss: 2.293761\n",
            "Train epoch: 27 [32000/50000 (64%)]\tLoss: 2.273378\n",
            "Train epoch: 27 [35200/50000 (70%)]\tLoss: 2.246890\n",
            "Train epoch: 27 [38400/50000 (77%)]\tLoss: 2.200220\n",
            "Train epoch: 27 [41600/50000 (83%)]\tLoss: 2.138424\n",
            "Train epoch: 27 [44800/50000 (90%)]\tLoss: 2.145403\n",
            "Train epoch: 27 [48000/50000 (96%)]\tLoss: 2.214803\n",
            "\n",
            "Test set: Average loss: 0.0185, Accuracy: 14.100000381469727 (14%)\n",
            "\n"
          ]
        },
        {
          "output_type": "stream",
          "name": "stderr",
          "text": [
            "/usr/local/lib/python3.10/dist-packages/torchvision/transforms/functional.py:1603: UserWarning: The default value of the antialias parameter of all the resizing transforms (Resize(), RandomResizedCrop(), etc.) will change from None to True in v0.17, in order to be consistent across the PIL and Tensor backends. To suppress this warning, directly pass antialias=True (recommended, future default), antialias=None (current default, which means False for Tensors and True for PIL), or antialias=False (only works on Tensors - PIL will still use antialiasing). This also applies if you are using the inference transforms from the models weights: update the call to weights.transforms(antialias=True).\n",
            "  warnings.warn(\n"
          ]
        },
        {
          "output_type": "stream",
          "name": "stdout",
          "text": [
            "\n",
            "Test set: Average loss: 0.0186, Accuracy: 13.829999923706055 (14%)\n",
            "\n"
          ]
        },
        {
          "output_type": "stream",
          "name": "stderr",
          "text": [
            "/usr/local/lib/python3.10/dist-packages/torchvision/transforms/functional.py:1603: UserWarning: The default value of the antialias parameter of all the resizing transforms (Resize(), RandomResizedCrop(), etc.) will change from None to True in v0.17, in order to be consistent across the PIL and Tensor backends. To suppress this warning, directly pass antialias=True (recommended, future default), antialias=None (current default, which means False for Tensors and True for PIL), or antialias=False (only works on Tensors - PIL will still use antialiasing). This also applies if you are using the inference transforms from the models weights: update the call to weights.transforms(antialias=True).\n",
            "  warnings.warn(\n"
          ]
        },
        {
          "output_type": "stream",
          "name": "stdout",
          "text": [
            "Train epoch: 28 [0/50000 (0%)]\tLoss: 2.350950\n",
            "Train epoch: 28 [3200/50000 (6%)]\tLoss: 2.291544\n",
            "Train epoch: 28 [6400/50000 (13%)]\tLoss: 2.249242\n",
            "Train epoch: 28 [9600/50000 (19%)]\tLoss: 2.232388\n",
            "Train epoch: 28 [12800/50000 (26%)]\tLoss: 2.218634\n",
            "Train epoch: 28 [16000/50000 (32%)]\tLoss: 2.354853\n",
            "Train epoch: 28 [19200/50000 (38%)]\tLoss: 2.232694\n",
            "Train epoch: 28 [22400/50000 (45%)]\tLoss: 2.268696\n",
            "Train epoch: 28 [25600/50000 (51%)]\tLoss: 2.271336\n",
            "Train epoch: 28 [28800/50000 (58%)]\tLoss: 2.278816\n",
            "Train epoch: 28 [32000/50000 (64%)]\tLoss: 2.325250\n",
            "Train epoch: 28 [35200/50000 (70%)]\tLoss: 2.208811\n",
            "Train epoch: 28 [38400/50000 (77%)]\tLoss: 2.218919\n",
            "Train epoch: 28 [41600/50000 (83%)]\tLoss: 2.201980\n",
            "Train epoch: 28 [44800/50000 (90%)]\tLoss: 2.334724\n",
            "Train epoch: 28 [48000/50000 (96%)]\tLoss: 2.218386\n",
            "\n",
            "Test set: Average loss: 0.0180, Accuracy: 16.09000015258789 (16%)\n",
            "\n"
          ]
        },
        {
          "output_type": "stream",
          "name": "stderr",
          "text": [
            "/usr/local/lib/python3.10/dist-packages/torchvision/transforms/functional.py:1603: UserWarning: The default value of the antialias parameter of all the resizing transforms (Resize(), RandomResizedCrop(), etc.) will change from None to True in v0.17, in order to be consistent across the PIL and Tensor backends. To suppress this warning, directly pass antialias=True (recommended, future default), antialias=None (current default, which means False for Tensors and True for PIL), or antialias=False (only works on Tensors - PIL will still use antialiasing). This also applies if you are using the inference transforms from the models weights: update the call to weights.transforms(antialias=True).\n",
            "  warnings.warn(\n"
          ]
        },
        {
          "output_type": "stream",
          "name": "stdout",
          "text": [
            "\n",
            "Test set: Average loss: 0.0181, Accuracy: 15.899999618530273 (16%)\n",
            "\n"
          ]
        },
        {
          "output_type": "stream",
          "name": "stderr",
          "text": [
            "/usr/local/lib/python3.10/dist-packages/torchvision/transforms/functional.py:1603: UserWarning: The default value of the antialias parameter of all the resizing transforms (Resize(), RandomResizedCrop(), etc.) will change from None to True in v0.17, in order to be consistent across the PIL and Tensor backends. To suppress this warning, directly pass antialias=True (recommended, future default), antialias=None (current default, which means False for Tensors and True for PIL), or antialias=False (only works on Tensors - PIL will still use antialiasing). This also applies if you are using the inference transforms from the models weights: update the call to weights.transforms(antialias=True).\n",
            "  warnings.warn(\n"
          ]
        },
        {
          "output_type": "stream",
          "name": "stdout",
          "text": [
            "Train epoch: 29 [0/50000 (0%)]\tLoss: 2.181071\n",
            "Train epoch: 29 [3200/50000 (6%)]\tLoss: 2.263653\n",
            "Train epoch: 29 [6400/50000 (13%)]\tLoss: 2.146491\n",
            "Train epoch: 29 [9600/50000 (19%)]\tLoss: 2.213193\n",
            "Train epoch: 29 [12800/50000 (26%)]\tLoss: 2.180495\n",
            "Train epoch: 29 [16000/50000 (32%)]\tLoss: 2.208576\n",
            "Train epoch: 29 [19200/50000 (38%)]\tLoss: 2.310227\n",
            "Train epoch: 29 [22400/50000 (45%)]\tLoss: 2.166306\n",
            "Train epoch: 29 [25600/50000 (51%)]\tLoss: 2.270818\n",
            "Train epoch: 29 [28800/50000 (58%)]\tLoss: 2.182894\n",
            "Train epoch: 29 [32000/50000 (64%)]\tLoss: 2.277817\n",
            "Train epoch: 29 [35200/50000 (70%)]\tLoss: 2.220995\n",
            "Train epoch: 29 [38400/50000 (77%)]\tLoss: 2.242125\n",
            "Train epoch: 29 [41600/50000 (83%)]\tLoss: 2.220538\n",
            "Train epoch: 29 [44800/50000 (90%)]\tLoss: 2.227439\n",
            "Train epoch: 29 [48000/50000 (96%)]\tLoss: 2.224482\n",
            "\n",
            "Test set: Average loss: 0.0182, Accuracy: 16.010000228881836 (16%)\n",
            "\n"
          ]
        },
        {
          "output_type": "stream",
          "name": "stderr",
          "text": [
            "/usr/local/lib/python3.10/dist-packages/torchvision/transforms/functional.py:1603: UserWarning: The default value of the antialias parameter of all the resizing transforms (Resize(), RandomResizedCrop(), etc.) will change from None to True in v0.17, in order to be consistent across the PIL and Tensor backends. To suppress this warning, directly pass antialias=True (recommended, future default), antialias=None (current default, which means False for Tensors and True for PIL), or antialias=False (only works on Tensors - PIL will still use antialiasing). This also applies if you are using the inference transforms from the models weights: update the call to weights.transforms(antialias=True).\n",
            "  warnings.warn(\n"
          ]
        },
        {
          "output_type": "stream",
          "name": "stdout",
          "text": [
            "\n",
            "Test set: Average loss: 0.0182, Accuracy: 15.5 (16%)\n",
            "\n"
          ]
        },
        {
          "output_type": "stream",
          "name": "stderr",
          "text": [
            "/usr/local/lib/python3.10/dist-packages/torchvision/transforms/functional.py:1603: UserWarning: The default value of the antialias parameter of all the resizing transforms (Resize(), RandomResizedCrop(), etc.) will change from None to True in v0.17, in order to be consistent across the PIL and Tensor backends. To suppress this warning, directly pass antialias=True (recommended, future default), antialias=None (current default, which means False for Tensors and True for PIL), or antialias=False (only works on Tensors - PIL will still use antialiasing). This also applies if you are using the inference transforms from the models weights: update the call to weights.transforms(antialias=True).\n",
            "  warnings.warn(\n"
          ]
        },
        {
          "output_type": "stream",
          "name": "stdout",
          "text": [
            "Train epoch: 30 [0/50000 (0%)]\tLoss: 2.286914\n",
            "Train epoch: 30 [3200/50000 (6%)]\tLoss: 2.194202\n",
            "Train epoch: 30 [6400/50000 (13%)]\tLoss: 2.188122\n",
            "Train epoch: 30 [9600/50000 (19%)]\tLoss: 2.199097\n",
            "Train epoch: 30 [12800/50000 (26%)]\tLoss: 2.279699\n",
            "Train epoch: 30 [16000/50000 (32%)]\tLoss: 2.254191\n",
            "Train epoch: 30 [19200/50000 (38%)]\tLoss: 2.303706\n",
            "Train epoch: 30 [22400/50000 (45%)]\tLoss: 2.068370\n",
            "Train epoch: 30 [25600/50000 (51%)]\tLoss: 2.144275\n",
            "Train epoch: 30 [28800/50000 (58%)]\tLoss: 2.335772\n",
            "Train epoch: 30 [32000/50000 (64%)]\tLoss: 2.382573\n",
            "Train epoch: 30 [35200/50000 (70%)]\tLoss: 2.237658\n",
            "Train epoch: 30 [38400/50000 (77%)]\tLoss: 2.185682\n",
            "Train epoch: 30 [41600/50000 (83%)]\tLoss: 2.279679\n",
            "Train epoch: 30 [44800/50000 (90%)]\tLoss: 2.145926\n",
            "Train epoch: 30 [48000/50000 (96%)]\tLoss: 2.201326\n",
            "\n",
            "Test set: Average loss: 0.0178, Accuracy: 19.290000915527344 (19%)\n",
            "\n"
          ]
        },
        {
          "output_type": "stream",
          "name": "stderr",
          "text": [
            "/usr/local/lib/python3.10/dist-packages/torchvision/transforms/functional.py:1603: UserWarning: The default value of the antialias parameter of all the resizing transforms (Resize(), RandomResizedCrop(), etc.) will change from None to True in v0.17, in order to be consistent across the PIL and Tensor backends. To suppress this warning, directly pass antialias=True (recommended, future default), antialias=None (current default, which means False for Tensors and True for PIL), or antialias=False (only works on Tensors - PIL will still use antialiasing). This also applies if you are using the inference transforms from the models weights: update the call to weights.transforms(antialias=True).\n",
            "  warnings.warn(\n"
          ]
        },
        {
          "output_type": "stream",
          "name": "stdout",
          "text": [
            "\n",
            "Test set: Average loss: 0.0179, Accuracy: 18.739999771118164 (19%)\n",
            "\n",
            "\n",
            "    ------------------------------\n",
            "    Normal Data Saved: (30, 19.29)\n",
            "    ------------------------------\n",
            "    \n",
            "\n",
            "    -------------------------------\n",
            "    Altered Data Saved: (30, 18.74)\n",
            "    -------------------------------\n",
            "    \n"
          ]
        },
        {
          "output_type": "stream",
          "name": "stderr",
          "text": [
            "/usr/local/lib/python3.10/dist-packages/torchvision/transforms/functional.py:1603: UserWarning: The default value of the antialias parameter of all the resizing transforms (Resize(), RandomResizedCrop(), etc.) will change from None to True in v0.17, in order to be consistent across the PIL and Tensor backends. To suppress this warning, directly pass antialias=True (recommended, future default), antialias=None (current default, which means False for Tensors and True for PIL), or antialias=False (only works on Tensors - PIL will still use antialiasing). This also applies if you are using the inference transforms from the models weights: update the call to weights.transforms(antialias=True).\n",
            "  warnings.warn(\n"
          ]
        },
        {
          "output_type": "stream",
          "name": "stdout",
          "text": [
            "Train epoch: 31 [0/50000 (0%)]\tLoss: 2.260337\n",
            "Train epoch: 31 [3200/50000 (6%)]\tLoss: 2.174154\n",
            "Train epoch: 31 [6400/50000 (13%)]\tLoss: 2.149717\n",
            "Train epoch: 31 [9600/50000 (19%)]\tLoss: 2.144910\n",
            "Train epoch: 31 [12800/50000 (26%)]\tLoss: 2.150896\n",
            "Train epoch: 31 [16000/50000 (32%)]\tLoss: 2.200761\n",
            "Train epoch: 31 [19200/50000 (38%)]\tLoss: 2.141160\n",
            "Train epoch: 31 [22400/50000 (45%)]\tLoss: 2.276514\n",
            "Train epoch: 31 [25600/50000 (51%)]\tLoss: 2.206331\n",
            "Train epoch: 31 [28800/50000 (58%)]\tLoss: 2.205575\n",
            "Train epoch: 31 [32000/50000 (64%)]\tLoss: 2.226479\n",
            "Train epoch: 31 [35200/50000 (70%)]\tLoss: 2.151966\n",
            "Train epoch: 31 [38400/50000 (77%)]\tLoss: 2.269119\n",
            "Train epoch: 31 [41600/50000 (83%)]\tLoss: 2.308760\n",
            "Train epoch: 31 [44800/50000 (90%)]\tLoss: 2.141594\n",
            "Train epoch: 31 [48000/50000 (96%)]\tLoss: 2.228616\n",
            "\n",
            "Test set: Average loss: 0.0177, Accuracy: 20.190000534057617 (20%)\n",
            "\n"
          ]
        },
        {
          "output_type": "stream",
          "name": "stderr",
          "text": [
            "/usr/local/lib/python3.10/dist-packages/torchvision/transforms/functional.py:1603: UserWarning: The default value of the antialias parameter of all the resizing transforms (Resize(), RandomResizedCrop(), etc.) will change from None to True in v0.17, in order to be consistent across the PIL and Tensor backends. To suppress this warning, directly pass antialias=True (recommended, future default), antialias=None (current default, which means False for Tensors and True for PIL), or antialias=False (only works on Tensors - PIL will still use antialiasing). This also applies if you are using the inference transforms from the models weights: update the call to weights.transforms(antialias=True).\n",
            "  warnings.warn(\n",
            "Exception ignored in: <function _MultiProcessingDataLoaderIter.__del__ at 0x7b13840e4dc0>\n",
            "Traceback (most recent call last):\n",
            "  File \"/usr/local/lib/python3.10/dist-packages/torch/utils/data/dataloader.py\", line 1478, in __del__\n",
            "    self._shutdown_workers()\n",
            "  File \"/usr/local/lib/python3.10/dist-packages/torch/utils/data/dataloader.py\", line 1461, in _shutdown_workers\n",
            "    if w.is_alive():\n",
            "  File \"/usr/lib/python3.10/multiprocessing/process.py\", line 160, in is_alive\n",
            "    assert self._parent_pid == os.getpid(), 'can only test a child process'\n",
            "AssertionError: can only test a child process\n"
          ]
        },
        {
          "output_type": "stream",
          "name": "stdout",
          "text": [
            "\n",
            "Test set: Average loss: 0.0177, Accuracy: 20.25 (20%)\n",
            "\n"
          ]
        },
        {
          "output_type": "stream",
          "name": "stderr",
          "text": [
            "/usr/local/lib/python3.10/dist-packages/torchvision/transforms/functional.py:1603: UserWarning: The default value of the antialias parameter of all the resizing transforms (Resize(), RandomResizedCrop(), etc.) will change from None to True in v0.17, in order to be consistent across the PIL and Tensor backends. To suppress this warning, directly pass antialias=True (recommended, future default), antialias=None (current default, which means False for Tensors and True for PIL), or antialias=False (only works on Tensors - PIL will still use antialiasing). This also applies if you are using the inference transforms from the models weights: update the call to weights.transforms(antialias=True).\n",
            "  warnings.warn(\n"
          ]
        },
        {
          "output_type": "stream",
          "name": "stdout",
          "text": [
            "Train epoch: 32 [0/50000 (0%)]\tLoss: 2.145839\n",
            "Train epoch: 32 [3200/50000 (6%)]\tLoss: 2.021578\n",
            "Train epoch: 32 [6400/50000 (13%)]\tLoss: 2.249963\n",
            "Train epoch: 32 [9600/50000 (19%)]\tLoss: 2.114193\n",
            "Train epoch: 32 [12800/50000 (26%)]\tLoss: 2.385502\n",
            "Train epoch: 32 [16000/50000 (32%)]\tLoss: 2.066377\n",
            "Train epoch: 32 [19200/50000 (38%)]\tLoss: 2.219976\n",
            "Train epoch: 32 [22400/50000 (45%)]\tLoss: 2.226633\n",
            "Train epoch: 32 [25600/50000 (51%)]\tLoss: 2.164470\n",
            "Train epoch: 32 [28800/50000 (58%)]\tLoss: 2.283122\n",
            "Train epoch: 32 [32000/50000 (64%)]\tLoss: 2.258421\n",
            "Train epoch: 32 [35200/50000 (70%)]\tLoss: 2.092194\n",
            "Train epoch: 32 [38400/50000 (77%)]\tLoss: 2.280818\n",
            "Train epoch: 32 [41600/50000 (83%)]\tLoss: 2.268154\n",
            "Train epoch: 32 [44800/50000 (90%)]\tLoss: 2.167001\n",
            "Train epoch: 32 [48000/50000 (96%)]\tLoss: 2.148643\n"
          ]
        },
        {
          "output_type": "stream",
          "name": "stderr",
          "text": [
            "Exception ignored in: <function _MultiProcessingDataLoaderIter.__del__ at 0x7b13840e4dc0>\n",
            "Traceback (most recent call last):\n",
            "  File \"/usr/local/lib/python3.10/dist-packages/torch/utils/data/dataloader.py\", line 1478, in __del__\n",
            "    self._shutdown_workers()\n",
            "  File \"/usr/local/lib/python3.10/dist-packages/torch/utils/data/dataloader.py\", line 1461, in _shutdown_workers\n",
            "    if w.is_alive():\n",
            "  File \"/usr/lib/python3.10/multiprocessing/process.py\", line 160, in is_alive\n",
            "    assert self._parent_pid == os.getpid(), 'can only test a child process'\n",
            "AssertionError: can only test a child process\n"
          ]
        },
        {
          "output_type": "stream",
          "name": "stdout",
          "text": [
            "\n",
            "Test set: Average loss: 0.0175, Accuracy: 21.200000762939453 (21%)\n",
            "\n"
          ]
        },
        {
          "output_type": "stream",
          "name": "stderr",
          "text": [
            "/usr/local/lib/python3.10/dist-packages/torchvision/transforms/functional.py:1603: UserWarning: The default value of the antialias parameter of all the resizing transforms (Resize(), RandomResizedCrop(), etc.) will change from None to True in v0.17, in order to be consistent across the PIL and Tensor backends. To suppress this warning, directly pass antialias=True (recommended, future default), antialias=None (current default, which means False for Tensors and True for PIL), or antialias=False (only works on Tensors - PIL will still use antialiasing). This also applies if you are using the inference transforms from the models weights: update the call to weights.transforms(antialias=True).\n",
            "  warnings.warn(\n",
            "Exception ignored in: <function _MultiProcessingDataLoaderIter.__del__ at 0x7b13840e4dc0>\n",
            "Traceback (most recent call last):\n",
            "  File \"/usr/local/lib/python3.10/dist-packages/torch/utils/data/dataloader.py\", line 1478, in __del__\n",
            "    self._shutdown_workers()\n",
            "  File \"/usr/local/lib/python3.10/dist-packages/torch/utils/data/dataloader.py\", line 1461, in _shutdown_workers\n",
            "    if w.is_alive():\n",
            "  File \"/usr/lib/python3.10/multiprocessing/process.py\", line 160, in is_alive\n",
            "    assert self._parent_pid == os.getpid(), 'can only test a child process'\n",
            "AssertionError: can only test a child process\n"
          ]
        },
        {
          "output_type": "stream",
          "name": "stdout",
          "text": [
            "\n",
            "Test set: Average loss: 0.0174, Accuracy: 22.1299991607666 (22%)\n",
            "\n"
          ]
        },
        {
          "output_type": "stream",
          "name": "stderr",
          "text": [
            "/usr/local/lib/python3.10/dist-packages/torchvision/transforms/functional.py:1603: UserWarning: The default value of the antialias parameter of all the resizing transforms (Resize(), RandomResizedCrop(), etc.) will change from None to True in v0.17, in order to be consistent across the PIL and Tensor backends. To suppress this warning, directly pass antialias=True (recommended, future default), antialias=None (current default, which means False for Tensors and True for PIL), or antialias=False (only works on Tensors - PIL will still use antialiasing). This also applies if you are using the inference transforms from the models weights: update the call to weights.transforms(antialias=True).\n",
            "  warnings.warn(\n"
          ]
        },
        {
          "output_type": "stream",
          "name": "stdout",
          "text": [
            "Train epoch: 33 [0/50000 (0%)]\tLoss: 2.270180\n",
            "Train epoch: 33 [3200/50000 (6%)]\tLoss: 2.193165\n",
            "Train epoch: 33 [6400/50000 (13%)]\tLoss: 2.165754\n",
            "Train epoch: 33 [9600/50000 (19%)]\tLoss: 2.130493\n",
            "Train epoch: 33 [12800/50000 (26%)]\tLoss: 2.150285\n",
            "Train epoch: 33 [16000/50000 (32%)]\tLoss: 2.116478\n",
            "Train epoch: 33 [19200/50000 (38%)]\tLoss: 2.221677\n",
            "Train epoch: 33 [22400/50000 (45%)]\tLoss: 2.206341\n",
            "Train epoch: 33 [25600/50000 (51%)]\tLoss: 2.279270\n",
            "Train epoch: 33 [28800/50000 (58%)]\tLoss: 2.317562\n",
            "Train epoch: 33 [32000/50000 (64%)]\tLoss: 2.042765\n",
            "Train epoch: 33 [35200/50000 (70%)]\tLoss: 2.094787\n",
            "Train epoch: 33 [38400/50000 (77%)]\tLoss: 2.197670\n",
            "Train epoch: 33 [41600/50000 (83%)]\tLoss: 2.070244\n",
            "Train epoch: 33 [44800/50000 (90%)]\tLoss: 2.095807\n",
            "Train epoch: 33 [48000/50000 (96%)]\tLoss: 2.116057\n"
          ]
        },
        {
          "output_type": "stream",
          "name": "stderr",
          "text": [
            "Exception ignored in: <function _MultiProcessingDataLoaderIter.__del__ at 0x7b13840e4dc0>\n",
            "Traceback (most recent call last):\n",
            "  File \"/usr/local/lib/python3.10/dist-packages/torch/utils/data/dataloader.py\", line 1478, in __del__\n",
            "    self._shutdown_workers()\n",
            "  File \"/usr/local/lib/python3.10/dist-packages/torch/utils/data/dataloader.py\", line 1461, in _shutdown_workers\n",
            "    if w.is_alive():\n",
            "  File \"/usr/lib/python3.10/multiprocessing/process.py\", line 160, in is_alive\n",
            "    assert self._parent_pid == os.getpid(), 'can only test a child process'\n",
            "AssertionError: can only test a child process\n"
          ]
        },
        {
          "output_type": "stream",
          "name": "stdout",
          "text": [
            "\n",
            "Test set: Average loss: 0.0172, Accuracy: 23.81999969482422 (24%)\n",
            "\n"
          ]
        },
        {
          "output_type": "stream",
          "name": "stderr",
          "text": [
            "/usr/local/lib/python3.10/dist-packages/torchvision/transforms/functional.py:1603: UserWarning: The default value of the antialias parameter of all the resizing transforms (Resize(), RandomResizedCrop(), etc.) will change from None to True in v0.17, in order to be consistent across the PIL and Tensor backends. To suppress this warning, directly pass antialias=True (recommended, future default), antialias=None (current default, which means False for Tensors and True for PIL), or antialias=False (only works on Tensors - PIL will still use antialiasing). This also applies if you are using the inference transforms from the models weights: update the call to weights.transforms(antialias=True).\n",
            "  warnings.warn(\n",
            "Exception ignored in: <function _MultiProcessingDataLoaderIter.__del__ at 0x7b13840e4dc0>\n",
            "Traceback (most recent call last):\n",
            "  File \"/usr/local/lib/python3.10/dist-packages/torch/utils/data/dataloader.py\", line 1478, in __del__\n",
            "    self._shutdown_workers()\n",
            "  File \"/usr/local/lib/python3.10/dist-packages/torch/utils/data/dataloader.py\", line 1461, in _shutdown_workers\n",
            "    if w.is_alive():\n",
            "  File \"/usr/lib/python3.10/multiprocessing/process.py\", line 160, in is_alive\n",
            "    assert self._parent_pid == os.getpid(), 'can only test a child process'\n",
            "AssertionError: can only test a child process\n"
          ]
        },
        {
          "output_type": "stream",
          "name": "stdout",
          "text": [
            "\n",
            "Test set: Average loss: 0.0173, Accuracy: 24.479999542236328 (24%)\n",
            "\n"
          ]
        },
        {
          "output_type": "stream",
          "name": "stderr",
          "text": [
            "/usr/local/lib/python3.10/dist-packages/torchvision/transforms/functional.py:1603: UserWarning: The default value of the antialias parameter of all the resizing transforms (Resize(), RandomResizedCrop(), etc.) will change from None to True in v0.17, in order to be consistent across the PIL and Tensor backends. To suppress this warning, directly pass antialias=True (recommended, future default), antialias=None (current default, which means False for Tensors and True for PIL), or antialias=False (only works on Tensors - PIL will still use antialiasing). This also applies if you are using the inference transforms from the models weights: update the call to weights.transforms(antialias=True).\n",
            "  warnings.warn(\n"
          ]
        },
        {
          "output_type": "stream",
          "name": "stdout",
          "text": [
            "Train epoch: 34 [0/50000 (0%)]\tLoss: 2.247402\n"
          ]
        },
        {
          "output_type": "stream",
          "name": "stderr",
          "text": [
            "Exception ignored in: <function _MultiProcessingDataLoaderIter.__del__ at 0x7b13840e4dc0>\n",
            "Traceback (most recent call last):\n",
            "  File \"/usr/local/lib/python3.10/dist-packages/torch/utils/data/dataloader.py\", line 1478, in __del__\n",
            "    self._shutdown_workers()\n",
            "  File \"/usr/local/lib/python3.10/dist-packages/torch/utils/data/dataloader.py\", line 1461, in _shutdown_workers\n",
            "    if w.is_alive():\n",
            "  File \"/usr/lib/python3.10/multiprocessing/process.py\", line 160, in is_alive\n",
            "    assert self._parent_pid == os.getpid(), 'can only test a child process'\n",
            "AssertionError: can only test a child process\n"
          ]
        },
        {
          "output_type": "stream",
          "name": "stdout",
          "text": [
            "Train epoch: 34 [3200/50000 (6%)]\tLoss: 2.144421\n",
            "Train epoch: 34 [6400/50000 (13%)]\tLoss: 2.165229\n",
            "Train epoch: 34 [9600/50000 (19%)]\tLoss: 1.958287\n",
            "Train epoch: 34 [12800/50000 (26%)]\tLoss: 2.184411\n",
            "Train epoch: 34 [16000/50000 (32%)]\tLoss: 2.491221\n",
            "Train epoch: 34 [19200/50000 (38%)]\tLoss: 2.043581\n",
            "Train epoch: 34 [22400/50000 (45%)]\tLoss: 2.037881\n",
            "Train epoch: 34 [25600/50000 (51%)]\tLoss: 2.122978\n",
            "Train epoch: 34 [28800/50000 (58%)]\tLoss: 2.210660\n",
            "Train epoch: 34 [32000/50000 (64%)]\tLoss: 1.768192\n",
            "Train epoch: 34 [35200/50000 (70%)]\tLoss: 2.034808\n",
            "Train epoch: 34 [38400/50000 (77%)]\tLoss: 2.320360\n",
            "Train epoch: 34 [41600/50000 (83%)]\tLoss: 2.112471\n",
            "Train epoch: 34 [44800/50000 (90%)]\tLoss: 2.161278\n",
            "Train epoch: 34 [48000/50000 (96%)]\tLoss: 2.191360\n",
            "\n",
            "Test set: Average loss: 0.0175, Accuracy: 20.1299991607666 (20%)\n",
            "\n"
          ]
        },
        {
          "output_type": "stream",
          "name": "stderr",
          "text": [
            "/usr/local/lib/python3.10/dist-packages/torchvision/transforms/functional.py:1603: UserWarning: The default value of the antialias parameter of all the resizing transforms (Resize(), RandomResizedCrop(), etc.) will change from None to True in v0.17, in order to be consistent across the PIL and Tensor backends. To suppress this warning, directly pass antialias=True (recommended, future default), antialias=None (current default, which means False for Tensors and True for PIL), or antialias=False (only works on Tensors - PIL will still use antialiasing). This also applies if you are using the inference transforms from the models weights: update the call to weights.transforms(antialias=True).\n",
            "  warnings.warn(\n"
          ]
        },
        {
          "output_type": "stream",
          "name": "stdout",
          "text": [
            "\n",
            "Test set: Average loss: 0.0173, Accuracy: 22.68000030517578 (23%)\n",
            "\n"
          ]
        },
        {
          "output_type": "stream",
          "name": "stderr",
          "text": [
            "/usr/local/lib/python3.10/dist-packages/torchvision/transforms/functional.py:1603: UserWarning: The default value of the antialias parameter of all the resizing transforms (Resize(), RandomResizedCrop(), etc.) will change from None to True in v0.17, in order to be consistent across the PIL and Tensor backends. To suppress this warning, directly pass antialias=True (recommended, future default), antialias=None (current default, which means False for Tensors and True for PIL), or antialias=False (only works on Tensors - PIL will still use antialiasing). This also applies if you are using the inference transforms from the models weights: update the call to weights.transforms(antialias=True).\n",
            "  warnings.warn(\n"
          ]
        },
        {
          "output_type": "stream",
          "name": "stdout",
          "text": [
            "Train epoch: 35 [0/50000 (0%)]\tLoss: 2.202195\n",
            "Train epoch: 35 [3200/50000 (6%)]\tLoss: 2.080833\n",
            "Train epoch: 35 [6400/50000 (13%)]\tLoss: 1.949169\n",
            "Train epoch: 35 [9600/50000 (19%)]\tLoss: 2.122751\n",
            "Train epoch: 35 [12800/50000 (26%)]\tLoss: 2.324156\n",
            "Train epoch: 35 [16000/50000 (32%)]\tLoss: 2.408347\n",
            "Train epoch: 35 [19200/50000 (38%)]\tLoss: 2.073927\n",
            "Train epoch: 35 [22400/50000 (45%)]\tLoss: 2.293384\n",
            "Train epoch: 35 [25600/50000 (51%)]\tLoss: 2.008331\n",
            "Train epoch: 35 [28800/50000 (58%)]\tLoss: 2.167643\n",
            "Train epoch: 35 [32000/50000 (64%)]\tLoss: 2.003362\n",
            "Train epoch: 35 [35200/50000 (70%)]\tLoss: 2.103984\n",
            "Train epoch: 35 [38400/50000 (77%)]\tLoss: 2.124394\n",
            "Train epoch: 35 [41600/50000 (83%)]\tLoss: 2.152463\n",
            "Train epoch: 35 [44800/50000 (90%)]\tLoss: 2.025123\n",
            "Train epoch: 35 [48000/50000 (96%)]\tLoss: 2.045748\n",
            "\n",
            "Test set: Average loss: 0.0172, Accuracy: 23.1299991607666 (23%)\n",
            "\n"
          ]
        },
        {
          "output_type": "stream",
          "name": "stderr",
          "text": [
            "/usr/local/lib/python3.10/dist-packages/torchvision/transforms/functional.py:1603: UserWarning: The default value of the antialias parameter of all the resizing transforms (Resize(), RandomResizedCrop(), etc.) will change from None to True in v0.17, in order to be consistent across the PIL and Tensor backends. To suppress this warning, directly pass antialias=True (recommended, future default), antialias=None (current default, which means False for Tensors and True for PIL), or antialias=False (only works on Tensors - PIL will still use antialiasing). This also applies if you are using the inference transforms from the models weights: update the call to weights.transforms(antialias=True).\n",
            "  warnings.warn(\n"
          ]
        },
        {
          "output_type": "stream",
          "name": "stdout",
          "text": [
            "\n",
            "Test set: Average loss: 0.0170, Accuracy: 24.579999923706055 (25%)\n",
            "\n"
          ]
        },
        {
          "output_type": "stream",
          "name": "stderr",
          "text": [
            "/usr/local/lib/python3.10/dist-packages/torchvision/transforms/functional.py:1603: UserWarning: The default value of the antialias parameter of all the resizing transforms (Resize(), RandomResizedCrop(), etc.) will change from None to True in v0.17, in order to be consistent across the PIL and Tensor backends. To suppress this warning, directly pass antialias=True (recommended, future default), antialias=None (current default, which means False for Tensors and True for PIL), or antialias=False (only works on Tensors - PIL will still use antialiasing). This also applies if you are using the inference transforms from the models weights: update the call to weights.transforms(antialias=True).\n",
            "  warnings.warn(\n"
          ]
        },
        {
          "output_type": "stream",
          "name": "stdout",
          "text": [
            "Train epoch: 36 [0/50000 (0%)]\tLoss: 2.056049\n",
            "Train epoch: 36 [3200/50000 (6%)]\tLoss: 2.060730\n",
            "Train epoch: 36 [6400/50000 (13%)]\tLoss: 2.254744\n",
            "Train epoch: 36 [9600/50000 (19%)]\tLoss: 2.274864\n",
            "Train epoch: 36 [12800/50000 (26%)]\tLoss: 2.135492\n",
            "Train epoch: 36 [16000/50000 (32%)]\tLoss: 2.001626\n",
            "Train epoch: 36 [19200/50000 (38%)]\tLoss: 2.058037\n",
            "Train epoch: 36 [22400/50000 (45%)]\tLoss: 2.120387\n",
            "Train epoch: 36 [25600/50000 (51%)]\tLoss: 2.361912\n",
            "Train epoch: 36 [28800/50000 (58%)]\tLoss: 1.932730\n",
            "Train epoch: 36 [32000/50000 (64%)]\tLoss: 2.143200\n",
            "Train epoch: 36 [35200/50000 (70%)]\tLoss: 2.312156\n",
            "Train epoch: 36 [38400/50000 (77%)]\tLoss: 2.061001\n",
            "Train epoch: 36 [41600/50000 (83%)]\tLoss: 2.244887\n",
            "Train epoch: 36 [44800/50000 (90%)]\tLoss: 2.017293\n",
            "Train epoch: 36 [48000/50000 (96%)]\tLoss: 2.126634\n",
            "\n",
            "Test set: Average loss: 0.0167, Accuracy: 26.209999084472656 (26%)\n",
            "\n"
          ]
        },
        {
          "output_type": "stream",
          "name": "stderr",
          "text": [
            "/usr/local/lib/python3.10/dist-packages/torchvision/transforms/functional.py:1603: UserWarning: The default value of the antialias parameter of all the resizing transforms (Resize(), RandomResizedCrop(), etc.) will change from None to True in v0.17, in order to be consistent across the PIL and Tensor backends. To suppress this warning, directly pass antialias=True (recommended, future default), antialias=None (current default, which means False for Tensors and True for PIL), or antialias=False (only works on Tensors - PIL will still use antialiasing). This also applies if you are using the inference transforms from the models weights: update the call to weights.transforms(antialias=True).\n",
            "  warnings.warn(\n"
          ]
        },
        {
          "output_type": "stream",
          "name": "stdout",
          "text": [
            "\n",
            "Test set: Average loss: 0.0171, Accuracy: 24.209999084472656 (24%)\n",
            "\n"
          ]
        },
        {
          "output_type": "stream",
          "name": "stderr",
          "text": [
            "/usr/local/lib/python3.10/dist-packages/torchvision/transforms/functional.py:1603: UserWarning: The default value of the antialias parameter of all the resizing transforms (Resize(), RandomResizedCrop(), etc.) will change from None to True in v0.17, in order to be consistent across the PIL and Tensor backends. To suppress this warning, directly pass antialias=True (recommended, future default), antialias=None (current default, which means False for Tensors and True for PIL), or antialias=False (only works on Tensors - PIL will still use antialiasing). This also applies if you are using the inference transforms from the models weights: update the call to weights.transforms(antialias=True).\n",
            "  warnings.warn(\n"
          ]
        },
        {
          "output_type": "stream",
          "name": "stdout",
          "text": [
            "Train epoch: 37 [0/50000 (0%)]\tLoss: 2.186435\n",
            "Train epoch: 37 [3200/50000 (6%)]\tLoss: 1.983034\n",
            "Train epoch: 37 [6400/50000 (13%)]\tLoss: 2.044355\n",
            "Train epoch: 37 [9600/50000 (19%)]\tLoss: 2.029046\n",
            "Train epoch: 37 [12800/50000 (26%)]\tLoss: 1.925409\n",
            "Train epoch: 37 [16000/50000 (32%)]\tLoss: 2.060874\n",
            "Train epoch: 37 [19200/50000 (38%)]\tLoss: 2.116326\n",
            "Train epoch: 37 [22400/50000 (45%)]\tLoss: 2.123951\n",
            "Train epoch: 37 [25600/50000 (51%)]\tLoss: 1.943763\n",
            "Train epoch: 37 [28800/50000 (58%)]\tLoss: 1.981682\n",
            "Train epoch: 37 [32000/50000 (64%)]\tLoss: 2.117209\n",
            "Train epoch: 37 [35200/50000 (70%)]\tLoss: 2.210354\n",
            "Train epoch: 37 [38400/50000 (77%)]\tLoss: 2.085171\n",
            "Train epoch: 37 [41600/50000 (83%)]\tLoss: 2.147672\n",
            "Train epoch: 37 [44800/50000 (90%)]\tLoss: 1.867360\n",
            "Train epoch: 37 [48000/50000 (96%)]\tLoss: 2.040286\n",
            "\n",
            "Test set: Average loss: 0.0165, Accuracy: 26.65999984741211 (27%)\n",
            "\n"
          ]
        },
        {
          "output_type": "stream",
          "name": "stderr",
          "text": [
            "/usr/local/lib/python3.10/dist-packages/torchvision/transforms/functional.py:1603: UserWarning: The default value of the antialias parameter of all the resizing transforms (Resize(), RandomResizedCrop(), etc.) will change from None to True in v0.17, in order to be consistent across the PIL and Tensor backends. To suppress this warning, directly pass antialias=True (recommended, future default), antialias=None (current default, which means False for Tensors and True for PIL), or antialias=False (only works on Tensors - PIL will still use antialiasing). This also applies if you are using the inference transforms from the models weights: update the call to weights.transforms(antialias=True).\n",
            "  warnings.warn(\n"
          ]
        },
        {
          "output_type": "stream",
          "name": "stdout",
          "text": [
            "\n",
            "Test set: Average loss: 0.0166, Accuracy: 26.690000534057617 (27%)\n",
            "\n"
          ]
        },
        {
          "output_type": "stream",
          "name": "stderr",
          "text": [
            "/usr/local/lib/python3.10/dist-packages/torchvision/transforms/functional.py:1603: UserWarning: The default value of the antialias parameter of all the resizing transforms (Resize(), RandomResizedCrop(), etc.) will change from None to True in v0.17, in order to be consistent across the PIL and Tensor backends. To suppress this warning, directly pass antialias=True (recommended, future default), antialias=None (current default, which means False for Tensors and True for PIL), or antialias=False (only works on Tensors - PIL will still use antialiasing). This also applies if you are using the inference transforms from the models weights: update the call to weights.transforms(antialias=True).\n",
            "  warnings.warn(\n"
          ]
        },
        {
          "output_type": "stream",
          "name": "stdout",
          "text": [
            "Train epoch: 38 [0/50000 (0%)]\tLoss: 2.210702\n",
            "Train epoch: 38 [3200/50000 (6%)]\tLoss: 2.154965\n",
            "Train epoch: 38 [6400/50000 (13%)]\tLoss: 2.064740\n",
            "Train epoch: 38 [9600/50000 (19%)]\tLoss: 2.045591\n",
            "Train epoch: 38 [12800/50000 (26%)]\tLoss: 2.129293\n",
            "Train epoch: 38 [16000/50000 (32%)]\tLoss: 2.053431\n",
            "Train epoch: 38 [19200/50000 (38%)]\tLoss: 1.762435\n",
            "Train epoch: 38 [22400/50000 (45%)]\tLoss: 1.967469\n",
            "Train epoch: 38 [25600/50000 (51%)]\tLoss: 2.081023\n",
            "Train epoch: 38 [28800/50000 (58%)]\tLoss: 1.931754\n",
            "Train epoch: 38 [32000/50000 (64%)]\tLoss: 2.174847\n",
            "Train epoch: 38 [35200/50000 (70%)]\tLoss: 2.054370\n",
            "Train epoch: 38 [38400/50000 (77%)]\tLoss: 1.869906\n",
            "Train epoch: 38 [41600/50000 (83%)]\tLoss: 1.933490\n",
            "Train epoch: 38 [44800/50000 (90%)]\tLoss: 1.854827\n",
            "Train epoch: 38 [48000/50000 (96%)]\tLoss: 1.940477\n",
            "\n",
            "Test set: Average loss: 0.0168, Accuracy: 26.440000534057617 (26%)\n",
            "\n"
          ]
        },
        {
          "output_type": "stream",
          "name": "stderr",
          "text": [
            "/usr/local/lib/python3.10/dist-packages/torchvision/transforms/functional.py:1603: UserWarning: The default value of the antialias parameter of all the resizing transforms (Resize(), RandomResizedCrop(), etc.) will change from None to True in v0.17, in order to be consistent across the PIL and Tensor backends. To suppress this warning, directly pass antialias=True (recommended, future default), antialias=None (current default, which means False for Tensors and True for PIL), or antialias=False (only works on Tensors - PIL will still use antialiasing). This also applies if you are using the inference transforms from the models weights: update the call to weights.transforms(antialias=True).\n",
            "  warnings.warn(\n"
          ]
        },
        {
          "output_type": "stream",
          "name": "stdout",
          "text": [
            "\n",
            "Test set: Average loss: 0.0166, Accuracy: 26.670000076293945 (27%)\n",
            "\n"
          ]
        },
        {
          "output_type": "stream",
          "name": "stderr",
          "text": [
            "/usr/local/lib/python3.10/dist-packages/torchvision/transforms/functional.py:1603: UserWarning: The default value of the antialias parameter of all the resizing transforms (Resize(), RandomResizedCrop(), etc.) will change from None to True in v0.17, in order to be consistent across the PIL and Tensor backends. To suppress this warning, directly pass antialias=True (recommended, future default), antialias=None (current default, which means False for Tensors and True for PIL), or antialias=False (only works on Tensors - PIL will still use antialiasing). This also applies if you are using the inference transforms from the models weights: update the call to weights.transforms(antialias=True).\n",
            "  warnings.warn(\n"
          ]
        },
        {
          "output_type": "stream",
          "name": "stdout",
          "text": [
            "Train epoch: 39 [0/50000 (0%)]\tLoss: 2.037960\n",
            "Train epoch: 39 [3200/50000 (6%)]\tLoss: 1.950773\n",
            "Train epoch: 39 [6400/50000 (13%)]\tLoss: 1.878545\n",
            "Train epoch: 39 [9600/50000 (19%)]\tLoss: 1.936309\n",
            "Train epoch: 39 [12800/50000 (26%)]\tLoss: 2.047919\n",
            "Train epoch: 39 [16000/50000 (32%)]\tLoss: 2.012864\n",
            "Train epoch: 39 [19200/50000 (38%)]\tLoss: 2.010761\n",
            "Train epoch: 39 [22400/50000 (45%)]\tLoss: 1.835323\n",
            "Train epoch: 39 [25600/50000 (51%)]\tLoss: 1.935709\n",
            "Train epoch: 39 [28800/50000 (58%)]\tLoss: 2.127905\n",
            "Train epoch: 39 [32000/50000 (64%)]\tLoss: 2.020986\n",
            "Train epoch: 39 [35200/50000 (70%)]\tLoss: 1.985352\n",
            "Train epoch: 39 [38400/50000 (77%)]\tLoss: 2.048892\n",
            "Train epoch: 39 [41600/50000 (83%)]\tLoss: 2.405068\n",
            "Train epoch: 39 [44800/50000 (90%)]\tLoss: 2.221590\n",
            "Train epoch: 39 [48000/50000 (96%)]\tLoss: 2.016824\n",
            "\n",
            "Test set: Average loss: 0.0167, Accuracy: 25.940000534057617 (26%)\n",
            "\n"
          ]
        },
        {
          "output_type": "stream",
          "name": "stderr",
          "text": [
            "/usr/local/lib/python3.10/dist-packages/torchvision/transforms/functional.py:1603: UserWarning: The default value of the antialias parameter of all the resizing transforms (Resize(), RandomResizedCrop(), etc.) will change from None to True in v0.17, in order to be consistent across the PIL and Tensor backends. To suppress this warning, directly pass antialias=True (recommended, future default), antialias=None (current default, which means False for Tensors and True for PIL), or antialias=False (only works on Tensors - PIL will still use antialiasing). This also applies if you are using the inference transforms from the models weights: update the call to weights.transforms(antialias=True).\n",
            "  warnings.warn(\n"
          ]
        },
        {
          "output_type": "stream",
          "name": "stdout",
          "text": [
            "\n",
            "Test set: Average loss: 0.0166, Accuracy: 27.360000610351562 (27%)\n",
            "\n"
          ]
        },
        {
          "output_type": "stream",
          "name": "stderr",
          "text": [
            "/usr/local/lib/python3.10/dist-packages/torchvision/transforms/functional.py:1603: UserWarning: The default value of the antialias parameter of all the resizing transforms (Resize(), RandomResizedCrop(), etc.) will change from None to True in v0.17, in order to be consistent across the PIL and Tensor backends. To suppress this warning, directly pass antialias=True (recommended, future default), antialias=None (current default, which means False for Tensors and True for PIL), or antialias=False (only works on Tensors - PIL will still use antialiasing). This also applies if you are using the inference transforms from the models weights: update the call to weights.transforms(antialias=True).\n",
            "  warnings.warn(\n"
          ]
        },
        {
          "output_type": "stream",
          "name": "stdout",
          "text": [
            "Train epoch: 40 [0/50000 (0%)]\tLoss: 1.896039\n",
            "Train epoch: 40 [3200/50000 (6%)]\tLoss: 2.041813\n",
            "Train epoch: 40 [6400/50000 (13%)]\tLoss: 1.958848\n",
            "Train epoch: 40 [9600/50000 (19%)]\tLoss: 1.967800\n",
            "Train epoch: 40 [12800/50000 (26%)]\tLoss: 1.924135\n",
            "Train epoch: 40 [16000/50000 (32%)]\tLoss: 1.953838\n",
            "Train epoch: 40 [19200/50000 (38%)]\tLoss: 1.944696\n",
            "Train epoch: 40 [22400/50000 (45%)]\tLoss: 1.838530\n",
            "Train epoch: 40 [25600/50000 (51%)]\tLoss: 1.919537\n",
            "Train epoch: 40 [28800/50000 (58%)]\tLoss: 1.997083\n",
            "Train epoch: 40 [32000/50000 (64%)]\tLoss: 1.868392\n",
            "Train epoch: 40 [35200/50000 (70%)]\tLoss: 1.790776\n",
            "Train epoch: 40 [38400/50000 (77%)]\tLoss: 2.050985\n",
            "Train epoch: 40 [41600/50000 (83%)]\tLoss: 1.930524\n",
            "Train epoch: 40 [44800/50000 (90%)]\tLoss: 1.651660\n",
            "Train epoch: 40 [48000/50000 (96%)]\tLoss: 2.206197\n",
            "\n",
            "Test set: Average loss: 0.0149, Accuracy: 30.799999237060547 (31%)\n",
            "\n"
          ]
        },
        {
          "output_type": "stream",
          "name": "stderr",
          "text": [
            "/usr/local/lib/python3.10/dist-packages/torchvision/transforms/functional.py:1603: UserWarning: The default value of the antialias parameter of all the resizing transforms (Resize(), RandomResizedCrop(), etc.) will change from None to True in v0.17, in order to be consistent across the PIL and Tensor backends. To suppress this warning, directly pass antialias=True (recommended, future default), antialias=None (current default, which means False for Tensors and True for PIL), or antialias=False (only works on Tensors - PIL will still use antialiasing). This also applies if you are using the inference transforms from the models weights: update the call to weights.transforms(antialias=True).\n",
            "  warnings.warn(\n"
          ]
        },
        {
          "output_type": "stream",
          "name": "stdout",
          "text": [
            "\n",
            "Test set: Average loss: 0.0150, Accuracy: 30.270000457763672 (30%)\n",
            "\n",
            "\n",
            "    -----------------------------\n",
            "    Normal Data Saved: (40, 30.8)\n",
            "    -----------------------------\n",
            "    \n",
            "\n",
            "    -------------------------------\n",
            "    Altered Data Saved: (40, 30.27)\n",
            "    -------------------------------\n",
            "    \n",
            "\n",
            "    ************************************************************\n",
            "    Altered image training finished. Training with normal images\n",
            "    ************************************************************\n",
            "    \n",
            "Train epoch: 41 [0/50000 (0%)]\tLoss: 1.930308\n",
            "Train epoch: 41 [3200/50000 (6%)]\tLoss: 1.928162\n",
            "Train epoch: 41 [6400/50000 (13%)]\tLoss: 1.770876\n",
            "Train epoch: 41 [9600/50000 (19%)]\tLoss: 1.501683\n",
            "Train epoch: 41 [12800/50000 (26%)]\tLoss: 1.949388\n",
            "Train epoch: 41 [16000/50000 (32%)]\tLoss: 1.692738\n",
            "Train epoch: 41 [19200/50000 (38%)]\tLoss: 1.944155\n",
            "Train epoch: 41 [22400/50000 (45%)]\tLoss: 1.696042\n",
            "Train epoch: 41 [25600/50000 (51%)]\tLoss: 1.886105\n",
            "Train epoch: 41 [28800/50000 (58%)]\tLoss: 1.873917\n",
            "Train epoch: 41 [32000/50000 (64%)]\tLoss: 1.531753\n",
            "Train epoch: 41 [35200/50000 (70%)]\tLoss: 1.618623\n",
            "Train epoch: 41 [38400/50000 (77%)]\tLoss: 1.761793\n",
            "Train epoch: 41 [41600/50000 (83%)]\tLoss: 1.946051\n",
            "Train epoch: 41 [44800/50000 (90%)]\tLoss: 1.790215\n",
            "Train epoch: 41 [48000/50000 (96%)]\tLoss: 1.634732\n",
            "\n",
            "Test set: Average loss: 0.0142, Accuracy: 33.720001220703125 (34%)\n",
            "\n"
          ]
        },
        {
          "output_type": "stream",
          "name": "stderr",
          "text": [
            "/usr/local/lib/python3.10/dist-packages/torchvision/transforms/functional.py:1603: UserWarning: The default value of the antialias parameter of all the resizing transforms (Resize(), RandomResizedCrop(), etc.) will change from None to True in v0.17, in order to be consistent across the PIL and Tensor backends. To suppress this warning, directly pass antialias=True (recommended, future default), antialias=None (current default, which means False for Tensors and True for PIL), or antialias=False (only works on Tensors - PIL will still use antialiasing). This also applies if you are using the inference transforms from the models weights: update the call to weights.transforms(antialias=True).\n",
            "  warnings.warn(\n"
          ]
        },
        {
          "output_type": "stream",
          "name": "stdout",
          "text": [
            "\n",
            "Test set: Average loss: 0.0147, Accuracy: 32.869998931884766 (33%)\n",
            "\n",
            "Train epoch: 42 [0/50000 (0%)]\tLoss: 1.739443\n",
            "Train epoch: 42 [3200/50000 (6%)]\tLoss: 1.943343\n",
            "Train epoch: 42 [6400/50000 (13%)]\tLoss: 1.410221\n",
            "Train epoch: 42 [9600/50000 (19%)]\tLoss: 1.678498\n",
            "Train epoch: 42 [12800/50000 (26%)]\tLoss: 1.856954\n",
            "Train epoch: 42 [16000/50000 (32%)]\tLoss: 1.381845\n",
            "Train epoch: 42 [19200/50000 (38%)]\tLoss: 1.784866\n",
            "Train epoch: 42 [22400/50000 (45%)]\tLoss: 1.636333\n",
            "Train epoch: 42 [25600/50000 (51%)]\tLoss: 1.412814\n",
            "Train epoch: 42 [28800/50000 (58%)]\tLoss: 1.688502\n",
            "Train epoch: 42 [32000/50000 (64%)]\tLoss: 1.572509\n",
            "Train epoch: 42 [35200/50000 (70%)]\tLoss: 1.855588\n",
            "Train epoch: 42 [38400/50000 (77%)]\tLoss: 1.796850\n",
            "Train epoch: 42 [41600/50000 (83%)]\tLoss: 1.590210\n",
            "Train epoch: 42 [44800/50000 (90%)]\tLoss: 1.728197\n",
            "Train epoch: 42 [48000/50000 (96%)]\tLoss: 1.669622\n",
            "\n",
            "Test set: Average loss: 0.0138, Accuracy: 35.56999969482422 (36%)\n",
            "\n"
          ]
        },
        {
          "output_type": "stream",
          "name": "stderr",
          "text": [
            "/usr/local/lib/python3.10/dist-packages/torchvision/transforms/functional.py:1603: UserWarning: The default value of the antialias parameter of all the resizing transforms (Resize(), RandomResizedCrop(), etc.) will change from None to True in v0.17, in order to be consistent across the PIL and Tensor backends. To suppress this warning, directly pass antialias=True (recommended, future default), antialias=None (current default, which means False for Tensors and True for PIL), or antialias=False (only works on Tensors - PIL will still use antialiasing). This also applies if you are using the inference transforms from the models weights: update the call to weights.transforms(antialias=True).\n",
            "  warnings.warn(\n"
          ]
        },
        {
          "output_type": "stream",
          "name": "stdout",
          "text": [
            "\n",
            "Test set: Average loss: 0.0153, Accuracy: 29.75 (30%)\n",
            "\n",
            "Train epoch: 43 [0/50000 (0%)]\tLoss: 1.755803\n",
            "Train epoch: 43 [3200/50000 (6%)]\tLoss: 1.902104\n",
            "Train epoch: 43 [6400/50000 (13%)]\tLoss: 1.688259\n",
            "Train epoch: 43 [9600/50000 (19%)]\tLoss: 1.431762\n",
            "Train epoch: 43 [12800/50000 (26%)]\tLoss: 1.864127\n",
            "Train epoch: 43 [16000/50000 (32%)]\tLoss: 1.799208\n",
            "Train epoch: 43 [19200/50000 (38%)]\tLoss: 1.896222\n",
            "Train epoch: 43 [22400/50000 (45%)]\tLoss: 1.487558\n",
            "Train epoch: 43 [25600/50000 (51%)]\tLoss: 2.016139\n",
            "Train epoch: 43 [28800/50000 (58%)]\tLoss: 1.704229\n",
            "Train epoch: 43 [32000/50000 (64%)]\tLoss: 1.822633\n",
            "Train epoch: 43 [35200/50000 (70%)]\tLoss: 1.768621\n",
            "Train epoch: 43 [38400/50000 (77%)]\tLoss: 1.728201\n",
            "Train epoch: 43 [41600/50000 (83%)]\tLoss: 1.553080\n",
            "Train epoch: 43 [44800/50000 (90%)]\tLoss: 1.576107\n",
            "Train epoch: 43 [48000/50000 (96%)]\tLoss: 1.759948\n",
            "\n",
            "Test set: Average loss: 0.0138, Accuracy: 35.38999938964844 (35%)\n",
            "\n"
          ]
        },
        {
          "output_type": "stream",
          "name": "stderr",
          "text": [
            "/usr/local/lib/python3.10/dist-packages/torchvision/transforms/functional.py:1603: UserWarning: The default value of the antialias parameter of all the resizing transforms (Resize(), RandomResizedCrop(), etc.) will change from None to True in v0.17, in order to be consistent across the PIL and Tensor backends. To suppress this warning, directly pass antialias=True (recommended, future default), antialias=None (current default, which means False for Tensors and True for PIL), or antialias=False (only works on Tensors - PIL will still use antialiasing). This also applies if you are using the inference transforms from the models weights: update the call to weights.transforms(antialias=True).\n",
            "  warnings.warn(\n"
          ]
        },
        {
          "output_type": "stream",
          "name": "stdout",
          "text": [
            "\n",
            "Test set: Average loss: 0.0149, Accuracy: 30.790000915527344 (31%)\n",
            "\n",
            "Train epoch: 44 [0/50000 (0%)]\tLoss: 1.473113\n",
            "Train epoch: 44 [3200/50000 (6%)]\tLoss: 1.489468\n",
            "Train epoch: 44 [6400/50000 (13%)]\tLoss: 1.605119\n",
            "Train epoch: 44 [9600/50000 (19%)]\tLoss: 1.619811\n",
            "Train epoch: 44 [12800/50000 (26%)]\tLoss: 1.541613\n",
            "Train epoch: 44 [16000/50000 (32%)]\tLoss: 1.786336\n",
            "Train epoch: 44 [19200/50000 (38%)]\tLoss: 1.591039\n",
            "Train epoch: 44 [22400/50000 (45%)]\tLoss: 1.587899\n",
            "Train epoch: 44 [25600/50000 (51%)]\tLoss: 1.779958\n",
            "Train epoch: 44 [28800/50000 (58%)]\tLoss: 1.563137\n",
            "Train epoch: 44 [32000/50000 (64%)]\tLoss: 1.647558\n",
            "Train epoch: 44 [35200/50000 (70%)]\tLoss: 1.923447\n",
            "Train epoch: 44 [38400/50000 (77%)]\tLoss: 1.451775\n",
            "Train epoch: 44 [41600/50000 (83%)]\tLoss: 1.657666\n",
            "Train epoch: 44 [44800/50000 (90%)]\tLoss: 1.664712\n",
            "Train epoch: 44 [48000/50000 (96%)]\tLoss: 1.698228\n",
            "\n",
            "Test set: Average loss: 0.0136, Accuracy: 37.099998474121094 (37%)\n",
            "\n"
          ]
        },
        {
          "output_type": "stream",
          "name": "stderr",
          "text": [
            "/usr/local/lib/python3.10/dist-packages/torchvision/transforms/functional.py:1603: UserWarning: The default value of the antialias parameter of all the resizing transforms (Resize(), RandomResizedCrop(), etc.) will change from None to True in v0.17, in order to be consistent across the PIL and Tensor backends. To suppress this warning, directly pass antialias=True (recommended, future default), antialias=None (current default, which means False for Tensors and True for PIL), or antialias=False (only works on Tensors - PIL will still use antialiasing). This also applies if you are using the inference transforms from the models weights: update the call to weights.transforms(antialias=True).\n",
            "  warnings.warn(\n"
          ]
        },
        {
          "output_type": "stream",
          "name": "stdout",
          "text": [
            "\n",
            "Test set: Average loss: 0.0152, Accuracy: 30.719999313354492 (31%)\n",
            "\n",
            "Train epoch: 45 [0/50000 (0%)]\tLoss: 1.568667\n",
            "Train epoch: 45 [3200/50000 (6%)]\tLoss: 1.601003\n",
            "Train epoch: 45 [6400/50000 (13%)]\tLoss: 2.003807\n",
            "Train epoch: 45 [9600/50000 (19%)]\tLoss: 1.326202\n",
            "Train epoch: 45 [12800/50000 (26%)]\tLoss: 1.588193\n",
            "Train epoch: 45 [16000/50000 (32%)]\tLoss: 1.842926\n",
            "Train epoch: 45 [19200/50000 (38%)]\tLoss: 1.633787\n",
            "Train epoch: 45 [22400/50000 (45%)]\tLoss: 1.620205\n",
            "Train epoch: 45 [25600/50000 (51%)]\tLoss: 1.387267\n",
            "Train epoch: 45 [28800/50000 (58%)]\tLoss: 1.720873\n",
            "Train epoch: 45 [32000/50000 (64%)]\tLoss: 1.601108\n",
            "Train epoch: 45 [35200/50000 (70%)]\tLoss: 1.560083\n",
            "Train epoch: 45 [38400/50000 (77%)]\tLoss: 1.818433\n",
            "Train epoch: 45 [41600/50000 (83%)]\tLoss: 1.732225\n",
            "Train epoch: 45 [44800/50000 (90%)]\tLoss: 1.719114\n",
            "Train epoch: 45 [48000/50000 (96%)]\tLoss: 1.846761\n",
            "\n",
            "Test set: Average loss: 0.0134, Accuracy: 37.66999816894531 (38%)\n",
            "\n"
          ]
        },
        {
          "output_type": "stream",
          "name": "stderr",
          "text": [
            "/usr/local/lib/python3.10/dist-packages/torchvision/transforms/functional.py:1603: UserWarning: The default value of the antialias parameter of all the resizing transforms (Resize(), RandomResizedCrop(), etc.) will change from None to True in v0.17, in order to be consistent across the PIL and Tensor backends. To suppress this warning, directly pass antialias=True (recommended, future default), antialias=None (current default, which means False for Tensors and True for PIL), or antialias=False (only works on Tensors - PIL will still use antialiasing). This also applies if you are using the inference transforms from the models weights: update the call to weights.transforms(antialias=True).\n",
            "  warnings.warn(\n"
          ]
        },
        {
          "output_type": "stream",
          "name": "stdout",
          "text": [
            "\n",
            "Test set: Average loss: 0.0159, Accuracy: 29.299999237060547 (29%)\n",
            "\n",
            "Train epoch: 46 [0/50000 (0%)]\tLoss: 1.682719\n",
            "Train epoch: 46 [3200/50000 (6%)]\tLoss: 1.815367\n",
            "Train epoch: 46 [6400/50000 (13%)]\tLoss: 1.635220\n",
            "Train epoch: 46 [9600/50000 (19%)]\tLoss: 1.598010\n",
            "Train epoch: 46 [12800/50000 (26%)]\tLoss: 1.745298\n",
            "Train epoch: 46 [16000/50000 (32%)]\tLoss: 1.872205\n",
            "Train epoch: 46 [19200/50000 (38%)]\tLoss: 1.328155\n",
            "Train epoch: 46 [22400/50000 (45%)]\tLoss: 1.315272\n",
            "Train epoch: 46 [25600/50000 (51%)]\tLoss: 1.346368\n",
            "Train epoch: 46 [28800/50000 (58%)]\tLoss: 1.418558\n",
            "Train epoch: 46 [32000/50000 (64%)]\tLoss: 1.527417\n",
            "Train epoch: 46 [35200/50000 (70%)]\tLoss: 1.279931\n",
            "Train epoch: 46 [38400/50000 (77%)]\tLoss: 1.720122\n",
            "Train epoch: 46 [41600/50000 (83%)]\tLoss: 1.481836\n",
            "Train epoch: 46 [44800/50000 (90%)]\tLoss: 1.325125\n",
            "Train epoch: 46 [48000/50000 (96%)]\tLoss: 1.610656\n",
            "\n",
            "Test set: Average loss: 0.0128, Accuracy: 40.279998779296875 (40%)\n",
            "\n"
          ]
        },
        {
          "output_type": "stream",
          "name": "stderr",
          "text": [
            "/usr/local/lib/python3.10/dist-packages/torchvision/transforms/functional.py:1603: UserWarning: The default value of the antialias parameter of all the resizing transforms (Resize(), RandomResizedCrop(), etc.) will change from None to True in v0.17, in order to be consistent across the PIL and Tensor backends. To suppress this warning, directly pass antialias=True (recommended, future default), antialias=None (current default, which means False for Tensors and True for PIL), or antialias=False (only works on Tensors - PIL will still use antialiasing). This also applies if you are using the inference transforms from the models weights: update the call to weights.transforms(antialias=True).\n",
            "  warnings.warn(\n"
          ]
        },
        {
          "output_type": "stream",
          "name": "stdout",
          "text": [
            "\n",
            "Test set: Average loss: 0.0155, Accuracy: 30.709999084472656 (31%)\n",
            "\n",
            "Train epoch: 47 [0/50000 (0%)]\tLoss: 1.837680\n",
            "Train epoch: 47 [3200/50000 (6%)]\tLoss: 1.928723\n",
            "Train epoch: 47 [6400/50000 (13%)]\tLoss: 1.537274\n",
            "Train epoch: 47 [9600/50000 (19%)]\tLoss: 1.737554\n",
            "Train epoch: 47 [12800/50000 (26%)]\tLoss: 1.399249\n",
            "Train epoch: 47 [16000/50000 (32%)]\tLoss: 1.890657\n",
            "Train epoch: 47 [19200/50000 (38%)]\tLoss: 1.407552\n",
            "Train epoch: 47 [22400/50000 (45%)]\tLoss: 1.763655\n",
            "Train epoch: 47 [25600/50000 (51%)]\tLoss: 1.801207\n",
            "Train epoch: 47 [28800/50000 (58%)]\tLoss: 1.945352\n",
            "Train epoch: 47 [32000/50000 (64%)]\tLoss: 1.627568\n",
            "Train epoch: 47 [35200/50000 (70%)]\tLoss: 1.589786\n",
            "Train epoch: 47 [38400/50000 (77%)]\tLoss: 1.492307\n",
            "Train epoch: 47 [41600/50000 (83%)]\tLoss: 1.734079\n",
            "Train epoch: 47 [44800/50000 (90%)]\tLoss: 1.586294\n",
            "Train epoch: 47 [48000/50000 (96%)]\tLoss: 1.789924\n",
            "\n",
            "Test set: Average loss: 0.0127, Accuracy: 41.060001373291016 (41%)\n",
            "\n"
          ]
        },
        {
          "output_type": "stream",
          "name": "stderr",
          "text": [
            "/usr/local/lib/python3.10/dist-packages/torchvision/transforms/functional.py:1603: UserWarning: The default value of the antialias parameter of all the resizing transforms (Resize(), RandomResizedCrop(), etc.) will change from None to True in v0.17, in order to be consistent across the PIL and Tensor backends. To suppress this warning, directly pass antialias=True (recommended, future default), antialias=None (current default, which means False for Tensors and True for PIL), or antialias=False (only works on Tensors - PIL will still use antialiasing). This also applies if you are using the inference transforms from the models weights: update the call to weights.transforms(antialias=True).\n",
            "  warnings.warn(\n"
          ]
        },
        {
          "output_type": "stream",
          "name": "stdout",
          "text": [
            "\n",
            "Test set: Average loss: 0.0161, Accuracy: 28.799999237060547 (29%)\n",
            "\n",
            "Train epoch: 48 [0/50000 (0%)]\tLoss: 1.520045\n",
            "Train epoch: 48 [3200/50000 (6%)]\tLoss: 1.569174\n",
            "Train epoch: 48 [6400/50000 (13%)]\tLoss: 1.598027\n",
            "Train epoch: 48 [9600/50000 (19%)]\tLoss: 1.324590\n",
            "Train epoch: 48 [12800/50000 (26%)]\tLoss: 1.606353\n",
            "Train epoch: 48 [16000/50000 (32%)]\tLoss: 1.567225\n",
            "Train epoch: 48 [19200/50000 (38%)]\tLoss: 1.581138\n",
            "Train epoch: 48 [22400/50000 (45%)]\tLoss: 1.557933\n",
            "Train epoch: 48 [25600/50000 (51%)]\tLoss: 1.574453\n",
            "Train epoch: 48 [28800/50000 (58%)]\tLoss: 1.396949\n",
            "Train epoch: 48 [32000/50000 (64%)]\tLoss: 1.338004\n",
            "Train epoch: 48 [35200/50000 (70%)]\tLoss: 1.490610\n",
            "Train epoch: 48 [38400/50000 (77%)]\tLoss: 1.651969\n",
            "Train epoch: 48 [41600/50000 (83%)]\tLoss: 1.450186\n",
            "Train epoch: 48 [44800/50000 (90%)]\tLoss: 1.369267\n",
            "Train epoch: 48 [48000/50000 (96%)]\tLoss: 1.644778\n",
            "\n",
            "Test set: Average loss: 0.0125, Accuracy: 41.61000061035156 (42%)\n",
            "\n"
          ]
        },
        {
          "output_type": "stream",
          "name": "stderr",
          "text": [
            "/usr/local/lib/python3.10/dist-packages/torchvision/transforms/functional.py:1603: UserWarning: The default value of the antialias parameter of all the resizing transforms (Resize(), RandomResizedCrop(), etc.) will change from None to True in v0.17, in order to be consistent across the PIL and Tensor backends. To suppress this warning, directly pass antialias=True (recommended, future default), antialias=None (current default, which means False for Tensors and True for PIL), or antialias=False (only works on Tensors - PIL will still use antialiasing). This also applies if you are using the inference transforms from the models weights: update the call to weights.transforms(antialias=True).\n",
            "  warnings.warn(\n"
          ]
        },
        {
          "output_type": "stream",
          "name": "stdout",
          "text": [
            "\n",
            "Test set: Average loss: 0.0190, Accuracy: 22.65999984741211 (23%)\n",
            "\n",
            "Train epoch: 49 [0/50000 (0%)]\tLoss: 1.577915\n",
            "Train epoch: 49 [3200/50000 (6%)]\tLoss: 1.431750\n",
            "Train epoch: 49 [6400/50000 (13%)]\tLoss: 1.755601\n",
            "Train epoch: 49 [9600/50000 (19%)]\tLoss: 1.830788\n",
            "Train epoch: 49 [12800/50000 (26%)]\tLoss: 1.660633\n",
            "Train epoch: 49 [16000/50000 (32%)]\tLoss: 1.707280\n",
            "Train epoch: 49 [19200/50000 (38%)]\tLoss: 1.645941\n",
            "Train epoch: 49 [22400/50000 (45%)]\tLoss: 2.188106\n",
            "Train epoch: 49 [25600/50000 (51%)]\tLoss: 1.451509\n",
            "Train epoch: 49 [28800/50000 (58%)]\tLoss: 1.588551\n",
            "Train epoch: 49 [32000/50000 (64%)]\tLoss: 1.423199\n",
            "Train epoch: 49 [35200/50000 (70%)]\tLoss: 1.607038\n",
            "Train epoch: 49 [38400/50000 (77%)]\tLoss: 1.666610\n",
            "Train epoch: 49 [41600/50000 (83%)]\tLoss: 1.556235\n",
            "Train epoch: 49 [44800/50000 (90%)]\tLoss: 1.583129\n",
            "Train epoch: 49 [48000/50000 (96%)]\tLoss: 1.625082\n",
            "\n",
            "Test set: Average loss: 0.0123, Accuracy: 42.86000061035156 (43%)\n",
            "\n"
          ]
        },
        {
          "output_type": "stream",
          "name": "stderr",
          "text": [
            "/usr/local/lib/python3.10/dist-packages/torchvision/transforms/functional.py:1603: UserWarning: The default value of the antialias parameter of all the resizing transforms (Resize(), RandomResizedCrop(), etc.) will change from None to True in v0.17, in order to be consistent across the PIL and Tensor backends. To suppress this warning, directly pass antialias=True (recommended, future default), antialias=None (current default, which means False for Tensors and True for PIL), or antialias=False (only works on Tensors - PIL will still use antialiasing). This also applies if you are using the inference transforms from the models weights: update the call to weights.transforms(antialias=True).\n",
            "  warnings.warn(\n"
          ]
        },
        {
          "output_type": "stream",
          "name": "stdout",
          "text": [
            "\n",
            "Test set: Average loss: 0.0181, Accuracy: 26.079999923706055 (26%)\n",
            "\n",
            "Train epoch: 50 [0/50000 (0%)]\tLoss: 1.760679\n",
            "Train epoch: 50 [3200/50000 (6%)]\tLoss: 1.220115\n",
            "Train epoch: 50 [6400/50000 (13%)]\tLoss: 1.580130\n",
            "Train epoch: 50 [9600/50000 (19%)]\tLoss: 1.621820\n",
            "Train epoch: 50 [12800/50000 (26%)]\tLoss: 1.451228\n",
            "Train epoch: 50 [16000/50000 (32%)]\tLoss: 1.833388\n",
            "Train epoch: 50 [19200/50000 (38%)]\tLoss: 1.758572\n",
            "Train epoch: 50 [22400/50000 (45%)]\tLoss: 1.667359\n",
            "Train epoch: 50 [25600/50000 (51%)]\tLoss: 1.345502\n",
            "Train epoch: 50 [28800/50000 (58%)]\tLoss: 1.653273\n",
            "Train epoch: 50 [32000/50000 (64%)]\tLoss: 1.321803\n",
            "Train epoch: 50 [35200/50000 (70%)]\tLoss: 1.678301\n",
            "Train epoch: 50 [38400/50000 (77%)]\tLoss: 1.583003\n",
            "Train epoch: 50 [41600/50000 (83%)]\tLoss: 1.403717\n",
            "Train epoch: 50 [44800/50000 (90%)]\tLoss: 1.664753\n",
            "Train epoch: 50 [48000/50000 (96%)]\tLoss: 1.463562\n",
            "\n",
            "Test set: Average loss: 0.0121, Accuracy: 43.939998626708984 (44%)\n",
            "\n"
          ]
        },
        {
          "output_type": "stream",
          "name": "stderr",
          "text": [
            "/usr/local/lib/python3.10/dist-packages/torchvision/transforms/functional.py:1603: UserWarning: The default value of the antialias parameter of all the resizing transforms (Resize(), RandomResizedCrop(), etc.) will change from None to True in v0.17, in order to be consistent across the PIL and Tensor backends. To suppress this warning, directly pass antialias=True (recommended, future default), antialias=None (current default, which means False for Tensors and True for PIL), or antialias=False (only works on Tensors - PIL will still use antialiasing). This also applies if you are using the inference transforms from the models weights: update the call to weights.transforms(antialias=True).\n",
            "  warnings.warn(\n"
          ]
        },
        {
          "output_type": "stream",
          "name": "stdout",
          "text": [
            "\n",
            "Test set: Average loss: 0.0185, Accuracy: 25.81999969482422 (26%)\n",
            "\n",
            "\n",
            "    ------------------------------\n",
            "    Normal Data Saved: (50, 43.94)\n",
            "    ------------------------------\n",
            "    \n",
            "\n",
            "    -------------------------------\n",
            "    Altered Data Saved: (50, 25.82)\n",
            "    -------------------------------\n",
            "    \n",
            "Train epoch: 51 [0/50000 (0%)]\tLoss: 1.591546\n",
            "Train epoch: 51 [3200/50000 (6%)]\tLoss: 1.467857\n",
            "Train epoch: 51 [6400/50000 (13%)]\tLoss: 1.449756\n",
            "Train epoch: 51 [9600/50000 (19%)]\tLoss: 1.315702\n",
            "Train epoch: 51 [12800/50000 (26%)]\tLoss: 1.554382\n",
            "Train epoch: 51 [16000/50000 (32%)]\tLoss: 1.480917\n",
            "Train epoch: 51 [19200/50000 (38%)]\tLoss: 1.349736\n",
            "Train epoch: 51 [22400/50000 (45%)]\tLoss: 1.354863\n",
            "Train epoch: 51 [25600/50000 (51%)]\tLoss: 1.515240\n",
            "Train epoch: 51 [28800/50000 (58%)]\tLoss: 1.635567\n",
            "Train epoch: 51 [32000/50000 (64%)]\tLoss: 1.738121\n",
            "Train epoch: 51 [35200/50000 (70%)]\tLoss: 1.383530\n",
            "Train epoch: 51 [38400/50000 (77%)]\tLoss: 1.436460\n",
            "Train epoch: 51 [41600/50000 (83%)]\tLoss: 1.499802\n",
            "Train epoch: 51 [44800/50000 (90%)]\tLoss: 1.730223\n",
            "Train epoch: 51 [48000/50000 (96%)]\tLoss: 1.589000\n",
            "\n",
            "Test set: Average loss: 0.0121, Accuracy: 44.439998626708984 (44%)\n",
            "\n"
          ]
        },
        {
          "output_type": "stream",
          "name": "stderr",
          "text": [
            "/usr/local/lib/python3.10/dist-packages/torchvision/transforms/functional.py:1603: UserWarning: The default value of the antialias parameter of all the resizing transforms (Resize(), RandomResizedCrop(), etc.) will change from None to True in v0.17, in order to be consistent across the PIL and Tensor backends. To suppress this warning, directly pass antialias=True (recommended, future default), antialias=None (current default, which means False for Tensors and True for PIL), or antialias=False (only works on Tensors - PIL will still use antialiasing). This also applies if you are using the inference transforms from the models weights: update the call to weights.transforms(antialias=True).\n",
            "  warnings.warn(\n"
          ]
        },
        {
          "output_type": "stream",
          "name": "stdout",
          "text": [
            "\n",
            "Test set: Average loss: 0.0178, Accuracy: 28.790000915527344 (29%)\n",
            "\n",
            "Train epoch: 52 [0/50000 (0%)]\tLoss: 1.456498\n",
            "Train epoch: 52 [3200/50000 (6%)]\tLoss: 1.591151\n",
            "Train epoch: 52 [6400/50000 (13%)]\tLoss: 1.518736\n",
            "Train epoch: 52 [9600/50000 (19%)]\tLoss: 1.500432\n",
            "Train epoch: 52 [12800/50000 (26%)]\tLoss: 1.361019\n",
            "Train epoch: 52 [16000/50000 (32%)]\tLoss: 1.557459\n",
            "Train epoch: 52 [19200/50000 (38%)]\tLoss: 1.399901\n",
            "Train epoch: 52 [22400/50000 (45%)]\tLoss: 1.539916\n",
            "Train epoch: 52 [25600/50000 (51%)]\tLoss: 1.526806\n",
            "Train epoch: 52 [28800/50000 (58%)]\tLoss: 1.709426\n",
            "Train epoch: 52 [32000/50000 (64%)]\tLoss: 1.575178\n",
            "Train epoch: 52 [35200/50000 (70%)]\tLoss: 1.463089\n",
            "Train epoch: 52 [38400/50000 (77%)]\tLoss: 1.348587\n",
            "Train epoch: 52 [41600/50000 (83%)]\tLoss: 1.362093\n",
            "Train epoch: 52 [44800/50000 (90%)]\tLoss: 1.681693\n",
            "Train epoch: 52 [48000/50000 (96%)]\tLoss: 1.624408\n",
            "\n",
            "Test set: Average loss: 0.0117, Accuracy: 46.04999923706055 (46%)\n",
            "\n"
          ]
        },
        {
          "output_type": "stream",
          "name": "stderr",
          "text": [
            "/usr/local/lib/python3.10/dist-packages/torchvision/transforms/functional.py:1603: UserWarning: The default value of the antialias parameter of all the resizing transforms (Resize(), RandomResizedCrop(), etc.) will change from None to True in v0.17, in order to be consistent across the PIL and Tensor backends. To suppress this warning, directly pass antialias=True (recommended, future default), antialias=None (current default, which means False for Tensors and True for PIL), or antialias=False (only works on Tensors - PIL will still use antialiasing). This also applies if you are using the inference transforms from the models weights: update the call to weights.transforms(antialias=True).\n",
            "  warnings.warn(\n"
          ]
        },
        {
          "output_type": "stream",
          "name": "stdout",
          "text": [
            "\n",
            "Test set: Average loss: 0.0192, Accuracy: 24.850000381469727 (25%)\n",
            "\n",
            "Train epoch: 53 [0/50000 (0%)]\tLoss: 1.665563\n",
            "Train epoch: 53 [3200/50000 (6%)]\tLoss: 1.681675\n",
            "Train epoch: 53 [6400/50000 (13%)]\tLoss: 1.432105\n",
            "Train epoch: 53 [9600/50000 (19%)]\tLoss: 1.254035\n",
            "Train epoch: 53 [12800/50000 (26%)]\tLoss: 1.451267\n",
            "Train epoch: 53 [16000/50000 (32%)]\tLoss: 1.538679\n",
            "Train epoch: 53 [19200/50000 (38%)]\tLoss: 1.359154\n",
            "Train epoch: 53 [22400/50000 (45%)]\tLoss: 1.377268\n",
            "Train epoch: 53 [25600/50000 (51%)]\tLoss: 1.379731\n",
            "Train epoch: 53 [28800/50000 (58%)]\tLoss: 1.370694\n",
            "Train epoch: 53 [32000/50000 (64%)]\tLoss: 1.449276\n",
            "Train epoch: 53 [35200/50000 (70%)]\tLoss: 1.687567\n",
            "Train epoch: 53 [38400/50000 (77%)]\tLoss: 1.333971\n",
            "Train epoch: 53 [41600/50000 (83%)]\tLoss: 1.540642\n",
            "Train epoch: 53 [44800/50000 (90%)]\tLoss: 1.733480\n",
            "Train epoch: 53 [48000/50000 (96%)]\tLoss: 1.662717\n",
            "\n",
            "Test set: Average loss: 0.0116, Accuracy: 47.0 (47%)\n",
            "\n"
          ]
        },
        {
          "output_type": "stream",
          "name": "stderr",
          "text": [
            "/usr/local/lib/python3.10/dist-packages/torchvision/transforms/functional.py:1603: UserWarning: The default value of the antialias parameter of all the resizing transforms (Resize(), RandomResizedCrop(), etc.) will change from None to True in v0.17, in order to be consistent across the PIL and Tensor backends. To suppress this warning, directly pass antialias=True (recommended, future default), antialias=None (current default, which means False for Tensors and True for PIL), or antialias=False (only works on Tensors - PIL will still use antialiasing). This also applies if you are using the inference transforms from the models weights: update the call to weights.transforms(antialias=True).\n",
            "  warnings.warn(\n"
          ]
        },
        {
          "output_type": "stream",
          "name": "stdout",
          "text": [
            "\n",
            "Test set: Average loss: 0.0178, Accuracy: 28.729999542236328 (29%)\n",
            "\n",
            "Train epoch: 54 [0/50000 (0%)]\tLoss: 1.260212\n",
            "Train epoch: 54 [3200/50000 (6%)]\tLoss: 1.393878\n",
            "Train epoch: 54 [6400/50000 (13%)]\tLoss: 1.424635\n",
            "Train epoch: 54 [9600/50000 (19%)]\tLoss: 1.360294\n",
            "Train epoch: 54 [12800/50000 (26%)]\tLoss: 1.531604\n",
            "Train epoch: 54 [16000/50000 (32%)]\tLoss: 1.215989\n",
            "Train epoch: 54 [19200/50000 (38%)]\tLoss: 1.355720\n",
            "Train epoch: 54 [22400/50000 (45%)]\tLoss: 1.645485\n",
            "Train epoch: 54 [25600/50000 (51%)]\tLoss: 1.410360\n",
            "Train epoch: 54 [28800/50000 (58%)]\tLoss: 1.792610\n",
            "Train epoch: 54 [32000/50000 (64%)]\tLoss: 1.557132\n",
            "Train epoch: 54 [35200/50000 (70%)]\tLoss: 1.486928\n",
            "Train epoch: 54 [38400/50000 (77%)]\tLoss: 1.499813\n",
            "Train epoch: 54 [41600/50000 (83%)]\tLoss: 1.275685\n",
            "Train epoch: 54 [44800/50000 (90%)]\tLoss: 1.607658\n",
            "Train epoch: 54 [48000/50000 (96%)]\tLoss: 1.242466\n",
            "\n",
            "Test set: Average loss: 0.0116, Accuracy: 46.83000183105469 (47%)\n",
            "\n"
          ]
        },
        {
          "output_type": "stream",
          "name": "stderr",
          "text": [
            "/usr/local/lib/python3.10/dist-packages/torchvision/transforms/functional.py:1603: UserWarning: The default value of the antialias parameter of all the resizing transforms (Resize(), RandomResizedCrop(), etc.) will change from None to True in v0.17, in order to be consistent across the PIL and Tensor backends. To suppress this warning, directly pass antialias=True (recommended, future default), antialias=None (current default, which means False for Tensors and True for PIL), or antialias=False (only works on Tensors - PIL will still use antialiasing). This also applies if you are using the inference transforms from the models weights: update the call to weights.transforms(antialias=True).\n",
            "  warnings.warn(\n"
          ]
        },
        {
          "output_type": "stream",
          "name": "stdout",
          "text": [
            "\n",
            "Test set: Average loss: 0.0201, Accuracy: 24.030000686645508 (24%)\n",
            "\n",
            "Train epoch: 55 [0/50000 (0%)]\tLoss: 1.450119\n",
            "Train epoch: 55 [3200/50000 (6%)]\tLoss: 1.286123\n",
            "Train epoch: 55 [6400/50000 (13%)]\tLoss: 1.514125\n",
            "Train epoch: 55 [9600/50000 (19%)]\tLoss: 1.741400\n",
            "Train epoch: 55 [12800/50000 (26%)]\tLoss: 1.716202\n",
            "Train epoch: 55 [16000/50000 (32%)]\tLoss: 1.704438\n",
            "Train epoch: 55 [19200/50000 (38%)]\tLoss: 1.218495\n",
            "Train epoch: 55 [22400/50000 (45%)]\tLoss: 1.219026\n",
            "Train epoch: 55 [25600/50000 (51%)]\tLoss: 1.460025\n",
            "Train epoch: 55 [28800/50000 (58%)]\tLoss: 1.665055\n",
            "Train epoch: 55 [32000/50000 (64%)]\tLoss: 1.912415\n",
            "Train epoch: 55 [35200/50000 (70%)]\tLoss: 1.485642\n",
            "Train epoch: 55 [38400/50000 (77%)]\tLoss: 1.280581\n",
            "Train epoch: 55 [41600/50000 (83%)]\tLoss: 1.251115\n",
            "Train epoch: 55 [44800/50000 (90%)]\tLoss: 1.525428\n",
            "Train epoch: 55 [48000/50000 (96%)]\tLoss: 1.605380\n",
            "\n",
            "Test set: Average loss: 0.0114, Accuracy: 47.779998779296875 (48%)\n",
            "\n"
          ]
        },
        {
          "output_type": "stream",
          "name": "stderr",
          "text": [
            "/usr/local/lib/python3.10/dist-packages/torchvision/transforms/functional.py:1603: UserWarning: The default value of the antialias parameter of all the resizing transforms (Resize(), RandomResizedCrop(), etc.) will change from None to True in v0.17, in order to be consistent across the PIL and Tensor backends. To suppress this warning, directly pass antialias=True (recommended, future default), antialias=None (current default, which means False for Tensors and True for PIL), or antialias=False (only works on Tensors - PIL will still use antialiasing). This also applies if you are using the inference transforms from the models weights: update the call to weights.transforms(antialias=True).\n",
            "  warnings.warn(\n"
          ]
        },
        {
          "output_type": "stream",
          "name": "stdout",
          "text": [
            "\n",
            "Test set: Average loss: 0.0178, Accuracy: 30.719999313354492 (31%)\n",
            "\n",
            "Train epoch: 56 [0/50000 (0%)]\tLoss: 1.205192\n",
            "Train epoch: 56 [3200/50000 (6%)]\tLoss: 1.710051\n",
            "Train epoch: 56 [6400/50000 (13%)]\tLoss: 1.434284\n",
            "Train epoch: 56 [9600/50000 (19%)]\tLoss: 1.317747\n",
            "Train epoch: 56 [12800/50000 (26%)]\tLoss: 1.398058\n",
            "Train epoch: 56 [16000/50000 (32%)]\tLoss: 1.655817\n",
            "Train epoch: 56 [19200/50000 (38%)]\tLoss: 1.372965\n",
            "Train epoch: 56 [22400/50000 (45%)]\tLoss: 1.508326\n",
            "Train epoch: 56 [25600/50000 (51%)]\tLoss: 1.436584\n",
            "Train epoch: 56 [28800/50000 (58%)]\tLoss: 1.419494\n",
            "Train epoch: 56 [32000/50000 (64%)]\tLoss: 1.438469\n",
            "Train epoch: 56 [35200/50000 (70%)]\tLoss: 1.555675\n",
            "Train epoch: 56 [38400/50000 (77%)]\tLoss: 1.603658\n",
            "Train epoch: 56 [41600/50000 (83%)]\tLoss: 1.372432\n",
            "Train epoch: 56 [44800/50000 (90%)]\tLoss: 1.696531\n",
            "Train epoch: 56 [48000/50000 (96%)]\tLoss: 1.297774\n",
            "\n",
            "Test set: Average loss: 0.0113, Accuracy: 48.900001525878906 (49%)\n",
            "\n"
          ]
        },
        {
          "output_type": "stream",
          "name": "stderr",
          "text": [
            "/usr/local/lib/python3.10/dist-packages/torchvision/transforms/functional.py:1603: UserWarning: The default value of the antialias parameter of all the resizing transforms (Resize(), RandomResizedCrop(), etc.) will change from None to True in v0.17, in order to be consistent across the PIL and Tensor backends. To suppress this warning, directly pass antialias=True (recommended, future default), antialias=None (current default, which means False for Tensors and True for PIL), or antialias=False (only works on Tensors - PIL will still use antialiasing). This also applies if you are using the inference transforms from the models weights: update the call to weights.transforms(antialias=True).\n",
            "  warnings.warn(\n"
          ]
        },
        {
          "output_type": "stream",
          "name": "stdout",
          "text": [
            "\n",
            "Test set: Average loss: 0.0176, Accuracy: 28.520000457763672 (29%)\n",
            "\n",
            "Train epoch: 57 [0/50000 (0%)]\tLoss: 0.936324\n",
            "Train epoch: 57 [3200/50000 (6%)]\tLoss: 1.350486\n",
            "Train epoch: 57 [6400/50000 (13%)]\tLoss: 1.535995\n",
            "Train epoch: 57 [9600/50000 (19%)]\tLoss: 1.333186\n",
            "Train epoch: 57 [12800/50000 (26%)]\tLoss: 1.813676\n",
            "Train epoch: 57 [16000/50000 (32%)]\tLoss: 1.494304\n",
            "Train epoch: 57 [19200/50000 (38%)]\tLoss: 1.463346\n",
            "Train epoch: 57 [22400/50000 (45%)]\tLoss: 1.576647\n",
            "Train epoch: 57 [25600/50000 (51%)]\tLoss: 1.539001\n",
            "Train epoch: 57 [28800/50000 (58%)]\tLoss: 1.242933\n",
            "Train epoch: 57 [32000/50000 (64%)]\tLoss: 1.232692\n",
            "Train epoch: 57 [35200/50000 (70%)]\tLoss: 1.381694\n",
            "Train epoch: 57 [38400/50000 (77%)]\tLoss: 1.340890\n",
            "Train epoch: 57 [41600/50000 (83%)]\tLoss: 1.403486\n",
            "Train epoch: 57 [44800/50000 (90%)]\tLoss: 1.424822\n",
            "Train epoch: 57 [48000/50000 (96%)]\tLoss: 1.277406\n",
            "\n",
            "Test set: Average loss: 0.0114, Accuracy: 49.040000915527344 (49%)\n",
            "\n"
          ]
        },
        {
          "output_type": "stream",
          "name": "stderr",
          "text": [
            "/usr/local/lib/python3.10/dist-packages/torchvision/transforms/functional.py:1603: UserWarning: The default value of the antialias parameter of all the resizing transforms (Resize(), RandomResizedCrop(), etc.) will change from None to True in v0.17, in order to be consistent across the PIL and Tensor backends. To suppress this warning, directly pass antialias=True (recommended, future default), antialias=None (current default, which means False for Tensors and True for PIL), or antialias=False (only works on Tensors - PIL will still use antialiasing). This also applies if you are using the inference transforms from the models weights: update the call to weights.transforms(antialias=True).\n",
            "  warnings.warn(\n"
          ]
        },
        {
          "output_type": "stream",
          "name": "stdout",
          "text": [
            "\n",
            "Test set: Average loss: 0.0198, Accuracy: 28.690000534057617 (29%)\n",
            "\n",
            "Train epoch: 58 [0/50000 (0%)]\tLoss: 1.214834\n",
            "Train epoch: 58 [3200/50000 (6%)]\tLoss: 1.399671\n",
            "Train epoch: 58 [6400/50000 (13%)]\tLoss: 1.522124\n",
            "Train epoch: 58 [9600/50000 (19%)]\tLoss: 1.516140\n",
            "Train epoch: 58 [12800/50000 (26%)]\tLoss: 1.263353\n",
            "Train epoch: 58 [16000/50000 (32%)]\tLoss: 1.277264\n",
            "Train epoch: 58 [19200/50000 (38%)]\tLoss: 1.699362\n",
            "Train epoch: 58 [22400/50000 (45%)]\tLoss: 1.258902\n",
            "Train epoch: 58 [25600/50000 (51%)]\tLoss: 1.662809\n",
            "Train epoch: 58 [28800/50000 (58%)]\tLoss: 1.280194\n",
            "Train epoch: 58 [32000/50000 (64%)]\tLoss: 1.091498\n",
            "Train epoch: 58 [35200/50000 (70%)]\tLoss: 1.444335\n",
            "Train epoch: 58 [38400/50000 (77%)]\tLoss: 1.446506\n",
            "Train epoch: 58 [41600/50000 (83%)]\tLoss: 1.255852\n",
            "Train epoch: 58 [44800/50000 (90%)]\tLoss: 1.362009\n",
            "Train epoch: 58 [48000/50000 (96%)]\tLoss: 1.723635\n",
            "\n",
            "Test set: Average loss: 0.0115, Accuracy: 47.560001373291016 (48%)\n",
            "\n"
          ]
        },
        {
          "output_type": "stream",
          "name": "stderr",
          "text": [
            "/usr/local/lib/python3.10/dist-packages/torchvision/transforms/functional.py:1603: UserWarning: The default value of the antialias parameter of all the resizing transforms (Resize(), RandomResizedCrop(), etc.) will change from None to True in v0.17, in order to be consistent across the PIL and Tensor backends. To suppress this warning, directly pass antialias=True (recommended, future default), antialias=None (current default, which means False for Tensors and True for PIL), or antialias=False (only works on Tensors - PIL will still use antialiasing). This also applies if you are using the inference transforms from the models weights: update the call to weights.transforms(antialias=True).\n",
            "  warnings.warn(\n"
          ]
        },
        {
          "output_type": "stream",
          "name": "stdout",
          "text": [
            "\n",
            "Test set: Average loss: 0.0186, Accuracy: 27.31999969482422 (27%)\n",
            "\n",
            "Train epoch: 59 [0/50000 (0%)]\tLoss: 1.166606\n",
            "Train epoch: 59 [3200/50000 (6%)]\tLoss: 1.517288\n",
            "Train epoch: 59 [6400/50000 (13%)]\tLoss: 1.286626\n",
            "Train epoch: 59 [9600/50000 (19%)]\tLoss: 1.647039\n",
            "Train epoch: 59 [12800/50000 (26%)]\tLoss: 1.576657\n",
            "Train epoch: 59 [16000/50000 (32%)]\tLoss: 1.787858\n",
            "Train epoch: 59 [19200/50000 (38%)]\tLoss: 1.343642\n",
            "Train epoch: 59 [22400/50000 (45%)]\tLoss: 1.569350\n",
            "Train epoch: 59 [25600/50000 (51%)]\tLoss: 1.192599\n",
            "Train epoch: 59 [28800/50000 (58%)]\tLoss: 1.342617\n",
            "Train epoch: 59 [32000/50000 (64%)]\tLoss: 1.103921\n",
            "Train epoch: 59 [35200/50000 (70%)]\tLoss: 1.587169\n",
            "Train epoch: 59 [38400/50000 (77%)]\tLoss: 1.359156\n",
            "Train epoch: 59 [41600/50000 (83%)]\tLoss: 1.411143\n",
            "Train epoch: 59 [44800/50000 (90%)]\tLoss: 1.704050\n",
            "Train epoch: 59 [48000/50000 (96%)]\tLoss: 1.505783\n",
            "\n",
            "Test set: Average loss: 0.0111, Accuracy: 49.650001525878906 (50%)\n",
            "\n"
          ]
        },
        {
          "output_type": "stream",
          "name": "stderr",
          "text": [
            "/usr/local/lib/python3.10/dist-packages/torchvision/transforms/functional.py:1603: UserWarning: The default value of the antialias parameter of all the resizing transforms (Resize(), RandomResizedCrop(), etc.) will change from None to True in v0.17, in order to be consistent across the PIL and Tensor backends. To suppress this warning, directly pass antialias=True (recommended, future default), antialias=None (current default, which means False for Tensors and True for PIL), or antialias=False (only works on Tensors - PIL will still use antialiasing). This also applies if you are using the inference transforms from the models weights: update the call to weights.transforms(antialias=True).\n",
            "  warnings.warn(\n"
          ]
        },
        {
          "output_type": "stream",
          "name": "stdout",
          "text": [
            "\n",
            "Test set: Average loss: 0.0189, Accuracy: 27.760000228881836 (28%)\n",
            "\n",
            "Train epoch: 60 [0/50000 (0%)]\tLoss: 1.407966\n",
            "Train epoch: 60 [3200/50000 (6%)]\tLoss: 1.429052\n",
            "Train epoch: 60 [6400/50000 (13%)]\tLoss: 1.334848\n",
            "Train epoch: 60 [9600/50000 (19%)]\tLoss: 1.597838\n",
            "Train epoch: 60 [12800/50000 (26%)]\tLoss: 1.303291\n",
            "Train epoch: 60 [16000/50000 (32%)]\tLoss: 1.478592\n",
            "Train epoch: 60 [19200/50000 (38%)]\tLoss: 1.399713\n",
            "Train epoch: 60 [22400/50000 (45%)]\tLoss: 1.497832\n",
            "Train epoch: 60 [25600/50000 (51%)]\tLoss: 1.287397\n",
            "Train epoch: 60 [28800/50000 (58%)]\tLoss: 1.424970\n",
            "Train epoch: 60 [32000/50000 (64%)]\tLoss: 1.251999\n",
            "Train epoch: 60 [35200/50000 (70%)]\tLoss: 1.558955\n",
            "Train epoch: 60 [38400/50000 (77%)]\tLoss: 1.660473\n",
            "Train epoch: 60 [41600/50000 (83%)]\tLoss: 1.215414\n",
            "Train epoch: 60 [44800/50000 (90%)]\tLoss: 1.242074\n",
            "Train epoch: 60 [48000/50000 (96%)]\tLoss: 1.174528\n",
            "\n",
            "Test set: Average loss: 0.0108, Accuracy: 51.04999923706055 (51%)\n",
            "\n"
          ]
        },
        {
          "output_type": "stream",
          "name": "stderr",
          "text": [
            "/usr/local/lib/python3.10/dist-packages/torchvision/transforms/functional.py:1603: UserWarning: The default value of the antialias parameter of all the resizing transforms (Resize(), RandomResizedCrop(), etc.) will change from None to True in v0.17, in order to be consistent across the PIL and Tensor backends. To suppress this warning, directly pass antialias=True (recommended, future default), antialias=None (current default, which means False for Tensors and True for PIL), or antialias=False (only works on Tensors - PIL will still use antialiasing). This also applies if you are using the inference transforms from the models weights: update the call to weights.transforms(antialias=True).\n",
            "  warnings.warn(\n"
          ]
        },
        {
          "output_type": "stream",
          "name": "stdout",
          "text": [
            "\n",
            "Test set: Average loss: 0.0189, Accuracy: 29.610000610351562 (30%)\n",
            "\n",
            "\n",
            "    ------------------------------\n",
            "    Normal Data Saved: (60, 51.05)\n",
            "    ------------------------------\n",
            "    \n",
            "\n",
            "    -------------------------------\n",
            "    Altered Data Saved: (60, 29.61)\n",
            "    -------------------------------\n",
            "    \n",
            "Train epoch: 61 [0/50000 (0%)]\tLoss: 1.488911\n",
            "Train epoch: 61 [3200/50000 (6%)]\tLoss: 1.546842\n",
            "Train epoch: 61 [6400/50000 (13%)]\tLoss: 1.352172\n",
            "Train epoch: 61 [9600/50000 (19%)]\tLoss: 1.295735\n",
            "Train epoch: 61 [12800/50000 (26%)]\tLoss: 1.139879\n",
            "Train epoch: 61 [16000/50000 (32%)]\tLoss: 1.315855\n",
            "Train epoch: 61 [19200/50000 (38%)]\tLoss: 1.205236\n",
            "Train epoch: 61 [22400/50000 (45%)]\tLoss: 1.382732\n",
            "Train epoch: 61 [25600/50000 (51%)]\tLoss: 1.252928\n",
            "Train epoch: 61 [28800/50000 (58%)]\tLoss: 1.193107\n",
            "Train epoch: 61 [32000/50000 (64%)]\tLoss: 1.450284\n",
            "Train epoch: 61 [35200/50000 (70%)]\tLoss: 1.483397\n",
            "Train epoch: 61 [38400/50000 (77%)]\tLoss: 1.681728\n",
            "Train epoch: 61 [41600/50000 (83%)]\tLoss: 1.283861\n",
            "Train epoch: 61 [44800/50000 (90%)]\tLoss: 1.012955\n",
            "Train epoch: 61 [48000/50000 (96%)]\tLoss: 1.365915\n",
            "\n",
            "Test set: Average loss: 0.0110, Accuracy: 49.7599983215332 (50%)\n",
            "\n"
          ]
        },
        {
          "output_type": "stream",
          "name": "stderr",
          "text": [
            "/usr/local/lib/python3.10/dist-packages/torchvision/transforms/functional.py:1603: UserWarning: The default value of the antialias parameter of all the resizing transforms (Resize(), RandomResizedCrop(), etc.) will change from None to True in v0.17, in order to be consistent across the PIL and Tensor backends. To suppress this warning, directly pass antialias=True (recommended, future default), antialias=None (current default, which means False for Tensors and True for PIL), or antialias=False (only works on Tensors - PIL will still use antialiasing). This also applies if you are using the inference transforms from the models weights: update the call to weights.transforms(antialias=True).\n",
            "  warnings.warn(\n"
          ]
        },
        {
          "output_type": "stream",
          "name": "stdout",
          "text": [
            "\n",
            "Test set: Average loss: 0.0185, Accuracy: 29.31999969482422 (29%)\n",
            "\n",
            "Train epoch: 62 [0/50000 (0%)]\tLoss: 1.026681\n",
            "Train epoch: 62 [3200/50000 (6%)]\tLoss: 1.790473\n",
            "Train epoch: 62 [6400/50000 (13%)]\tLoss: 1.462484\n",
            "Train epoch: 62 [9600/50000 (19%)]\tLoss: 1.363422\n",
            "Train epoch: 62 [12800/50000 (26%)]\tLoss: 1.308119\n",
            "Train epoch: 62 [16000/50000 (32%)]\tLoss: 1.479619\n",
            "Train epoch: 62 [19200/50000 (38%)]\tLoss: 1.122597\n",
            "Train epoch: 62 [22400/50000 (45%)]\tLoss: 1.283056\n",
            "Train epoch: 62 [25600/50000 (51%)]\tLoss: 1.450518\n",
            "Train epoch: 62 [28800/50000 (58%)]\tLoss: 1.359610\n",
            "Train epoch: 62 [32000/50000 (64%)]\tLoss: 1.618858\n",
            "Train epoch: 62 [35200/50000 (70%)]\tLoss: 1.297942\n",
            "Train epoch: 62 [38400/50000 (77%)]\tLoss: 1.194139\n",
            "Train epoch: 62 [41600/50000 (83%)]\tLoss: 1.629660\n",
            "Train epoch: 62 [44800/50000 (90%)]\tLoss: 1.353395\n",
            "Train epoch: 62 [48000/50000 (96%)]\tLoss: 1.158432\n",
            "\n",
            "Test set: Average loss: 0.0107, Accuracy: 51.380001068115234 (51%)\n",
            "\n"
          ]
        },
        {
          "output_type": "stream",
          "name": "stderr",
          "text": [
            "/usr/local/lib/python3.10/dist-packages/torchvision/transforms/functional.py:1603: UserWarning: The default value of the antialias parameter of all the resizing transforms (Resize(), RandomResizedCrop(), etc.) will change from None to True in v0.17, in order to be consistent across the PIL and Tensor backends. To suppress this warning, directly pass antialias=True (recommended, future default), antialias=None (current default, which means False for Tensors and True for PIL), or antialias=False (only works on Tensors - PIL will still use antialiasing). This also applies if you are using the inference transforms from the models weights: update the call to weights.transforms(antialias=True).\n",
            "  warnings.warn(\n"
          ]
        },
        {
          "output_type": "stream",
          "name": "stdout",
          "text": [
            "\n",
            "Test set: Average loss: 0.0173, Accuracy: 28.5 (28%)\n",
            "\n",
            "Train epoch: 63 [0/50000 (0%)]\tLoss: 1.420838\n",
            "Train epoch: 63 [3200/50000 (6%)]\tLoss: 1.252427\n",
            "Train epoch: 63 [6400/50000 (13%)]\tLoss: 1.601872\n",
            "Train epoch: 63 [9600/50000 (19%)]\tLoss: 1.382109\n",
            "Train epoch: 63 [12800/50000 (26%)]\tLoss: 1.055697\n",
            "Train epoch: 63 [16000/50000 (32%)]\tLoss: 1.173626\n",
            "Train epoch: 63 [19200/50000 (38%)]\tLoss: 1.124617\n",
            "Train epoch: 63 [22400/50000 (45%)]\tLoss: 1.276381\n",
            "Train epoch: 63 [25600/50000 (51%)]\tLoss: 1.239162\n",
            "Train epoch: 63 [28800/50000 (58%)]\tLoss: 1.049841\n",
            "Train epoch: 63 [32000/50000 (64%)]\tLoss: 1.196411\n",
            "Train epoch: 63 [35200/50000 (70%)]\tLoss: 1.060338\n",
            "Train epoch: 63 [38400/50000 (77%)]\tLoss: 1.320092\n",
            "Train epoch: 63 [41600/50000 (83%)]\tLoss: 1.416686\n",
            "Train epoch: 63 [44800/50000 (90%)]\tLoss: 1.192188\n",
            "Train epoch: 63 [48000/50000 (96%)]\tLoss: 1.475080\n",
            "\n",
            "Test set: Average loss: 0.0110, Accuracy: 50.650001525878906 (51%)\n",
            "\n"
          ]
        },
        {
          "output_type": "stream",
          "name": "stderr",
          "text": [
            "/usr/local/lib/python3.10/dist-packages/torchvision/transforms/functional.py:1603: UserWarning: The default value of the antialias parameter of all the resizing transforms (Resize(), RandomResizedCrop(), etc.) will change from None to True in v0.17, in order to be consistent across the PIL and Tensor backends. To suppress this warning, directly pass antialias=True (recommended, future default), antialias=None (current default, which means False for Tensors and True for PIL), or antialias=False (only works on Tensors - PIL will still use antialiasing). This also applies if you are using the inference transforms from the models weights: update the call to weights.transforms(antialias=True).\n",
            "  warnings.warn(\n"
          ]
        },
        {
          "output_type": "stream",
          "name": "stdout",
          "text": [
            "\n",
            "Test set: Average loss: 0.0200, Accuracy: 30.059999465942383 (30%)\n",
            "\n",
            "Train epoch: 64 [0/50000 (0%)]\tLoss: 1.680603\n",
            "Train epoch: 64 [3200/50000 (6%)]\tLoss: 1.455052\n",
            "Train epoch: 64 [6400/50000 (13%)]\tLoss: 1.207271\n",
            "Train epoch: 64 [9600/50000 (19%)]\tLoss: 0.962692\n",
            "Train epoch: 64 [12800/50000 (26%)]\tLoss: 1.368132\n",
            "Train epoch: 64 [16000/50000 (32%)]\tLoss: 0.954969\n",
            "Train epoch: 64 [19200/50000 (38%)]\tLoss: 1.271566\n",
            "Train epoch: 64 [22400/50000 (45%)]\tLoss: 1.288354\n",
            "Train epoch: 64 [25600/50000 (51%)]\tLoss: 1.583724\n",
            "Train epoch: 64 [28800/50000 (58%)]\tLoss: 1.420086\n",
            "Train epoch: 64 [32000/50000 (64%)]\tLoss: 1.303952\n",
            "Train epoch: 64 [35200/50000 (70%)]\tLoss: 1.707264\n",
            "Train epoch: 64 [38400/50000 (77%)]\tLoss: 1.137472\n",
            "Train epoch: 64 [41600/50000 (83%)]\tLoss: 1.338083\n",
            "Train epoch: 64 [44800/50000 (90%)]\tLoss: 1.098015\n",
            "Train epoch: 64 [48000/50000 (96%)]\tLoss: 1.528230\n",
            "\n",
            "Test set: Average loss: 0.0110, Accuracy: 51.45000076293945 (51%)\n",
            "\n"
          ]
        },
        {
          "output_type": "stream",
          "name": "stderr",
          "text": [
            "/usr/local/lib/python3.10/dist-packages/torchvision/transforms/functional.py:1603: UserWarning: The default value of the antialias parameter of all the resizing transforms (Resize(), RandomResizedCrop(), etc.) will change from None to True in v0.17, in order to be consistent across the PIL and Tensor backends. To suppress this warning, directly pass antialias=True (recommended, future default), antialias=None (current default, which means False for Tensors and True for PIL), or antialias=False (only works on Tensors - PIL will still use antialiasing). This also applies if you are using the inference transforms from the models weights: update the call to weights.transforms(antialias=True).\n",
            "  warnings.warn(\n"
          ]
        },
        {
          "output_type": "stream",
          "name": "stdout",
          "text": [
            "\n",
            "Test set: Average loss: 0.0202, Accuracy: 29.90999984741211 (30%)\n",
            "\n",
            "Train epoch: 65 [0/50000 (0%)]\tLoss: 1.355689\n",
            "Train epoch: 65 [3200/50000 (6%)]\tLoss: 1.309651\n",
            "Train epoch: 65 [6400/50000 (13%)]\tLoss: 1.500743\n",
            "Train epoch: 65 [9600/50000 (19%)]\tLoss: 1.330391\n",
            "Train epoch: 65 [12800/50000 (26%)]\tLoss: 1.148303\n",
            "Train epoch: 65 [16000/50000 (32%)]\tLoss: 1.434889\n",
            "Train epoch: 65 [19200/50000 (38%)]\tLoss: 1.278921\n",
            "Train epoch: 65 [22400/50000 (45%)]\tLoss: 1.451354\n",
            "Train epoch: 65 [25600/50000 (51%)]\tLoss: 1.122508\n",
            "Train epoch: 65 [28800/50000 (58%)]\tLoss: 1.240837\n",
            "Train epoch: 65 [32000/50000 (64%)]\tLoss: 0.977463\n",
            "Train epoch: 65 [35200/50000 (70%)]\tLoss: 1.268886\n",
            "Train epoch: 65 [38400/50000 (77%)]\tLoss: 1.324146\n",
            "Train epoch: 65 [41600/50000 (83%)]\tLoss: 1.368804\n",
            "Train epoch: 65 [44800/50000 (90%)]\tLoss: 1.293388\n",
            "Train epoch: 65 [48000/50000 (96%)]\tLoss: 1.557467\n",
            "\n",
            "Test set: Average loss: 0.0102, Accuracy: 53.25 (53%)\n",
            "\n"
          ]
        },
        {
          "output_type": "stream",
          "name": "stderr",
          "text": [
            "/usr/local/lib/python3.10/dist-packages/torchvision/transforms/functional.py:1603: UserWarning: The default value of the antialias parameter of all the resizing transforms (Resize(), RandomResizedCrop(), etc.) will change from None to True in v0.17, in order to be consistent across the PIL and Tensor backends. To suppress this warning, directly pass antialias=True (recommended, future default), antialias=None (current default, which means False for Tensors and True for PIL), or antialias=False (only works on Tensors - PIL will still use antialiasing). This also applies if you are using the inference transforms from the models weights: update the call to weights.transforms(antialias=True).\n",
            "  warnings.warn(\n"
          ]
        },
        {
          "output_type": "stream",
          "name": "stdout",
          "text": [
            "\n",
            "Test set: Average loss: 0.0190, Accuracy: 28.979999542236328 (29%)\n",
            "\n",
            "Train epoch: 66 [0/50000 (0%)]\tLoss: 1.257591\n",
            "Train epoch: 66 [3200/50000 (6%)]\tLoss: 1.490004\n",
            "Train epoch: 66 [6400/50000 (13%)]\tLoss: 1.499533\n",
            "Train epoch: 66 [9600/50000 (19%)]\tLoss: 1.565662\n",
            "Train epoch: 66 [12800/50000 (26%)]\tLoss: 1.257671\n",
            "Train epoch: 66 [16000/50000 (32%)]\tLoss: 1.314833\n",
            "Train epoch: 66 [19200/50000 (38%)]\tLoss: 1.405255\n",
            "Train epoch: 66 [22400/50000 (45%)]\tLoss: 1.514634\n",
            "Train epoch: 66 [25600/50000 (51%)]\tLoss: 1.337884\n",
            "Train epoch: 66 [28800/50000 (58%)]\tLoss: 1.293590\n",
            "Train epoch: 66 [32000/50000 (64%)]\tLoss: 1.651360\n",
            "Train epoch: 66 [35200/50000 (70%)]\tLoss: 1.327817\n",
            "Train epoch: 66 [38400/50000 (77%)]\tLoss: 1.452145\n",
            "Train epoch: 66 [41600/50000 (83%)]\tLoss: 1.344405\n",
            "Train epoch: 66 [44800/50000 (90%)]\tLoss: 1.461779\n",
            "Train epoch: 66 [48000/50000 (96%)]\tLoss: 1.079357\n",
            "\n",
            "Test set: Average loss: 0.0103, Accuracy: 54.060001373291016 (54%)\n",
            "\n"
          ]
        },
        {
          "output_type": "stream",
          "name": "stderr",
          "text": [
            "/usr/local/lib/python3.10/dist-packages/torchvision/transforms/functional.py:1603: UserWarning: The default value of the antialias parameter of all the resizing transforms (Resize(), RandomResizedCrop(), etc.) will change from None to True in v0.17, in order to be consistent across the PIL and Tensor backends. To suppress this warning, directly pass antialias=True (recommended, future default), antialias=None (current default, which means False for Tensors and True for PIL), or antialias=False (only works on Tensors - PIL will still use antialiasing). This also applies if you are using the inference transforms from the models weights: update the call to weights.transforms(antialias=True).\n",
            "  warnings.warn(\n"
          ]
        },
        {
          "output_type": "stream",
          "name": "stdout",
          "text": [
            "\n",
            "Test set: Average loss: 0.0188, Accuracy: 30.579999923706055 (31%)\n",
            "\n",
            "Train epoch: 67 [0/50000 (0%)]\tLoss: 1.283540\n",
            "Train epoch: 67 [3200/50000 (6%)]\tLoss: 1.486325\n",
            "Train epoch: 67 [6400/50000 (13%)]\tLoss: 0.930679\n",
            "Train epoch: 67 [9600/50000 (19%)]\tLoss: 1.050463\n",
            "Train epoch: 67 [12800/50000 (26%)]\tLoss: 1.387820\n",
            "Train epoch: 67 [16000/50000 (32%)]\tLoss: 1.380611\n",
            "Train epoch: 67 [19200/50000 (38%)]\tLoss: 1.533707\n",
            "Train epoch: 67 [22400/50000 (45%)]\tLoss: 1.191135\n",
            "Train epoch: 67 [25600/50000 (51%)]\tLoss: 1.293950\n",
            "Train epoch: 67 [28800/50000 (58%)]\tLoss: 0.943415\n",
            "Train epoch: 67 [32000/50000 (64%)]\tLoss: 1.378723\n",
            "Train epoch: 67 [35200/50000 (70%)]\tLoss: 1.332026\n",
            "Train epoch: 67 [38400/50000 (77%)]\tLoss: 1.128751\n",
            "Train epoch: 67 [41600/50000 (83%)]\tLoss: 1.260357\n",
            "Train epoch: 67 [44800/50000 (90%)]\tLoss: 1.140249\n",
            "Train epoch: 67 [48000/50000 (96%)]\tLoss: 1.076110\n",
            "\n",
            "Test set: Average loss: 0.0102, Accuracy: 55.099998474121094 (55%)\n",
            "\n"
          ]
        },
        {
          "output_type": "stream",
          "name": "stderr",
          "text": [
            "/usr/local/lib/python3.10/dist-packages/torchvision/transforms/functional.py:1603: UserWarning: The default value of the antialias parameter of all the resizing transforms (Resize(), RandomResizedCrop(), etc.) will change from None to True in v0.17, in order to be consistent across the PIL and Tensor backends. To suppress this warning, directly pass antialias=True (recommended, future default), antialias=None (current default, which means False for Tensors and True for PIL), or antialias=False (only works on Tensors - PIL will still use antialiasing). This also applies if you are using the inference transforms from the models weights: update the call to weights.transforms(antialias=True).\n",
            "  warnings.warn(\n"
          ]
        },
        {
          "output_type": "stream",
          "name": "stdout",
          "text": [
            "\n",
            "Test set: Average loss: 0.0199, Accuracy: 28.600000381469727 (29%)\n",
            "\n",
            "Train epoch: 68 [0/50000 (0%)]\tLoss: 1.656002\n",
            "Train epoch: 68 [3200/50000 (6%)]\tLoss: 1.788058\n",
            "Train epoch: 68 [6400/50000 (13%)]\tLoss: 1.521349\n",
            "Train epoch: 68 [9600/50000 (19%)]\tLoss: 1.306299\n",
            "Train epoch: 68 [12800/50000 (26%)]\tLoss: 1.017549\n",
            "Train epoch: 68 [16000/50000 (32%)]\tLoss: 1.532371\n",
            "Train epoch: 68 [19200/50000 (38%)]\tLoss: 1.199243\n",
            "Train epoch: 68 [22400/50000 (45%)]\tLoss: 1.247017\n",
            "Train epoch: 68 [25600/50000 (51%)]\tLoss: 1.208642\n",
            "Train epoch: 68 [28800/50000 (58%)]\tLoss: 1.339437\n",
            "Train epoch: 68 [32000/50000 (64%)]\tLoss: 1.374749\n",
            "Train epoch: 68 [35200/50000 (70%)]\tLoss: 1.058455\n",
            "Train epoch: 68 [38400/50000 (77%)]\tLoss: 1.198769\n",
            "Train epoch: 68 [41600/50000 (83%)]\tLoss: 1.491985\n",
            "Train epoch: 68 [44800/50000 (90%)]\tLoss: 1.241775\n",
            "Train epoch: 68 [48000/50000 (96%)]\tLoss: 1.368436\n",
            "\n",
            "Test set: Average loss: 0.0099, Accuracy: 55.33000183105469 (55%)\n",
            "\n"
          ]
        },
        {
          "output_type": "stream",
          "name": "stderr",
          "text": [
            "/usr/local/lib/python3.10/dist-packages/torchvision/transforms/functional.py:1603: UserWarning: The default value of the antialias parameter of all the resizing transforms (Resize(), RandomResizedCrop(), etc.) will change from None to True in v0.17, in order to be consistent across the PIL and Tensor backends. To suppress this warning, directly pass antialias=True (recommended, future default), antialias=None (current default, which means False for Tensors and True for PIL), or antialias=False (only works on Tensors - PIL will still use antialiasing). This also applies if you are using the inference transforms from the models weights: update the call to weights.transforms(antialias=True).\n",
            "  warnings.warn(\n"
          ]
        },
        {
          "output_type": "stream",
          "name": "stdout",
          "text": [
            "\n",
            "Test set: Average loss: 0.0189, Accuracy: 31.1299991607666 (31%)\n",
            "\n",
            "Train epoch: 69 [0/50000 (0%)]\tLoss: 1.069287\n",
            "Train epoch: 69 [3200/50000 (6%)]\tLoss: 1.179369\n",
            "Train epoch: 69 [6400/50000 (13%)]\tLoss: 0.914787\n",
            "Train epoch: 69 [9600/50000 (19%)]\tLoss: 1.444230\n",
            "Train epoch: 69 [12800/50000 (26%)]\tLoss: 1.404727\n",
            "Train epoch: 69 [16000/50000 (32%)]\tLoss: 1.499176\n",
            "Train epoch: 69 [19200/50000 (38%)]\tLoss: 1.073999\n",
            "Train epoch: 69 [22400/50000 (45%)]\tLoss: 1.343054\n",
            "Train epoch: 69 [25600/50000 (51%)]\tLoss: 1.094171\n",
            "Train epoch: 69 [28800/50000 (58%)]\tLoss: 1.452888\n",
            "Train epoch: 69 [32000/50000 (64%)]\tLoss: 1.413100\n",
            "Train epoch: 69 [35200/50000 (70%)]\tLoss: 1.292145\n",
            "Train epoch: 69 [38400/50000 (77%)]\tLoss: 1.254799\n",
            "Train epoch: 69 [41600/50000 (83%)]\tLoss: 1.073585\n",
            "Train epoch: 69 [44800/50000 (90%)]\tLoss: 1.326038\n",
            "Train epoch: 69 [48000/50000 (96%)]\tLoss: 0.983773\n",
            "\n",
            "Test set: Average loss: 0.0100, Accuracy: 55.369998931884766 (55%)\n",
            "\n"
          ]
        },
        {
          "output_type": "stream",
          "name": "stderr",
          "text": [
            "/usr/local/lib/python3.10/dist-packages/torchvision/transforms/functional.py:1603: UserWarning: The default value of the antialias parameter of all the resizing transforms (Resize(), RandomResizedCrop(), etc.) will change from None to True in v0.17, in order to be consistent across the PIL and Tensor backends. To suppress this warning, directly pass antialias=True (recommended, future default), antialias=None (current default, which means False for Tensors and True for PIL), or antialias=False (only works on Tensors - PIL will still use antialiasing). This also applies if you are using the inference transforms from the models weights: update the call to weights.transforms(antialias=True).\n",
            "  warnings.warn(\n"
          ]
        },
        {
          "output_type": "stream",
          "name": "stdout",
          "text": [
            "\n",
            "Test set: Average loss: 0.0201, Accuracy: 29.06999969482422 (29%)\n",
            "\n",
            "Train epoch: 70 [0/50000 (0%)]\tLoss: 1.580366\n",
            "Train epoch: 70 [3200/50000 (6%)]\tLoss: 1.189629\n",
            "Train epoch: 70 [6400/50000 (13%)]\tLoss: 1.508196\n",
            "Train epoch: 70 [9600/50000 (19%)]\tLoss: 1.449956\n",
            "Train epoch: 70 [12800/50000 (26%)]\tLoss: 1.129334\n",
            "Train epoch: 70 [16000/50000 (32%)]\tLoss: 1.210455\n",
            "Train epoch: 70 [19200/50000 (38%)]\tLoss: 0.992051\n",
            "Train epoch: 70 [22400/50000 (45%)]\tLoss: 1.382060\n",
            "Train epoch: 70 [25600/50000 (51%)]\tLoss: 1.098718\n",
            "Train epoch: 70 [28800/50000 (58%)]\tLoss: 1.129170\n",
            "Train epoch: 70 [32000/50000 (64%)]\tLoss: 1.230648\n",
            "Train epoch: 70 [35200/50000 (70%)]\tLoss: 1.088786\n",
            "Train epoch: 70 [38400/50000 (77%)]\tLoss: 1.228346\n",
            "Train epoch: 70 [41600/50000 (83%)]\tLoss: 1.676543\n",
            "Train epoch: 70 [44800/50000 (90%)]\tLoss: 1.284893\n",
            "Train epoch: 70 [48000/50000 (96%)]\tLoss: 1.204715\n",
            "\n",
            "Test set: Average loss: 0.0098, Accuracy: 56.29999923706055 (56%)\n",
            "\n"
          ]
        },
        {
          "output_type": "stream",
          "name": "stderr",
          "text": [
            "/usr/local/lib/python3.10/dist-packages/torchvision/transforms/functional.py:1603: UserWarning: The default value of the antialias parameter of all the resizing transforms (Resize(), RandomResizedCrop(), etc.) will change from None to True in v0.17, in order to be consistent across the PIL and Tensor backends. To suppress this warning, directly pass antialias=True (recommended, future default), antialias=None (current default, which means False for Tensors and True for PIL), or antialias=False (only works on Tensors - PIL will still use antialiasing). This also applies if you are using the inference transforms from the models weights: update the call to weights.transforms(antialias=True).\n",
            "  warnings.warn(\n"
          ]
        },
        {
          "output_type": "stream",
          "name": "stdout",
          "text": [
            "\n",
            "Test set: Average loss: 0.0196, Accuracy: 28.889999389648438 (29%)\n",
            "\n",
            "\n",
            "    -----------------------------\n",
            "    Normal Data Saved: (70, 56.3)\n",
            "    -----------------------------\n",
            "    \n",
            "\n",
            "    -------------------------------\n",
            "    Altered Data Saved: (70, 28.89)\n",
            "    -------------------------------\n",
            "    \n",
            "Train epoch: 71 [0/50000 (0%)]\tLoss: 1.314232\n",
            "Train epoch: 71 [3200/50000 (6%)]\tLoss: 1.223285\n",
            "Train epoch: 71 [6400/50000 (13%)]\tLoss: 1.265379\n",
            "Train epoch: 71 [9600/50000 (19%)]\tLoss: 1.045533\n",
            "Train epoch: 71 [12800/50000 (26%)]\tLoss: 1.405371\n",
            "Train epoch: 71 [16000/50000 (32%)]\tLoss: 1.153769\n",
            "Train epoch: 71 [19200/50000 (38%)]\tLoss: 1.294393\n",
            "Train epoch: 71 [22400/50000 (45%)]\tLoss: 1.098598\n",
            "Train epoch: 71 [25600/50000 (51%)]\tLoss: 1.317992\n",
            "Train epoch: 71 [28800/50000 (58%)]\tLoss: 1.323855\n",
            "Train epoch: 71 [32000/50000 (64%)]\tLoss: 1.044723\n",
            "Train epoch: 71 [35200/50000 (70%)]\tLoss: 1.370032\n",
            "Train epoch: 71 [38400/50000 (77%)]\tLoss: 1.355311\n",
            "Train epoch: 71 [41600/50000 (83%)]\tLoss: 1.283135\n",
            "Train epoch: 71 [44800/50000 (90%)]\tLoss: 1.184679\n",
            "Train epoch: 71 [48000/50000 (96%)]\tLoss: 1.143415\n",
            "\n",
            "Test set: Average loss: 0.0103, Accuracy: 55.08000183105469 (55%)\n",
            "\n"
          ]
        },
        {
          "output_type": "stream",
          "name": "stderr",
          "text": [
            "/usr/local/lib/python3.10/dist-packages/torchvision/transforms/functional.py:1603: UserWarning: The default value of the antialias parameter of all the resizing transforms (Resize(), RandomResizedCrop(), etc.) will change from None to True in v0.17, in order to be consistent across the PIL and Tensor backends. To suppress this warning, directly pass antialias=True (recommended, future default), antialias=None (current default, which means False for Tensors and True for PIL), or antialias=False (only works on Tensors - PIL will still use antialiasing). This also applies if you are using the inference transforms from the models weights: update the call to weights.transforms(antialias=True).\n",
            "  warnings.warn(\n"
          ]
        },
        {
          "output_type": "stream",
          "name": "stdout",
          "text": [
            "\n",
            "Test set: Average loss: 0.0199, Accuracy: 29.8799991607666 (30%)\n",
            "\n",
            "Train epoch: 72 [0/50000 (0%)]\tLoss: 1.463974\n",
            "Train epoch: 72 [3200/50000 (6%)]\tLoss: 1.281016\n",
            "Train epoch: 72 [6400/50000 (13%)]\tLoss: 1.009506\n",
            "Train epoch: 72 [9600/50000 (19%)]\tLoss: 1.136252\n",
            "Train epoch: 72 [12800/50000 (26%)]\tLoss: 1.307036\n",
            "Train epoch: 72 [16000/50000 (32%)]\tLoss: 1.043894\n",
            "Train epoch: 72 [19200/50000 (38%)]\tLoss: 1.431753\n",
            "Train epoch: 72 [22400/50000 (45%)]\tLoss: 1.151889\n",
            "Train epoch: 72 [25600/50000 (51%)]\tLoss: 1.058833\n",
            "Train epoch: 72 [28800/50000 (58%)]\tLoss: 1.308774\n",
            "Train epoch: 72 [32000/50000 (64%)]\tLoss: 1.553004\n",
            "Train epoch: 72 [35200/50000 (70%)]\tLoss: 1.349134\n",
            "Train epoch: 72 [38400/50000 (77%)]\tLoss: 1.306604\n",
            "Train epoch: 72 [41600/50000 (83%)]\tLoss: 1.213589\n",
            "Train epoch: 72 [44800/50000 (90%)]\tLoss: 1.073020\n",
            "Train epoch: 72 [48000/50000 (96%)]\tLoss: 1.165176\n",
            "\n",
            "Test set: Average loss: 0.0096, Accuracy: 57.40999984741211 (57%)\n",
            "\n"
          ]
        },
        {
          "output_type": "stream",
          "name": "stderr",
          "text": [
            "/usr/local/lib/python3.10/dist-packages/torchvision/transforms/functional.py:1603: UserWarning: The default value of the antialias parameter of all the resizing transforms (Resize(), RandomResizedCrop(), etc.) will change from None to True in v0.17, in order to be consistent across the PIL and Tensor backends. To suppress this warning, directly pass antialias=True (recommended, future default), antialias=None (current default, which means False for Tensors and True for PIL), or antialias=False (only works on Tensors - PIL will still use antialiasing). This also applies if you are using the inference transforms from the models weights: update the call to weights.transforms(antialias=True).\n",
            "  warnings.warn(\n"
          ]
        },
        {
          "output_type": "stream",
          "name": "stdout",
          "text": [
            "\n",
            "Test set: Average loss: 0.0206, Accuracy: 28.770000457763672 (29%)\n",
            "\n",
            "Train epoch: 73 [0/50000 (0%)]\tLoss: 1.109109\n",
            "Train epoch: 73 [3200/50000 (6%)]\tLoss: 1.291797\n",
            "Train epoch: 73 [6400/50000 (13%)]\tLoss: 0.899129\n",
            "Train epoch: 73 [9600/50000 (19%)]\tLoss: 1.001614\n",
            "Train epoch: 73 [12800/50000 (26%)]\tLoss: 0.900079\n",
            "Train epoch: 73 [16000/50000 (32%)]\tLoss: 1.020352\n",
            "Train epoch: 73 [19200/50000 (38%)]\tLoss: 1.214885\n",
            "Train epoch: 73 [22400/50000 (45%)]\tLoss: 1.028936\n",
            "Train epoch: 73 [25600/50000 (51%)]\tLoss: 1.309884\n",
            "Train epoch: 73 [28800/50000 (58%)]\tLoss: 1.205426\n",
            "Train epoch: 73 [32000/50000 (64%)]\tLoss: 1.474443\n",
            "Train epoch: 73 [35200/50000 (70%)]\tLoss: 1.166765\n",
            "Train epoch: 73 [38400/50000 (77%)]\tLoss: 1.156705\n",
            "Train epoch: 73 [41600/50000 (83%)]\tLoss: 1.191215\n",
            "Train epoch: 73 [44800/50000 (90%)]\tLoss: 0.868185\n",
            "Train epoch: 73 [48000/50000 (96%)]\tLoss: 1.426708\n",
            "\n",
            "Test set: Average loss: 0.0097, Accuracy: 56.93000030517578 (57%)\n",
            "\n"
          ]
        },
        {
          "output_type": "stream",
          "name": "stderr",
          "text": [
            "/usr/local/lib/python3.10/dist-packages/torchvision/transforms/functional.py:1603: UserWarning: The default value of the antialias parameter of all the resizing transforms (Resize(), RandomResizedCrop(), etc.) will change from None to True in v0.17, in order to be consistent across the PIL and Tensor backends. To suppress this warning, directly pass antialias=True (recommended, future default), antialias=None (current default, which means False for Tensors and True for PIL), or antialias=False (only works on Tensors - PIL will still use antialiasing). This also applies if you are using the inference transforms from the models weights: update the call to weights.transforms(antialias=True).\n",
            "  warnings.warn(\n"
          ]
        },
        {
          "output_type": "stream",
          "name": "stdout",
          "text": [
            "\n",
            "Test set: Average loss: 0.0213, Accuracy: 28.06999969482422 (28%)\n",
            "\n",
            "Train epoch: 74 [0/50000 (0%)]\tLoss: 1.342878\n",
            "Train epoch: 74 [3200/50000 (6%)]\tLoss: 1.187459\n",
            "Train epoch: 74 [6400/50000 (13%)]\tLoss: 1.057336\n",
            "Train epoch: 74 [9600/50000 (19%)]\tLoss: 1.051549\n",
            "Train epoch: 74 [12800/50000 (26%)]\tLoss: 1.218683\n",
            "Train epoch: 74 [16000/50000 (32%)]\tLoss: 1.279341\n",
            "Train epoch: 74 [19200/50000 (38%)]\tLoss: 1.196590\n",
            "Train epoch: 74 [22400/50000 (45%)]\tLoss: 1.258121\n",
            "Train epoch: 74 [25600/50000 (51%)]\tLoss: 1.267416\n",
            "Train epoch: 74 [28800/50000 (58%)]\tLoss: 0.911984\n",
            "Train epoch: 74 [32000/50000 (64%)]\tLoss: 1.383528\n",
            "Train epoch: 74 [35200/50000 (70%)]\tLoss: 1.380146\n",
            "Train epoch: 74 [38400/50000 (77%)]\tLoss: 1.216093\n",
            "Train epoch: 74 [41600/50000 (83%)]\tLoss: 1.371877\n",
            "Train epoch: 74 [44800/50000 (90%)]\tLoss: 1.040135\n",
            "Train epoch: 74 [48000/50000 (96%)]\tLoss: 1.234653\n",
            "\n",
            "Test set: Average loss: 0.0099, Accuracy: 55.959999084472656 (56%)\n",
            "\n"
          ]
        },
        {
          "output_type": "stream",
          "name": "stderr",
          "text": [
            "/usr/local/lib/python3.10/dist-packages/torchvision/transforms/functional.py:1603: UserWarning: The default value of the antialias parameter of all the resizing transforms (Resize(), RandomResizedCrop(), etc.) will change from None to True in v0.17, in order to be consistent across the PIL and Tensor backends. To suppress this warning, directly pass antialias=True (recommended, future default), antialias=None (current default, which means False for Tensors and True for PIL), or antialias=False (only works on Tensors - PIL will still use antialiasing). This also applies if you are using the inference transforms from the models weights: update the call to weights.transforms(antialias=True).\n",
            "  warnings.warn(\n"
          ]
        },
        {
          "output_type": "stream",
          "name": "stdout",
          "text": [
            "\n",
            "Test set: Average loss: 0.0218, Accuracy: 26.010000228881836 (26%)\n",
            "\n",
            "Train epoch: 75 [0/50000 (0%)]\tLoss: 1.114378\n",
            "Train epoch: 75 [3200/50000 (6%)]\tLoss: 1.143732\n",
            "Train epoch: 75 [6400/50000 (13%)]\tLoss: 1.433837\n",
            "Train epoch: 75 [9600/50000 (19%)]\tLoss: 0.876279\n",
            "Train epoch: 75 [12800/50000 (26%)]\tLoss: 1.050487\n",
            "Train epoch: 75 [16000/50000 (32%)]\tLoss: 0.881431\n",
            "Train epoch: 75 [19200/50000 (38%)]\tLoss: 1.247247\n",
            "Train epoch: 75 [22400/50000 (45%)]\tLoss: 1.189286\n",
            "Train epoch: 75 [25600/50000 (51%)]\tLoss: 1.337717\n",
            "Train epoch: 75 [28800/50000 (58%)]\tLoss: 1.165954\n",
            "Train epoch: 75 [32000/50000 (64%)]\tLoss: 1.286485\n",
            "Train epoch: 75 [35200/50000 (70%)]\tLoss: 1.302503\n",
            "Train epoch: 75 [38400/50000 (77%)]\tLoss: 1.131425\n",
            "Train epoch: 75 [41600/50000 (83%)]\tLoss: 0.737080\n",
            "Train epoch: 75 [44800/50000 (90%)]\tLoss: 1.040442\n",
            "Train epoch: 75 [48000/50000 (96%)]\tLoss: 0.975930\n",
            "\n",
            "Test set: Average loss: 0.0094, Accuracy: 58.689998626708984 (59%)\n",
            "\n"
          ]
        },
        {
          "output_type": "stream",
          "name": "stderr",
          "text": [
            "/usr/local/lib/python3.10/dist-packages/torchvision/transforms/functional.py:1603: UserWarning: The default value of the antialias parameter of all the resizing transforms (Resize(), RandomResizedCrop(), etc.) will change from None to True in v0.17, in order to be consistent across the PIL and Tensor backends. To suppress this warning, directly pass antialias=True (recommended, future default), antialias=None (current default, which means False for Tensors and True for PIL), or antialias=False (only works on Tensors - PIL will still use antialiasing). This also applies if you are using the inference transforms from the models weights: update the call to weights.transforms(antialias=True).\n",
            "  warnings.warn(\n"
          ]
        },
        {
          "output_type": "stream",
          "name": "stdout",
          "text": [
            "\n",
            "Test set: Average loss: 0.0200, Accuracy: 29.850000381469727 (30%)\n",
            "\n",
            "Train epoch: 76 [0/50000 (0%)]\tLoss: 1.309006\n",
            "Train epoch: 76 [3200/50000 (6%)]\tLoss: 1.098471\n",
            "Train epoch: 76 [6400/50000 (13%)]\tLoss: 1.114545\n",
            "Train epoch: 76 [9600/50000 (19%)]\tLoss: 1.086923\n",
            "Train epoch: 76 [12800/50000 (26%)]\tLoss: 1.338894\n",
            "Train epoch: 76 [16000/50000 (32%)]\tLoss: 1.121438\n",
            "Train epoch: 76 [19200/50000 (38%)]\tLoss: 0.908370\n",
            "Train epoch: 76 [22400/50000 (45%)]\tLoss: 1.242428\n",
            "Train epoch: 76 [25600/50000 (51%)]\tLoss: 0.976757\n",
            "Train epoch: 76 [28800/50000 (58%)]\tLoss: 1.064669\n",
            "Train epoch: 76 [32000/50000 (64%)]\tLoss: 1.187445\n",
            "Train epoch: 76 [35200/50000 (70%)]\tLoss: 1.611075\n",
            "Train epoch: 76 [38400/50000 (77%)]\tLoss: 1.276418\n",
            "Train epoch: 76 [41600/50000 (83%)]\tLoss: 1.395596\n",
            "Train epoch: 76 [44800/50000 (90%)]\tLoss: 0.727908\n",
            "Train epoch: 76 [48000/50000 (96%)]\tLoss: 0.939395\n",
            "\n",
            "Test set: Average loss: 0.0096, Accuracy: 57.209999084472656 (57%)\n",
            "\n"
          ]
        },
        {
          "output_type": "stream",
          "name": "stderr",
          "text": [
            "/usr/local/lib/python3.10/dist-packages/torchvision/transforms/functional.py:1603: UserWarning: The default value of the antialias parameter of all the resizing transforms (Resize(), RandomResizedCrop(), etc.) will change from None to True in v0.17, in order to be consistent across the PIL and Tensor backends. To suppress this warning, directly pass antialias=True (recommended, future default), antialias=None (current default, which means False for Tensors and True for PIL), or antialias=False (only works on Tensors - PIL will still use antialiasing). This also applies if you are using the inference transforms from the models weights: update the call to weights.transforms(antialias=True).\n",
            "  warnings.warn(\n"
          ]
        },
        {
          "output_type": "stream",
          "name": "stdout",
          "text": [
            "\n",
            "Test set: Average loss: 0.0217, Accuracy: 26.979999542236328 (27%)\n",
            "\n",
            "Train epoch: 77 [0/50000 (0%)]\tLoss: 1.114655\n",
            "Train epoch: 77 [3200/50000 (6%)]\tLoss: 1.079567\n",
            "Train epoch: 77 [6400/50000 (13%)]\tLoss: 1.192690\n",
            "Train epoch: 77 [9600/50000 (19%)]\tLoss: 1.045756\n",
            "Train epoch: 77 [12800/50000 (26%)]\tLoss: 1.240802\n",
            "Train epoch: 77 [16000/50000 (32%)]\tLoss: 0.948794\n",
            "Train epoch: 77 [19200/50000 (38%)]\tLoss: 0.936408\n",
            "Train epoch: 77 [22400/50000 (45%)]\tLoss: 1.172785\n",
            "Train epoch: 77 [25600/50000 (51%)]\tLoss: 1.039767\n",
            "Train epoch: 77 [28800/50000 (58%)]\tLoss: 0.882530\n",
            "Train epoch: 77 [32000/50000 (64%)]\tLoss: 1.099155\n",
            "Train epoch: 77 [35200/50000 (70%)]\tLoss: 1.499569\n",
            "Train epoch: 77 [38400/50000 (77%)]\tLoss: 1.515120\n",
            "Train epoch: 77 [41600/50000 (83%)]\tLoss: 1.009822\n",
            "Train epoch: 77 [44800/50000 (90%)]\tLoss: 0.940671\n",
            "Train epoch: 77 [48000/50000 (96%)]\tLoss: 0.970700\n",
            "\n",
            "Test set: Average loss: 0.0094, Accuracy: 58.59000015258789 (59%)\n",
            "\n"
          ]
        },
        {
          "output_type": "stream",
          "name": "stderr",
          "text": [
            "/usr/local/lib/python3.10/dist-packages/torchvision/transforms/functional.py:1603: UserWarning: The default value of the antialias parameter of all the resizing transforms (Resize(), RandomResizedCrop(), etc.) will change from None to True in v0.17, in order to be consistent across the PIL and Tensor backends. To suppress this warning, directly pass antialias=True (recommended, future default), antialias=None (current default, which means False for Tensors and True for PIL), or antialias=False (only works on Tensors - PIL will still use antialiasing). This also applies if you are using the inference transforms from the models weights: update the call to weights.transforms(antialias=True).\n",
            "  warnings.warn(\n"
          ]
        },
        {
          "output_type": "stream",
          "name": "stdout",
          "text": [
            "\n",
            "Test set: Average loss: 0.0201, Accuracy: 28.3799991607666 (28%)\n",
            "\n",
            "Train epoch: 78 [0/50000 (0%)]\tLoss: 1.200266\n",
            "Train epoch: 78 [3200/50000 (6%)]\tLoss: 1.368864\n",
            "Train epoch: 78 [6400/50000 (13%)]\tLoss: 1.241883\n",
            "Train epoch: 78 [9600/50000 (19%)]\tLoss: 1.197077\n",
            "Train epoch: 78 [12800/50000 (26%)]\tLoss: 1.198873\n",
            "Train epoch: 78 [16000/50000 (32%)]\tLoss: 1.033880\n",
            "Train epoch: 78 [19200/50000 (38%)]\tLoss: 1.350131\n",
            "Train epoch: 78 [22400/50000 (45%)]\tLoss: 0.958565\n",
            "Train epoch: 78 [25600/50000 (51%)]\tLoss: 1.222423\n",
            "Train epoch: 78 [28800/50000 (58%)]\tLoss: 0.973871\n",
            "Train epoch: 78 [32000/50000 (64%)]\tLoss: 1.082978\n",
            "Train epoch: 78 [35200/50000 (70%)]\tLoss: 1.330956\n",
            "Train epoch: 78 [38400/50000 (77%)]\tLoss: 1.043587\n",
            "Train epoch: 78 [41600/50000 (83%)]\tLoss: 1.314351\n",
            "Train epoch: 78 [44800/50000 (90%)]\tLoss: 1.069680\n",
            "Train epoch: 78 [48000/50000 (96%)]\tLoss: 0.971944\n",
            "\n",
            "Test set: Average loss: 0.0091, Accuracy: 59.20000076293945 (59%)\n",
            "\n"
          ]
        },
        {
          "output_type": "stream",
          "name": "stderr",
          "text": [
            "/usr/local/lib/python3.10/dist-packages/torchvision/transforms/functional.py:1603: UserWarning: The default value of the antialias parameter of all the resizing transforms (Resize(), RandomResizedCrop(), etc.) will change from None to True in v0.17, in order to be consistent across the PIL and Tensor backends. To suppress this warning, directly pass antialias=True (recommended, future default), antialias=None (current default, which means False for Tensors and True for PIL), or antialias=False (only works on Tensors - PIL will still use antialiasing). This also applies if you are using the inference transforms from the models weights: update the call to weights.transforms(antialias=True).\n",
            "  warnings.warn(\n"
          ]
        },
        {
          "output_type": "stream",
          "name": "stdout",
          "text": [
            "\n",
            "Test set: Average loss: 0.0191, Accuracy: 29.239999771118164 (29%)\n",
            "\n",
            "Train epoch: 79 [0/50000 (0%)]\tLoss: 1.125338\n",
            "Train epoch: 79 [3200/50000 (6%)]\tLoss: 1.127994\n",
            "Train epoch: 79 [6400/50000 (13%)]\tLoss: 1.480558\n",
            "Train epoch: 79 [9600/50000 (19%)]\tLoss: 0.956726\n",
            "Train epoch: 79 [12800/50000 (26%)]\tLoss: 1.294962\n",
            "Train epoch: 79 [16000/50000 (32%)]\tLoss: 0.900085\n",
            "Train epoch: 79 [19200/50000 (38%)]\tLoss: 1.114774\n",
            "Train epoch: 79 [22400/50000 (45%)]\tLoss: 0.927897\n",
            "Train epoch: 79 [25600/50000 (51%)]\tLoss: 1.376860\n",
            "Train epoch: 79 [28800/50000 (58%)]\tLoss: 1.333746\n",
            "Train epoch: 79 [32000/50000 (64%)]\tLoss: 1.219951\n",
            "Train epoch: 79 [35200/50000 (70%)]\tLoss: 1.076931\n",
            "Train epoch: 79 [38400/50000 (77%)]\tLoss: 0.922168\n",
            "Train epoch: 79 [41600/50000 (83%)]\tLoss: 1.208145\n",
            "Train epoch: 79 [44800/50000 (90%)]\tLoss: 0.921672\n",
            "Train epoch: 79 [48000/50000 (96%)]\tLoss: 1.159438\n",
            "\n",
            "Test set: Average loss: 0.0091, Accuracy: 59.060001373291016 (59%)\n",
            "\n"
          ]
        },
        {
          "output_type": "stream",
          "name": "stderr",
          "text": [
            "/usr/local/lib/python3.10/dist-packages/torchvision/transforms/functional.py:1603: UserWarning: The default value of the antialias parameter of all the resizing transforms (Resize(), RandomResizedCrop(), etc.) will change from None to True in v0.17, in order to be consistent across the PIL and Tensor backends. To suppress this warning, directly pass antialias=True (recommended, future default), antialias=None (current default, which means False for Tensors and True for PIL), or antialias=False (only works on Tensors - PIL will still use antialiasing). This also applies if you are using the inference transforms from the models weights: update the call to weights.transforms(antialias=True).\n",
            "  warnings.warn(\n"
          ]
        },
        {
          "output_type": "stream",
          "name": "stdout",
          "text": [
            "\n",
            "Test set: Average loss: 0.0212, Accuracy: 25.06999969482422 (25%)\n",
            "\n",
            "Train epoch: 80 [0/50000 (0%)]\tLoss: 0.932306\n",
            "Train epoch: 80 [3200/50000 (6%)]\tLoss: 1.498075\n",
            "Train epoch: 80 [6400/50000 (13%)]\tLoss: 1.037683\n",
            "Train epoch: 80 [9600/50000 (19%)]\tLoss: 1.611078\n",
            "Train epoch: 80 [12800/50000 (26%)]\tLoss: 1.323106\n",
            "Train epoch: 80 [16000/50000 (32%)]\tLoss: 1.328897\n",
            "Train epoch: 80 [19200/50000 (38%)]\tLoss: 1.173634\n",
            "Train epoch: 80 [22400/50000 (45%)]\tLoss: 1.042115\n",
            "Train epoch: 80 [25600/50000 (51%)]\tLoss: 1.338544\n",
            "Train epoch: 80 [28800/50000 (58%)]\tLoss: 1.013508\n",
            "Train epoch: 80 [32000/50000 (64%)]\tLoss: 1.180773\n",
            "Train epoch: 80 [35200/50000 (70%)]\tLoss: 1.144233\n",
            "Train epoch: 80 [38400/50000 (77%)]\tLoss: 0.928961\n",
            "Train epoch: 80 [41600/50000 (83%)]\tLoss: 1.404821\n",
            "Train epoch: 80 [44800/50000 (90%)]\tLoss: 0.893769\n",
            "Train epoch: 80 [48000/50000 (96%)]\tLoss: 1.157266\n",
            "\n",
            "Test set: Average loss: 0.0092, Accuracy: 59.459999084472656 (59%)\n",
            "\n"
          ]
        },
        {
          "output_type": "stream",
          "name": "stderr",
          "text": [
            "/usr/local/lib/python3.10/dist-packages/torchvision/transforms/functional.py:1603: UserWarning: The default value of the antialias parameter of all the resizing transforms (Resize(), RandomResizedCrop(), etc.) will change from None to True in v0.17, in order to be consistent across the PIL and Tensor backends. To suppress this warning, directly pass antialias=True (recommended, future default), antialias=None (current default, which means False for Tensors and True for PIL), or antialias=False (only works on Tensors - PIL will still use antialiasing). This also applies if you are using the inference transforms from the models weights: update the call to weights.transforms(antialias=True).\n",
            "  warnings.warn(\n"
          ]
        },
        {
          "output_type": "stream",
          "name": "stdout",
          "text": [
            "\n",
            "Test set: Average loss: 0.0211, Accuracy: 27.8700008392334 (28%)\n",
            "\n",
            "\n",
            "    ------------------------------\n",
            "    Normal Data Saved: (80, 59.46)\n",
            "    ------------------------------\n",
            "    \n",
            "\n",
            "    -------------------------------\n",
            "    Altered Data Saved: (80, 27.87)\n",
            "    -------------------------------\n",
            "    \n",
            "Train epoch: 81 [0/50000 (0%)]\tLoss: 1.475764\n",
            "Train epoch: 81 [3200/50000 (6%)]\tLoss: 1.408584\n",
            "Train epoch: 81 [6400/50000 (13%)]\tLoss: 0.906816\n",
            "Train epoch: 81 [9600/50000 (19%)]\tLoss: 1.148102\n",
            "Train epoch: 81 [12800/50000 (26%)]\tLoss: 1.086700\n",
            "Train epoch: 81 [16000/50000 (32%)]\tLoss: 0.836785\n",
            "Train epoch: 81 [19200/50000 (38%)]\tLoss: 1.142461\n",
            "Train epoch: 81 [22400/50000 (45%)]\tLoss: 1.443330\n",
            "Train epoch: 81 [25600/50000 (51%)]\tLoss: 1.015030\n",
            "Train epoch: 81 [28800/50000 (58%)]\tLoss: 1.027721\n",
            "Train epoch: 81 [32000/50000 (64%)]\tLoss: 1.190567\n",
            "Train epoch: 81 [35200/50000 (70%)]\tLoss: 1.258974\n",
            "Train epoch: 81 [38400/50000 (77%)]\tLoss: 0.829321\n",
            "Train epoch: 81 [41600/50000 (83%)]\tLoss: 1.158118\n",
            "Train epoch: 81 [44800/50000 (90%)]\tLoss: 0.839624\n",
            "Train epoch: 81 [48000/50000 (96%)]\tLoss: 1.283036\n",
            "\n",
            "Test set: Average loss: 0.0091, Accuracy: 59.68000030517578 (60%)\n",
            "\n"
          ]
        },
        {
          "output_type": "stream",
          "name": "stderr",
          "text": [
            "/usr/local/lib/python3.10/dist-packages/torchvision/transforms/functional.py:1603: UserWarning: The default value of the antialias parameter of all the resizing transforms (Resize(), RandomResizedCrop(), etc.) will change from None to True in v0.17, in order to be consistent across the PIL and Tensor backends. To suppress this warning, directly pass antialias=True (recommended, future default), antialias=None (current default, which means False for Tensors and True for PIL), or antialias=False (only works on Tensors - PIL will still use antialiasing). This also applies if you are using the inference transforms from the models weights: update the call to weights.transforms(antialias=True).\n",
            "  warnings.warn(\n"
          ]
        },
        {
          "output_type": "stream",
          "name": "stdout",
          "text": [
            "\n",
            "Test set: Average loss: 0.0225, Accuracy: 28.100000381469727 (28%)\n",
            "\n",
            "Train epoch: 82 [0/50000 (0%)]\tLoss: 0.944037\n",
            "Train epoch: 82 [3200/50000 (6%)]\tLoss: 1.181903\n",
            "Train epoch: 82 [6400/50000 (13%)]\tLoss: 1.410206\n",
            "Train epoch: 82 [9600/50000 (19%)]\tLoss: 1.125581\n",
            "Train epoch: 82 [12800/50000 (26%)]\tLoss: 0.806181\n",
            "Train epoch: 82 [16000/50000 (32%)]\tLoss: 1.079743\n",
            "Train epoch: 82 [19200/50000 (38%)]\tLoss: 1.190538\n",
            "Train epoch: 82 [22400/50000 (45%)]\tLoss: 0.636918\n",
            "Train epoch: 82 [25600/50000 (51%)]\tLoss: 0.826674\n",
            "Train epoch: 82 [28800/50000 (58%)]\tLoss: 0.959233\n",
            "Train epoch: 82 [32000/50000 (64%)]\tLoss: 0.731246\n",
            "Train epoch: 82 [35200/50000 (70%)]\tLoss: 0.906478\n",
            "Train epoch: 82 [38400/50000 (77%)]\tLoss: 0.785832\n",
            "Train epoch: 82 [41600/50000 (83%)]\tLoss: 1.112202\n",
            "Train epoch: 82 [44800/50000 (90%)]\tLoss: 0.967359\n",
            "Train epoch: 82 [48000/50000 (96%)]\tLoss: 1.042387\n",
            "\n",
            "Test set: Average loss: 0.0089, Accuracy: 59.68000030517578 (60%)\n",
            "\n"
          ]
        },
        {
          "output_type": "stream",
          "name": "stderr",
          "text": [
            "/usr/local/lib/python3.10/dist-packages/torchvision/transforms/functional.py:1603: UserWarning: The default value of the antialias parameter of all the resizing transforms (Resize(), RandomResizedCrop(), etc.) will change from None to True in v0.17, in order to be consistent across the PIL and Tensor backends. To suppress this warning, directly pass antialias=True (recommended, future default), antialias=None (current default, which means False for Tensors and True for PIL), or antialias=False (only works on Tensors - PIL will still use antialiasing). This also applies if you are using the inference transforms from the models weights: update the call to weights.transforms(antialias=True).\n",
            "  warnings.warn(\n"
          ]
        },
        {
          "output_type": "stream",
          "name": "stdout",
          "text": [
            "\n",
            "Test set: Average loss: 0.0237, Accuracy: 24.290000915527344 (24%)\n",
            "\n",
            "Train epoch: 83 [0/50000 (0%)]\tLoss: 1.213610\n",
            "Train epoch: 83 [3200/50000 (6%)]\tLoss: 1.118042\n",
            "Train epoch: 83 [6400/50000 (13%)]\tLoss: 0.940879\n",
            "Train epoch: 83 [9600/50000 (19%)]\tLoss: 0.970463\n",
            "Train epoch: 83 [12800/50000 (26%)]\tLoss: 0.882617\n",
            "Train epoch: 83 [16000/50000 (32%)]\tLoss: 0.781389\n",
            "Train epoch: 83 [19200/50000 (38%)]\tLoss: 0.993395\n",
            "Train epoch: 83 [22400/50000 (45%)]\tLoss: 0.903547\n",
            "Train epoch: 83 [25600/50000 (51%)]\tLoss: 1.161132\n",
            "Train epoch: 83 [28800/50000 (58%)]\tLoss: 0.921546\n",
            "Train epoch: 83 [32000/50000 (64%)]\tLoss: 1.185112\n",
            "Train epoch: 83 [35200/50000 (70%)]\tLoss: 1.527052\n",
            "Train epoch: 83 [38400/50000 (77%)]\tLoss: 1.245624\n",
            "Train epoch: 83 [41600/50000 (83%)]\tLoss: 1.069856\n",
            "Train epoch: 83 [44800/50000 (90%)]\tLoss: 1.276610\n",
            "Train epoch: 83 [48000/50000 (96%)]\tLoss: 1.254901\n",
            "\n",
            "Test set: Average loss: 0.0091, Accuracy: 59.060001373291016 (59%)\n",
            "\n"
          ]
        },
        {
          "output_type": "stream",
          "name": "stderr",
          "text": [
            "/usr/local/lib/python3.10/dist-packages/torchvision/transforms/functional.py:1603: UserWarning: The default value of the antialias parameter of all the resizing transforms (Resize(), RandomResizedCrop(), etc.) will change from None to True in v0.17, in order to be consistent across the PIL and Tensor backends. To suppress this warning, directly pass antialias=True (recommended, future default), antialias=None (current default, which means False for Tensors and True for PIL), or antialias=False (only works on Tensors - PIL will still use antialiasing). This also applies if you are using the inference transforms from the models weights: update the call to weights.transforms(antialias=True).\n",
            "  warnings.warn(\n"
          ]
        },
        {
          "output_type": "stream",
          "name": "stdout",
          "text": [
            "\n",
            "Test set: Average loss: 0.0227, Accuracy: 27.809999465942383 (28%)\n",
            "\n",
            "Train epoch: 84 [0/50000 (0%)]\tLoss: 0.960331\n",
            "Train epoch: 84 [3200/50000 (6%)]\tLoss: 1.082520\n",
            "Train epoch: 84 [6400/50000 (13%)]\tLoss: 0.843254\n",
            "Train epoch: 84 [9600/50000 (19%)]\tLoss: 0.655465\n",
            "Train epoch: 84 [12800/50000 (26%)]\tLoss: 1.158652\n",
            "Train epoch: 84 [16000/50000 (32%)]\tLoss: 1.348517\n",
            "Train epoch: 84 [19200/50000 (38%)]\tLoss: 0.923540\n",
            "Train epoch: 84 [22400/50000 (45%)]\tLoss: 1.058442\n",
            "Train epoch: 84 [25600/50000 (51%)]\tLoss: 1.135602\n",
            "Train epoch: 84 [28800/50000 (58%)]\tLoss: 0.794995\n",
            "Train epoch: 84 [32000/50000 (64%)]\tLoss: 1.382831\n",
            "Train epoch: 84 [35200/50000 (70%)]\tLoss: 1.169810\n",
            "Train epoch: 84 [38400/50000 (77%)]\tLoss: 1.139927\n",
            "Train epoch: 84 [41600/50000 (83%)]\tLoss: 0.723460\n",
            "Train epoch: 84 [44800/50000 (90%)]\tLoss: 0.828930\n",
            "Train epoch: 84 [48000/50000 (96%)]\tLoss: 1.248194\n",
            "\n",
            "Test set: Average loss: 0.0088, Accuracy: 61.45000076293945 (61%)\n",
            "\n"
          ]
        },
        {
          "output_type": "stream",
          "name": "stderr",
          "text": [
            "/usr/local/lib/python3.10/dist-packages/torchvision/transforms/functional.py:1603: UserWarning: The default value of the antialias parameter of all the resizing transforms (Resize(), RandomResizedCrop(), etc.) will change from None to True in v0.17, in order to be consistent across the PIL and Tensor backends. To suppress this warning, directly pass antialias=True (recommended, future default), antialias=None (current default, which means False for Tensors and True for PIL), or antialias=False (only works on Tensors - PIL will still use antialiasing). This also applies if you are using the inference transforms from the models weights: update the call to weights.transforms(antialias=True).\n",
            "  warnings.warn(\n"
          ]
        },
        {
          "output_type": "stream",
          "name": "stdout",
          "text": [
            "\n",
            "Test set: Average loss: 0.0213, Accuracy: 29.09000015258789 (29%)\n",
            "\n",
            "Train epoch: 85 [0/50000 (0%)]\tLoss: 1.195832\n",
            "Train epoch: 85 [3200/50000 (6%)]\tLoss: 1.194862\n",
            "Train epoch: 85 [6400/50000 (13%)]\tLoss: 1.123518\n",
            "Train epoch: 85 [9600/50000 (19%)]\tLoss: 0.783772\n",
            "Train epoch: 85 [12800/50000 (26%)]\tLoss: 1.006690\n",
            "Train epoch: 85 [16000/50000 (32%)]\tLoss: 1.008350\n",
            "Train epoch: 85 [19200/50000 (38%)]\tLoss: 0.893361\n",
            "Train epoch: 85 [22400/50000 (45%)]\tLoss: 1.134703\n",
            "Train epoch: 85 [25600/50000 (51%)]\tLoss: 0.877441\n",
            "Train epoch: 85 [28800/50000 (58%)]\tLoss: 1.178901\n",
            "Train epoch: 85 [32000/50000 (64%)]\tLoss: 0.946910\n",
            "Train epoch: 85 [35200/50000 (70%)]\tLoss: 1.158757\n",
            "Train epoch: 85 [38400/50000 (77%)]\tLoss: 1.188949\n",
            "Train epoch: 85 [41600/50000 (83%)]\tLoss: 1.165851\n",
            "Train epoch: 85 [44800/50000 (90%)]\tLoss: 1.044882\n",
            "Train epoch: 85 [48000/50000 (96%)]\tLoss: 0.996267\n",
            "\n",
            "Test set: Average loss: 0.0090, Accuracy: 59.790000915527344 (60%)\n",
            "\n"
          ]
        },
        {
          "output_type": "stream",
          "name": "stderr",
          "text": [
            "/usr/local/lib/python3.10/dist-packages/torchvision/transforms/functional.py:1603: UserWarning: The default value of the antialias parameter of all the resizing transforms (Resize(), RandomResizedCrop(), etc.) will change from None to True in v0.17, in order to be consistent across the PIL and Tensor backends. To suppress this warning, directly pass antialias=True (recommended, future default), antialias=None (current default, which means False for Tensors and True for PIL), or antialias=False (only works on Tensors - PIL will still use antialiasing). This also applies if you are using the inference transforms from the models weights: update the call to weights.transforms(antialias=True).\n",
            "  warnings.warn(\n"
          ]
        },
        {
          "output_type": "stream",
          "name": "stdout",
          "text": [
            "\n",
            "Test set: Average loss: 0.0231, Accuracy: 26.3700008392334 (26%)\n",
            "\n",
            "Train epoch: 86 [0/50000 (0%)]\tLoss: 1.109045\n",
            "Train epoch: 86 [3200/50000 (6%)]\tLoss: 1.119823\n",
            "Train epoch: 86 [6400/50000 (13%)]\tLoss: 1.105280\n",
            "Train epoch: 86 [9600/50000 (19%)]\tLoss: 1.176355\n",
            "Train epoch: 86 [12800/50000 (26%)]\tLoss: 0.913889\n",
            "Train epoch: 86 [16000/50000 (32%)]\tLoss: 0.993943\n",
            "Train epoch: 86 [19200/50000 (38%)]\tLoss: 1.206970\n",
            "Train epoch: 86 [22400/50000 (45%)]\tLoss: 0.888936\n",
            "Train epoch: 86 [25600/50000 (51%)]\tLoss: 1.182517\n",
            "Train epoch: 86 [28800/50000 (58%)]\tLoss: 0.828192\n",
            "Train epoch: 86 [32000/50000 (64%)]\tLoss: 0.955655\n",
            "Train epoch: 86 [35200/50000 (70%)]\tLoss: 0.950979\n",
            "Train epoch: 86 [38400/50000 (77%)]\tLoss: 1.213928\n",
            "Train epoch: 86 [41600/50000 (83%)]\tLoss: 1.050757\n",
            "Train epoch: 86 [44800/50000 (90%)]\tLoss: 0.994851\n",
            "Train epoch: 86 [48000/50000 (96%)]\tLoss: 1.214050\n",
            "\n",
            "Test set: Average loss: 0.0090, Accuracy: 60.810001373291016 (61%)\n",
            "\n"
          ]
        },
        {
          "output_type": "stream",
          "name": "stderr",
          "text": [
            "/usr/local/lib/python3.10/dist-packages/torchvision/transforms/functional.py:1603: UserWarning: The default value of the antialias parameter of all the resizing transforms (Resize(), RandomResizedCrop(), etc.) will change from None to True in v0.17, in order to be consistent across the PIL and Tensor backends. To suppress this warning, directly pass antialias=True (recommended, future default), antialias=None (current default, which means False for Tensors and True for PIL), or antialias=False (only works on Tensors - PIL will still use antialiasing). This also applies if you are using the inference transforms from the models weights: update the call to weights.transforms(antialias=True).\n",
            "  warnings.warn(\n"
          ]
        },
        {
          "output_type": "stream",
          "name": "stdout",
          "text": [
            "\n",
            "Test set: Average loss: 0.0223, Accuracy: 28.969999313354492 (29%)\n",
            "\n",
            "Train epoch: 87 [0/50000 (0%)]\tLoss: 1.498778\n",
            "Train epoch: 87 [3200/50000 (6%)]\tLoss: 1.076098\n",
            "Train epoch: 87 [6400/50000 (13%)]\tLoss: 1.188107\n",
            "Train epoch: 87 [9600/50000 (19%)]\tLoss: 0.959908\n",
            "Train epoch: 87 [12800/50000 (26%)]\tLoss: 0.900674\n",
            "Train epoch: 87 [16000/50000 (32%)]\tLoss: 1.024112\n",
            "Train epoch: 87 [19200/50000 (38%)]\tLoss: 1.223631\n",
            "Train epoch: 87 [22400/50000 (45%)]\tLoss: 1.172856\n",
            "Train epoch: 87 [25600/50000 (51%)]\tLoss: 0.709096\n",
            "Train epoch: 87 [28800/50000 (58%)]\tLoss: 0.853384\n",
            "Train epoch: 87 [32000/50000 (64%)]\tLoss: 1.073833\n",
            "Train epoch: 87 [35200/50000 (70%)]\tLoss: 0.859192\n",
            "Train epoch: 87 [38400/50000 (77%)]\tLoss: 1.039966\n",
            "Train epoch: 87 [41600/50000 (83%)]\tLoss: 1.080775\n",
            "Train epoch: 87 [44800/50000 (90%)]\tLoss: 1.079581\n",
            "Train epoch: 87 [48000/50000 (96%)]\tLoss: 1.327291\n",
            "\n",
            "Test set: Average loss: 0.0085, Accuracy: 62.43000030517578 (62%)\n",
            "\n"
          ]
        },
        {
          "output_type": "stream",
          "name": "stderr",
          "text": [
            "/usr/local/lib/python3.10/dist-packages/torchvision/transforms/functional.py:1603: UserWarning: The default value of the antialias parameter of all the resizing transforms (Resize(), RandomResizedCrop(), etc.) will change from None to True in v0.17, in order to be consistent across the PIL and Tensor backends. To suppress this warning, directly pass antialias=True (recommended, future default), antialias=None (current default, which means False for Tensors and True for PIL), or antialias=False (only works on Tensors - PIL will still use antialiasing). This also applies if you are using the inference transforms from the models weights: update the call to weights.transforms(antialias=True).\n",
            "  warnings.warn(\n"
          ]
        },
        {
          "output_type": "stream",
          "name": "stdout",
          "text": [
            "\n",
            "Test set: Average loss: 0.0213, Accuracy: 28.600000381469727 (29%)\n",
            "\n",
            "Train epoch: 88 [0/50000 (0%)]\tLoss: 0.844639\n",
            "Train epoch: 88 [3200/50000 (6%)]\tLoss: 1.008029\n",
            "Train epoch: 88 [6400/50000 (13%)]\tLoss: 1.017258\n",
            "Train epoch: 88 [9600/50000 (19%)]\tLoss: 1.074856\n",
            "Train epoch: 88 [12800/50000 (26%)]\tLoss: 1.148547\n",
            "Train epoch: 88 [16000/50000 (32%)]\tLoss: 1.124878\n",
            "Train epoch: 88 [19200/50000 (38%)]\tLoss: 1.026302\n",
            "Train epoch: 88 [22400/50000 (45%)]\tLoss: 0.708329\n",
            "Train epoch: 88 [25600/50000 (51%)]\tLoss: 1.077505\n",
            "Train epoch: 88 [28800/50000 (58%)]\tLoss: 1.231401\n",
            "Train epoch: 88 [32000/50000 (64%)]\tLoss: 0.775104\n",
            "Train epoch: 88 [35200/50000 (70%)]\tLoss: 0.685540\n",
            "Train epoch: 88 [38400/50000 (77%)]\tLoss: 1.059872\n",
            "Train epoch: 88 [41600/50000 (83%)]\tLoss: 1.113766\n",
            "Train epoch: 88 [44800/50000 (90%)]\tLoss: 1.050852\n",
            "Train epoch: 88 [48000/50000 (96%)]\tLoss: 0.808946\n",
            "\n",
            "Test set: Average loss: 0.0082, Accuracy: 63.75 (64%)\n",
            "\n"
          ]
        },
        {
          "output_type": "stream",
          "name": "stderr",
          "text": [
            "/usr/local/lib/python3.10/dist-packages/torchvision/transforms/functional.py:1603: UserWarning: The default value of the antialias parameter of all the resizing transforms (Resize(), RandomResizedCrop(), etc.) will change from None to True in v0.17, in order to be consistent across the PIL and Tensor backends. To suppress this warning, directly pass antialias=True (recommended, future default), antialias=None (current default, which means False for Tensors and True for PIL), or antialias=False (only works on Tensors - PIL will still use antialiasing). This also applies if you are using the inference transforms from the models weights: update the call to weights.transforms(antialias=True).\n",
            "  warnings.warn(\n"
          ]
        },
        {
          "output_type": "stream",
          "name": "stdout",
          "text": [
            "\n",
            "Test set: Average loss: 0.0233, Accuracy: 28.559999465942383 (29%)\n",
            "\n",
            "Train epoch: 89 [0/50000 (0%)]\tLoss: 0.699772\n",
            "Train epoch: 89 [3200/50000 (6%)]\tLoss: 0.990086\n",
            "Train epoch: 89 [6400/50000 (13%)]\tLoss: 0.978717\n",
            "Train epoch: 89 [9600/50000 (19%)]\tLoss: 0.781877\n",
            "Train epoch: 89 [12800/50000 (26%)]\tLoss: 0.920019\n",
            "Train epoch: 89 [16000/50000 (32%)]\tLoss: 0.893550\n",
            "Train epoch: 89 [19200/50000 (38%)]\tLoss: 0.718572\n",
            "Train epoch: 89 [22400/50000 (45%)]\tLoss: 0.929918\n",
            "Train epoch: 89 [25600/50000 (51%)]\tLoss: 0.804579\n",
            "Train epoch: 89 [28800/50000 (58%)]\tLoss: 0.949718\n",
            "Train epoch: 89 [32000/50000 (64%)]\tLoss: 1.037378\n",
            "Train epoch: 89 [35200/50000 (70%)]\tLoss: 0.991751\n",
            "Train epoch: 89 [38400/50000 (77%)]\tLoss: 0.719013\n",
            "Train epoch: 89 [41600/50000 (83%)]\tLoss: 0.819103\n",
            "Train epoch: 89 [44800/50000 (90%)]\tLoss: 1.089659\n",
            "Train epoch: 89 [48000/50000 (96%)]\tLoss: 1.037673\n",
            "\n",
            "Test set: Average loss: 0.0080, Accuracy: 64.44999694824219 (64%)\n",
            "\n"
          ]
        },
        {
          "output_type": "stream",
          "name": "stderr",
          "text": [
            "/usr/local/lib/python3.10/dist-packages/torchvision/transforms/functional.py:1603: UserWarning: The default value of the antialias parameter of all the resizing transforms (Resize(), RandomResizedCrop(), etc.) will change from None to True in v0.17, in order to be consistent across the PIL and Tensor backends. To suppress this warning, directly pass antialias=True (recommended, future default), antialias=None (current default, which means False for Tensors and True for PIL), or antialias=False (only works on Tensors - PIL will still use antialiasing). This also applies if you are using the inference transforms from the models weights: update the call to weights.transforms(antialias=True).\n",
            "  warnings.warn(\n"
          ]
        },
        {
          "output_type": "stream",
          "name": "stdout",
          "text": [
            "\n",
            "Test set: Average loss: 0.0219, Accuracy: 27.06999969482422 (27%)\n",
            "\n",
            "Train epoch: 90 [0/50000 (0%)]\tLoss: 0.716351\n",
            "Train epoch: 90 [3200/50000 (6%)]\tLoss: 1.205633\n",
            "Train epoch: 90 [6400/50000 (13%)]\tLoss: 1.074738\n",
            "Train epoch: 90 [9600/50000 (19%)]\tLoss: 1.158874\n",
            "Train epoch: 90 [12800/50000 (26%)]\tLoss: 0.918094\n",
            "Train epoch: 90 [16000/50000 (32%)]\tLoss: 1.079351\n",
            "Train epoch: 90 [19200/50000 (38%)]\tLoss: 0.851262\n",
            "Train epoch: 90 [22400/50000 (45%)]\tLoss: 0.920549\n",
            "Train epoch: 90 [25600/50000 (51%)]\tLoss: 0.962110\n",
            "Train epoch: 90 [28800/50000 (58%)]\tLoss: 0.904379\n",
            "Train epoch: 90 [32000/50000 (64%)]\tLoss: 0.881107\n",
            "Train epoch: 90 [35200/50000 (70%)]\tLoss: 1.118198\n",
            "Train epoch: 90 [38400/50000 (77%)]\tLoss: 0.790432\n",
            "Train epoch: 90 [41600/50000 (83%)]\tLoss: 1.355195\n",
            "Train epoch: 90 [44800/50000 (90%)]\tLoss: 0.770872\n",
            "Train epoch: 90 [48000/50000 (96%)]\tLoss: 1.148398\n",
            "\n",
            "Test set: Average loss: 0.0083, Accuracy: 63.08000183105469 (63%)\n",
            "\n"
          ]
        },
        {
          "output_type": "stream",
          "name": "stderr",
          "text": [
            "/usr/local/lib/python3.10/dist-packages/torchvision/transforms/functional.py:1603: UserWarning: The default value of the antialias parameter of all the resizing transforms (Resize(), RandomResizedCrop(), etc.) will change from None to True in v0.17, in order to be consistent across the PIL and Tensor backends. To suppress this warning, directly pass antialias=True (recommended, future default), antialias=None (current default, which means False for Tensors and True for PIL), or antialias=False (only works on Tensors - PIL will still use antialiasing). This also applies if you are using the inference transforms from the models weights: update the call to weights.transforms(antialias=True).\n",
            "  warnings.warn(\n"
          ]
        },
        {
          "output_type": "stream",
          "name": "stdout",
          "text": [
            "\n",
            "Test set: Average loss: 0.0222, Accuracy: 27.65999984741211 (28%)\n",
            "\n",
            "\n",
            "    ------------------------------\n",
            "    Normal Data Saved: (90, 63.08)\n",
            "    ------------------------------\n",
            "    \n",
            "\n",
            "    -------------------------------\n",
            "    Altered Data Saved: (90, 27.66)\n",
            "    -------------------------------\n",
            "    \n",
            "Train epoch: 91 [0/50000 (0%)]\tLoss: 1.374679\n",
            "Train epoch: 91 [3200/50000 (6%)]\tLoss: 0.742233\n",
            "Train epoch: 91 [6400/50000 (13%)]\tLoss: 1.029387\n",
            "Train epoch: 91 [9600/50000 (19%)]\tLoss: 1.087390\n",
            "Train epoch: 91 [12800/50000 (26%)]\tLoss: 1.134994\n",
            "Train epoch: 91 [16000/50000 (32%)]\tLoss: 1.187448\n",
            "Train epoch: 91 [19200/50000 (38%)]\tLoss: 0.725232\n",
            "Train epoch: 91 [22400/50000 (45%)]\tLoss: 1.324060\n",
            "Train epoch: 91 [25600/50000 (51%)]\tLoss: 1.058478\n",
            "Train epoch: 91 [28800/50000 (58%)]\tLoss: 0.868188\n",
            "Train epoch: 91 [32000/50000 (64%)]\tLoss: 1.164168\n",
            "Train epoch: 91 [35200/50000 (70%)]\tLoss: 0.822492\n",
            "Train epoch: 91 [38400/50000 (77%)]\tLoss: 1.109540\n",
            "Train epoch: 91 [41600/50000 (83%)]\tLoss: 1.016468\n",
            "Train epoch: 91 [44800/50000 (90%)]\tLoss: 0.704644\n",
            "Train epoch: 91 [48000/50000 (96%)]\tLoss: 1.073943\n",
            "\n",
            "Test set: Average loss: 0.0080, Accuracy: 64.70999908447266 (65%)\n",
            "\n"
          ]
        },
        {
          "output_type": "stream",
          "name": "stderr",
          "text": [
            "/usr/local/lib/python3.10/dist-packages/torchvision/transforms/functional.py:1603: UserWarning: The default value of the antialias parameter of all the resizing transforms (Resize(), RandomResizedCrop(), etc.) will change from None to True in v0.17, in order to be consistent across the PIL and Tensor backends. To suppress this warning, directly pass antialias=True (recommended, future default), antialias=None (current default, which means False for Tensors and True for PIL), or antialias=False (only works on Tensors - PIL will still use antialiasing). This also applies if you are using the inference transforms from the models weights: update the call to weights.transforms(antialias=True).\n",
            "  warnings.warn(\n"
          ]
        },
        {
          "output_type": "stream",
          "name": "stdout",
          "text": [
            "\n",
            "Test set: Average loss: 0.0222, Accuracy: 27.989999771118164 (28%)\n",
            "\n",
            "Train epoch: 92 [0/50000 (0%)]\tLoss: 0.816271\n",
            "Train epoch: 92 [3200/50000 (6%)]\tLoss: 1.333640\n",
            "Train epoch: 92 [6400/50000 (13%)]\tLoss: 1.120294\n",
            "Train epoch: 92 [9600/50000 (19%)]\tLoss: 0.775851\n",
            "Train epoch: 92 [12800/50000 (26%)]\tLoss: 0.978485\n",
            "Train epoch: 92 [16000/50000 (32%)]\tLoss: 0.694156\n",
            "Train epoch: 92 [19200/50000 (38%)]\tLoss: 0.894652\n",
            "Train epoch: 92 [22400/50000 (45%)]\tLoss: 1.618302\n",
            "Train epoch: 92 [25600/50000 (51%)]\tLoss: 1.354293\n",
            "Train epoch: 92 [28800/50000 (58%)]\tLoss: 0.951869\n",
            "Train epoch: 92 [32000/50000 (64%)]\tLoss: 0.737751\n",
            "Train epoch: 92 [35200/50000 (70%)]\tLoss: 1.079316\n",
            "Train epoch: 92 [38400/50000 (77%)]\tLoss: 1.060854\n",
            "Train epoch: 92 [41600/50000 (83%)]\tLoss: 0.765581\n",
            "Train epoch: 92 [44800/50000 (90%)]\tLoss: 0.665645\n",
            "Train epoch: 92 [48000/50000 (96%)]\tLoss: 0.717994\n",
            "\n",
            "Test set: Average loss: 0.0079, Accuracy: 66.02999877929688 (66%)\n",
            "\n"
          ]
        },
        {
          "output_type": "stream",
          "name": "stderr",
          "text": [
            "/usr/local/lib/python3.10/dist-packages/torchvision/transforms/functional.py:1603: UserWarning: The default value of the antialias parameter of all the resizing transforms (Resize(), RandomResizedCrop(), etc.) will change from None to True in v0.17, in order to be consistent across the PIL and Tensor backends. To suppress this warning, directly pass antialias=True (recommended, future default), antialias=None (current default, which means False for Tensors and True for PIL), or antialias=False (only works on Tensors - PIL will still use antialiasing). This also applies if you are using the inference transforms from the models weights: update the call to weights.transforms(antialias=True).\n",
            "  warnings.warn(\n"
          ]
        },
        {
          "output_type": "stream",
          "name": "stdout",
          "text": [
            "\n",
            "Test set: Average loss: 0.0234, Accuracy: 26.270000457763672 (26%)\n",
            "\n",
            "Train epoch: 93 [0/50000 (0%)]\tLoss: 1.242906\n",
            "Train epoch: 93 [3200/50000 (6%)]\tLoss: 0.922613\n",
            "Train epoch: 93 [6400/50000 (13%)]\tLoss: 1.172284\n",
            "Train epoch: 93 [9600/50000 (19%)]\tLoss: 0.846197\n",
            "Train epoch: 93 [12800/50000 (26%)]\tLoss: 1.365995\n",
            "Train epoch: 93 [16000/50000 (32%)]\tLoss: 1.137478\n",
            "Train epoch: 93 [19200/50000 (38%)]\tLoss: 0.835339\n",
            "Train epoch: 93 [22400/50000 (45%)]\tLoss: 0.838708\n",
            "Train epoch: 93 [25600/50000 (51%)]\tLoss: 1.055634\n",
            "Train epoch: 93 [28800/50000 (58%)]\tLoss: 1.212078\n",
            "Train epoch: 93 [32000/50000 (64%)]\tLoss: 1.392654\n",
            "Train epoch: 93 [35200/50000 (70%)]\tLoss: 1.030549\n",
            "Train epoch: 93 [38400/50000 (77%)]\tLoss: 0.891736\n",
            "Train epoch: 93 [41600/50000 (83%)]\tLoss: 0.687991\n",
            "Train epoch: 93 [44800/50000 (90%)]\tLoss: 0.936995\n",
            "Train epoch: 93 [48000/50000 (96%)]\tLoss: 0.888476\n",
            "\n",
            "Test set: Average loss: 0.0082, Accuracy: 63.97999954223633 (64%)\n",
            "\n"
          ]
        },
        {
          "output_type": "stream",
          "name": "stderr",
          "text": [
            "/usr/local/lib/python3.10/dist-packages/torchvision/transforms/functional.py:1603: UserWarning: The default value of the antialias parameter of all the resizing transforms (Resize(), RandomResizedCrop(), etc.) will change from None to True in v0.17, in order to be consistent across the PIL and Tensor backends. To suppress this warning, directly pass antialias=True (recommended, future default), antialias=None (current default, which means False for Tensors and True for PIL), or antialias=False (only works on Tensors - PIL will still use antialiasing). This also applies if you are using the inference transforms from the models weights: update the call to weights.transforms(antialias=True).\n",
            "  warnings.warn(\n"
          ]
        },
        {
          "output_type": "stream",
          "name": "stdout",
          "text": [
            "\n",
            "Test set: Average loss: 0.0249, Accuracy: 26.559999465942383 (27%)\n",
            "\n",
            "Train epoch: 94 [0/50000 (0%)]\tLoss: 1.011005\n",
            "Train epoch: 94 [3200/50000 (6%)]\tLoss: 0.766248\n",
            "Train epoch: 94 [6400/50000 (13%)]\tLoss: 0.632351\n",
            "Train epoch: 94 [9600/50000 (19%)]\tLoss: 0.956553\n",
            "Train epoch: 94 [12800/50000 (26%)]\tLoss: 1.120148\n",
            "Train epoch: 94 [16000/50000 (32%)]\tLoss: 1.077581\n",
            "Train epoch: 94 [19200/50000 (38%)]\tLoss: 0.969315\n",
            "Train epoch: 94 [22400/50000 (45%)]\tLoss: 0.892951\n",
            "Train epoch: 94 [25600/50000 (51%)]\tLoss: 1.094033\n",
            "Train epoch: 94 [28800/50000 (58%)]\tLoss: 1.029342\n",
            "Train epoch: 94 [32000/50000 (64%)]\tLoss: 0.858255\n",
            "Train epoch: 94 [35200/50000 (70%)]\tLoss: 0.672906\n",
            "Train epoch: 94 [38400/50000 (77%)]\tLoss: 0.728186\n",
            "Train epoch: 94 [41600/50000 (83%)]\tLoss: 1.158931\n",
            "Train epoch: 94 [44800/50000 (90%)]\tLoss: 0.889334\n",
            "Train epoch: 94 [48000/50000 (96%)]\tLoss: 0.963877\n",
            "\n",
            "Test set: Average loss: 0.0080, Accuracy: 64.33000183105469 (64%)\n",
            "\n"
          ]
        },
        {
          "output_type": "stream",
          "name": "stderr",
          "text": [
            "/usr/local/lib/python3.10/dist-packages/torchvision/transforms/functional.py:1603: UserWarning: The default value of the antialias parameter of all the resizing transforms (Resize(), RandomResizedCrop(), etc.) will change from None to True in v0.17, in order to be consistent across the PIL and Tensor backends. To suppress this warning, directly pass antialias=True (recommended, future default), antialias=None (current default, which means False for Tensors and True for PIL), or antialias=False (only works on Tensors - PIL will still use antialiasing). This also applies if you are using the inference transforms from the models weights: update the call to weights.transforms(antialias=True).\n",
            "  warnings.warn(\n"
          ]
        },
        {
          "output_type": "stream",
          "name": "stdout",
          "text": [
            "\n",
            "Test set: Average loss: 0.0217, Accuracy: 26.670000076293945 (27%)\n",
            "\n",
            "Train epoch: 95 [0/50000 (0%)]\tLoss: 0.922535\n",
            "Train epoch: 95 [3200/50000 (6%)]\tLoss: 1.045042\n",
            "Train epoch: 95 [6400/50000 (13%)]\tLoss: 1.051922\n",
            "Train epoch: 95 [9600/50000 (19%)]\tLoss: 1.141800\n",
            "Train epoch: 95 [12800/50000 (26%)]\tLoss: 0.890852\n",
            "Train epoch: 95 [16000/50000 (32%)]\tLoss: 0.754731\n",
            "Train epoch: 95 [19200/50000 (38%)]\tLoss: 1.135253\n",
            "Train epoch: 95 [22400/50000 (45%)]\tLoss: 1.266261\n",
            "Train epoch: 95 [25600/50000 (51%)]\tLoss: 1.307614\n",
            "Train epoch: 95 [28800/50000 (58%)]\tLoss: 1.376772\n",
            "Train epoch: 95 [32000/50000 (64%)]\tLoss: 0.902331\n",
            "Train epoch: 95 [35200/50000 (70%)]\tLoss: 0.921154\n",
            "Train epoch: 95 [38400/50000 (77%)]\tLoss: 1.006453\n",
            "Train epoch: 95 [41600/50000 (83%)]\tLoss: 0.831780\n",
            "Train epoch: 95 [44800/50000 (90%)]\tLoss: 0.938633\n",
            "Train epoch: 95 [48000/50000 (96%)]\tLoss: 0.953875\n",
            "\n",
            "Test set: Average loss: 0.0078, Accuracy: 66.0999984741211 (66%)\n",
            "\n"
          ]
        },
        {
          "output_type": "stream",
          "name": "stderr",
          "text": [
            "/usr/local/lib/python3.10/dist-packages/torchvision/transforms/functional.py:1603: UserWarning: The default value of the antialias parameter of all the resizing transforms (Resize(), RandomResizedCrop(), etc.) will change from None to True in v0.17, in order to be consistent across the PIL and Tensor backends. To suppress this warning, directly pass antialias=True (recommended, future default), antialias=None (current default, which means False for Tensors and True for PIL), or antialias=False (only works on Tensors - PIL will still use antialiasing). This also applies if you are using the inference transforms from the models weights: update the call to weights.transforms(antialias=True).\n",
            "  warnings.warn(\n"
          ]
        },
        {
          "output_type": "stream",
          "name": "stdout",
          "text": [
            "\n",
            "Test set: Average loss: 0.0242, Accuracy: 26.440000534057617 (26%)\n",
            "\n",
            "Train epoch: 96 [0/50000 (0%)]\tLoss: 0.933973\n",
            "Train epoch: 96 [3200/50000 (6%)]\tLoss: 0.928554\n",
            "Train epoch: 96 [6400/50000 (13%)]\tLoss: 0.914597\n",
            "Train epoch: 96 [9600/50000 (19%)]\tLoss: 0.647123\n",
            "Train epoch: 96 [12800/50000 (26%)]\tLoss: 1.160950\n",
            "Train epoch: 96 [16000/50000 (32%)]\tLoss: 0.893788\n",
            "Train epoch: 96 [19200/50000 (38%)]\tLoss: 0.817777\n",
            "Train epoch: 96 [22400/50000 (45%)]\tLoss: 0.947906\n",
            "Train epoch: 96 [25600/50000 (51%)]\tLoss: 0.895682\n",
            "Train epoch: 96 [28800/50000 (58%)]\tLoss: 0.923272\n",
            "Train epoch: 96 [32000/50000 (64%)]\tLoss: 0.960796\n",
            "Train epoch: 96 [35200/50000 (70%)]\tLoss: 0.884132\n",
            "Train epoch: 96 [38400/50000 (77%)]\tLoss: 1.016640\n",
            "Train epoch: 96 [41600/50000 (83%)]\tLoss: 1.042431\n",
            "Train epoch: 96 [44800/50000 (90%)]\tLoss: 0.971457\n",
            "Train epoch: 96 [48000/50000 (96%)]\tLoss: 0.944907\n",
            "\n",
            "Test set: Average loss: 0.0087, Accuracy: 62.91999816894531 (63%)\n",
            "\n"
          ]
        },
        {
          "output_type": "stream",
          "name": "stderr",
          "text": [
            "/usr/local/lib/python3.10/dist-packages/torchvision/transforms/functional.py:1603: UserWarning: The default value of the antialias parameter of all the resizing transforms (Resize(), RandomResizedCrop(), etc.) will change from None to True in v0.17, in order to be consistent across the PIL and Tensor backends. To suppress this warning, directly pass antialias=True (recommended, future default), antialias=None (current default, which means False for Tensors and True for PIL), or antialias=False (only works on Tensors - PIL will still use antialiasing). This also applies if you are using the inference transforms from the models weights: update the call to weights.transforms(antialias=True).\n",
            "  warnings.warn(\n"
          ]
        },
        {
          "output_type": "stream",
          "name": "stdout",
          "text": [
            "\n",
            "Test set: Average loss: 0.0269, Accuracy: 25.280000686645508 (25%)\n",
            "\n",
            "Train epoch: 97 [0/50000 (0%)]\tLoss: 1.147822\n",
            "Train epoch: 97 [3200/50000 (6%)]\tLoss: 0.779636\n",
            "Train epoch: 97 [6400/50000 (13%)]\tLoss: 0.746868\n",
            "Train epoch: 97 [9600/50000 (19%)]\tLoss: 1.136276\n",
            "Train epoch: 97 [12800/50000 (26%)]\tLoss: 0.863053\n",
            "Train epoch: 97 [16000/50000 (32%)]\tLoss: 1.256307\n",
            "Train epoch: 97 [19200/50000 (38%)]\tLoss: 0.929319\n",
            "Train epoch: 97 [22400/50000 (45%)]\tLoss: 1.182776\n",
            "Train epoch: 97 [25600/50000 (51%)]\tLoss: 0.815308\n",
            "Train epoch: 97 [28800/50000 (58%)]\tLoss: 0.773612\n",
            "Train epoch: 97 [32000/50000 (64%)]\tLoss: 0.958226\n",
            "Train epoch: 97 [35200/50000 (70%)]\tLoss: 0.837999\n",
            "Train epoch: 97 [38400/50000 (77%)]\tLoss: 0.820060\n",
            "Train epoch: 97 [41600/50000 (83%)]\tLoss: 1.332036\n",
            "Train epoch: 97 [44800/50000 (90%)]\tLoss: 0.893483\n",
            "Train epoch: 97 [48000/50000 (96%)]\tLoss: 0.723883\n",
            "\n",
            "Test set: Average loss: 0.0081, Accuracy: 65.05000305175781 (65%)\n",
            "\n"
          ]
        },
        {
          "output_type": "stream",
          "name": "stderr",
          "text": [
            "/usr/local/lib/python3.10/dist-packages/torchvision/transforms/functional.py:1603: UserWarning: The default value of the antialias parameter of all the resizing transforms (Resize(), RandomResizedCrop(), etc.) will change from None to True in v0.17, in order to be consistent across the PIL and Tensor backends. To suppress this warning, directly pass antialias=True (recommended, future default), antialias=None (current default, which means False for Tensors and True for PIL), or antialias=False (only works on Tensors - PIL will still use antialiasing). This also applies if you are using the inference transforms from the models weights: update the call to weights.transforms(antialias=True).\n",
            "  warnings.warn(\n"
          ]
        },
        {
          "output_type": "stream",
          "name": "stdout",
          "text": [
            "\n",
            "Test set: Average loss: 0.0235, Accuracy: 27.209999084472656 (27%)\n",
            "\n",
            "Train epoch: 98 [0/50000 (0%)]\tLoss: 1.221707\n",
            "Train epoch: 98 [3200/50000 (6%)]\tLoss: 0.981294\n",
            "Train epoch: 98 [6400/50000 (13%)]\tLoss: 0.710781\n",
            "Train epoch: 98 [9600/50000 (19%)]\tLoss: 1.266780\n",
            "Train epoch: 98 [12800/50000 (26%)]\tLoss: 0.826583\n",
            "Train epoch: 98 [16000/50000 (32%)]\tLoss: 0.708578\n",
            "Train epoch: 98 [19200/50000 (38%)]\tLoss: 0.777487\n",
            "Train epoch: 98 [22400/50000 (45%)]\tLoss: 1.050309\n",
            "Train epoch: 98 [25600/50000 (51%)]\tLoss: 0.767441\n",
            "Train epoch: 98 [28800/50000 (58%)]\tLoss: 0.949318\n",
            "Train epoch: 98 [32000/50000 (64%)]\tLoss: 0.975394\n",
            "Train epoch: 98 [35200/50000 (70%)]\tLoss: 1.062238\n",
            "Train epoch: 98 [38400/50000 (77%)]\tLoss: 1.011440\n",
            "Train epoch: 98 [41600/50000 (83%)]\tLoss: 1.164779\n",
            "Train epoch: 98 [44800/50000 (90%)]\tLoss: 1.178773\n",
            "Train epoch: 98 [48000/50000 (96%)]\tLoss: 1.410623\n",
            "\n",
            "Test set: Average loss: 0.0078, Accuracy: 65.29000091552734 (65%)\n",
            "\n"
          ]
        },
        {
          "output_type": "stream",
          "name": "stderr",
          "text": [
            "/usr/local/lib/python3.10/dist-packages/torchvision/transforms/functional.py:1603: UserWarning: The default value of the antialias parameter of all the resizing transforms (Resize(), RandomResizedCrop(), etc.) will change from None to True in v0.17, in order to be consistent across the PIL and Tensor backends. To suppress this warning, directly pass antialias=True (recommended, future default), antialias=None (current default, which means False for Tensors and True for PIL), or antialias=False (only works on Tensors - PIL will still use antialiasing). This also applies if you are using the inference transforms from the models weights: update the call to weights.transforms(antialias=True).\n",
            "  warnings.warn(\n"
          ]
        },
        {
          "output_type": "stream",
          "name": "stdout",
          "text": [
            "\n",
            "Test set: Average loss: 0.0244, Accuracy: 25.850000381469727 (26%)\n",
            "\n",
            "Train epoch: 99 [0/50000 (0%)]\tLoss: 0.877724\n",
            "Train epoch: 99 [3200/50000 (6%)]\tLoss: 1.003112\n",
            "Train epoch: 99 [6400/50000 (13%)]\tLoss: 0.995827\n",
            "Train epoch: 99 [9600/50000 (19%)]\tLoss: 1.271708\n",
            "Train epoch: 99 [12800/50000 (26%)]\tLoss: 1.256018\n",
            "Train epoch: 99 [16000/50000 (32%)]\tLoss: 1.306142\n",
            "Train epoch: 99 [19200/50000 (38%)]\tLoss: 0.670016\n",
            "Train epoch: 99 [22400/50000 (45%)]\tLoss: 0.725056\n",
            "Train epoch: 99 [25600/50000 (51%)]\tLoss: 1.001608\n",
            "Train epoch: 99 [28800/50000 (58%)]\tLoss: 0.859084\n",
            "Train epoch: 99 [32000/50000 (64%)]\tLoss: 1.071951\n",
            "Train epoch: 99 [35200/50000 (70%)]\tLoss: 0.878101\n",
            "Train epoch: 99 [38400/50000 (77%)]\tLoss: 0.757613\n",
            "Train epoch: 99 [41600/50000 (83%)]\tLoss: 1.021478\n",
            "Train epoch: 99 [44800/50000 (90%)]\tLoss: 0.646123\n",
            "Train epoch: 99 [48000/50000 (96%)]\tLoss: 1.183763\n",
            "\n",
            "Test set: Average loss: 0.0076, Accuracy: 67.4000015258789 (67%)\n",
            "\n"
          ]
        },
        {
          "output_type": "stream",
          "name": "stderr",
          "text": [
            "/usr/local/lib/python3.10/dist-packages/torchvision/transforms/functional.py:1603: UserWarning: The default value of the antialias parameter of all the resizing transforms (Resize(), RandomResizedCrop(), etc.) will change from None to True in v0.17, in order to be consistent across the PIL and Tensor backends. To suppress this warning, directly pass antialias=True (recommended, future default), antialias=None (current default, which means False for Tensors and True for PIL), or antialias=False (only works on Tensors - PIL will still use antialiasing). This also applies if you are using the inference transforms from the models weights: update the call to weights.transforms(antialias=True).\n",
            "  warnings.warn(\n"
          ]
        },
        {
          "output_type": "stream",
          "name": "stdout",
          "text": [
            "\n",
            "Test set: Average loss: 0.0217, Accuracy: 28.59000015258789 (29%)\n",
            "\n",
            "Train epoch: 100 [0/50000 (0%)]\tLoss: 1.087676\n",
            "Train epoch: 100 [3200/50000 (6%)]\tLoss: 0.846726\n",
            "Train epoch: 100 [6400/50000 (13%)]\tLoss: 0.864852\n",
            "Train epoch: 100 [9600/50000 (19%)]\tLoss: 1.168283\n",
            "Train epoch: 100 [12800/50000 (26%)]\tLoss: 1.036033\n",
            "Train epoch: 100 [16000/50000 (32%)]\tLoss: 0.748856\n",
            "Train epoch: 100 [19200/50000 (38%)]\tLoss: 0.901631\n",
            "Train epoch: 100 [22400/50000 (45%)]\tLoss: 0.745870\n",
            "Train epoch: 100 [25600/50000 (51%)]\tLoss: 1.376499\n",
            "Train epoch: 100 [28800/50000 (58%)]\tLoss: 1.048284\n",
            "Train epoch: 100 [32000/50000 (64%)]\tLoss: 0.868406\n",
            "Train epoch: 100 [35200/50000 (70%)]\tLoss: 0.834058\n",
            "Train epoch: 100 [38400/50000 (77%)]\tLoss: 1.090018\n",
            "Train epoch: 100 [41600/50000 (83%)]\tLoss: 0.790811\n",
            "Train epoch: 100 [44800/50000 (90%)]\tLoss: 1.006637\n",
            "Train epoch: 100 [48000/50000 (96%)]\tLoss: 0.894698\n",
            "\n",
            "Test set: Average loss: 0.0079, Accuracy: 66.05000305175781 (66%)\n",
            "\n"
          ]
        },
        {
          "output_type": "stream",
          "name": "stderr",
          "text": [
            "/usr/local/lib/python3.10/dist-packages/torchvision/transforms/functional.py:1603: UserWarning: The default value of the antialias parameter of all the resizing transforms (Resize(), RandomResizedCrop(), etc.) will change from None to True in v0.17, in order to be consistent across the PIL and Tensor backends. To suppress this warning, directly pass antialias=True (recommended, future default), antialias=None (current default, which means False for Tensors and True for PIL), or antialias=False (only works on Tensors - PIL will still use antialiasing). This also applies if you are using the inference transforms from the models weights: update the call to weights.transforms(antialias=True).\n",
            "  warnings.warn(\n"
          ]
        },
        {
          "output_type": "stream",
          "name": "stdout",
          "text": [
            "\n",
            "Test set: Average loss: 0.0213, Accuracy: 30.40999984741211 (30%)\n",
            "\n",
            "\n",
            "    -------------------------------\n",
            "    Normal Data Saved: (100, 66.05)\n",
            "    -------------------------------\n",
            "    \n",
            "\n",
            "    --------------------------------\n",
            "    Altered Data Saved: (100, 30.41)\n",
            "    --------------------------------\n",
            "    \n",
            "Train epoch: 101 [0/50000 (0%)]\tLoss: 1.005731\n",
            "Train epoch: 101 [3200/50000 (6%)]\tLoss: 0.810024\n",
            "Train epoch: 101 [6400/50000 (13%)]\tLoss: 1.068588\n",
            "Train epoch: 101 [9600/50000 (19%)]\tLoss: 1.184036\n",
            "Train epoch: 101 [12800/50000 (26%)]\tLoss: 0.870415\n",
            "Train epoch: 101 [16000/50000 (32%)]\tLoss: 1.567024\n",
            "Train epoch: 101 [19200/50000 (38%)]\tLoss: 0.618390\n",
            "Train epoch: 101 [22400/50000 (45%)]\tLoss: 0.843535\n",
            "Train epoch: 101 [25600/50000 (51%)]\tLoss: 0.717351\n",
            "Train epoch: 101 [28800/50000 (58%)]\tLoss: 0.964588\n",
            "Train epoch: 101 [32000/50000 (64%)]\tLoss: 0.825312\n",
            "Train epoch: 101 [35200/50000 (70%)]\tLoss: 0.939600\n",
            "Train epoch: 101 [38400/50000 (77%)]\tLoss: 0.591705\n",
            "Train epoch: 101 [41600/50000 (83%)]\tLoss: 0.913357\n",
            "Train epoch: 101 [44800/50000 (90%)]\tLoss: 0.654580\n",
            "Train epoch: 101 [48000/50000 (96%)]\tLoss: 0.686622\n",
            "\n",
            "Test set: Average loss: 0.0075, Accuracy: 67.20999908447266 (67%)\n",
            "\n"
          ]
        },
        {
          "output_type": "stream",
          "name": "stderr",
          "text": [
            "/usr/local/lib/python3.10/dist-packages/torchvision/transforms/functional.py:1603: UserWarning: The default value of the antialias parameter of all the resizing transforms (Resize(), RandomResizedCrop(), etc.) will change from None to True in v0.17, in order to be consistent across the PIL and Tensor backends. To suppress this warning, directly pass antialias=True (recommended, future default), antialias=None (current default, which means False for Tensors and True for PIL), or antialias=False (only works on Tensors - PIL will still use antialiasing). This also applies if you are using the inference transforms from the models weights: update the call to weights.transforms(antialias=True).\n",
            "  warnings.warn(\n"
          ]
        },
        {
          "output_type": "stream",
          "name": "stdout",
          "text": [
            "\n",
            "Test set: Average loss: 0.0218, Accuracy: 28.010000228881836 (28%)\n",
            "\n",
            "Train epoch: 102 [0/50000 (0%)]\tLoss: 0.653809\n",
            "Train epoch: 102 [3200/50000 (6%)]\tLoss: 1.154137\n",
            "Train epoch: 102 [6400/50000 (13%)]\tLoss: 1.272024\n",
            "Train epoch: 102 [9600/50000 (19%)]\tLoss: 1.036980\n",
            "Train epoch: 102 [12800/50000 (26%)]\tLoss: 1.125951\n",
            "Train epoch: 102 [16000/50000 (32%)]\tLoss: 0.849824\n",
            "Train epoch: 102 [19200/50000 (38%)]\tLoss: 1.030701\n",
            "Train epoch: 102 [22400/50000 (45%)]\tLoss: 0.811831\n",
            "Train epoch: 102 [25600/50000 (51%)]\tLoss: 0.556200\n",
            "Train epoch: 102 [28800/50000 (58%)]\tLoss: 0.743728\n",
            "Train epoch: 102 [32000/50000 (64%)]\tLoss: 1.081961\n",
            "Train epoch: 102 [35200/50000 (70%)]\tLoss: 1.586650\n",
            "Train epoch: 102 [38400/50000 (77%)]\tLoss: 1.231479\n",
            "Train epoch: 102 [41600/50000 (83%)]\tLoss: 0.975089\n",
            "Train epoch: 102 [44800/50000 (90%)]\tLoss: 0.925301\n",
            "Train epoch: 102 [48000/50000 (96%)]\tLoss: 0.840479\n",
            "\n",
            "Test set: Average loss: 0.0077, Accuracy: 66.27999877929688 (66%)\n",
            "\n"
          ]
        },
        {
          "output_type": "stream",
          "name": "stderr",
          "text": [
            "/usr/local/lib/python3.10/dist-packages/torchvision/transforms/functional.py:1603: UserWarning: The default value of the antialias parameter of all the resizing transforms (Resize(), RandomResizedCrop(), etc.) will change from None to True in v0.17, in order to be consistent across the PIL and Tensor backends. To suppress this warning, directly pass antialias=True (recommended, future default), antialias=None (current default, which means False for Tensors and True for PIL), or antialias=False (only works on Tensors - PIL will still use antialiasing). This also applies if you are using the inference transforms from the models weights: update the call to weights.transforms(antialias=True).\n",
            "  warnings.warn(\n"
          ]
        },
        {
          "output_type": "stream",
          "name": "stdout",
          "text": [
            "\n",
            "Test set: Average loss: 0.0249, Accuracy: 25.969999313354492 (26%)\n",
            "\n",
            "Train epoch: 103 [0/50000 (0%)]\tLoss: 0.971335\n",
            "Train epoch: 103 [3200/50000 (6%)]\tLoss: 0.739640\n",
            "Train epoch: 103 [6400/50000 (13%)]\tLoss: 0.715200\n",
            "Train epoch: 103 [9600/50000 (19%)]\tLoss: 1.002432\n",
            "Train epoch: 103 [12800/50000 (26%)]\tLoss: 1.064844\n",
            "Train epoch: 103 [16000/50000 (32%)]\tLoss: 0.802292\n",
            "Train epoch: 103 [19200/50000 (38%)]\tLoss: 0.731096\n",
            "Train epoch: 103 [22400/50000 (45%)]\tLoss: 0.654780\n",
            "Train epoch: 103 [25600/50000 (51%)]\tLoss: 0.823822\n",
            "Train epoch: 103 [28800/50000 (58%)]\tLoss: 0.946791\n",
            "Train epoch: 103 [32000/50000 (64%)]\tLoss: 0.804140\n",
            "Train epoch: 103 [35200/50000 (70%)]\tLoss: 0.922772\n",
            "Train epoch: 103 [38400/50000 (77%)]\tLoss: 1.063254\n",
            "Train epoch: 103 [41600/50000 (83%)]\tLoss: 0.814691\n",
            "Train epoch: 103 [44800/50000 (90%)]\tLoss: 0.861341\n",
            "Train epoch: 103 [48000/50000 (96%)]\tLoss: 0.803685\n",
            "\n",
            "Test set: Average loss: 0.0077, Accuracy: 66.55999755859375 (67%)\n",
            "\n"
          ]
        },
        {
          "output_type": "stream",
          "name": "stderr",
          "text": [
            "/usr/local/lib/python3.10/dist-packages/torchvision/transforms/functional.py:1603: UserWarning: The default value of the antialias parameter of all the resizing transforms (Resize(), RandomResizedCrop(), etc.) will change from None to True in v0.17, in order to be consistent across the PIL and Tensor backends. To suppress this warning, directly pass antialias=True (recommended, future default), antialias=None (current default, which means False for Tensors and True for PIL), or antialias=False (only works on Tensors - PIL will still use antialiasing). This also applies if you are using the inference transforms from the models weights: update the call to weights.transforms(antialias=True).\n",
            "  warnings.warn(\n"
          ]
        },
        {
          "output_type": "stream",
          "name": "stdout",
          "text": [
            "\n",
            "Test set: Average loss: 0.0223, Accuracy: 26.940000534057617 (27%)\n",
            "\n",
            "Train epoch: 104 [0/50000 (0%)]\tLoss: 0.818510\n",
            "Train epoch: 104 [3200/50000 (6%)]\tLoss: 0.741705\n",
            "Train epoch: 104 [6400/50000 (13%)]\tLoss: 0.879038\n",
            "Train epoch: 104 [9600/50000 (19%)]\tLoss: 1.213206\n",
            "Train epoch: 104 [12800/50000 (26%)]\tLoss: 1.047973\n",
            "Train epoch: 104 [16000/50000 (32%)]\tLoss: 0.788245\n",
            "Train epoch: 104 [19200/50000 (38%)]\tLoss: 0.719359\n",
            "Train epoch: 104 [22400/50000 (45%)]\tLoss: 0.881051\n",
            "Train epoch: 104 [25600/50000 (51%)]\tLoss: 0.830008\n",
            "Train epoch: 104 [28800/50000 (58%)]\tLoss: 0.925747\n",
            "Train epoch: 104 [32000/50000 (64%)]\tLoss: 0.767465\n",
            "Train epoch: 104 [35200/50000 (70%)]\tLoss: 1.124325\n",
            "Train epoch: 104 [38400/50000 (77%)]\tLoss: 0.896282\n",
            "Train epoch: 104 [41600/50000 (83%)]\tLoss: 0.853061\n",
            "Train epoch: 104 [44800/50000 (90%)]\tLoss: 0.941162\n",
            "Train epoch: 104 [48000/50000 (96%)]\tLoss: 0.936649\n",
            "\n",
            "Test set: Average loss: 0.0075, Accuracy: 67.33999633789062 (67%)\n",
            "\n"
          ]
        },
        {
          "output_type": "stream",
          "name": "stderr",
          "text": [
            "/usr/local/lib/python3.10/dist-packages/torchvision/transforms/functional.py:1603: UserWarning: The default value of the antialias parameter of all the resizing transforms (Resize(), RandomResizedCrop(), etc.) will change from None to True in v0.17, in order to be consistent across the PIL and Tensor backends. To suppress this warning, directly pass antialias=True (recommended, future default), antialias=None (current default, which means False for Tensors and True for PIL), or antialias=False (only works on Tensors - PIL will still use antialiasing). This also applies if you are using the inference transforms from the models weights: update the call to weights.transforms(antialias=True).\n",
            "  warnings.warn(\n"
          ]
        },
        {
          "output_type": "stream",
          "name": "stdout",
          "text": [
            "\n",
            "Test set: Average loss: 0.0234, Accuracy: 27.770000457763672 (28%)\n",
            "\n",
            "Train epoch: 105 [0/50000 (0%)]\tLoss: 0.786864\n",
            "Train epoch: 105 [3200/50000 (6%)]\tLoss: 1.186589\n",
            "Train epoch: 105 [6400/50000 (13%)]\tLoss: 0.801684\n",
            "Train epoch: 105 [9600/50000 (19%)]\tLoss: 1.042677\n",
            "Train epoch: 105 [12800/50000 (26%)]\tLoss: 0.812475\n",
            "Train epoch: 105 [16000/50000 (32%)]\tLoss: 1.027772\n",
            "Train epoch: 105 [19200/50000 (38%)]\tLoss: 1.027825\n",
            "Train epoch: 105 [22400/50000 (45%)]\tLoss: 0.834702\n",
            "Train epoch: 105 [25600/50000 (51%)]\tLoss: 0.960963\n",
            "Train epoch: 105 [28800/50000 (58%)]\tLoss: 0.668595\n",
            "Train epoch: 105 [32000/50000 (64%)]\tLoss: 0.586160\n",
            "Train epoch: 105 [35200/50000 (70%)]\tLoss: 0.997832\n",
            "Train epoch: 105 [38400/50000 (77%)]\tLoss: 0.680030\n",
            "Train epoch: 105 [41600/50000 (83%)]\tLoss: 0.794268\n",
            "Train epoch: 105 [44800/50000 (90%)]\tLoss: 0.827528\n",
            "Train epoch: 105 [48000/50000 (96%)]\tLoss: 0.581701\n",
            "\n",
            "Test set: Average loss: 0.0074, Accuracy: 67.20999908447266 (67%)\n",
            "\n"
          ]
        },
        {
          "output_type": "stream",
          "name": "stderr",
          "text": [
            "/usr/local/lib/python3.10/dist-packages/torchvision/transforms/functional.py:1603: UserWarning: The default value of the antialias parameter of all the resizing transforms (Resize(), RandomResizedCrop(), etc.) will change from None to True in v0.17, in order to be consistent across the PIL and Tensor backends. To suppress this warning, directly pass antialias=True (recommended, future default), antialias=None (current default, which means False for Tensors and True for PIL), or antialias=False (only works on Tensors - PIL will still use antialiasing). This also applies if you are using the inference transforms from the models weights: update the call to weights.transforms(antialias=True).\n",
            "  warnings.warn(\n"
          ]
        },
        {
          "output_type": "stream",
          "name": "stdout",
          "text": [
            "\n",
            "Test set: Average loss: 0.0229, Accuracy: 27.040000915527344 (27%)\n",
            "\n",
            "Train epoch: 106 [0/50000 (0%)]\tLoss: 0.696493\n",
            "Train epoch: 106 [3200/50000 (6%)]\tLoss: 0.820587\n",
            "Train epoch: 106 [6400/50000 (13%)]\tLoss: 0.802954\n",
            "Train epoch: 106 [9600/50000 (19%)]\tLoss: 0.925917\n",
            "Train epoch: 106 [12800/50000 (26%)]\tLoss: 1.169959\n",
            "Train epoch: 106 [16000/50000 (32%)]\tLoss: 0.693148\n",
            "Train epoch: 106 [19200/50000 (38%)]\tLoss: 0.731306\n",
            "Train epoch: 106 [22400/50000 (45%)]\tLoss: 0.725018\n",
            "Train epoch: 106 [25600/50000 (51%)]\tLoss: 1.156638\n",
            "Train epoch: 106 [28800/50000 (58%)]\tLoss: 0.822573\n",
            "Train epoch: 106 [32000/50000 (64%)]\tLoss: 0.582172\n",
            "Train epoch: 106 [35200/50000 (70%)]\tLoss: 0.723656\n",
            "Train epoch: 106 [38400/50000 (77%)]\tLoss: 0.759028\n",
            "Train epoch: 106 [41600/50000 (83%)]\tLoss: 1.045296\n",
            "Train epoch: 106 [44800/50000 (90%)]\tLoss: 0.952625\n",
            "Train epoch: 106 [48000/50000 (96%)]\tLoss: 1.049603\n",
            "\n",
            "Test set: Average loss: 0.0074, Accuracy: 67.91000366210938 (68%)\n",
            "\n"
          ]
        },
        {
          "output_type": "stream",
          "name": "stderr",
          "text": [
            "/usr/local/lib/python3.10/dist-packages/torchvision/transforms/functional.py:1603: UserWarning: The default value of the antialias parameter of all the resizing transforms (Resize(), RandomResizedCrop(), etc.) will change from None to True in v0.17, in order to be consistent across the PIL and Tensor backends. To suppress this warning, directly pass antialias=True (recommended, future default), antialias=None (current default, which means False for Tensors and True for PIL), or antialias=False (only works on Tensors - PIL will still use antialiasing). This also applies if you are using the inference transforms from the models weights: update the call to weights.transforms(antialias=True).\n",
            "  warnings.warn(\n"
          ]
        },
        {
          "output_type": "stream",
          "name": "stdout",
          "text": [
            "\n",
            "Test set: Average loss: 0.0212, Accuracy: 28.65999984741211 (29%)\n",
            "\n",
            "Train epoch: 107 [0/50000 (0%)]\tLoss: 0.809340\n",
            "Train epoch: 107 [3200/50000 (6%)]\tLoss: 0.830459\n",
            "Train epoch: 107 [6400/50000 (13%)]\tLoss: 0.755301\n",
            "Train epoch: 107 [9600/50000 (19%)]\tLoss: 0.859485\n",
            "Train epoch: 107 [12800/50000 (26%)]\tLoss: 0.686886\n",
            "Train epoch: 107 [16000/50000 (32%)]\tLoss: 1.137745\n",
            "Train epoch: 107 [19200/50000 (38%)]\tLoss: 0.833018\n",
            "Train epoch: 107 [22400/50000 (45%)]\tLoss: 0.891660\n",
            "Train epoch: 107 [25600/50000 (51%)]\tLoss: 0.935853\n",
            "Train epoch: 107 [28800/50000 (58%)]\tLoss: 1.111645\n",
            "Train epoch: 107 [32000/50000 (64%)]\tLoss: 0.991580\n",
            "Train epoch: 107 [35200/50000 (70%)]\tLoss: 1.165141\n",
            "Train epoch: 107 [38400/50000 (77%)]\tLoss: 0.762434\n",
            "Train epoch: 107 [41600/50000 (83%)]\tLoss: 0.752907\n",
            "Train epoch: 107 [44800/50000 (90%)]\tLoss: 0.625913\n",
            "Train epoch: 107 [48000/50000 (96%)]\tLoss: 0.815020\n",
            "\n",
            "Test set: Average loss: 0.0072, Accuracy: 68.76000213623047 (69%)\n",
            "\n"
          ]
        },
        {
          "output_type": "stream",
          "name": "stderr",
          "text": [
            "/usr/local/lib/python3.10/dist-packages/torchvision/transforms/functional.py:1603: UserWarning: The default value of the antialias parameter of all the resizing transforms (Resize(), RandomResizedCrop(), etc.) will change from None to True in v0.17, in order to be consistent across the PIL and Tensor backends. To suppress this warning, directly pass antialias=True (recommended, future default), antialias=None (current default, which means False for Tensors and True for PIL), or antialias=False (only works on Tensors - PIL will still use antialiasing). This also applies if you are using the inference transforms from the models weights: update the call to weights.transforms(antialias=True).\n",
            "  warnings.warn(\n"
          ]
        },
        {
          "output_type": "stream",
          "name": "stdout",
          "text": [
            "\n",
            "Test set: Average loss: 0.0237, Accuracy: 27.010000228881836 (27%)\n",
            "\n",
            "Train epoch: 108 [0/50000 (0%)]\tLoss: 0.979325\n",
            "Train epoch: 108 [3200/50000 (6%)]\tLoss: 1.236642\n",
            "Train epoch: 108 [6400/50000 (13%)]\tLoss: 0.715719\n",
            "Train epoch: 108 [9600/50000 (19%)]\tLoss: 0.701679\n",
            "Train epoch: 108 [12800/50000 (26%)]\tLoss: 0.904775\n",
            "Train epoch: 108 [16000/50000 (32%)]\tLoss: 0.981798\n",
            "Train epoch: 108 [19200/50000 (38%)]\tLoss: 0.578744\n",
            "Train epoch: 108 [22400/50000 (45%)]\tLoss: 1.066037\n",
            "Train epoch: 108 [25600/50000 (51%)]\tLoss: 0.823617\n",
            "Train epoch: 108 [28800/50000 (58%)]\tLoss: 1.079527\n",
            "Train epoch: 108 [32000/50000 (64%)]\tLoss: 1.092009\n",
            "Train epoch: 108 [35200/50000 (70%)]\tLoss: 1.108145\n",
            "Train epoch: 108 [38400/50000 (77%)]\tLoss: 0.938993\n",
            "Train epoch: 108 [41600/50000 (83%)]\tLoss: 0.657393\n",
            "Train epoch: 108 [44800/50000 (90%)]\tLoss: 0.660202\n",
            "Train epoch: 108 [48000/50000 (96%)]\tLoss: 1.099982\n",
            "\n",
            "Test set: Average loss: 0.0073, Accuracy: 68.05000305175781 (68%)\n",
            "\n"
          ]
        },
        {
          "output_type": "stream",
          "name": "stderr",
          "text": [
            "/usr/local/lib/python3.10/dist-packages/torchvision/transforms/functional.py:1603: UserWarning: The default value of the antialias parameter of all the resizing transforms (Resize(), RandomResizedCrop(), etc.) will change from None to True in v0.17, in order to be consistent across the PIL and Tensor backends. To suppress this warning, directly pass antialias=True (recommended, future default), antialias=None (current default, which means False for Tensors and True for PIL), or antialias=False (only works on Tensors - PIL will still use antialiasing). This also applies if you are using the inference transforms from the models weights: update the call to weights.transforms(antialias=True).\n",
            "  warnings.warn(\n"
          ]
        },
        {
          "output_type": "stream",
          "name": "stdout",
          "text": [
            "\n",
            "Test set: Average loss: 0.0229, Accuracy: 28.329999923706055 (28%)\n",
            "\n",
            "Train epoch: 109 [0/50000 (0%)]\tLoss: 0.811145\n",
            "Train epoch: 109 [3200/50000 (6%)]\tLoss: 0.808607\n",
            "Train epoch: 109 [6400/50000 (13%)]\tLoss: 0.696021\n",
            "Train epoch: 109 [9600/50000 (19%)]\tLoss: 0.977683\n",
            "Train epoch: 109 [12800/50000 (26%)]\tLoss: 0.958100\n",
            "Train epoch: 109 [16000/50000 (32%)]\tLoss: 0.912174\n",
            "Train epoch: 109 [19200/50000 (38%)]\tLoss: 0.760503\n",
            "Train epoch: 109 [22400/50000 (45%)]\tLoss: 0.761224\n",
            "Train epoch: 109 [25600/50000 (51%)]\tLoss: 0.820964\n",
            "Train epoch: 109 [28800/50000 (58%)]\tLoss: 0.914285\n",
            "Train epoch: 109 [32000/50000 (64%)]\tLoss: 0.755074\n",
            "Train epoch: 109 [35200/50000 (70%)]\tLoss: 0.631707\n",
            "Train epoch: 109 [38400/50000 (77%)]\tLoss: 0.776884\n",
            "Train epoch: 109 [41600/50000 (83%)]\tLoss: 0.715028\n",
            "Train epoch: 109 [44800/50000 (90%)]\tLoss: 0.740241\n",
            "Train epoch: 109 [48000/50000 (96%)]\tLoss: 0.923240\n",
            "\n",
            "Test set: Average loss: 0.0070, Accuracy: 69.41000366210938 (69%)\n",
            "\n"
          ]
        },
        {
          "output_type": "stream",
          "name": "stderr",
          "text": [
            "/usr/local/lib/python3.10/dist-packages/torchvision/transforms/functional.py:1603: UserWarning: The default value of the antialias parameter of all the resizing transforms (Resize(), RandomResizedCrop(), etc.) will change from None to True in v0.17, in order to be consistent across the PIL and Tensor backends. To suppress this warning, directly pass antialias=True (recommended, future default), antialias=None (current default, which means False for Tensors and True for PIL), or antialias=False (only works on Tensors - PIL will still use antialiasing). This also applies if you are using the inference transforms from the models weights: update the call to weights.transforms(antialias=True).\n",
            "  warnings.warn(\n"
          ]
        },
        {
          "output_type": "stream",
          "name": "stdout",
          "text": [
            "\n",
            "Test set: Average loss: 0.0222, Accuracy: 28.079999923706055 (28%)\n",
            "\n",
            "Train epoch: 110 [0/50000 (0%)]\tLoss: 1.099508\n",
            "Train epoch: 110 [3200/50000 (6%)]\tLoss: 0.954952\n",
            "Train epoch: 110 [6400/50000 (13%)]\tLoss: 0.667074\n",
            "Train epoch: 110 [9600/50000 (19%)]\tLoss: 0.458356\n",
            "Train epoch: 110 [12800/50000 (26%)]\tLoss: 1.107493\n",
            "Train epoch: 110 [16000/50000 (32%)]\tLoss: 0.995961\n",
            "Train epoch: 110 [19200/50000 (38%)]\tLoss: 0.698933\n",
            "Train epoch: 110 [22400/50000 (45%)]\tLoss: 0.665186\n",
            "Train epoch: 110 [25600/50000 (51%)]\tLoss: 0.980075\n",
            "Train epoch: 110 [28800/50000 (58%)]\tLoss: 0.907680\n",
            "Train epoch: 110 [32000/50000 (64%)]\tLoss: 0.818886\n",
            "Train epoch: 110 [35200/50000 (70%)]\tLoss: 0.890876\n",
            "Train epoch: 110 [38400/50000 (77%)]\tLoss: 0.901170\n",
            "Train epoch: 110 [41600/50000 (83%)]\tLoss: 0.927088\n",
            "Train epoch: 110 [44800/50000 (90%)]\tLoss: 0.944342\n",
            "Train epoch: 110 [48000/50000 (96%)]\tLoss: 1.115761\n",
            "\n",
            "Test set: Average loss: 0.0071, Accuracy: 69.51000213623047 (70%)\n",
            "\n"
          ]
        },
        {
          "output_type": "stream",
          "name": "stderr",
          "text": [
            "/usr/local/lib/python3.10/dist-packages/torchvision/transforms/functional.py:1603: UserWarning: The default value of the antialias parameter of all the resizing transforms (Resize(), RandomResizedCrop(), etc.) will change from None to True in v0.17, in order to be consistent across the PIL and Tensor backends. To suppress this warning, directly pass antialias=True (recommended, future default), antialias=None (current default, which means False for Tensors and True for PIL), or antialias=False (only works on Tensors - PIL will still use antialiasing). This also applies if you are using the inference transforms from the models weights: update the call to weights.transforms(antialias=True).\n",
            "  warnings.warn(\n"
          ]
        },
        {
          "output_type": "stream",
          "name": "stdout",
          "text": [
            "\n",
            "Test set: Average loss: 0.0242, Accuracy: 27.719999313354492 (28%)\n",
            "\n",
            "\n",
            "    -------------------------------\n",
            "    Normal Data Saved: (110, 69.51)\n",
            "    -------------------------------\n",
            "    \n",
            "\n",
            "    --------------------------------\n",
            "    Altered Data Saved: (110, 27.72)\n",
            "    --------------------------------\n",
            "    \n",
            "Train epoch: 111 [0/50000 (0%)]\tLoss: 0.877107\n",
            "Train epoch: 111 [3200/50000 (6%)]\tLoss: 0.797327\n",
            "Train epoch: 111 [6400/50000 (13%)]\tLoss: 0.754999\n",
            "Train epoch: 111 [9600/50000 (19%)]\tLoss: 0.605442\n",
            "Train epoch: 111 [12800/50000 (26%)]\tLoss: 0.991622\n",
            "Train epoch: 111 [16000/50000 (32%)]\tLoss: 0.931236\n",
            "Train epoch: 111 [19200/50000 (38%)]\tLoss: 1.133333\n",
            "Train epoch: 111 [22400/50000 (45%)]\tLoss: 0.716646\n",
            "Train epoch: 111 [25600/50000 (51%)]\tLoss: 0.765931\n",
            "Train epoch: 111 [28800/50000 (58%)]\tLoss: 0.846284\n",
            "Train epoch: 111 [32000/50000 (64%)]\tLoss: 0.380366\n",
            "Train epoch: 111 [35200/50000 (70%)]\tLoss: 0.569580\n",
            "Train epoch: 111 [38400/50000 (77%)]\tLoss: 0.744326\n",
            "Train epoch: 111 [41600/50000 (83%)]\tLoss: 0.892455\n",
            "Train epoch: 111 [44800/50000 (90%)]\tLoss: 0.627132\n",
            "Train epoch: 111 [48000/50000 (96%)]\tLoss: 0.924286\n",
            "\n",
            "Test set: Average loss: 0.0070, Accuracy: 69.58000183105469 (70%)\n",
            "\n"
          ]
        },
        {
          "output_type": "stream",
          "name": "stderr",
          "text": [
            "/usr/local/lib/python3.10/dist-packages/torchvision/transforms/functional.py:1603: UserWarning: The default value of the antialias parameter of all the resizing transforms (Resize(), RandomResizedCrop(), etc.) will change from None to True in v0.17, in order to be consistent across the PIL and Tensor backends. To suppress this warning, directly pass antialias=True (recommended, future default), antialias=None (current default, which means False for Tensors and True for PIL), or antialias=False (only works on Tensors - PIL will still use antialiasing). This also applies if you are using the inference transforms from the models weights: update the call to weights.transforms(antialias=True).\n",
            "  warnings.warn(\n"
          ]
        },
        {
          "output_type": "stream",
          "name": "stdout",
          "text": [
            "\n",
            "Test set: Average loss: 0.0226, Accuracy: 29.459999084472656 (29%)\n",
            "\n",
            "Train epoch: 112 [0/50000 (0%)]\tLoss: 1.115253\n",
            "Train epoch: 112 [3200/50000 (6%)]\tLoss: 1.215812\n",
            "Train epoch: 112 [6400/50000 (13%)]\tLoss: 0.772460\n",
            "Train epoch: 112 [9600/50000 (19%)]\tLoss: 1.026927\n",
            "Train epoch: 112 [12800/50000 (26%)]\tLoss: 0.469979\n",
            "Train epoch: 112 [16000/50000 (32%)]\tLoss: 0.926528\n",
            "Train epoch: 112 [19200/50000 (38%)]\tLoss: 0.585128\n",
            "Train epoch: 112 [22400/50000 (45%)]\tLoss: 0.845686\n",
            "Train epoch: 112 [25600/50000 (51%)]\tLoss: 0.710376\n",
            "Train epoch: 112 [28800/50000 (58%)]\tLoss: 1.392043\n",
            "Train epoch: 112 [32000/50000 (64%)]\tLoss: 0.715944\n",
            "Train epoch: 112 [35200/50000 (70%)]\tLoss: 0.751486\n",
            "Train epoch: 112 [38400/50000 (77%)]\tLoss: 0.502984\n",
            "Train epoch: 112 [41600/50000 (83%)]\tLoss: 0.782553\n",
            "Train epoch: 112 [44800/50000 (90%)]\tLoss: 1.010657\n",
            "Train epoch: 112 [48000/50000 (96%)]\tLoss: 0.799909\n",
            "\n",
            "Test set: Average loss: 0.0075, Accuracy: 68.19000244140625 (68%)\n",
            "\n"
          ]
        },
        {
          "output_type": "stream",
          "name": "stderr",
          "text": [
            "/usr/local/lib/python3.10/dist-packages/torchvision/transforms/functional.py:1603: UserWarning: The default value of the antialias parameter of all the resizing transforms (Resize(), RandomResizedCrop(), etc.) will change from None to True in v0.17, in order to be consistent across the PIL and Tensor backends. To suppress this warning, directly pass antialias=True (recommended, future default), antialias=None (current default, which means False for Tensors and True for PIL), or antialias=False (only works on Tensors - PIL will still use antialiasing). This also applies if you are using the inference transforms from the models weights: update the call to weights.transforms(antialias=True).\n",
            "  warnings.warn(\n"
          ]
        },
        {
          "output_type": "stream",
          "name": "stdout",
          "text": [
            "\n",
            "Test set: Average loss: 0.0221, Accuracy: 30.1200008392334 (30%)\n",
            "\n",
            "Train epoch: 113 [0/50000 (0%)]\tLoss: 0.822248\n",
            "Train epoch: 113 [3200/50000 (6%)]\tLoss: 0.637858\n",
            "Train epoch: 113 [6400/50000 (13%)]\tLoss: 0.862036\n",
            "Train epoch: 113 [9600/50000 (19%)]\tLoss: 0.729747\n",
            "Train epoch: 113 [12800/50000 (26%)]\tLoss: 0.823606\n",
            "Train epoch: 113 [16000/50000 (32%)]\tLoss: 0.826312\n",
            "Train epoch: 113 [19200/50000 (38%)]\tLoss: 0.780990\n",
            "Train epoch: 113 [22400/50000 (45%)]\tLoss: 0.737259\n",
            "Train epoch: 113 [25600/50000 (51%)]\tLoss: 0.662460\n",
            "Train epoch: 113 [28800/50000 (58%)]\tLoss: 1.146001\n",
            "Train epoch: 113 [32000/50000 (64%)]\tLoss: 0.647979\n",
            "Train epoch: 113 [35200/50000 (70%)]\tLoss: 0.600249\n",
            "Train epoch: 113 [38400/50000 (77%)]\tLoss: 0.892554\n",
            "Train epoch: 113 [41600/50000 (83%)]\tLoss: 0.674702\n",
            "Train epoch: 113 [44800/50000 (90%)]\tLoss: 0.608140\n",
            "Train epoch: 113 [48000/50000 (96%)]\tLoss: 0.754899\n",
            "\n",
            "Test set: Average loss: 0.0073, Accuracy: 68.63999938964844 (69%)\n",
            "\n"
          ]
        },
        {
          "output_type": "stream",
          "name": "stderr",
          "text": [
            "/usr/local/lib/python3.10/dist-packages/torchvision/transforms/functional.py:1603: UserWarning: The default value of the antialias parameter of all the resizing transforms (Resize(), RandomResizedCrop(), etc.) will change from None to True in v0.17, in order to be consistent across the PIL and Tensor backends. To suppress this warning, directly pass antialias=True (recommended, future default), antialias=None (current default, which means False for Tensors and True for PIL), or antialias=False (only works on Tensors - PIL will still use antialiasing). This also applies if you are using the inference transforms from the models weights: update the call to weights.transforms(antialias=True).\n",
            "  warnings.warn(\n"
          ]
        },
        {
          "output_type": "stream",
          "name": "stdout",
          "text": [
            "\n",
            "Test set: Average loss: 0.0255, Accuracy: 24.690000534057617 (25%)\n",
            "\n",
            "Train epoch: 114 [0/50000 (0%)]\tLoss: 0.478445\n",
            "Train epoch: 114 [3200/50000 (6%)]\tLoss: 0.864826\n",
            "Train epoch: 114 [6400/50000 (13%)]\tLoss: 0.637530\n",
            "Train epoch: 114 [9600/50000 (19%)]\tLoss: 0.983794\n",
            "Train epoch: 114 [12800/50000 (26%)]\tLoss: 0.725047\n",
            "Train epoch: 114 [16000/50000 (32%)]\tLoss: 0.521942\n",
            "Train epoch: 114 [19200/50000 (38%)]\tLoss: 0.688717\n",
            "Train epoch: 114 [22400/50000 (45%)]\tLoss: 0.688150\n",
            "Train epoch: 114 [25600/50000 (51%)]\tLoss: 0.548521\n",
            "Train epoch: 114 [28800/50000 (58%)]\tLoss: 0.687073\n",
            "Train epoch: 114 [32000/50000 (64%)]\tLoss: 1.553494\n",
            "Train epoch: 114 [35200/50000 (70%)]\tLoss: 0.642339\n",
            "Train epoch: 114 [38400/50000 (77%)]\tLoss: 0.739315\n",
            "Train epoch: 114 [41600/50000 (83%)]\tLoss: 1.019949\n",
            "Train epoch: 114 [44800/50000 (90%)]\tLoss: 0.822898\n",
            "Train epoch: 114 [48000/50000 (96%)]\tLoss: 0.663249\n",
            "\n",
            "Test set: Average loss: 0.0069, Accuracy: 70.08000183105469 (70%)\n",
            "\n"
          ]
        },
        {
          "output_type": "stream",
          "name": "stderr",
          "text": [
            "/usr/local/lib/python3.10/dist-packages/torchvision/transforms/functional.py:1603: UserWarning: The default value of the antialias parameter of all the resizing transforms (Resize(), RandomResizedCrop(), etc.) will change from None to True in v0.17, in order to be consistent across the PIL and Tensor backends. To suppress this warning, directly pass antialias=True (recommended, future default), antialias=None (current default, which means False for Tensors and True for PIL), or antialias=False (only works on Tensors - PIL will still use antialiasing). This also applies if you are using the inference transforms from the models weights: update the call to weights.transforms(antialias=True).\n",
            "  warnings.warn(\n"
          ]
        },
        {
          "output_type": "stream",
          "name": "stdout",
          "text": [
            "\n",
            "Test set: Average loss: 0.0245, Accuracy: 26.1200008392334 (26%)\n",
            "\n",
            "Train epoch: 115 [0/50000 (0%)]\tLoss: 0.797106\n",
            "Train epoch: 115 [3200/50000 (6%)]\tLoss: 0.861487\n",
            "Train epoch: 115 [6400/50000 (13%)]\tLoss: 0.687906\n",
            "Train epoch: 115 [9600/50000 (19%)]\tLoss: 0.771525\n",
            "Train epoch: 115 [12800/50000 (26%)]\tLoss: 1.351893\n",
            "Train epoch: 115 [16000/50000 (32%)]\tLoss: 0.851144\n",
            "Train epoch: 115 [19200/50000 (38%)]\tLoss: 0.946783\n",
            "Train epoch: 115 [22400/50000 (45%)]\tLoss: 0.542390\n",
            "Train epoch: 115 [25600/50000 (51%)]\tLoss: 0.654145\n",
            "Train epoch: 115 [28800/50000 (58%)]\tLoss: 0.618432\n",
            "Train epoch: 115 [32000/50000 (64%)]\tLoss: 0.791535\n",
            "Train epoch: 115 [35200/50000 (70%)]\tLoss: 0.918840\n",
            "Train epoch: 115 [38400/50000 (77%)]\tLoss: 0.728940\n",
            "Train epoch: 115 [41600/50000 (83%)]\tLoss: 0.871054\n",
            "Train epoch: 115 [44800/50000 (90%)]\tLoss: 1.122813\n",
            "Train epoch: 115 [48000/50000 (96%)]\tLoss: 0.919881\n",
            "\n",
            "Test set: Average loss: 0.0068, Accuracy: 70.12999725341797 (70%)\n",
            "\n"
          ]
        },
        {
          "output_type": "stream",
          "name": "stderr",
          "text": [
            "/usr/local/lib/python3.10/dist-packages/torchvision/transforms/functional.py:1603: UserWarning: The default value of the antialias parameter of all the resizing transforms (Resize(), RandomResizedCrop(), etc.) will change from None to True in v0.17, in order to be consistent across the PIL and Tensor backends. To suppress this warning, directly pass antialias=True (recommended, future default), antialias=None (current default, which means False for Tensors and True for PIL), or antialias=False (only works on Tensors - PIL will still use antialiasing). This also applies if you are using the inference transforms from the models weights: update the call to weights.transforms(antialias=True).\n",
            "  warnings.warn(\n"
          ]
        },
        {
          "output_type": "stream",
          "name": "stdout",
          "text": [
            "\n",
            "Test set: Average loss: 0.0220, Accuracy: 27.190000534057617 (27%)\n",
            "\n",
            "Train epoch: 116 [0/50000 (0%)]\tLoss: 0.975515\n",
            "Train epoch: 116 [3200/50000 (6%)]\tLoss: 0.766682\n",
            "Train epoch: 116 [6400/50000 (13%)]\tLoss: 0.610731\n",
            "Train epoch: 116 [9600/50000 (19%)]\tLoss: 0.814489\n",
            "Train epoch: 116 [12800/50000 (26%)]\tLoss: 0.600679\n",
            "Train epoch: 116 [16000/50000 (32%)]\tLoss: 0.809989\n",
            "Train epoch: 116 [19200/50000 (38%)]\tLoss: 0.523534\n",
            "Train epoch: 116 [22400/50000 (45%)]\tLoss: 0.824655\n",
            "Train epoch: 116 [25600/50000 (51%)]\tLoss: 0.881268\n",
            "Train epoch: 116 [28800/50000 (58%)]\tLoss: 0.651360\n",
            "Train epoch: 116 [32000/50000 (64%)]\tLoss: 0.673975\n",
            "Train epoch: 116 [35200/50000 (70%)]\tLoss: 0.950381\n",
            "Train epoch: 116 [38400/50000 (77%)]\tLoss: 0.829427\n",
            "Train epoch: 116 [41600/50000 (83%)]\tLoss: 0.601726\n",
            "Train epoch: 116 [44800/50000 (90%)]\tLoss: 0.711853\n",
            "Train epoch: 116 [48000/50000 (96%)]\tLoss: 0.469876\n",
            "\n",
            "Test set: Average loss: 0.0070, Accuracy: 70.25 (70%)\n",
            "\n"
          ]
        },
        {
          "output_type": "stream",
          "name": "stderr",
          "text": [
            "/usr/local/lib/python3.10/dist-packages/torchvision/transforms/functional.py:1603: UserWarning: The default value of the antialias parameter of all the resizing transforms (Resize(), RandomResizedCrop(), etc.) will change from None to True in v0.17, in order to be consistent across the PIL and Tensor backends. To suppress this warning, directly pass antialias=True (recommended, future default), antialias=None (current default, which means False for Tensors and True for PIL), or antialias=False (only works on Tensors - PIL will still use antialiasing). This also applies if you are using the inference transforms from the models weights: update the call to weights.transforms(antialias=True).\n",
            "  warnings.warn(\n"
          ]
        },
        {
          "output_type": "stream",
          "name": "stdout",
          "text": [
            "\n",
            "Test set: Average loss: 0.0243, Accuracy: 25.8799991607666 (26%)\n",
            "\n",
            "Train epoch: 117 [0/50000 (0%)]\tLoss: 0.767029\n",
            "Train epoch: 117 [3200/50000 (6%)]\tLoss: 0.913408\n",
            "Train epoch: 117 [6400/50000 (13%)]\tLoss: 1.097806\n",
            "Train epoch: 117 [9600/50000 (19%)]\tLoss: 0.967377\n",
            "Train epoch: 117 [12800/50000 (26%)]\tLoss: 1.025140\n",
            "Train epoch: 117 [16000/50000 (32%)]\tLoss: 0.779838\n",
            "Train epoch: 117 [19200/50000 (38%)]\tLoss: 0.601090\n",
            "Train epoch: 117 [22400/50000 (45%)]\tLoss: 0.705629\n",
            "Train epoch: 117 [25600/50000 (51%)]\tLoss: 0.451582\n",
            "Train epoch: 117 [28800/50000 (58%)]\tLoss: 0.814894\n",
            "Train epoch: 117 [32000/50000 (64%)]\tLoss: 0.607354\n",
            "Train epoch: 117 [35200/50000 (70%)]\tLoss: 0.654357\n",
            "Train epoch: 117 [38400/50000 (77%)]\tLoss: 0.978919\n",
            "Train epoch: 117 [41600/50000 (83%)]\tLoss: 0.914281\n",
            "Train epoch: 117 [44800/50000 (90%)]\tLoss: 0.655313\n",
            "Train epoch: 117 [48000/50000 (96%)]\tLoss: 0.704350\n",
            "\n",
            "Test set: Average loss: 0.0070, Accuracy: 69.56999969482422 (70%)\n",
            "\n"
          ]
        },
        {
          "output_type": "stream",
          "name": "stderr",
          "text": [
            "/usr/local/lib/python3.10/dist-packages/torchvision/transforms/functional.py:1603: UserWarning: The default value of the antialias parameter of all the resizing transforms (Resize(), RandomResizedCrop(), etc.) will change from None to True in v0.17, in order to be consistent across the PIL and Tensor backends. To suppress this warning, directly pass antialias=True (recommended, future default), antialias=None (current default, which means False for Tensors and True for PIL), or antialias=False (only works on Tensors - PIL will still use antialiasing). This also applies if you are using the inference transforms from the models weights: update the call to weights.transforms(antialias=True).\n",
            "  warnings.warn(\n"
          ]
        },
        {
          "output_type": "stream",
          "name": "stdout",
          "text": [
            "\n",
            "Test set: Average loss: 0.0253, Accuracy: 26.170000076293945 (26%)\n",
            "\n",
            "Train epoch: 118 [0/50000 (0%)]\tLoss: 0.827298\n",
            "Train epoch: 118 [3200/50000 (6%)]\tLoss: 0.631037\n",
            "Train epoch: 118 [6400/50000 (13%)]\tLoss: 1.045530\n",
            "Train epoch: 118 [9600/50000 (19%)]\tLoss: 0.806881\n",
            "Train epoch: 118 [12800/50000 (26%)]\tLoss: 0.658471\n",
            "Train epoch: 118 [16000/50000 (32%)]\tLoss: 0.806669\n",
            "Train epoch: 118 [19200/50000 (38%)]\tLoss: 0.800087\n",
            "Train epoch: 118 [22400/50000 (45%)]\tLoss: 0.938119\n",
            "Train epoch: 118 [25600/50000 (51%)]\tLoss: 0.726884\n",
            "Train epoch: 118 [28800/50000 (58%)]\tLoss: 0.833656\n",
            "Train epoch: 118 [32000/50000 (64%)]\tLoss: 0.795361\n",
            "Train epoch: 118 [35200/50000 (70%)]\tLoss: 0.861628\n",
            "Train epoch: 118 [38400/50000 (77%)]\tLoss: 0.767014\n",
            "Train epoch: 118 [41600/50000 (83%)]\tLoss: 0.646600\n",
            "Train epoch: 118 [44800/50000 (90%)]\tLoss: 0.796543\n",
            "Train epoch: 118 [48000/50000 (96%)]\tLoss: 0.662542\n",
            "\n",
            "Test set: Average loss: 0.0072, Accuracy: 69.06999969482422 (69%)\n",
            "\n"
          ]
        },
        {
          "output_type": "stream",
          "name": "stderr",
          "text": [
            "/usr/local/lib/python3.10/dist-packages/torchvision/transforms/functional.py:1603: UserWarning: The default value of the antialias parameter of all the resizing transforms (Resize(), RandomResizedCrop(), etc.) will change from None to True in v0.17, in order to be consistent across the PIL and Tensor backends. To suppress this warning, directly pass antialias=True (recommended, future default), antialias=None (current default, which means False for Tensors and True for PIL), or antialias=False (only works on Tensors - PIL will still use antialiasing). This also applies if you are using the inference transforms from the models weights: update the call to weights.transforms(antialias=True).\n",
            "  warnings.warn(\n"
          ]
        },
        {
          "output_type": "stream",
          "name": "stdout",
          "text": [
            "\n",
            "Test set: Average loss: 0.0248, Accuracy: 25.540000915527344 (26%)\n",
            "\n",
            "Train epoch: 119 [0/50000 (0%)]\tLoss: 0.706458\n",
            "Train epoch: 119 [3200/50000 (6%)]\tLoss: 0.733068\n",
            "Train epoch: 119 [6400/50000 (13%)]\tLoss: 1.010268\n",
            "Train epoch: 119 [9600/50000 (19%)]\tLoss: 0.926317\n",
            "Train epoch: 119 [12800/50000 (26%)]\tLoss: 0.707934\n",
            "Train epoch: 119 [16000/50000 (32%)]\tLoss: 0.765365\n",
            "Train epoch: 119 [19200/50000 (38%)]\tLoss: 0.640379\n",
            "Train epoch: 119 [22400/50000 (45%)]\tLoss: 0.531654\n",
            "Train epoch: 119 [25600/50000 (51%)]\tLoss: 0.702315\n",
            "Train epoch: 119 [28800/50000 (58%)]\tLoss: 0.672266\n",
            "Train epoch: 119 [32000/50000 (64%)]\tLoss: 0.818620\n",
            "Train epoch: 119 [35200/50000 (70%)]\tLoss: 1.219199\n",
            "Train epoch: 119 [38400/50000 (77%)]\tLoss: 0.479937\n",
            "Train epoch: 119 [41600/50000 (83%)]\tLoss: 0.967807\n",
            "Train epoch: 119 [44800/50000 (90%)]\tLoss: 0.728781\n",
            "Train epoch: 119 [48000/50000 (96%)]\tLoss: 0.658937\n",
            "\n",
            "Test set: Average loss: 0.0067, Accuracy: 70.83000183105469 (71%)\n",
            "\n"
          ]
        },
        {
          "output_type": "stream",
          "name": "stderr",
          "text": [
            "/usr/local/lib/python3.10/dist-packages/torchvision/transforms/functional.py:1603: UserWarning: The default value of the antialias parameter of all the resizing transforms (Resize(), RandomResizedCrop(), etc.) will change from None to True in v0.17, in order to be consistent across the PIL and Tensor backends. To suppress this warning, directly pass antialias=True (recommended, future default), antialias=None (current default, which means False for Tensors and True for PIL), or antialias=False (only works on Tensors - PIL will still use antialiasing). This also applies if you are using the inference transforms from the models weights: update the call to weights.transforms(antialias=True).\n",
            "  warnings.warn(\n"
          ]
        },
        {
          "output_type": "stream",
          "name": "stdout",
          "text": [
            "\n",
            "Test set: Average loss: 0.0238, Accuracy: 26.959999084472656 (27%)\n",
            "\n",
            "Train epoch: 120 [0/50000 (0%)]\tLoss: 1.147903\n",
            "Train epoch: 120 [3200/50000 (6%)]\tLoss: 0.827011\n",
            "Train epoch: 120 [6400/50000 (13%)]\tLoss: 0.839204\n",
            "Train epoch: 120 [9600/50000 (19%)]\tLoss: 0.751559\n",
            "Train epoch: 120 [12800/50000 (26%)]\tLoss: 1.000427\n",
            "Train epoch: 120 [16000/50000 (32%)]\tLoss: 0.759116\n",
            "Train epoch: 120 [19200/50000 (38%)]\tLoss: 0.955954\n",
            "Train epoch: 120 [22400/50000 (45%)]\tLoss: 0.594883\n",
            "Train epoch: 120 [25600/50000 (51%)]\tLoss: 0.690546\n",
            "Train epoch: 120 [28800/50000 (58%)]\tLoss: 0.858145\n",
            "Train epoch: 120 [32000/50000 (64%)]\tLoss: 0.498251\n",
            "Train epoch: 120 [35200/50000 (70%)]\tLoss: 1.051587\n",
            "Train epoch: 120 [38400/50000 (77%)]\tLoss: 0.968977\n",
            "Train epoch: 120 [41600/50000 (83%)]\tLoss: 0.642203\n",
            "Train epoch: 120 [44800/50000 (90%)]\tLoss: 0.814472\n",
            "Train epoch: 120 [48000/50000 (96%)]\tLoss: 0.868616\n",
            "\n",
            "Test set: Average loss: 0.0068, Accuracy: 70.29000091552734 (70%)\n",
            "\n"
          ]
        },
        {
          "output_type": "stream",
          "name": "stderr",
          "text": [
            "/usr/local/lib/python3.10/dist-packages/torchvision/transforms/functional.py:1603: UserWarning: The default value of the antialias parameter of all the resizing transforms (Resize(), RandomResizedCrop(), etc.) will change from None to True in v0.17, in order to be consistent across the PIL and Tensor backends. To suppress this warning, directly pass antialias=True (recommended, future default), antialias=None (current default, which means False for Tensors and True for PIL), or antialias=False (only works on Tensors - PIL will still use antialiasing). This also applies if you are using the inference transforms from the models weights: update the call to weights.transforms(antialias=True).\n",
            "  warnings.warn(\n"
          ]
        },
        {
          "output_type": "stream",
          "name": "stdout",
          "text": [
            "\n",
            "Test set: Average loss: 0.0249, Accuracy: 24.8799991607666 (25%)\n",
            "\n",
            "\n",
            "    -------------------------------\n",
            "    Normal Data Saved: (120, 70.29)\n",
            "    -------------------------------\n",
            "    \n",
            "\n",
            "    --------------------------------\n",
            "    Altered Data Saved: (120, 24.88)\n",
            "    --------------------------------\n",
            "    \n",
            "Train epoch: 121 [0/50000 (0%)]\tLoss: 0.961011\n",
            "Train epoch: 121 [3200/50000 (6%)]\tLoss: 0.776350\n",
            "Train epoch: 121 [6400/50000 (13%)]\tLoss: 0.824130\n",
            "Train epoch: 121 [9600/50000 (19%)]\tLoss: 0.874799\n",
            "Train epoch: 121 [12800/50000 (26%)]\tLoss: 0.745678\n",
            "Train epoch: 121 [16000/50000 (32%)]\tLoss: 0.928074\n",
            "Train epoch: 121 [19200/50000 (38%)]\tLoss: 0.727134\n",
            "Train epoch: 121 [22400/50000 (45%)]\tLoss: 1.161447\n",
            "Train epoch: 121 [25600/50000 (51%)]\tLoss: 1.069380\n",
            "Train epoch: 121 [28800/50000 (58%)]\tLoss: 0.538786\n",
            "Train epoch: 121 [32000/50000 (64%)]\tLoss: 0.615943\n",
            "Train epoch: 121 [35200/50000 (70%)]\tLoss: 0.796598\n",
            "Train epoch: 121 [38400/50000 (77%)]\tLoss: 0.610269\n",
            "Train epoch: 121 [41600/50000 (83%)]\tLoss: 0.724511\n",
            "Train epoch: 121 [44800/50000 (90%)]\tLoss: 0.734608\n",
            "Train epoch: 121 [48000/50000 (96%)]\tLoss: 0.757147\n",
            "\n",
            "Test set: Average loss: 0.0070, Accuracy: 69.5199966430664 (70%)\n",
            "\n"
          ]
        },
        {
          "output_type": "stream",
          "name": "stderr",
          "text": [
            "/usr/local/lib/python3.10/dist-packages/torchvision/transforms/functional.py:1603: UserWarning: The default value of the antialias parameter of all the resizing transforms (Resize(), RandomResizedCrop(), etc.) will change from None to True in v0.17, in order to be consistent across the PIL and Tensor backends. To suppress this warning, directly pass antialias=True (recommended, future default), antialias=None (current default, which means False for Tensors and True for PIL), or antialias=False (only works on Tensors - PIL will still use antialiasing). This also applies if you are using the inference transforms from the models weights: update the call to weights.transforms(antialias=True).\n",
            "  warnings.warn(\n"
          ]
        },
        {
          "output_type": "stream",
          "name": "stdout",
          "text": [
            "\n",
            "Test set: Average loss: 0.0248, Accuracy: 25.049999237060547 (25%)\n",
            "\n",
            "Train epoch: 122 [0/50000 (0%)]\tLoss: 0.811182\n",
            "Train epoch: 122 [3200/50000 (6%)]\tLoss: 0.951927\n",
            "Train epoch: 122 [6400/50000 (13%)]\tLoss: 0.765905\n",
            "Train epoch: 122 [9600/50000 (19%)]\tLoss: 0.608812\n",
            "Train epoch: 122 [12800/50000 (26%)]\tLoss: 0.966305\n",
            "Train epoch: 122 [16000/50000 (32%)]\tLoss: 0.927365\n",
            "Train epoch: 122 [19200/50000 (38%)]\tLoss: 0.794495\n",
            "Train epoch: 122 [22400/50000 (45%)]\tLoss: 0.918807\n",
            "Train epoch: 122 [25600/50000 (51%)]\tLoss: 0.586653\n",
            "Train epoch: 122 [28800/50000 (58%)]\tLoss: 0.628325\n",
            "Train epoch: 122 [32000/50000 (64%)]\tLoss: 0.812699\n",
            "Train epoch: 122 [35200/50000 (70%)]\tLoss: 0.913066\n",
            "Train epoch: 122 [38400/50000 (77%)]\tLoss: 0.898486\n",
            "Train epoch: 122 [41600/50000 (83%)]\tLoss: 0.810262\n",
            "Train epoch: 122 [44800/50000 (90%)]\tLoss: 0.735741\n",
            "Train epoch: 122 [48000/50000 (96%)]\tLoss: 0.778728\n",
            "\n",
            "Test set: Average loss: 0.0065, Accuracy: 72.01000213623047 (72%)\n",
            "\n"
          ]
        },
        {
          "output_type": "stream",
          "name": "stderr",
          "text": [
            "/usr/local/lib/python3.10/dist-packages/torchvision/transforms/functional.py:1603: UserWarning: The default value of the antialias parameter of all the resizing transforms (Resize(), RandomResizedCrop(), etc.) will change from None to True in v0.17, in order to be consistent across the PIL and Tensor backends. To suppress this warning, directly pass antialias=True (recommended, future default), antialias=None (current default, which means False for Tensors and True for PIL), or antialias=False (only works on Tensors - PIL will still use antialiasing). This also applies if you are using the inference transforms from the models weights: update the call to weights.transforms(antialias=True).\n",
            "  warnings.warn(\n"
          ]
        },
        {
          "output_type": "stream",
          "name": "stdout",
          "text": [
            "\n",
            "Test set: Average loss: 0.0232, Accuracy: 27.59000015258789 (28%)\n",
            "\n",
            "Train epoch: 123 [0/50000 (0%)]\tLoss: 0.920589\n",
            "Train epoch: 123 [3200/50000 (6%)]\tLoss: 0.833710\n",
            "Train epoch: 123 [6400/50000 (13%)]\tLoss: 0.883264\n",
            "Train epoch: 123 [9600/50000 (19%)]\tLoss: 0.740762\n",
            "Train epoch: 123 [12800/50000 (26%)]\tLoss: 0.680914\n",
            "Train epoch: 123 [16000/50000 (32%)]\tLoss: 0.830407\n",
            "Train epoch: 123 [19200/50000 (38%)]\tLoss: 0.625767\n",
            "Train epoch: 123 [22400/50000 (45%)]\tLoss: 0.822345\n",
            "Train epoch: 123 [25600/50000 (51%)]\tLoss: 0.819228\n",
            "Train epoch: 123 [28800/50000 (58%)]\tLoss: 0.636099\n",
            "Train epoch: 123 [32000/50000 (64%)]\tLoss: 0.637017\n",
            "Train epoch: 123 [35200/50000 (70%)]\tLoss: 0.541858\n",
            "Train epoch: 123 [38400/50000 (77%)]\tLoss: 0.838162\n",
            "Train epoch: 123 [41600/50000 (83%)]\tLoss: 0.659320\n",
            "Train epoch: 123 [44800/50000 (90%)]\tLoss: 0.741474\n",
            "Train epoch: 123 [48000/50000 (96%)]\tLoss: 0.868425\n",
            "\n",
            "Test set: Average loss: 0.0065, Accuracy: 71.77999877929688 (72%)\n",
            "\n"
          ]
        },
        {
          "output_type": "stream",
          "name": "stderr",
          "text": [
            "/usr/local/lib/python3.10/dist-packages/torchvision/transforms/functional.py:1603: UserWarning: The default value of the antialias parameter of all the resizing transforms (Resize(), RandomResizedCrop(), etc.) will change from None to True in v0.17, in order to be consistent across the PIL and Tensor backends. To suppress this warning, directly pass antialias=True (recommended, future default), antialias=None (current default, which means False for Tensors and True for PIL), or antialias=False (only works on Tensors - PIL will still use antialiasing). This also applies if you are using the inference transforms from the models weights: update the call to weights.transforms(antialias=True).\n",
            "  warnings.warn(\n"
          ]
        },
        {
          "output_type": "stream",
          "name": "stdout",
          "text": [
            "\n",
            "Test set: Average loss: 0.0246, Accuracy: 25.889999389648438 (26%)\n",
            "\n",
            "Train epoch: 124 [0/50000 (0%)]\tLoss: 0.763635\n",
            "Train epoch: 124 [3200/50000 (6%)]\tLoss: 0.658460\n",
            "Train epoch: 124 [6400/50000 (13%)]\tLoss: 0.817414\n",
            "Train epoch: 124 [9600/50000 (19%)]\tLoss: 0.827190\n",
            "Train epoch: 124 [12800/50000 (26%)]\tLoss: 0.623374\n",
            "Train epoch: 124 [16000/50000 (32%)]\tLoss: 0.921482\n",
            "Train epoch: 124 [19200/50000 (38%)]\tLoss: 0.813548\n",
            "Train epoch: 124 [22400/50000 (45%)]\tLoss: 0.412223\n",
            "Train epoch: 124 [25600/50000 (51%)]\tLoss: 1.068053\n",
            "Train epoch: 124 [28800/50000 (58%)]\tLoss: 0.839362\n",
            "Train epoch: 124 [32000/50000 (64%)]\tLoss: 0.957266\n",
            "Train epoch: 124 [35200/50000 (70%)]\tLoss: 0.903117\n",
            "Train epoch: 124 [38400/50000 (77%)]\tLoss: 0.663138\n",
            "Train epoch: 124 [41600/50000 (83%)]\tLoss: 0.784941\n",
            "Train epoch: 124 [44800/50000 (90%)]\tLoss: 0.673376\n",
            "Train epoch: 124 [48000/50000 (96%)]\tLoss: 0.471596\n",
            "\n",
            "Test set: Average loss: 0.0066, Accuracy: 71.48999786376953 (71%)\n",
            "\n"
          ]
        },
        {
          "output_type": "stream",
          "name": "stderr",
          "text": [
            "/usr/local/lib/python3.10/dist-packages/torchvision/transforms/functional.py:1603: UserWarning: The default value of the antialias parameter of all the resizing transforms (Resize(), RandomResizedCrop(), etc.) will change from None to True in v0.17, in order to be consistent across the PIL and Tensor backends. To suppress this warning, directly pass antialias=True (recommended, future default), antialias=None (current default, which means False for Tensors and True for PIL), or antialias=False (only works on Tensors - PIL will still use antialiasing). This also applies if you are using the inference transforms from the models weights: update the call to weights.transforms(antialias=True).\n",
            "  warnings.warn(\n"
          ]
        },
        {
          "output_type": "stream",
          "name": "stdout",
          "text": [
            "\n",
            "Test set: Average loss: 0.0254, Accuracy: 26.229999542236328 (26%)\n",
            "\n",
            "Train epoch: 125 [0/50000 (0%)]\tLoss: 0.468681\n",
            "Train epoch: 125 [3200/50000 (6%)]\tLoss: 0.852600\n",
            "Train epoch: 125 [6400/50000 (13%)]\tLoss: 1.065457\n",
            "Train epoch: 125 [9600/50000 (19%)]\tLoss: 0.685156\n",
            "Train epoch: 125 [12800/50000 (26%)]\tLoss: 1.051529\n",
            "Train epoch: 125 [16000/50000 (32%)]\tLoss: 0.650231\n",
            "Train epoch: 125 [19200/50000 (38%)]\tLoss: 0.632473\n",
            "Train epoch: 125 [22400/50000 (45%)]\tLoss: 0.729261\n",
            "Train epoch: 125 [25600/50000 (51%)]\tLoss: 0.798711\n",
            "Train epoch: 125 [28800/50000 (58%)]\tLoss: 0.793073\n",
            "Train epoch: 125 [32000/50000 (64%)]\tLoss: 0.753182\n",
            "Train epoch: 125 [35200/50000 (70%)]\tLoss: 0.889142\n",
            "Train epoch: 125 [38400/50000 (77%)]\tLoss: 0.679214\n",
            "Train epoch: 125 [41600/50000 (83%)]\tLoss: 0.842550\n",
            "Train epoch: 125 [44800/50000 (90%)]\tLoss: 0.720150\n",
            "Train epoch: 125 [48000/50000 (96%)]\tLoss: 0.550119\n",
            "\n",
            "Test set: Average loss: 0.0065, Accuracy: 71.66000366210938 (72%)\n",
            "\n"
          ]
        },
        {
          "output_type": "stream",
          "name": "stderr",
          "text": [
            "/usr/local/lib/python3.10/dist-packages/torchvision/transforms/functional.py:1603: UserWarning: The default value of the antialias parameter of all the resizing transforms (Resize(), RandomResizedCrop(), etc.) will change from None to True in v0.17, in order to be consistent across the PIL and Tensor backends. To suppress this warning, directly pass antialias=True (recommended, future default), antialias=None (current default, which means False for Tensors and True for PIL), or antialias=False (only works on Tensors - PIL will still use antialiasing). This also applies if you are using the inference transforms from the models weights: update the call to weights.transforms(antialias=True).\n",
            "  warnings.warn(\n"
          ]
        },
        {
          "output_type": "stream",
          "name": "stdout",
          "text": [
            "\n",
            "Test set: Average loss: 0.0242, Accuracy: 26.200000762939453 (26%)\n",
            "\n",
            "Train epoch: 126 [0/50000 (0%)]\tLoss: 0.577824\n",
            "Train epoch: 126 [3200/50000 (6%)]\tLoss: 0.546468\n",
            "Train epoch: 126 [6400/50000 (13%)]\tLoss: 1.144969\n",
            "Train epoch: 126 [9600/50000 (19%)]\tLoss: 0.777613\n",
            "Train epoch: 126 [12800/50000 (26%)]\tLoss: 0.402871\n",
            "Train epoch: 126 [16000/50000 (32%)]\tLoss: 0.806742\n",
            "Train epoch: 126 [19200/50000 (38%)]\tLoss: 0.723114\n",
            "Train epoch: 126 [22400/50000 (45%)]\tLoss: 0.639037\n",
            "Train epoch: 126 [25600/50000 (51%)]\tLoss: 0.605373\n",
            "Train epoch: 126 [28800/50000 (58%)]\tLoss: 0.473510\n",
            "Train epoch: 126 [32000/50000 (64%)]\tLoss: 0.657360\n",
            "Train epoch: 126 [35200/50000 (70%)]\tLoss: 0.956864\n",
            "Train epoch: 126 [38400/50000 (77%)]\tLoss: 0.724329\n",
            "Train epoch: 126 [41600/50000 (83%)]\tLoss: 1.045310\n",
            "Train epoch: 126 [44800/50000 (90%)]\tLoss: 0.655720\n",
            "Train epoch: 126 [48000/50000 (96%)]\tLoss: 0.636540\n",
            "\n",
            "Test set: Average loss: 0.0064, Accuracy: 72.44999694824219 (72%)\n",
            "\n"
          ]
        },
        {
          "output_type": "stream",
          "name": "stderr",
          "text": [
            "/usr/local/lib/python3.10/dist-packages/torchvision/transforms/functional.py:1603: UserWarning: The default value of the antialias parameter of all the resizing transforms (Resize(), RandomResizedCrop(), etc.) will change from None to True in v0.17, in order to be consistent across the PIL and Tensor backends. To suppress this warning, directly pass antialias=True (recommended, future default), antialias=None (current default, which means False for Tensors and True for PIL), or antialias=False (only works on Tensors - PIL will still use antialiasing). This also applies if you are using the inference transforms from the models weights: update the call to weights.transforms(antialias=True).\n",
            "  warnings.warn(\n"
          ]
        },
        {
          "output_type": "stream",
          "name": "stdout",
          "text": [
            "\n",
            "Test set: Average loss: 0.0243, Accuracy: 24.959999084472656 (25%)\n",
            "\n",
            "Train epoch: 127 [0/50000 (0%)]\tLoss: 0.450523\n",
            "Train epoch: 127 [3200/50000 (6%)]\tLoss: 0.793181\n",
            "Train epoch: 127 [6400/50000 (13%)]\tLoss: 0.553754\n",
            "Train epoch: 127 [9600/50000 (19%)]\tLoss: 1.245380\n",
            "Train epoch: 127 [12800/50000 (26%)]\tLoss: 0.827718\n",
            "Train epoch: 127 [16000/50000 (32%)]\tLoss: 0.419644\n",
            "Train epoch: 127 [19200/50000 (38%)]\tLoss: 0.894241\n",
            "Train epoch: 127 [22400/50000 (45%)]\tLoss: 1.016283\n",
            "Train epoch: 127 [25600/50000 (51%)]\tLoss: 0.574343\n",
            "Train epoch: 127 [28800/50000 (58%)]\tLoss: 0.728361\n",
            "Train epoch: 127 [32000/50000 (64%)]\tLoss: 0.621593\n",
            "Train epoch: 127 [35200/50000 (70%)]\tLoss: 0.954336\n",
            "Train epoch: 127 [38400/50000 (77%)]\tLoss: 0.611388\n",
            "Train epoch: 127 [41600/50000 (83%)]\tLoss: 0.762137\n",
            "Train epoch: 127 [44800/50000 (90%)]\tLoss: 0.631279\n",
            "Train epoch: 127 [48000/50000 (96%)]\tLoss: 0.892428\n",
            "\n",
            "Test set: Average loss: 0.0066, Accuracy: 71.41999816894531 (71%)\n",
            "\n"
          ]
        },
        {
          "output_type": "stream",
          "name": "stderr",
          "text": [
            "/usr/local/lib/python3.10/dist-packages/torchvision/transforms/functional.py:1603: UserWarning: The default value of the antialias parameter of all the resizing transforms (Resize(), RandomResizedCrop(), etc.) will change from None to True in v0.17, in order to be consistent across the PIL and Tensor backends. To suppress this warning, directly pass antialias=True (recommended, future default), antialias=None (current default, which means False for Tensors and True for PIL), or antialias=False (only works on Tensors - PIL will still use antialiasing). This also applies if you are using the inference transforms from the models weights: update the call to weights.transforms(antialias=True).\n",
            "  warnings.warn(\n"
          ]
        },
        {
          "output_type": "stream",
          "name": "stdout",
          "text": [
            "\n",
            "Test set: Average loss: 0.0253, Accuracy: 24.469999313354492 (24%)\n",
            "\n",
            "Train epoch: 128 [0/50000 (0%)]\tLoss: 0.655037\n",
            "Train epoch: 128 [3200/50000 (6%)]\tLoss: 0.543212\n",
            "Train epoch: 128 [6400/50000 (13%)]\tLoss: 0.595208\n",
            "Train epoch: 128 [9600/50000 (19%)]\tLoss: 0.978533\n",
            "Train epoch: 128 [12800/50000 (26%)]\tLoss: 0.995571\n",
            "Train epoch: 128 [16000/50000 (32%)]\tLoss: 0.437512\n",
            "Train epoch: 128 [19200/50000 (38%)]\tLoss: 0.747728\n",
            "Train epoch: 128 [22400/50000 (45%)]\tLoss: 0.504547\n",
            "Train epoch: 128 [25600/50000 (51%)]\tLoss: 0.738956\n",
            "Train epoch: 128 [28800/50000 (58%)]\tLoss: 0.657861\n",
            "Train epoch: 128 [32000/50000 (64%)]\tLoss: 0.767934\n",
            "Train epoch: 128 [35200/50000 (70%)]\tLoss: 0.666655\n",
            "Train epoch: 128 [38400/50000 (77%)]\tLoss: 1.171407\n",
            "Train epoch: 128 [41600/50000 (83%)]\tLoss: 0.623677\n",
            "Train epoch: 128 [44800/50000 (90%)]\tLoss: 0.754052\n",
            "Train epoch: 128 [48000/50000 (96%)]\tLoss: 0.695644\n",
            "\n",
            "Test set: Average loss: 0.0064, Accuracy: 72.3499984741211 (72%)\n",
            "\n"
          ]
        },
        {
          "output_type": "stream",
          "name": "stderr",
          "text": [
            "/usr/local/lib/python3.10/dist-packages/torchvision/transforms/functional.py:1603: UserWarning: The default value of the antialias parameter of all the resizing transforms (Resize(), RandomResizedCrop(), etc.) will change from None to True in v0.17, in order to be consistent across the PIL and Tensor backends. To suppress this warning, directly pass antialias=True (recommended, future default), antialias=None (current default, which means False for Tensors and True for PIL), or antialias=False (only works on Tensors - PIL will still use antialiasing). This also applies if you are using the inference transforms from the models weights: update the call to weights.transforms(antialias=True).\n",
            "  warnings.warn(\n"
          ]
        },
        {
          "output_type": "stream",
          "name": "stdout",
          "text": [
            "\n",
            "Test set: Average loss: 0.0237, Accuracy: 27.540000915527344 (28%)\n",
            "\n",
            "Train epoch: 129 [0/50000 (0%)]\tLoss: 0.858403\n",
            "Train epoch: 129 [3200/50000 (6%)]\tLoss: 0.654850\n",
            "Train epoch: 129 [6400/50000 (13%)]\tLoss: 0.843561\n",
            "Train epoch: 129 [9600/50000 (19%)]\tLoss: 0.802510\n",
            "Train epoch: 129 [12800/50000 (26%)]\tLoss: 0.881528\n",
            "Train epoch: 129 [16000/50000 (32%)]\tLoss: 0.792059\n",
            "Train epoch: 129 [19200/50000 (38%)]\tLoss: 1.210042\n",
            "Train epoch: 129 [22400/50000 (45%)]\tLoss: 0.820119\n",
            "Train epoch: 129 [25600/50000 (51%)]\tLoss: 0.438924\n",
            "Train epoch: 129 [28800/50000 (58%)]\tLoss: 0.952346\n",
            "Train epoch: 129 [32000/50000 (64%)]\tLoss: 0.547500\n",
            "Train epoch: 129 [35200/50000 (70%)]\tLoss: 0.647229\n",
            "Train epoch: 129 [38400/50000 (77%)]\tLoss: 0.723318\n",
            "Train epoch: 129 [41600/50000 (83%)]\tLoss: 0.576534\n",
            "Train epoch: 129 [44800/50000 (90%)]\tLoss: 0.583755\n",
            "Train epoch: 129 [48000/50000 (96%)]\tLoss: 0.887273\n",
            "\n",
            "Test set: Average loss: 0.0065, Accuracy: 72.30999755859375 (72%)\n",
            "\n"
          ]
        },
        {
          "output_type": "stream",
          "name": "stderr",
          "text": [
            "/usr/local/lib/python3.10/dist-packages/torchvision/transforms/functional.py:1603: UserWarning: The default value of the antialias parameter of all the resizing transforms (Resize(), RandomResizedCrop(), etc.) will change from None to True in v0.17, in order to be consistent across the PIL and Tensor backends. To suppress this warning, directly pass antialias=True (recommended, future default), antialias=None (current default, which means False for Tensors and True for PIL), or antialias=False (only works on Tensors - PIL will still use antialiasing). This also applies if you are using the inference transforms from the models weights: update the call to weights.transforms(antialias=True).\n",
            "  warnings.warn(\n"
          ]
        },
        {
          "output_type": "stream",
          "name": "stdout",
          "text": [
            "\n",
            "Test set: Average loss: 0.0249, Accuracy: 27.399999618530273 (27%)\n",
            "\n",
            "Train epoch: 130 [0/50000 (0%)]\tLoss: 0.728541\n",
            "Train epoch: 130 [3200/50000 (6%)]\tLoss: 0.712689\n",
            "Train epoch: 130 [6400/50000 (13%)]\tLoss: 0.968695\n",
            "Train epoch: 130 [9600/50000 (19%)]\tLoss: 0.885994\n",
            "Train epoch: 130 [12800/50000 (26%)]\tLoss: 0.896732\n",
            "Train epoch: 130 [16000/50000 (32%)]\tLoss: 0.586741\n",
            "Train epoch: 130 [19200/50000 (38%)]\tLoss: 1.001942\n",
            "Train epoch: 130 [22400/50000 (45%)]\tLoss: 0.737418\n",
            "Train epoch: 130 [25600/50000 (51%)]\tLoss: 0.620627\n",
            "Train epoch: 130 [28800/50000 (58%)]\tLoss: 0.437437\n",
            "Train epoch: 130 [32000/50000 (64%)]\tLoss: 0.523399\n",
            "Train epoch: 130 [35200/50000 (70%)]\tLoss: 0.717218\n",
            "Train epoch: 130 [38400/50000 (77%)]\tLoss: 0.799165\n",
            "Train epoch: 130 [41600/50000 (83%)]\tLoss: 1.001757\n",
            "Train epoch: 130 [44800/50000 (90%)]\tLoss: 0.976679\n",
            "Train epoch: 130 [48000/50000 (96%)]\tLoss: 0.836025\n",
            "\n",
            "Test set: Average loss: 0.0064, Accuracy: 72.4800033569336 (72%)\n",
            "\n"
          ]
        },
        {
          "output_type": "stream",
          "name": "stderr",
          "text": [
            "/usr/local/lib/python3.10/dist-packages/torchvision/transforms/functional.py:1603: UserWarning: The default value of the antialias parameter of all the resizing transforms (Resize(), RandomResizedCrop(), etc.) will change from None to True in v0.17, in order to be consistent across the PIL and Tensor backends. To suppress this warning, directly pass antialias=True (recommended, future default), antialias=None (current default, which means False for Tensors and True for PIL), or antialias=False (only works on Tensors - PIL will still use antialiasing). This also applies if you are using the inference transforms from the models weights: update the call to weights.transforms(antialias=True).\n",
            "  warnings.warn(\n"
          ]
        },
        {
          "output_type": "stream",
          "name": "stdout",
          "text": [
            "\n",
            "Test set: Average loss: 0.0240, Accuracy: 26.760000228881836 (27%)\n",
            "\n",
            "\n",
            "    -------------------------------\n",
            "    Normal Data Saved: (130, 72.48)\n",
            "    -------------------------------\n",
            "    \n",
            "\n",
            "    --------------------------------\n",
            "    Altered Data Saved: (130, 26.76)\n",
            "    --------------------------------\n",
            "    \n",
            "Train epoch: 131 [0/50000 (0%)]\tLoss: 0.991516\n",
            "Train epoch: 131 [3200/50000 (6%)]\tLoss: 0.625845\n",
            "Train epoch: 131 [6400/50000 (13%)]\tLoss: 0.634276\n",
            "Train epoch: 131 [9600/50000 (19%)]\tLoss: 1.082753\n",
            "Train epoch: 131 [12800/50000 (26%)]\tLoss: 1.054301\n",
            "Train epoch: 131 [16000/50000 (32%)]\tLoss: 0.541973\n",
            "Train epoch: 131 [19200/50000 (38%)]\tLoss: 0.649639\n",
            "Train epoch: 131 [22400/50000 (45%)]\tLoss: 0.690833\n",
            "Train epoch: 131 [25600/50000 (51%)]\tLoss: 0.501355\n",
            "Train epoch: 131 [28800/50000 (58%)]\tLoss: 0.600014\n",
            "Train epoch: 131 [32000/50000 (64%)]\tLoss: 1.164693\n",
            "Train epoch: 131 [35200/50000 (70%)]\tLoss: 0.706441\n",
            "Train epoch: 131 [38400/50000 (77%)]\tLoss: 1.060777\n",
            "Train epoch: 131 [41600/50000 (83%)]\tLoss: 0.992566\n",
            "Train epoch: 131 [44800/50000 (90%)]\tLoss: 0.812444\n",
            "Train epoch: 131 [48000/50000 (96%)]\tLoss: 0.606257\n",
            "\n",
            "Test set: Average loss: 0.0063, Accuracy: 73.05999755859375 (73%)\n",
            "\n"
          ]
        },
        {
          "output_type": "stream",
          "name": "stderr",
          "text": [
            "/usr/local/lib/python3.10/dist-packages/torchvision/transforms/functional.py:1603: UserWarning: The default value of the antialias parameter of all the resizing transforms (Resize(), RandomResizedCrop(), etc.) will change from None to True in v0.17, in order to be consistent across the PIL and Tensor backends. To suppress this warning, directly pass antialias=True (recommended, future default), antialias=None (current default, which means False for Tensors and True for PIL), or antialias=False (only works on Tensors - PIL will still use antialiasing). This also applies if you are using the inference transforms from the models weights: update the call to weights.transforms(antialias=True).\n",
            "  warnings.warn(\n"
          ]
        },
        {
          "output_type": "stream",
          "name": "stdout",
          "text": [
            "\n",
            "Test set: Average loss: 0.0238, Accuracy: 26.170000076293945 (26%)\n",
            "\n",
            "Train epoch: 132 [0/50000 (0%)]\tLoss: 0.871211\n",
            "Train epoch: 132 [3200/50000 (6%)]\tLoss: 0.657275\n",
            "Train epoch: 132 [6400/50000 (13%)]\tLoss: 0.617671\n",
            "Train epoch: 132 [9600/50000 (19%)]\tLoss: 0.839229\n",
            "Train epoch: 132 [12800/50000 (26%)]\tLoss: 0.734147\n",
            "Train epoch: 132 [16000/50000 (32%)]\tLoss: 0.519819\n",
            "Train epoch: 132 [19200/50000 (38%)]\tLoss: 0.536901\n",
            "Train epoch: 132 [22400/50000 (45%)]\tLoss: 1.151030\n",
            "Train epoch: 132 [25600/50000 (51%)]\tLoss: 0.781727\n",
            "Train epoch: 132 [28800/50000 (58%)]\tLoss: 0.622060\n",
            "Train epoch: 132 [32000/50000 (64%)]\tLoss: 0.678740\n",
            "Train epoch: 132 [35200/50000 (70%)]\tLoss: 0.753907\n",
            "Train epoch: 132 [38400/50000 (77%)]\tLoss: 0.610966\n",
            "Train epoch: 132 [41600/50000 (83%)]\tLoss: 0.571231\n",
            "Train epoch: 132 [44800/50000 (90%)]\tLoss: 0.644163\n",
            "Train epoch: 132 [48000/50000 (96%)]\tLoss: 0.577939\n",
            "\n",
            "Test set: Average loss: 0.0065, Accuracy: 72.30000305175781 (72%)\n",
            "\n"
          ]
        },
        {
          "output_type": "stream",
          "name": "stderr",
          "text": [
            "/usr/local/lib/python3.10/dist-packages/torchvision/transforms/functional.py:1603: UserWarning: The default value of the antialias parameter of all the resizing transforms (Resize(), RandomResizedCrop(), etc.) will change from None to True in v0.17, in order to be consistent across the PIL and Tensor backends. To suppress this warning, directly pass antialias=True (recommended, future default), antialias=None (current default, which means False for Tensors and True for PIL), or antialias=False (only works on Tensors - PIL will still use antialiasing). This also applies if you are using the inference transforms from the models weights: update the call to weights.transforms(antialias=True).\n",
            "  warnings.warn(\n"
          ]
        },
        {
          "output_type": "stream",
          "name": "stdout",
          "text": [
            "\n",
            "Test set: Average loss: 0.0241, Accuracy: 24.790000915527344 (25%)\n",
            "\n",
            "Train epoch: 133 [0/50000 (0%)]\tLoss: 1.113103\n",
            "Train epoch: 133 [3200/50000 (6%)]\tLoss: 0.994451\n",
            "Train epoch: 133 [6400/50000 (13%)]\tLoss: 0.882443\n",
            "Train epoch: 133 [9600/50000 (19%)]\tLoss: 0.593178\n",
            "Train epoch: 133 [12800/50000 (26%)]\tLoss: 0.588148\n",
            "Train epoch: 133 [16000/50000 (32%)]\tLoss: 0.771487\n",
            "Train epoch: 133 [19200/50000 (38%)]\tLoss: 0.678382\n",
            "Train epoch: 133 [22400/50000 (45%)]\tLoss: 0.661144\n",
            "Train epoch: 133 [25600/50000 (51%)]\tLoss: 0.494718\n",
            "Train epoch: 133 [28800/50000 (58%)]\tLoss: 0.635762\n",
            "Train epoch: 133 [32000/50000 (64%)]\tLoss: 0.876683\n",
            "Train epoch: 133 [35200/50000 (70%)]\tLoss: 0.432785\n",
            "Train epoch: 133 [38400/50000 (77%)]\tLoss: 0.667667\n",
            "Train epoch: 133 [41600/50000 (83%)]\tLoss: 0.827667\n",
            "Train epoch: 133 [44800/50000 (90%)]\tLoss: 0.673389\n",
            "Train epoch: 133 [48000/50000 (96%)]\tLoss: 0.927269\n",
            "\n",
            "Test set: Average loss: 0.0063, Accuracy: 72.38999938964844 (72%)\n",
            "\n"
          ]
        },
        {
          "output_type": "stream",
          "name": "stderr",
          "text": [
            "/usr/local/lib/python3.10/dist-packages/torchvision/transforms/functional.py:1603: UserWarning: The default value of the antialias parameter of all the resizing transforms (Resize(), RandomResizedCrop(), etc.) will change from None to True in v0.17, in order to be consistent across the PIL and Tensor backends. To suppress this warning, directly pass antialias=True (recommended, future default), antialias=None (current default, which means False for Tensors and True for PIL), or antialias=False (only works on Tensors - PIL will still use antialiasing). This also applies if you are using the inference transforms from the models weights: update the call to weights.transforms(antialias=True).\n",
            "  warnings.warn(\n"
          ]
        },
        {
          "output_type": "stream",
          "name": "stdout",
          "text": [
            "\n",
            "Test set: Average loss: 0.0237, Accuracy: 26.530000686645508 (27%)\n",
            "\n",
            "Train epoch: 134 [0/50000 (0%)]\tLoss: 0.691644\n",
            "Train epoch: 134 [3200/50000 (6%)]\tLoss: 0.434029\n",
            "Train epoch: 134 [6400/50000 (13%)]\tLoss: 0.442200\n",
            "Train epoch: 134 [9600/50000 (19%)]\tLoss: 0.839799\n",
            "Train epoch: 134 [12800/50000 (26%)]\tLoss: 0.888341\n",
            "Train epoch: 134 [16000/50000 (32%)]\tLoss: 0.435781\n",
            "Train epoch: 134 [19200/50000 (38%)]\tLoss: 0.807336\n",
            "Train epoch: 134 [22400/50000 (45%)]\tLoss: 0.509649\n",
            "Train epoch: 134 [25600/50000 (51%)]\tLoss: 1.219056\n",
            "Train epoch: 134 [28800/50000 (58%)]\tLoss: 0.927239\n",
            "Train epoch: 134 [32000/50000 (64%)]\tLoss: 0.697319\n",
            "Train epoch: 134 [35200/50000 (70%)]\tLoss: 0.868252\n",
            "Train epoch: 134 [38400/50000 (77%)]\tLoss: 0.892142\n",
            "Train epoch: 134 [41600/50000 (83%)]\tLoss: 0.775038\n",
            "Train epoch: 134 [44800/50000 (90%)]\tLoss: 0.559574\n",
            "Train epoch: 134 [48000/50000 (96%)]\tLoss: 0.701993\n",
            "\n",
            "Test set: Average loss: 0.0065, Accuracy: 72.47000122070312 (72%)\n",
            "\n"
          ]
        },
        {
          "output_type": "stream",
          "name": "stderr",
          "text": [
            "/usr/local/lib/python3.10/dist-packages/torchvision/transforms/functional.py:1603: UserWarning: The default value of the antialias parameter of all the resizing transforms (Resize(), RandomResizedCrop(), etc.) will change from None to True in v0.17, in order to be consistent across the PIL and Tensor backends. To suppress this warning, directly pass antialias=True (recommended, future default), antialias=None (current default, which means False for Tensors and True for PIL), or antialias=False (only works on Tensors - PIL will still use antialiasing). This also applies if you are using the inference transforms from the models weights: update the call to weights.transforms(antialias=True).\n",
            "  warnings.warn(\n"
          ]
        },
        {
          "output_type": "stream",
          "name": "stdout",
          "text": [
            "\n",
            "Test set: Average loss: 0.0264, Accuracy: 26.299999237060547 (26%)\n",
            "\n",
            "Train epoch: 135 [0/50000 (0%)]\tLoss: 0.895305\n",
            "Train epoch: 135 [3200/50000 (6%)]\tLoss: 0.571112\n",
            "Train epoch: 135 [6400/50000 (13%)]\tLoss: 0.727489\n",
            "Train epoch: 135 [9600/50000 (19%)]\tLoss: 0.668319\n",
            "Train epoch: 135 [12800/50000 (26%)]\tLoss: 0.910232\n",
            "Train epoch: 135 [16000/50000 (32%)]\tLoss: 0.820989\n",
            "Train epoch: 135 [19200/50000 (38%)]\tLoss: 0.507871\n",
            "Train epoch: 135 [22400/50000 (45%)]\tLoss: 0.515044\n",
            "Train epoch: 135 [25600/50000 (51%)]\tLoss: 0.543605\n",
            "Train epoch: 135 [28800/50000 (58%)]\tLoss: 0.428923\n",
            "Train epoch: 135 [32000/50000 (64%)]\tLoss: 0.832962\n",
            "Train epoch: 135 [35200/50000 (70%)]\tLoss: 0.795720\n",
            "Train epoch: 135 [38400/50000 (77%)]\tLoss: 0.733520\n",
            "Train epoch: 135 [41600/50000 (83%)]\tLoss: 1.220848\n",
            "Train epoch: 135 [44800/50000 (90%)]\tLoss: 0.783046\n",
            "Train epoch: 135 [48000/50000 (96%)]\tLoss: 0.683741\n",
            "\n",
            "Test set: Average loss: 0.0065, Accuracy: 72.04000091552734 (72%)\n",
            "\n"
          ]
        },
        {
          "output_type": "stream",
          "name": "stderr",
          "text": [
            "/usr/local/lib/python3.10/dist-packages/torchvision/transforms/functional.py:1603: UserWarning: The default value of the antialias parameter of all the resizing transforms (Resize(), RandomResizedCrop(), etc.) will change from None to True in v0.17, in order to be consistent across the PIL and Tensor backends. To suppress this warning, directly pass antialias=True (recommended, future default), antialias=None (current default, which means False for Tensors and True for PIL), or antialias=False (only works on Tensors - PIL will still use antialiasing). This also applies if you are using the inference transforms from the models weights: update the call to weights.transforms(antialias=True).\n",
            "  warnings.warn(\n"
          ]
        },
        {
          "output_type": "stream",
          "name": "stdout",
          "text": [
            "\n",
            "Test set: Average loss: 0.0263, Accuracy: 24.229999542236328 (24%)\n",
            "\n",
            "Train epoch: 136 [0/50000 (0%)]\tLoss: 0.706893\n",
            "Train epoch: 136 [3200/50000 (6%)]\tLoss: 0.886349\n",
            "Train epoch: 136 [6400/50000 (13%)]\tLoss: 0.604975\n",
            "Train epoch: 136 [9600/50000 (19%)]\tLoss: 0.764233\n",
            "Train epoch: 136 [12800/50000 (26%)]\tLoss: 0.632382\n",
            "Train epoch: 136 [16000/50000 (32%)]\tLoss: 0.638602\n",
            "Train epoch: 136 [19200/50000 (38%)]\tLoss: 0.816352\n",
            "Train epoch: 136 [22400/50000 (45%)]\tLoss: 0.749432\n",
            "Train epoch: 136 [25600/50000 (51%)]\tLoss: 0.527625\n",
            "Train epoch: 136 [28800/50000 (58%)]\tLoss: 0.952427\n",
            "Train epoch: 136 [32000/50000 (64%)]\tLoss: 0.618732\n",
            "Train epoch: 136 [35200/50000 (70%)]\tLoss: 0.809003\n",
            "Train epoch: 136 [38400/50000 (77%)]\tLoss: 0.700767\n",
            "Train epoch: 136 [41600/50000 (83%)]\tLoss: 0.909554\n",
            "Train epoch: 136 [44800/50000 (90%)]\tLoss: 0.668467\n",
            "Train epoch: 136 [48000/50000 (96%)]\tLoss: 0.738520\n",
            "\n",
            "Test set: Average loss: 0.0063, Accuracy: 73.0 (73%)\n",
            "\n"
          ]
        },
        {
          "output_type": "stream",
          "name": "stderr",
          "text": [
            "/usr/local/lib/python3.10/dist-packages/torchvision/transforms/functional.py:1603: UserWarning: The default value of the antialias parameter of all the resizing transforms (Resize(), RandomResizedCrop(), etc.) will change from None to True in v0.17, in order to be consistent across the PIL and Tensor backends. To suppress this warning, directly pass antialias=True (recommended, future default), antialias=None (current default, which means False for Tensors and True for PIL), or antialias=False (only works on Tensors - PIL will still use antialiasing). This also applies if you are using the inference transforms from the models weights: update the call to weights.transforms(antialias=True).\n",
            "  warnings.warn(\n"
          ]
        },
        {
          "output_type": "stream",
          "name": "stdout",
          "text": [
            "\n",
            "Test set: Average loss: 0.0225, Accuracy: 26.43000030517578 (26%)\n",
            "\n",
            "Train epoch: 137 [0/50000 (0%)]\tLoss: 0.848097\n",
            "Train epoch: 137 [3200/50000 (6%)]\tLoss: 0.415379\n",
            "Train epoch: 137 [6400/50000 (13%)]\tLoss: 0.867480\n",
            "Train epoch: 137 [9600/50000 (19%)]\tLoss: 0.451946\n",
            "Train epoch: 137 [12800/50000 (26%)]\tLoss: 0.835762\n",
            "Train epoch: 137 [16000/50000 (32%)]\tLoss: 0.560917\n",
            "Train epoch: 137 [19200/50000 (38%)]\tLoss: 0.753826\n",
            "Train epoch: 137 [22400/50000 (45%)]\tLoss: 0.676162\n",
            "Train epoch: 137 [25600/50000 (51%)]\tLoss: 0.683942\n",
            "Train epoch: 137 [28800/50000 (58%)]\tLoss: 0.523413\n",
            "Train epoch: 137 [32000/50000 (64%)]\tLoss: 0.851155\n",
            "Train epoch: 137 [35200/50000 (70%)]\tLoss: 0.728576\n",
            "Train epoch: 137 [38400/50000 (77%)]\tLoss: 1.007823\n",
            "Train epoch: 137 [41600/50000 (83%)]\tLoss: 0.433629\n",
            "Train epoch: 137 [44800/50000 (90%)]\tLoss: 0.648961\n",
            "Train epoch: 137 [48000/50000 (96%)]\tLoss: 0.787732\n",
            "\n",
            "Test set: Average loss: 0.0061, Accuracy: 73.91000366210938 (74%)\n",
            "\n"
          ]
        },
        {
          "output_type": "stream",
          "name": "stderr",
          "text": [
            "/usr/local/lib/python3.10/dist-packages/torchvision/transforms/functional.py:1603: UserWarning: The default value of the antialias parameter of all the resizing transforms (Resize(), RandomResizedCrop(), etc.) will change from None to True in v0.17, in order to be consistent across the PIL and Tensor backends. To suppress this warning, directly pass antialias=True (recommended, future default), antialias=None (current default, which means False for Tensors and True for PIL), or antialias=False (only works on Tensors - PIL will still use antialiasing). This also applies if you are using the inference transforms from the models weights: update the call to weights.transforms(antialias=True).\n",
            "  warnings.warn(\n"
          ]
        },
        {
          "output_type": "stream",
          "name": "stdout",
          "text": [
            "\n",
            "Test set: Average loss: 0.0237, Accuracy: 27.09000015258789 (27%)\n",
            "\n",
            "Train epoch: 138 [0/50000 (0%)]\tLoss: 0.596169\n",
            "Train epoch: 138 [3200/50000 (6%)]\tLoss: 0.665010\n",
            "Train epoch: 138 [6400/50000 (13%)]\tLoss: 0.836483\n",
            "Train epoch: 138 [9600/50000 (19%)]\tLoss: 0.735460\n",
            "Train epoch: 138 [12800/50000 (26%)]\tLoss: 0.668211\n",
            "Train epoch: 138 [16000/50000 (32%)]\tLoss: 1.103176\n",
            "Train epoch: 138 [19200/50000 (38%)]\tLoss: 0.705874\n",
            "Train epoch: 138 [22400/50000 (45%)]\tLoss: 0.549915\n",
            "Train epoch: 138 [25600/50000 (51%)]\tLoss: 0.754783\n",
            "Train epoch: 138 [28800/50000 (58%)]\tLoss: 0.757146\n",
            "Train epoch: 138 [32000/50000 (64%)]\tLoss: 0.628092\n",
            "Train epoch: 138 [35200/50000 (70%)]\tLoss: 0.691086\n",
            "Train epoch: 138 [38400/50000 (77%)]\tLoss: 0.873279\n",
            "Train epoch: 138 [41600/50000 (83%)]\tLoss: 0.857248\n",
            "Train epoch: 138 [44800/50000 (90%)]\tLoss: 1.038161\n",
            "Train epoch: 138 [48000/50000 (96%)]\tLoss: 0.184907\n",
            "\n",
            "Test set: Average loss: 0.0062, Accuracy: 73.55999755859375 (74%)\n",
            "\n"
          ]
        },
        {
          "output_type": "stream",
          "name": "stderr",
          "text": [
            "/usr/local/lib/python3.10/dist-packages/torchvision/transforms/functional.py:1603: UserWarning: The default value of the antialias parameter of all the resizing transforms (Resize(), RandomResizedCrop(), etc.) will change from None to True in v0.17, in order to be consistent across the PIL and Tensor backends. To suppress this warning, directly pass antialias=True (recommended, future default), antialias=None (current default, which means False for Tensors and True for PIL), or antialias=False (only works on Tensors - PIL will still use antialiasing). This also applies if you are using the inference transforms from the models weights: update the call to weights.transforms(antialias=True).\n",
            "  warnings.warn(\n"
          ]
        },
        {
          "output_type": "stream",
          "name": "stdout",
          "text": [
            "\n",
            "Test set: Average loss: 0.0223, Accuracy: 26.6299991607666 (27%)\n",
            "\n",
            "Train epoch: 139 [0/50000 (0%)]\tLoss: 0.830304\n",
            "Train epoch: 139 [3200/50000 (6%)]\tLoss: 0.490116\n",
            "Train epoch: 139 [6400/50000 (13%)]\tLoss: 0.718117\n",
            "Train epoch: 139 [9600/50000 (19%)]\tLoss: 0.485043\n",
            "Train epoch: 139 [12800/50000 (26%)]\tLoss: 0.687630\n",
            "Train epoch: 139 [16000/50000 (32%)]\tLoss: 0.884905\n",
            "Train epoch: 139 [19200/50000 (38%)]\tLoss: 0.666796\n",
            "Train epoch: 139 [22400/50000 (45%)]\tLoss: 0.604864\n",
            "Train epoch: 139 [25600/50000 (51%)]\tLoss: 1.040574\n",
            "Train epoch: 139 [28800/50000 (58%)]\tLoss: 1.015550\n",
            "Train epoch: 139 [32000/50000 (64%)]\tLoss: 0.879820\n",
            "Train epoch: 139 [35200/50000 (70%)]\tLoss: 0.719958\n",
            "Train epoch: 139 [38400/50000 (77%)]\tLoss: 0.798561\n",
            "Train epoch: 139 [41600/50000 (83%)]\tLoss: 0.551214\n",
            "Train epoch: 139 [44800/50000 (90%)]\tLoss: 0.755142\n",
            "Train epoch: 139 [48000/50000 (96%)]\tLoss: 0.885485\n",
            "\n",
            "Test set: Average loss: 0.0059, Accuracy: 74.44000244140625 (74%)\n",
            "\n"
          ]
        },
        {
          "output_type": "stream",
          "name": "stderr",
          "text": [
            "/usr/local/lib/python3.10/dist-packages/torchvision/transforms/functional.py:1603: UserWarning: The default value of the antialias parameter of all the resizing transforms (Resize(), RandomResizedCrop(), etc.) will change from None to True in v0.17, in order to be consistent across the PIL and Tensor backends. To suppress this warning, directly pass antialias=True (recommended, future default), antialias=None (current default, which means False for Tensors and True for PIL), or antialias=False (only works on Tensors - PIL will still use antialiasing). This also applies if you are using the inference transforms from the models weights: update the call to weights.transforms(antialias=True).\n",
            "  warnings.warn(\n"
          ]
        },
        {
          "output_type": "stream",
          "name": "stdout",
          "text": [
            "\n",
            "Test set: Average loss: 0.0235, Accuracy: 27.139999389648438 (27%)\n",
            "\n",
            "Train epoch: 140 [0/50000 (0%)]\tLoss: 0.394491\n",
            "Train epoch: 140 [3200/50000 (6%)]\tLoss: 0.724808\n",
            "Train epoch: 140 [6400/50000 (13%)]\tLoss: 0.672177\n",
            "Train epoch: 140 [9600/50000 (19%)]\tLoss: 0.456956\n",
            "Train epoch: 140 [12800/50000 (26%)]\tLoss: 0.650416\n",
            "Train epoch: 140 [16000/50000 (32%)]\tLoss: 0.573071\n",
            "Train epoch: 140 [19200/50000 (38%)]\tLoss: 0.505916\n",
            "Train epoch: 140 [22400/50000 (45%)]\tLoss: 0.522752\n",
            "Train epoch: 140 [25600/50000 (51%)]\tLoss: 1.128704\n",
            "Train epoch: 140 [28800/50000 (58%)]\tLoss: 0.904881\n",
            "Train epoch: 140 [32000/50000 (64%)]\tLoss: 0.501383\n",
            "Train epoch: 140 [35200/50000 (70%)]\tLoss: 0.572607\n",
            "Train epoch: 140 [38400/50000 (77%)]\tLoss: 0.702400\n",
            "Train epoch: 140 [41600/50000 (83%)]\tLoss: 0.831669\n",
            "Train epoch: 140 [44800/50000 (90%)]\tLoss: 0.705288\n",
            "Train epoch: 140 [48000/50000 (96%)]\tLoss: 0.869052\n",
            "\n",
            "Test set: Average loss: 0.0061, Accuracy: 73.9800033569336 (74%)\n",
            "\n"
          ]
        },
        {
          "output_type": "stream",
          "name": "stderr",
          "text": [
            "/usr/local/lib/python3.10/dist-packages/torchvision/transforms/functional.py:1603: UserWarning: The default value of the antialias parameter of all the resizing transforms (Resize(), RandomResizedCrop(), etc.) will change from None to True in v0.17, in order to be consistent across the PIL and Tensor backends. To suppress this warning, directly pass antialias=True (recommended, future default), antialias=None (current default, which means False for Tensors and True for PIL), or antialias=False (only works on Tensors - PIL will still use antialiasing). This also applies if you are using the inference transforms from the models weights: update the call to weights.transforms(antialias=True).\n",
            "  warnings.warn(\n"
          ]
        },
        {
          "output_type": "stream",
          "name": "stdout",
          "text": [
            "\n",
            "Test set: Average loss: 0.0257, Accuracy: 24.219999313354492 (24%)\n",
            "\n",
            "\n",
            "    -------------------------------\n",
            "    Normal Data Saved: (140, 73.98)\n",
            "    -------------------------------\n",
            "    \n",
            "\n",
            "    --------------------------------\n",
            "    Altered Data Saved: (140, 24.22)\n",
            "    --------------------------------\n",
            "    \n",
            "Train epoch: 141 [0/50000 (0%)]\tLoss: 0.672790\n",
            "Train epoch: 141 [3200/50000 (6%)]\tLoss: 0.702983\n",
            "Train epoch: 141 [6400/50000 (13%)]\tLoss: 1.078039\n",
            "Train epoch: 141 [9600/50000 (19%)]\tLoss: 0.735990\n",
            "Train epoch: 141 [12800/50000 (26%)]\tLoss: 0.759159\n",
            "Train epoch: 141 [16000/50000 (32%)]\tLoss: 0.733498\n",
            "Train epoch: 141 [19200/50000 (38%)]\tLoss: 0.966093\n",
            "Train epoch: 141 [22400/50000 (45%)]\tLoss: 0.699725\n",
            "Train epoch: 141 [25600/50000 (51%)]\tLoss: 0.445529\n",
            "Train epoch: 141 [28800/50000 (58%)]\tLoss: 0.898122\n",
            "Train epoch: 141 [32000/50000 (64%)]\tLoss: 0.347276\n",
            "Train epoch: 141 [35200/50000 (70%)]\tLoss: 1.070298\n",
            "Train epoch: 141 [38400/50000 (77%)]\tLoss: 0.466892\n",
            "Train epoch: 141 [41600/50000 (83%)]\tLoss: 0.432932\n",
            "Train epoch: 141 [44800/50000 (90%)]\tLoss: 0.773303\n",
            "Train epoch: 141 [48000/50000 (96%)]\tLoss: 0.533051\n",
            "\n",
            "Test set: Average loss: 0.0059, Accuracy: 74.55999755859375 (75%)\n",
            "\n"
          ]
        },
        {
          "output_type": "stream",
          "name": "stderr",
          "text": [
            "/usr/local/lib/python3.10/dist-packages/torchvision/transforms/functional.py:1603: UserWarning: The default value of the antialias parameter of all the resizing transforms (Resize(), RandomResizedCrop(), etc.) will change from None to True in v0.17, in order to be consistent across the PIL and Tensor backends. To suppress this warning, directly pass antialias=True (recommended, future default), antialias=None (current default, which means False for Tensors and True for PIL), or antialias=False (only works on Tensors - PIL will still use antialiasing). This also applies if you are using the inference transforms from the models weights: update the call to weights.transforms(antialias=True).\n",
            "  warnings.warn(\n"
          ]
        },
        {
          "output_type": "stream",
          "name": "stdout",
          "text": [
            "\n",
            "Test set: Average loss: 0.0232, Accuracy: 25.299999237060547 (25%)\n",
            "\n",
            "Train epoch: 142 [0/50000 (0%)]\tLoss: 0.856809\n",
            "Train epoch: 142 [3200/50000 (6%)]\tLoss: 0.515969\n",
            "Train epoch: 142 [6400/50000 (13%)]\tLoss: 0.539291\n",
            "Train epoch: 142 [9600/50000 (19%)]\tLoss: 0.693388\n",
            "Train epoch: 142 [12800/50000 (26%)]\tLoss: 0.534273\n",
            "Train epoch: 142 [16000/50000 (32%)]\tLoss: 0.956737\n",
            "Train epoch: 142 [19200/50000 (38%)]\tLoss: 0.734945\n",
            "Train epoch: 142 [22400/50000 (45%)]\tLoss: 0.848386\n",
            "Train epoch: 142 [25600/50000 (51%)]\tLoss: 0.952888\n",
            "Train epoch: 142 [28800/50000 (58%)]\tLoss: 0.796242\n",
            "Train epoch: 142 [32000/50000 (64%)]\tLoss: 0.682388\n",
            "Train epoch: 142 [35200/50000 (70%)]\tLoss: 0.703350\n",
            "Train epoch: 142 [38400/50000 (77%)]\tLoss: 0.754308\n",
            "Train epoch: 142 [41600/50000 (83%)]\tLoss: 0.349513\n",
            "Train epoch: 142 [44800/50000 (90%)]\tLoss: 0.775608\n",
            "Train epoch: 142 [48000/50000 (96%)]\tLoss: 0.670124\n",
            "\n",
            "Test set: Average loss: 0.0062, Accuracy: 73.30000305175781 (73%)\n",
            "\n"
          ]
        },
        {
          "output_type": "stream",
          "name": "stderr",
          "text": [
            "/usr/local/lib/python3.10/dist-packages/torchvision/transforms/functional.py:1603: UserWarning: The default value of the antialias parameter of all the resizing transforms (Resize(), RandomResizedCrop(), etc.) will change from None to True in v0.17, in order to be consistent across the PIL and Tensor backends. To suppress this warning, directly pass antialias=True (recommended, future default), antialias=None (current default, which means False for Tensors and True for PIL), or antialias=False (only works on Tensors - PIL will still use antialiasing). This also applies if you are using the inference transforms from the models weights: update the call to weights.transforms(antialias=True).\n",
            "  warnings.warn(\n"
          ]
        },
        {
          "output_type": "stream",
          "name": "stdout",
          "text": [
            "\n",
            "Test set: Average loss: 0.0261, Accuracy: 25.459999084472656 (25%)\n",
            "\n",
            "Train epoch: 143 [0/50000 (0%)]\tLoss: 0.571239\n",
            "Train epoch: 143 [3200/50000 (6%)]\tLoss: 0.822339\n",
            "Train epoch: 143 [6400/50000 (13%)]\tLoss: 0.802021\n",
            "Train epoch: 143 [9600/50000 (19%)]\tLoss: 0.600861\n",
            "Train epoch: 143 [12800/50000 (26%)]\tLoss: 0.590246\n",
            "Train epoch: 143 [16000/50000 (32%)]\tLoss: 0.613751\n",
            "Train epoch: 143 [19200/50000 (38%)]\tLoss: 0.498144\n",
            "Train epoch: 143 [22400/50000 (45%)]\tLoss: 0.428439\n",
            "Train epoch: 143 [25600/50000 (51%)]\tLoss: 0.687002\n",
            "Train epoch: 143 [28800/50000 (58%)]\tLoss: 0.605450\n",
            "Train epoch: 143 [32000/50000 (64%)]\tLoss: 0.559204\n",
            "Train epoch: 143 [35200/50000 (70%)]\tLoss: 0.565192\n",
            "Train epoch: 143 [38400/50000 (77%)]\tLoss: 0.612483\n",
            "Train epoch: 143 [41600/50000 (83%)]\tLoss: 0.647166\n",
            "Train epoch: 143 [44800/50000 (90%)]\tLoss: 0.551085\n",
            "Train epoch: 143 [48000/50000 (96%)]\tLoss: 0.869790\n",
            "\n",
            "Test set: Average loss: 0.0061, Accuracy: 73.8499984741211 (74%)\n",
            "\n"
          ]
        },
        {
          "output_type": "stream",
          "name": "stderr",
          "text": [
            "/usr/local/lib/python3.10/dist-packages/torchvision/transforms/functional.py:1603: UserWarning: The default value of the antialias parameter of all the resizing transforms (Resize(), RandomResizedCrop(), etc.) will change from None to True in v0.17, in order to be consistent across the PIL and Tensor backends. To suppress this warning, directly pass antialias=True (recommended, future default), antialias=None (current default, which means False for Tensors and True for PIL), or antialias=False (only works on Tensors - PIL will still use antialiasing). This also applies if you are using the inference transforms from the models weights: update the call to weights.transforms(antialias=True).\n",
            "  warnings.warn(\n"
          ]
        },
        {
          "output_type": "stream",
          "name": "stdout",
          "text": [
            "\n",
            "Test set: Average loss: 0.0273, Accuracy: 24.079999923706055 (24%)\n",
            "\n",
            "Train epoch: 144 [0/50000 (0%)]\tLoss: 0.455238\n",
            "Train epoch: 144 [3200/50000 (6%)]\tLoss: 0.429078\n",
            "Train epoch: 144 [6400/50000 (13%)]\tLoss: 0.482413\n",
            "Train epoch: 144 [9600/50000 (19%)]\tLoss: 0.521748\n",
            "Train epoch: 144 [12800/50000 (26%)]\tLoss: 0.778830\n",
            "Train epoch: 144 [16000/50000 (32%)]\tLoss: 0.464079\n",
            "Train epoch: 144 [19200/50000 (38%)]\tLoss: 0.786323\n",
            "Train epoch: 144 [22400/50000 (45%)]\tLoss: 0.471199\n",
            "Train epoch: 144 [25600/50000 (51%)]\tLoss: 0.876787\n",
            "Train epoch: 144 [28800/50000 (58%)]\tLoss: 0.724462\n",
            "Train epoch: 144 [32000/50000 (64%)]\tLoss: 0.643359\n",
            "Train epoch: 144 [35200/50000 (70%)]\tLoss: 0.658317\n",
            "Train epoch: 144 [38400/50000 (77%)]\tLoss: 0.966611\n",
            "Train epoch: 144 [41600/50000 (83%)]\tLoss: 0.769477\n",
            "Train epoch: 144 [44800/50000 (90%)]\tLoss: 1.169166\n",
            "Train epoch: 144 [48000/50000 (96%)]\tLoss: 0.591670\n",
            "\n",
            "Test set: Average loss: 0.0061, Accuracy: 73.56999969482422 (74%)\n",
            "\n"
          ]
        },
        {
          "output_type": "stream",
          "name": "stderr",
          "text": [
            "/usr/local/lib/python3.10/dist-packages/torchvision/transforms/functional.py:1603: UserWarning: The default value of the antialias parameter of all the resizing transforms (Resize(), RandomResizedCrop(), etc.) will change from None to True in v0.17, in order to be consistent across the PIL and Tensor backends. To suppress this warning, directly pass antialias=True (recommended, future default), antialias=None (current default, which means False for Tensors and True for PIL), or antialias=False (only works on Tensors - PIL will still use antialiasing). This also applies if you are using the inference transforms from the models weights: update the call to weights.transforms(antialias=True).\n",
            "  warnings.warn(\n"
          ]
        },
        {
          "output_type": "stream",
          "name": "stdout",
          "text": [
            "\n",
            "Test set: Average loss: 0.0249, Accuracy: 24.270000457763672 (24%)\n",
            "\n",
            "Train epoch: 145 [0/50000 (0%)]\tLoss: 0.984396\n",
            "Train epoch: 145 [3200/50000 (6%)]\tLoss: 0.761982\n",
            "Train epoch: 145 [6400/50000 (13%)]\tLoss: 0.571522\n",
            "Train epoch: 145 [9600/50000 (19%)]\tLoss: 0.457638\n",
            "Train epoch: 145 [12800/50000 (26%)]\tLoss: 0.601750\n",
            "Train epoch: 145 [16000/50000 (32%)]\tLoss: 0.696851\n",
            "Train epoch: 145 [19200/50000 (38%)]\tLoss: 0.560578\n",
            "Train epoch: 145 [22400/50000 (45%)]\tLoss: 0.662266\n",
            "Train epoch: 145 [25600/50000 (51%)]\tLoss: 0.827943\n",
            "Train epoch: 145 [28800/50000 (58%)]\tLoss: 0.767895\n",
            "Train epoch: 145 [32000/50000 (64%)]\tLoss: 0.388075\n",
            "Train epoch: 145 [35200/50000 (70%)]\tLoss: 0.468916\n",
            "Train epoch: 145 [38400/50000 (77%)]\tLoss: 0.496940\n",
            "Train epoch: 145 [41600/50000 (83%)]\tLoss: 0.907311\n",
            "Train epoch: 145 [44800/50000 (90%)]\tLoss: 0.872850\n",
            "Train epoch: 145 [48000/50000 (96%)]\tLoss: 0.432335\n",
            "\n",
            "Test set: Average loss: 0.0063, Accuracy: 73.38999938964844 (73%)\n",
            "\n"
          ]
        },
        {
          "output_type": "stream",
          "name": "stderr",
          "text": [
            "/usr/local/lib/python3.10/dist-packages/torchvision/transforms/functional.py:1603: UserWarning: The default value of the antialias parameter of all the resizing transforms (Resize(), RandomResizedCrop(), etc.) will change from None to True in v0.17, in order to be consistent across the PIL and Tensor backends. To suppress this warning, directly pass antialias=True (recommended, future default), antialias=None (current default, which means False for Tensors and True for PIL), or antialias=False (only works on Tensors - PIL will still use antialiasing). This also applies if you are using the inference transforms from the models weights: update the call to weights.transforms(antialias=True).\n",
            "  warnings.warn(\n"
          ]
        },
        {
          "output_type": "stream",
          "name": "stdout",
          "text": [
            "\n",
            "Test set: Average loss: 0.0246, Accuracy: 25.729999542236328 (26%)\n",
            "\n",
            "Train epoch: 146 [0/50000 (0%)]\tLoss: 0.384556\n",
            "Train epoch: 146 [3200/50000 (6%)]\tLoss: 0.658751\n",
            "Train epoch: 146 [6400/50000 (13%)]\tLoss: 0.508118\n",
            "Train epoch: 146 [9600/50000 (19%)]\tLoss: 0.594999\n",
            "Train epoch: 146 [12800/50000 (26%)]\tLoss: 0.743331\n",
            "Train epoch: 146 [16000/50000 (32%)]\tLoss: 1.022470\n",
            "Train epoch: 146 [19200/50000 (38%)]\tLoss: 0.372271\n",
            "Train epoch: 146 [22400/50000 (45%)]\tLoss: 0.384968\n",
            "Train epoch: 146 [25600/50000 (51%)]\tLoss: 0.674934\n",
            "Train epoch: 146 [28800/50000 (58%)]\tLoss: 0.334253\n",
            "Train epoch: 146 [32000/50000 (64%)]\tLoss: 0.645226\n",
            "Train epoch: 146 [35200/50000 (70%)]\tLoss: 0.451802\n",
            "Train epoch: 146 [38400/50000 (77%)]\tLoss: 0.769419\n",
            "Train epoch: 146 [41600/50000 (83%)]\tLoss: 0.559229\n",
            "Train epoch: 146 [44800/50000 (90%)]\tLoss: 0.278035\n",
            "Train epoch: 146 [48000/50000 (96%)]\tLoss: 0.750602\n",
            "\n",
            "Test set: Average loss: 0.0061, Accuracy: 73.58999633789062 (74%)\n",
            "\n"
          ]
        },
        {
          "output_type": "stream",
          "name": "stderr",
          "text": [
            "/usr/local/lib/python3.10/dist-packages/torchvision/transforms/functional.py:1603: UserWarning: The default value of the antialias parameter of all the resizing transforms (Resize(), RandomResizedCrop(), etc.) will change from None to True in v0.17, in order to be consistent across the PIL and Tensor backends. To suppress this warning, directly pass antialias=True (recommended, future default), antialias=None (current default, which means False for Tensors and True for PIL), or antialias=False (only works on Tensors - PIL will still use antialiasing). This also applies if you are using the inference transforms from the models weights: update the call to weights.transforms(antialias=True).\n",
            "  warnings.warn(\n"
          ]
        },
        {
          "output_type": "stream",
          "name": "stdout",
          "text": [
            "\n",
            "Test set: Average loss: 0.0228, Accuracy: 25.709999084472656 (26%)\n",
            "\n",
            "Train epoch: 147 [0/50000 (0%)]\tLoss: 0.609657\n",
            "Train epoch: 147 [3200/50000 (6%)]\tLoss: 0.599427\n",
            "Train epoch: 147 [6400/50000 (13%)]\tLoss: 0.644385\n",
            "Train epoch: 147 [9600/50000 (19%)]\tLoss: 0.921588\n",
            "Train epoch: 147 [12800/50000 (26%)]\tLoss: 0.717616\n",
            "Train epoch: 147 [16000/50000 (32%)]\tLoss: 0.802870\n",
            "Train epoch: 147 [19200/50000 (38%)]\tLoss: 0.957794\n",
            "Train epoch: 147 [22400/50000 (45%)]\tLoss: 0.786883\n",
            "Train epoch: 147 [25600/50000 (51%)]\tLoss: 0.775308\n",
            "Train epoch: 147 [28800/50000 (58%)]\tLoss: 0.699945\n",
            "Train epoch: 147 [32000/50000 (64%)]\tLoss: 0.535510\n",
            "Train epoch: 147 [35200/50000 (70%)]\tLoss: 1.033365\n",
            "Train epoch: 147 [38400/50000 (77%)]\tLoss: 0.830075\n",
            "Train epoch: 147 [41600/50000 (83%)]\tLoss: 0.456146\n",
            "Train epoch: 147 [44800/50000 (90%)]\tLoss: 1.021416\n",
            "Train epoch: 147 [48000/50000 (96%)]\tLoss: 0.748268\n",
            "\n",
            "Test set: Average loss: 0.0061, Accuracy: 74.86000061035156 (75%)\n",
            "\n"
          ]
        },
        {
          "output_type": "stream",
          "name": "stderr",
          "text": [
            "/usr/local/lib/python3.10/dist-packages/torchvision/transforms/functional.py:1603: UserWarning: The default value of the antialias parameter of all the resizing transforms (Resize(), RandomResizedCrop(), etc.) will change from None to True in v0.17, in order to be consistent across the PIL and Tensor backends. To suppress this warning, directly pass antialias=True (recommended, future default), antialias=None (current default, which means False for Tensors and True for PIL), or antialias=False (only works on Tensors - PIL will still use antialiasing). This also applies if you are using the inference transforms from the models weights: update the call to weights.transforms(antialias=True).\n",
            "  warnings.warn(\n"
          ]
        },
        {
          "output_type": "stream",
          "name": "stdout",
          "text": [
            "\n",
            "Test set: Average loss: 0.0256, Accuracy: 25.239999771118164 (25%)\n",
            "\n",
            "Train epoch: 148 [0/50000 (0%)]\tLoss: 0.786027\n",
            "Train epoch: 148 [3200/50000 (6%)]\tLoss: 0.841259\n",
            "Train epoch: 148 [6400/50000 (13%)]\tLoss: 1.000911\n",
            "Train epoch: 148 [9600/50000 (19%)]\tLoss: 0.809468\n",
            "Train epoch: 148 [12800/50000 (26%)]\tLoss: 0.528279\n",
            "Train epoch: 148 [16000/50000 (32%)]\tLoss: 0.673966\n",
            "Train epoch: 148 [19200/50000 (38%)]\tLoss: 0.843142\n",
            "Train epoch: 148 [22400/50000 (45%)]\tLoss: 0.856092\n",
            "Train epoch: 148 [25600/50000 (51%)]\tLoss: 0.945963\n",
            "Train epoch: 148 [28800/50000 (58%)]\tLoss: 1.104758\n",
            "Train epoch: 148 [32000/50000 (64%)]\tLoss: 0.791355\n",
            "Train epoch: 148 [35200/50000 (70%)]\tLoss: 0.920625\n",
            "Train epoch: 148 [38400/50000 (77%)]\tLoss: 0.769665\n",
            "Train epoch: 148 [41600/50000 (83%)]\tLoss: 0.655239\n",
            "Train epoch: 148 [44800/50000 (90%)]\tLoss: 0.541896\n",
            "Train epoch: 148 [48000/50000 (96%)]\tLoss: 0.512219\n",
            "\n",
            "Test set: Average loss: 0.0059, Accuracy: 74.86000061035156 (75%)\n",
            "\n"
          ]
        },
        {
          "output_type": "stream",
          "name": "stderr",
          "text": [
            "/usr/local/lib/python3.10/dist-packages/torchvision/transforms/functional.py:1603: UserWarning: The default value of the antialias parameter of all the resizing transforms (Resize(), RandomResizedCrop(), etc.) will change from None to True in v0.17, in order to be consistent across the PIL and Tensor backends. To suppress this warning, directly pass antialias=True (recommended, future default), antialias=None (current default, which means False for Tensors and True for PIL), or antialias=False (only works on Tensors - PIL will still use antialiasing). This also applies if you are using the inference transforms from the models weights: update the call to weights.transforms(antialias=True).\n",
            "  warnings.warn(\n"
          ]
        },
        {
          "output_type": "stream",
          "name": "stdout",
          "text": [
            "\n",
            "Test set: Average loss: 0.0265, Accuracy: 25.209999084472656 (25%)\n",
            "\n",
            "Train epoch: 149 [0/50000 (0%)]\tLoss: 0.565696\n",
            "Train epoch: 149 [3200/50000 (6%)]\tLoss: 0.390894\n",
            "Train epoch: 149 [6400/50000 (13%)]\tLoss: 0.413495\n",
            "Train epoch: 149 [9600/50000 (19%)]\tLoss: 0.773294\n",
            "Train epoch: 149 [12800/50000 (26%)]\tLoss: 0.720832\n",
            "Train epoch: 149 [16000/50000 (32%)]\tLoss: 0.634408\n",
            "Train epoch: 149 [19200/50000 (38%)]\tLoss: 0.649334\n",
            "Train epoch: 149 [22400/50000 (45%)]\tLoss: 0.432403\n",
            "Train epoch: 149 [25600/50000 (51%)]\tLoss: 1.062066\n",
            "Train epoch: 149 [28800/50000 (58%)]\tLoss: 0.654151\n",
            "Train epoch: 149 [32000/50000 (64%)]\tLoss: 0.683163\n",
            "Train epoch: 149 [35200/50000 (70%)]\tLoss: 0.611610\n",
            "Train epoch: 149 [38400/50000 (77%)]\tLoss: 0.643970\n",
            "Train epoch: 149 [41600/50000 (83%)]\tLoss: 1.063253\n",
            "Train epoch: 149 [44800/50000 (90%)]\tLoss: 0.379334\n",
            "Train epoch: 149 [48000/50000 (96%)]\tLoss: 1.019130\n",
            "\n",
            "Test set: Average loss: 0.0059, Accuracy: 75.04000091552734 (75%)\n",
            "\n"
          ]
        },
        {
          "output_type": "stream",
          "name": "stderr",
          "text": [
            "/usr/local/lib/python3.10/dist-packages/torchvision/transforms/functional.py:1603: UserWarning: The default value of the antialias parameter of all the resizing transforms (Resize(), RandomResizedCrop(), etc.) will change from None to True in v0.17, in order to be consistent across the PIL and Tensor backends. To suppress this warning, directly pass antialias=True (recommended, future default), antialias=None (current default, which means False for Tensors and True for PIL), or antialias=False (only works on Tensors - PIL will still use antialiasing). This also applies if you are using the inference transforms from the models weights: update the call to weights.transforms(antialias=True).\n",
            "  warnings.warn(\n"
          ]
        },
        {
          "output_type": "stream",
          "name": "stdout",
          "text": [
            "\n",
            "Test set: Average loss: 0.0234, Accuracy: 25.540000915527344 (26%)\n",
            "\n",
            "Train epoch: 150 [0/50000 (0%)]\tLoss: 0.563065\n",
            "Train epoch: 150 [3200/50000 (6%)]\tLoss: 0.757898\n",
            "Train epoch: 150 [6400/50000 (13%)]\tLoss: 0.624254\n",
            "Train epoch: 150 [9600/50000 (19%)]\tLoss: 0.625175\n",
            "Train epoch: 150 [12800/50000 (26%)]\tLoss: 0.901837\n",
            "Train epoch: 150 [16000/50000 (32%)]\tLoss: 0.756687\n",
            "Train epoch: 150 [19200/50000 (38%)]\tLoss: 0.705882\n",
            "Train epoch: 150 [22400/50000 (45%)]\tLoss: 0.408768\n",
            "Train epoch: 150 [25600/50000 (51%)]\tLoss: 1.045558\n",
            "Train epoch: 150 [28800/50000 (58%)]\tLoss: 0.407518\n",
            "Train epoch: 150 [32000/50000 (64%)]\tLoss: 0.751146\n",
            "Train epoch: 150 [35200/50000 (70%)]\tLoss: 0.793314\n",
            "Train epoch: 150 [38400/50000 (77%)]\tLoss: 0.817369\n",
            "Train epoch: 150 [41600/50000 (83%)]\tLoss: 0.815513\n",
            "Train epoch: 150 [44800/50000 (90%)]\tLoss: 0.975971\n",
            "Train epoch: 150 [48000/50000 (96%)]\tLoss: 0.637840\n",
            "\n",
            "Test set: Average loss: 0.0058, Accuracy: 74.91999816894531 (75%)\n",
            "\n"
          ]
        },
        {
          "output_type": "stream",
          "name": "stderr",
          "text": [
            "/usr/local/lib/python3.10/dist-packages/torchvision/transforms/functional.py:1603: UserWarning: The default value of the antialias parameter of all the resizing transforms (Resize(), RandomResizedCrop(), etc.) will change from None to True in v0.17, in order to be consistent across the PIL and Tensor backends. To suppress this warning, directly pass antialias=True (recommended, future default), antialias=None (current default, which means False for Tensors and True for PIL), or antialias=False (only works on Tensors - PIL will still use antialiasing). This also applies if you are using the inference transforms from the models weights: update the call to weights.transforms(antialias=True).\n",
            "  warnings.warn(\n"
          ]
        },
        {
          "output_type": "stream",
          "name": "stdout",
          "text": [
            "\n",
            "Test set: Average loss: 0.0248, Accuracy: 25.639999389648438 (26%)\n",
            "\n",
            "\n",
            "    -------------------------------\n",
            "    Normal Data Saved: (150, 74.92)\n",
            "    -------------------------------\n",
            "    \n",
            "\n",
            "    --------------------------------\n",
            "    Altered Data Saved: (150, 25.64)\n",
            "    --------------------------------\n",
            "    \n",
            "Train epoch: 151 [0/50000 (0%)]\tLoss: 0.488886\n",
            "Train epoch: 151 [3200/50000 (6%)]\tLoss: 0.469472\n",
            "Train epoch: 151 [6400/50000 (13%)]\tLoss: 0.720407\n",
            "Train epoch: 151 [9600/50000 (19%)]\tLoss: 0.417982\n",
            "Train epoch: 151 [12800/50000 (26%)]\tLoss: 1.043114\n",
            "Train epoch: 151 [16000/50000 (32%)]\tLoss: 0.684350\n",
            "Train epoch: 151 [19200/50000 (38%)]\tLoss: 0.725619\n",
            "Train epoch: 151 [22400/50000 (45%)]\tLoss: 0.735478\n",
            "Train epoch: 151 [25600/50000 (51%)]\tLoss: 0.534944\n",
            "Train epoch: 151 [28800/50000 (58%)]\tLoss: 0.700783\n",
            "Train epoch: 151 [32000/50000 (64%)]\tLoss: 0.666610\n",
            "Train epoch: 151 [35200/50000 (70%)]\tLoss: 0.716863\n",
            "Train epoch: 151 [38400/50000 (77%)]\tLoss: 0.552604\n",
            "Train epoch: 151 [41600/50000 (83%)]\tLoss: 0.538782\n",
            "Train epoch: 151 [44800/50000 (90%)]\tLoss: 0.555965\n",
            "Train epoch: 151 [48000/50000 (96%)]\tLoss: 1.172967\n",
            "\n",
            "Test set: Average loss: 0.0057, Accuracy: 76.04000091552734 (76%)\n",
            "\n"
          ]
        },
        {
          "output_type": "stream",
          "name": "stderr",
          "text": [
            "/usr/local/lib/python3.10/dist-packages/torchvision/transforms/functional.py:1603: UserWarning: The default value of the antialias parameter of all the resizing transforms (Resize(), RandomResizedCrop(), etc.) will change from None to True in v0.17, in order to be consistent across the PIL and Tensor backends. To suppress this warning, directly pass antialias=True (recommended, future default), antialias=None (current default, which means False for Tensors and True for PIL), or antialias=False (only works on Tensors - PIL will still use antialiasing). This also applies if you are using the inference transforms from the models weights: update the call to weights.transforms(antialias=True).\n",
            "  warnings.warn(\n"
          ]
        },
        {
          "output_type": "stream",
          "name": "stdout",
          "text": [
            "\n",
            "Test set: Average loss: 0.0265, Accuracy: 24.010000228881836 (24%)\n",
            "\n",
            "Train epoch: 152 [0/50000 (0%)]\tLoss: 0.701418\n",
            "Train epoch: 152 [3200/50000 (6%)]\tLoss: 0.562675\n",
            "Train epoch: 152 [6400/50000 (13%)]\tLoss: 0.715607\n",
            "Train epoch: 152 [9600/50000 (19%)]\tLoss: 0.493539\n",
            "Train epoch: 152 [12800/50000 (26%)]\tLoss: 0.460482\n",
            "Train epoch: 152 [16000/50000 (32%)]\tLoss: 0.772966\n",
            "Train epoch: 152 [19200/50000 (38%)]\tLoss: 0.822422\n",
            "Train epoch: 152 [22400/50000 (45%)]\tLoss: 0.781486\n",
            "Train epoch: 152 [25600/50000 (51%)]\tLoss: 0.445711\n",
            "Train epoch: 152 [28800/50000 (58%)]\tLoss: 0.610233\n",
            "Train epoch: 152 [32000/50000 (64%)]\tLoss: 0.697458\n",
            "Train epoch: 152 [35200/50000 (70%)]\tLoss: 0.434772\n",
            "Train epoch: 152 [38400/50000 (77%)]\tLoss: 0.886797\n",
            "Train epoch: 152 [41600/50000 (83%)]\tLoss: 0.603359\n",
            "Train epoch: 152 [44800/50000 (90%)]\tLoss: 0.625322\n",
            "Train epoch: 152 [48000/50000 (96%)]\tLoss: 0.619734\n",
            "\n",
            "Test set: Average loss: 0.0059, Accuracy: 74.52999877929688 (75%)\n",
            "\n"
          ]
        },
        {
          "output_type": "stream",
          "name": "stderr",
          "text": [
            "/usr/local/lib/python3.10/dist-packages/torchvision/transforms/functional.py:1603: UserWarning: The default value of the antialias parameter of all the resizing transforms (Resize(), RandomResizedCrop(), etc.) will change from None to True in v0.17, in order to be consistent across the PIL and Tensor backends. To suppress this warning, directly pass antialias=True (recommended, future default), antialias=None (current default, which means False for Tensors and True for PIL), or antialias=False (only works on Tensors - PIL will still use antialiasing). This also applies if you are using the inference transforms from the models weights: update the call to weights.transforms(antialias=True).\n",
            "  warnings.warn(\n"
          ]
        },
        {
          "output_type": "stream",
          "name": "stdout",
          "text": [
            "\n",
            "Test set: Average loss: 0.0246, Accuracy: 24.950000762939453 (25%)\n",
            "\n",
            "Train epoch: 153 [0/50000 (0%)]\tLoss: 0.737162\n",
            "Train epoch: 153 [3200/50000 (6%)]\tLoss: 0.411853\n",
            "Train epoch: 153 [6400/50000 (13%)]\tLoss: 0.530640\n",
            "Train epoch: 153 [9600/50000 (19%)]\tLoss: 0.799712\n",
            "Train epoch: 153 [12800/50000 (26%)]\tLoss: 0.579381\n",
            "Train epoch: 153 [16000/50000 (32%)]\tLoss: 0.887367\n",
            "Train epoch: 153 [19200/50000 (38%)]\tLoss: 0.777886\n",
            "Train epoch: 153 [22400/50000 (45%)]\tLoss: 0.535776\n",
            "Train epoch: 153 [25600/50000 (51%)]\tLoss: 0.635552\n",
            "Train epoch: 153 [28800/50000 (58%)]\tLoss: 0.510114\n",
            "Train epoch: 153 [32000/50000 (64%)]\tLoss: 0.887047\n",
            "Train epoch: 153 [35200/50000 (70%)]\tLoss: 0.558571\n",
            "Train epoch: 153 [38400/50000 (77%)]\tLoss: 0.523506\n",
            "Train epoch: 153 [41600/50000 (83%)]\tLoss: 0.823164\n",
            "Train epoch: 153 [44800/50000 (90%)]\tLoss: 0.439220\n",
            "Train epoch: 153 [48000/50000 (96%)]\tLoss: 0.621726\n",
            "\n",
            "Test set: Average loss: 0.0064, Accuracy: 72.87000274658203 (73%)\n",
            "\n"
          ]
        },
        {
          "output_type": "stream",
          "name": "stderr",
          "text": [
            "/usr/local/lib/python3.10/dist-packages/torchvision/transforms/functional.py:1603: UserWarning: The default value of the antialias parameter of all the resizing transforms (Resize(), RandomResizedCrop(), etc.) will change from None to True in v0.17, in order to be consistent across the PIL and Tensor backends. To suppress this warning, directly pass antialias=True (recommended, future default), antialias=None (current default, which means False for Tensors and True for PIL), or antialias=False (only works on Tensors - PIL will still use antialiasing). This also applies if you are using the inference transforms from the models weights: update the call to weights.transforms(antialias=True).\n",
            "  warnings.warn(\n"
          ]
        },
        {
          "output_type": "stream",
          "name": "stdout",
          "text": [
            "\n",
            "Test set: Average loss: 0.0271, Accuracy: 24.860000610351562 (25%)\n",
            "\n",
            "Train epoch: 154 [0/50000 (0%)]\tLoss: 0.462278\n",
            "Train epoch: 154 [3200/50000 (6%)]\tLoss: 0.782898\n",
            "Train epoch: 154 [6400/50000 (13%)]\tLoss: 0.629979\n",
            "Train epoch: 154 [9600/50000 (19%)]\tLoss: 0.648321\n",
            "Train epoch: 154 [12800/50000 (26%)]\tLoss: 0.737818\n",
            "Train epoch: 154 [16000/50000 (32%)]\tLoss: 0.697784\n",
            "Train epoch: 154 [19200/50000 (38%)]\tLoss: 0.710029\n",
            "Train epoch: 154 [22400/50000 (45%)]\tLoss: 0.948497\n",
            "Train epoch: 154 [25600/50000 (51%)]\tLoss: 0.563228\n",
            "Train epoch: 154 [28800/50000 (58%)]\tLoss: 0.629350\n",
            "Train epoch: 154 [32000/50000 (64%)]\tLoss: 0.456347\n",
            "Train epoch: 154 [35200/50000 (70%)]\tLoss: 0.588138\n",
            "Train epoch: 154 [38400/50000 (77%)]\tLoss: 0.897052\n",
            "Train epoch: 154 [41600/50000 (83%)]\tLoss: 0.884702\n",
            "Train epoch: 154 [44800/50000 (90%)]\tLoss: 0.468539\n",
            "Train epoch: 154 [48000/50000 (96%)]\tLoss: 1.170647\n",
            "\n",
            "Test set: Average loss: 0.0058, Accuracy: 75.62000274658203 (76%)\n",
            "\n"
          ]
        },
        {
          "output_type": "stream",
          "name": "stderr",
          "text": [
            "/usr/local/lib/python3.10/dist-packages/torchvision/transforms/functional.py:1603: UserWarning: The default value of the antialias parameter of all the resizing transforms (Resize(), RandomResizedCrop(), etc.) will change from None to True in v0.17, in order to be consistent across the PIL and Tensor backends. To suppress this warning, directly pass antialias=True (recommended, future default), antialias=None (current default, which means False for Tensors and True for PIL), or antialias=False (only works on Tensors - PIL will still use antialiasing). This also applies if you are using the inference transforms from the models weights: update the call to weights.transforms(antialias=True).\n",
            "  warnings.warn(\n"
          ]
        },
        {
          "output_type": "stream",
          "name": "stdout",
          "text": [
            "\n",
            "Test set: Average loss: 0.0261, Accuracy: 25.190000534057617 (25%)\n",
            "\n",
            "Train epoch: 155 [0/50000 (0%)]\tLoss: 0.445610\n",
            "Train epoch: 155 [3200/50000 (6%)]\tLoss: 0.510657\n",
            "Train epoch: 155 [6400/50000 (13%)]\tLoss: 0.588819\n",
            "Train epoch: 155 [9600/50000 (19%)]\tLoss: 0.640830\n",
            "Train epoch: 155 [12800/50000 (26%)]\tLoss: 0.919460\n",
            "Train epoch: 155 [16000/50000 (32%)]\tLoss: 0.654574\n",
            "Train epoch: 155 [19200/50000 (38%)]\tLoss: 0.629387\n",
            "Train epoch: 155 [22400/50000 (45%)]\tLoss: 0.842367\n",
            "Train epoch: 155 [25600/50000 (51%)]\tLoss: 0.469007\n",
            "Train epoch: 155 [28800/50000 (58%)]\tLoss: 0.864074\n",
            "Train epoch: 155 [32000/50000 (64%)]\tLoss: 0.666497\n",
            "Train epoch: 155 [35200/50000 (70%)]\tLoss: 0.809413\n",
            "Train epoch: 155 [38400/50000 (77%)]\tLoss: 0.581212\n",
            "Train epoch: 155 [41600/50000 (83%)]\tLoss: 0.813389\n",
            "Train epoch: 155 [44800/50000 (90%)]\tLoss: 0.456268\n",
            "Train epoch: 155 [48000/50000 (96%)]\tLoss: 0.795234\n",
            "\n",
            "Test set: Average loss: 0.0057, Accuracy: 76.19999694824219 (76%)\n",
            "\n"
          ]
        },
        {
          "output_type": "stream",
          "name": "stderr",
          "text": [
            "/usr/local/lib/python3.10/dist-packages/torchvision/transforms/functional.py:1603: UserWarning: The default value of the antialias parameter of all the resizing transforms (Resize(), RandomResizedCrop(), etc.) will change from None to True in v0.17, in order to be consistent across the PIL and Tensor backends. To suppress this warning, directly pass antialias=True (recommended, future default), antialias=None (current default, which means False for Tensors and True for PIL), or antialias=False (only works on Tensors - PIL will still use antialiasing). This also applies if you are using the inference transforms from the models weights: update the call to weights.transforms(antialias=True).\n",
            "  warnings.warn(\n"
          ]
        },
        {
          "output_type": "stream",
          "name": "stdout",
          "text": [
            "\n",
            "Test set: Average loss: 0.0271, Accuracy: 24.489999771118164 (24%)\n",
            "\n",
            "Train epoch: 156 [0/50000 (0%)]\tLoss: 0.327733\n",
            "Train epoch: 156 [3200/50000 (6%)]\tLoss: 0.704113\n",
            "Train epoch: 156 [6400/50000 (13%)]\tLoss: 0.534599\n",
            "Train epoch: 156 [9600/50000 (19%)]\tLoss: 0.670325\n",
            "Train epoch: 156 [12800/50000 (26%)]\tLoss: 0.890766\n",
            "Train epoch: 156 [16000/50000 (32%)]\tLoss: 0.638158\n",
            "Train epoch: 156 [19200/50000 (38%)]\tLoss: 0.729417\n",
            "Train epoch: 156 [22400/50000 (45%)]\tLoss: 0.694069\n",
            "Train epoch: 156 [25600/50000 (51%)]\tLoss: 0.500103\n",
            "Train epoch: 156 [28800/50000 (58%)]\tLoss: 0.450584\n",
            "Train epoch: 156 [32000/50000 (64%)]\tLoss: 0.606136\n",
            "Train epoch: 156 [35200/50000 (70%)]\tLoss: 0.607266\n",
            "Train epoch: 156 [38400/50000 (77%)]\tLoss: 0.708890\n",
            "Train epoch: 156 [41600/50000 (83%)]\tLoss: 0.851115\n",
            "Train epoch: 156 [44800/50000 (90%)]\tLoss: 1.143366\n",
            "Train epoch: 156 [48000/50000 (96%)]\tLoss: 0.642576\n",
            "\n",
            "Test set: Average loss: 0.0062, Accuracy: 73.58999633789062 (74%)\n",
            "\n"
          ]
        },
        {
          "output_type": "stream",
          "name": "stderr",
          "text": [
            "/usr/local/lib/python3.10/dist-packages/torchvision/transforms/functional.py:1603: UserWarning: The default value of the antialias parameter of all the resizing transforms (Resize(), RandomResizedCrop(), etc.) will change from None to True in v0.17, in order to be consistent across the PIL and Tensor backends. To suppress this warning, directly pass antialias=True (recommended, future default), antialias=None (current default, which means False for Tensors and True for PIL), or antialias=False (only works on Tensors - PIL will still use antialiasing). This also applies if you are using the inference transforms from the models weights: update the call to weights.transforms(antialias=True).\n",
            "  warnings.warn(\n"
          ]
        },
        {
          "output_type": "stream",
          "name": "stdout",
          "text": [
            "\n",
            "Test set: Average loss: 0.0263, Accuracy: 23.139999389648438 (23%)\n",
            "\n",
            "Train epoch: 157 [0/50000 (0%)]\tLoss: 0.956206\n",
            "Train epoch: 157 [3200/50000 (6%)]\tLoss: 0.645501\n",
            "Train epoch: 157 [6400/50000 (13%)]\tLoss: 0.720419\n",
            "Train epoch: 157 [9600/50000 (19%)]\tLoss: 0.590864\n",
            "Train epoch: 157 [12800/50000 (26%)]\tLoss: 0.779377\n",
            "Train epoch: 157 [16000/50000 (32%)]\tLoss: 0.587292\n",
            "Train epoch: 157 [19200/50000 (38%)]\tLoss: 0.590266\n",
            "Train epoch: 157 [22400/50000 (45%)]\tLoss: 0.687934\n",
            "Train epoch: 157 [25600/50000 (51%)]\tLoss: 0.494657\n",
            "Train epoch: 157 [28800/50000 (58%)]\tLoss: 0.739884\n",
            "Train epoch: 157 [32000/50000 (64%)]\tLoss: 0.808051\n",
            "Train epoch: 157 [35200/50000 (70%)]\tLoss: 0.481471\n",
            "Train epoch: 157 [38400/50000 (77%)]\tLoss: 0.844218\n",
            "Train epoch: 157 [41600/50000 (83%)]\tLoss: 0.534832\n",
            "Train epoch: 157 [44800/50000 (90%)]\tLoss: 0.955019\n",
            "Train epoch: 157 [48000/50000 (96%)]\tLoss: 0.836109\n",
            "\n",
            "Test set: Average loss: 0.0057, Accuracy: 75.66000366210938 (76%)\n",
            "\n"
          ]
        },
        {
          "output_type": "stream",
          "name": "stderr",
          "text": [
            "/usr/local/lib/python3.10/dist-packages/torchvision/transforms/functional.py:1603: UserWarning: The default value of the antialias parameter of all the resizing transforms (Resize(), RandomResizedCrop(), etc.) will change from None to True in v0.17, in order to be consistent across the PIL and Tensor backends. To suppress this warning, directly pass antialias=True (recommended, future default), antialias=None (current default, which means False for Tensors and True for PIL), or antialias=False (only works on Tensors - PIL will still use antialiasing). This also applies if you are using the inference transforms from the models weights: update the call to weights.transforms(antialias=True).\n",
            "  warnings.warn(\n"
          ]
        },
        {
          "output_type": "stream",
          "name": "stdout",
          "text": [
            "\n",
            "Test set: Average loss: 0.0234, Accuracy: 26.170000076293945 (26%)\n",
            "\n",
            "Train epoch: 158 [0/50000 (0%)]\tLoss: 0.534616\n",
            "Train epoch: 158 [3200/50000 (6%)]\tLoss: 0.458919\n",
            "Train epoch: 158 [6400/50000 (13%)]\tLoss: 0.621454\n",
            "Train epoch: 158 [9600/50000 (19%)]\tLoss: 0.586809\n",
            "Train epoch: 158 [12800/50000 (26%)]\tLoss: 0.383177\n",
            "Train epoch: 158 [16000/50000 (32%)]\tLoss: 0.521418\n",
            "Train epoch: 158 [19200/50000 (38%)]\tLoss: 0.342649\n",
            "Train epoch: 158 [22400/50000 (45%)]\tLoss: 0.464666\n",
            "Train epoch: 158 [25600/50000 (51%)]\tLoss: 0.630929\n",
            "Train epoch: 158 [28800/50000 (58%)]\tLoss: 0.707041\n",
            "Train epoch: 158 [32000/50000 (64%)]\tLoss: 0.551384\n",
            "Train epoch: 158 [35200/50000 (70%)]\tLoss: 0.737186\n",
            "Train epoch: 158 [38400/50000 (77%)]\tLoss: 0.655613\n",
            "Train epoch: 158 [41600/50000 (83%)]\tLoss: 0.570497\n",
            "Train epoch: 158 [44800/50000 (90%)]\tLoss: 0.813327\n",
            "Train epoch: 158 [48000/50000 (96%)]\tLoss: 0.496079\n",
            "\n",
            "Test set: Average loss: 0.0058, Accuracy: 75.79000091552734 (76%)\n",
            "\n"
          ]
        },
        {
          "output_type": "stream",
          "name": "stderr",
          "text": [
            "/usr/local/lib/python3.10/dist-packages/torchvision/transforms/functional.py:1603: UserWarning: The default value of the antialias parameter of all the resizing transforms (Resize(), RandomResizedCrop(), etc.) will change from None to True in v0.17, in order to be consistent across the PIL and Tensor backends. To suppress this warning, directly pass antialias=True (recommended, future default), antialias=None (current default, which means False for Tensors and True for PIL), or antialias=False (only works on Tensors - PIL will still use antialiasing). This also applies if you are using the inference transforms from the models weights: update the call to weights.transforms(antialias=True).\n",
            "  warnings.warn(\n"
          ]
        },
        {
          "output_type": "stream",
          "name": "stdout",
          "text": [
            "\n",
            "Test set: Average loss: 0.0251, Accuracy: 23.989999771118164 (24%)\n",
            "\n",
            "Train epoch: 159 [0/50000 (0%)]\tLoss: 0.912494\n",
            "Train epoch: 159 [3200/50000 (6%)]\tLoss: 0.567764\n",
            "Train epoch: 159 [6400/50000 (13%)]\tLoss: 0.488060\n",
            "Train epoch: 159 [9600/50000 (19%)]\tLoss: 0.596189\n",
            "Train epoch: 159 [12800/50000 (26%)]\tLoss: 0.547069\n",
            "Train epoch: 159 [16000/50000 (32%)]\tLoss: 0.532998\n",
            "Train epoch: 159 [19200/50000 (38%)]\tLoss: 0.610044\n",
            "Train epoch: 159 [22400/50000 (45%)]\tLoss: 0.445689\n",
            "Train epoch: 159 [25600/50000 (51%)]\tLoss: 0.473482\n",
            "Train epoch: 159 [28800/50000 (58%)]\tLoss: 0.736544\n",
            "Train epoch: 159 [32000/50000 (64%)]\tLoss: 0.614110\n",
            "Train epoch: 159 [35200/50000 (70%)]\tLoss: 0.409288\n",
            "Train epoch: 159 [38400/50000 (77%)]\tLoss: 0.463201\n",
            "Train epoch: 159 [41600/50000 (83%)]\tLoss: 1.179579\n",
            "Train epoch: 159 [44800/50000 (90%)]\tLoss: 0.568045\n",
            "Train epoch: 159 [48000/50000 (96%)]\tLoss: 0.864084\n",
            "\n",
            "Test set: Average loss: 0.0055, Accuracy: 76.86000061035156 (77%)\n",
            "\n"
          ]
        },
        {
          "output_type": "stream",
          "name": "stderr",
          "text": [
            "/usr/local/lib/python3.10/dist-packages/torchvision/transforms/functional.py:1603: UserWarning: The default value of the antialias parameter of all the resizing transforms (Resize(), RandomResizedCrop(), etc.) will change from None to True in v0.17, in order to be consistent across the PIL and Tensor backends. To suppress this warning, directly pass antialias=True (recommended, future default), antialias=None (current default, which means False for Tensors and True for PIL), or antialias=False (only works on Tensors - PIL will still use antialiasing). This also applies if you are using the inference transforms from the models weights: update the call to weights.transforms(antialias=True).\n",
            "  warnings.warn(\n"
          ]
        },
        {
          "output_type": "stream",
          "name": "stdout",
          "text": [
            "\n",
            "Test set: Average loss: 0.0259, Accuracy: 23.030000686645508 (23%)\n",
            "\n",
            "Train epoch: 160 [0/50000 (0%)]\tLoss: 0.812314\n",
            "Train epoch: 160 [3200/50000 (6%)]\tLoss: 0.578621\n",
            "Train epoch: 160 [6400/50000 (13%)]\tLoss: 0.609091\n",
            "Train epoch: 160 [9600/50000 (19%)]\tLoss: 0.490797\n",
            "Train epoch: 160 [12800/50000 (26%)]\tLoss: 0.729909\n",
            "Train epoch: 160 [16000/50000 (32%)]\tLoss: 0.645467\n",
            "Train epoch: 160 [19200/50000 (38%)]\tLoss: 0.547860\n",
            "Train epoch: 160 [22400/50000 (45%)]\tLoss: 0.634006\n",
            "Train epoch: 160 [25600/50000 (51%)]\tLoss: 0.681675\n",
            "Train epoch: 160 [28800/50000 (58%)]\tLoss: 0.323828\n",
            "Train epoch: 160 [32000/50000 (64%)]\tLoss: 0.706155\n",
            "Train epoch: 160 [35200/50000 (70%)]\tLoss: 0.817833\n",
            "Train epoch: 160 [38400/50000 (77%)]\tLoss: 0.767043\n",
            "Train epoch: 160 [41600/50000 (83%)]\tLoss: 0.512965\n",
            "Train epoch: 160 [44800/50000 (90%)]\tLoss: 0.566268\n",
            "Train epoch: 160 [48000/50000 (96%)]\tLoss: 0.707051\n",
            "\n",
            "Test set: Average loss: 0.0058, Accuracy: 75.27999877929688 (75%)\n",
            "\n"
          ]
        },
        {
          "output_type": "stream",
          "name": "stderr",
          "text": [
            "/usr/local/lib/python3.10/dist-packages/torchvision/transforms/functional.py:1603: UserWarning: The default value of the antialias parameter of all the resizing transforms (Resize(), RandomResizedCrop(), etc.) will change from None to True in v0.17, in order to be consistent across the PIL and Tensor backends. To suppress this warning, directly pass antialias=True (recommended, future default), antialias=None (current default, which means False for Tensors and True for PIL), or antialias=False (only works on Tensors - PIL will still use antialiasing). This also applies if you are using the inference transforms from the models weights: update the call to weights.transforms(antialias=True).\n",
            "  warnings.warn(\n"
          ]
        },
        {
          "output_type": "stream",
          "name": "stdout",
          "text": [
            "\n",
            "Test set: Average loss: 0.0249, Accuracy: 24.700000762939453 (25%)\n",
            "\n",
            "\n",
            "    -------------------------------\n",
            "    Normal Data Saved: (160, 75.28)\n",
            "    -------------------------------\n",
            "    \n",
            "\n",
            "    -------------------------------\n",
            "    Altered Data Saved: (160, 24.7)\n",
            "    -------------------------------\n",
            "    \n",
            "Train epoch: 161 [0/50000 (0%)]\tLoss: 0.763415\n",
            "Train epoch: 161 [3200/50000 (6%)]\tLoss: 0.589304\n",
            "Train epoch: 161 [6400/50000 (13%)]\tLoss: 0.426740\n",
            "Train epoch: 161 [9600/50000 (19%)]\tLoss: 1.135165\n",
            "Train epoch: 161 [12800/50000 (26%)]\tLoss: 0.638626\n",
            "Train epoch: 161 [16000/50000 (32%)]\tLoss: 0.520715\n",
            "Train epoch: 161 [19200/50000 (38%)]\tLoss: 0.724187\n",
            "Train epoch: 161 [22400/50000 (45%)]\tLoss: 0.635245\n",
            "Train epoch: 161 [25600/50000 (51%)]\tLoss: 0.867814\n",
            "Train epoch: 161 [28800/50000 (58%)]\tLoss: 0.394936\n",
            "Train epoch: 161 [32000/50000 (64%)]\tLoss: 0.700059\n",
            "Train epoch: 161 [35200/50000 (70%)]\tLoss: 0.538539\n",
            "Train epoch: 161 [38400/50000 (77%)]\tLoss: 0.509781\n",
            "Train epoch: 161 [41600/50000 (83%)]\tLoss: 0.861953\n",
            "Train epoch: 161 [44800/50000 (90%)]\tLoss: 0.633545\n",
            "Train epoch: 161 [48000/50000 (96%)]\tLoss: 0.583908\n",
            "\n",
            "Test set: Average loss: 0.0056, Accuracy: 76.87000274658203 (77%)\n",
            "\n"
          ]
        },
        {
          "output_type": "stream",
          "name": "stderr",
          "text": [
            "/usr/local/lib/python3.10/dist-packages/torchvision/transforms/functional.py:1603: UserWarning: The default value of the antialias parameter of all the resizing transforms (Resize(), RandomResizedCrop(), etc.) will change from None to True in v0.17, in order to be consistent across the PIL and Tensor backends. To suppress this warning, directly pass antialias=True (recommended, future default), antialias=None (current default, which means False for Tensors and True for PIL), or antialias=False (only works on Tensors - PIL will still use antialiasing). This also applies if you are using the inference transforms from the models weights: update the call to weights.transforms(antialias=True).\n",
            "  warnings.warn(\n"
          ]
        },
        {
          "output_type": "stream",
          "name": "stdout",
          "text": [
            "\n",
            "Test set: Average loss: 0.0279, Accuracy: 24.459999084472656 (24%)\n",
            "\n",
            "Train epoch: 162 [0/50000 (0%)]\tLoss: 0.568838\n",
            "Train epoch: 162 [3200/50000 (6%)]\tLoss: 0.496240\n",
            "Train epoch: 162 [6400/50000 (13%)]\tLoss: 0.684929\n",
            "Train epoch: 162 [9600/50000 (19%)]\tLoss: 0.833672\n",
            "Train epoch: 162 [12800/50000 (26%)]\tLoss: 0.589476\n",
            "Train epoch: 162 [16000/50000 (32%)]\tLoss: 1.048055\n",
            "Train epoch: 162 [19200/50000 (38%)]\tLoss: 0.763768\n",
            "Train epoch: 162 [22400/50000 (45%)]\tLoss: 0.791784\n",
            "Train epoch: 162 [25600/50000 (51%)]\tLoss: 0.984986\n",
            "Train epoch: 162 [28800/50000 (58%)]\tLoss: 0.678913\n",
            "Train epoch: 162 [32000/50000 (64%)]\tLoss: 0.797772\n",
            "Train epoch: 162 [35200/50000 (70%)]\tLoss: 0.905471\n",
            "Train epoch: 162 [38400/50000 (77%)]\tLoss: 0.526201\n",
            "Train epoch: 162 [41600/50000 (83%)]\tLoss: 0.670124\n",
            "Train epoch: 162 [44800/50000 (90%)]\tLoss: 0.710398\n",
            "Train epoch: 162 [48000/50000 (96%)]\tLoss: 1.019101\n",
            "\n",
            "Test set: Average loss: 0.0056, Accuracy: 76.08999633789062 (76%)\n",
            "\n"
          ]
        },
        {
          "output_type": "stream",
          "name": "stderr",
          "text": [
            "/usr/local/lib/python3.10/dist-packages/torchvision/transforms/functional.py:1603: UserWarning: The default value of the antialias parameter of all the resizing transforms (Resize(), RandomResizedCrop(), etc.) will change from None to True in v0.17, in order to be consistent across the PIL and Tensor backends. To suppress this warning, directly pass antialias=True (recommended, future default), antialias=None (current default, which means False for Tensors and True for PIL), or antialias=False (only works on Tensors - PIL will still use antialiasing). This also applies if you are using the inference transforms from the models weights: update the call to weights.transforms(antialias=True).\n",
            "  warnings.warn(\n"
          ]
        },
        {
          "output_type": "stream",
          "name": "stdout",
          "text": [
            "\n",
            "Test set: Average loss: 0.0268, Accuracy: 21.56999969482422 (22%)\n",
            "\n",
            "Train epoch: 163 [0/50000 (0%)]\tLoss: 0.580651\n",
            "Train epoch: 163 [3200/50000 (6%)]\tLoss: 0.969246\n",
            "Train epoch: 163 [6400/50000 (13%)]\tLoss: 0.413486\n",
            "Train epoch: 163 [9600/50000 (19%)]\tLoss: 0.584702\n",
            "Train epoch: 163 [12800/50000 (26%)]\tLoss: 0.930332\n",
            "Train epoch: 163 [16000/50000 (32%)]\tLoss: 0.564616\n",
            "Train epoch: 163 [19200/50000 (38%)]\tLoss: 0.586767\n",
            "Train epoch: 163 [22400/50000 (45%)]\tLoss: 0.428643\n",
            "Train epoch: 163 [25600/50000 (51%)]\tLoss: 0.706803\n",
            "Train epoch: 163 [28800/50000 (58%)]\tLoss: 0.696103\n",
            "Train epoch: 163 [32000/50000 (64%)]\tLoss: 0.653526\n",
            "Train epoch: 163 [35200/50000 (70%)]\tLoss: 0.485423\n",
            "Train epoch: 163 [38400/50000 (77%)]\tLoss: 0.609914\n",
            "Train epoch: 163 [41600/50000 (83%)]\tLoss: 0.836680\n",
            "Train epoch: 163 [44800/50000 (90%)]\tLoss: 0.528074\n",
            "Train epoch: 163 [48000/50000 (96%)]\tLoss: 0.377822\n",
            "\n",
            "Test set: Average loss: 0.0055, Accuracy: 76.23999786376953 (76%)\n",
            "\n"
          ]
        },
        {
          "output_type": "stream",
          "name": "stderr",
          "text": [
            "/usr/local/lib/python3.10/dist-packages/torchvision/transforms/functional.py:1603: UserWarning: The default value of the antialias parameter of all the resizing transforms (Resize(), RandomResizedCrop(), etc.) will change from None to True in v0.17, in order to be consistent across the PIL and Tensor backends. To suppress this warning, directly pass antialias=True (recommended, future default), antialias=None (current default, which means False for Tensors and True for PIL), or antialias=False (only works on Tensors - PIL will still use antialiasing). This also applies if you are using the inference transforms from the models weights: update the call to weights.transforms(antialias=True).\n",
            "  warnings.warn(\n"
          ]
        },
        {
          "output_type": "stream",
          "name": "stdout",
          "text": [
            "\n",
            "Test set: Average loss: 0.0240, Accuracy: 26.0 (26%)\n",
            "\n",
            "Train epoch: 164 [0/50000 (0%)]\tLoss: 0.880334\n",
            "Train epoch: 164 [3200/50000 (6%)]\tLoss: 0.861105\n",
            "Train epoch: 164 [6400/50000 (13%)]\tLoss: 0.484895\n",
            "Train epoch: 164 [9600/50000 (19%)]\tLoss: 0.532755\n",
            "Train epoch: 164 [12800/50000 (26%)]\tLoss: 0.923835\n",
            "Train epoch: 164 [16000/50000 (32%)]\tLoss: 0.793883\n",
            "Train epoch: 164 [19200/50000 (38%)]\tLoss: 0.599762\n",
            "Train epoch: 164 [22400/50000 (45%)]\tLoss: 0.481044\n",
            "Train epoch: 164 [25600/50000 (51%)]\tLoss: 1.007406\n",
            "Train epoch: 164 [28800/50000 (58%)]\tLoss: 0.751208\n",
            "Train epoch: 164 [32000/50000 (64%)]\tLoss: 0.797966\n",
            "Train epoch: 164 [35200/50000 (70%)]\tLoss: 0.804769\n",
            "Train epoch: 164 [38400/50000 (77%)]\tLoss: 0.432509\n",
            "Train epoch: 164 [41600/50000 (83%)]\tLoss: 0.791200\n",
            "Train epoch: 164 [44800/50000 (90%)]\tLoss: 0.688800\n",
            "Train epoch: 164 [48000/50000 (96%)]\tLoss: 0.530878\n",
            "\n",
            "Test set: Average loss: 0.0056, Accuracy: 75.66999816894531 (76%)\n",
            "\n"
          ]
        },
        {
          "output_type": "stream",
          "name": "stderr",
          "text": [
            "/usr/local/lib/python3.10/dist-packages/torchvision/transforms/functional.py:1603: UserWarning: The default value of the antialias parameter of all the resizing transforms (Resize(), RandomResizedCrop(), etc.) will change from None to True in v0.17, in order to be consistent across the PIL and Tensor backends. To suppress this warning, directly pass antialias=True (recommended, future default), antialias=None (current default, which means False for Tensors and True for PIL), or antialias=False (only works on Tensors - PIL will still use antialiasing). This also applies if you are using the inference transforms from the models weights: update the call to weights.transforms(antialias=True).\n",
            "  warnings.warn(\n"
          ]
        },
        {
          "output_type": "stream",
          "name": "stdout",
          "text": [
            "\n",
            "Test set: Average loss: 0.0250, Accuracy: 25.3700008392334 (25%)\n",
            "\n",
            "Train epoch: 165 [0/50000 (0%)]\tLoss: 0.628625\n",
            "Train epoch: 165 [3200/50000 (6%)]\tLoss: 0.438334\n",
            "Train epoch: 165 [6400/50000 (13%)]\tLoss: 0.588518\n",
            "Train epoch: 165 [9600/50000 (19%)]\tLoss: 0.637251\n",
            "Train epoch: 165 [12800/50000 (26%)]\tLoss: 0.777274\n",
            "Train epoch: 165 [16000/50000 (32%)]\tLoss: 0.568541\n",
            "Train epoch: 165 [19200/50000 (38%)]\tLoss: 0.507364\n",
            "Train epoch: 165 [22400/50000 (45%)]\tLoss: 0.405805\n",
            "Train epoch: 165 [25600/50000 (51%)]\tLoss: 0.653276\n",
            "Train epoch: 165 [28800/50000 (58%)]\tLoss: 0.718336\n",
            "Train epoch: 165 [32000/50000 (64%)]\tLoss: 0.435398\n",
            "Train epoch: 165 [35200/50000 (70%)]\tLoss: 0.343492\n",
            "Train epoch: 165 [38400/50000 (77%)]\tLoss: 0.342140\n",
            "Train epoch: 165 [41600/50000 (83%)]\tLoss: 0.816544\n",
            "Train epoch: 165 [44800/50000 (90%)]\tLoss: 0.757150\n",
            "Train epoch: 165 [48000/50000 (96%)]\tLoss: 0.657050\n",
            "\n",
            "Test set: Average loss: 0.0056, Accuracy: 76.47000122070312 (76%)\n",
            "\n"
          ]
        },
        {
          "output_type": "stream",
          "name": "stderr",
          "text": [
            "/usr/local/lib/python3.10/dist-packages/torchvision/transforms/functional.py:1603: UserWarning: The default value of the antialias parameter of all the resizing transforms (Resize(), RandomResizedCrop(), etc.) will change from None to True in v0.17, in order to be consistent across the PIL and Tensor backends. To suppress this warning, directly pass antialias=True (recommended, future default), antialias=None (current default, which means False for Tensors and True for PIL), or antialias=False (only works on Tensors - PIL will still use antialiasing). This also applies if you are using the inference transforms from the models weights: update the call to weights.transforms(antialias=True).\n",
            "  warnings.warn(\n"
          ]
        },
        {
          "output_type": "stream",
          "name": "stdout",
          "text": [
            "\n",
            "Test set: Average loss: 0.0239, Accuracy: 23.860000610351562 (24%)\n",
            "\n",
            "Train epoch: 166 [0/50000 (0%)]\tLoss: 0.419603\n",
            "Train epoch: 166 [3200/50000 (6%)]\tLoss: 0.843347\n",
            "Train epoch: 166 [6400/50000 (13%)]\tLoss: 0.620059\n",
            "Train epoch: 166 [9600/50000 (19%)]\tLoss: 0.337049\n",
            "Train epoch: 166 [12800/50000 (26%)]\tLoss: 0.243744\n",
            "Train epoch: 166 [16000/50000 (32%)]\tLoss: 0.312478\n",
            "Train epoch: 166 [19200/50000 (38%)]\tLoss: 0.773537\n",
            "Train epoch: 166 [22400/50000 (45%)]\tLoss: 0.608703\n",
            "Train epoch: 166 [25600/50000 (51%)]\tLoss: 0.634179\n",
            "Train epoch: 166 [28800/50000 (58%)]\tLoss: 0.666438\n",
            "Train epoch: 166 [32000/50000 (64%)]\tLoss: 0.428631\n",
            "Train epoch: 166 [35200/50000 (70%)]\tLoss: 0.683018\n",
            "Train epoch: 166 [38400/50000 (77%)]\tLoss: 0.564082\n",
            "Train epoch: 166 [41600/50000 (83%)]\tLoss: 0.564073\n",
            "Train epoch: 166 [44800/50000 (90%)]\tLoss: 0.505840\n",
            "Train epoch: 166 [48000/50000 (96%)]\tLoss: 0.547747\n",
            "\n",
            "Test set: Average loss: 0.0057, Accuracy: 75.58999633789062 (76%)\n",
            "\n"
          ]
        },
        {
          "output_type": "stream",
          "name": "stderr",
          "text": [
            "/usr/local/lib/python3.10/dist-packages/torchvision/transforms/functional.py:1603: UserWarning: The default value of the antialias parameter of all the resizing transforms (Resize(), RandomResizedCrop(), etc.) will change from None to True in v0.17, in order to be consistent across the PIL and Tensor backends. To suppress this warning, directly pass antialias=True (recommended, future default), antialias=None (current default, which means False for Tensors and True for PIL), or antialias=False (only works on Tensors - PIL will still use antialiasing). This also applies if you are using the inference transforms from the models weights: update the call to weights.transforms(antialias=True).\n",
            "  warnings.warn(\n"
          ]
        },
        {
          "output_type": "stream",
          "name": "stdout",
          "text": [
            "\n",
            "Test set: Average loss: 0.0292, Accuracy: 22.489999771118164 (22%)\n",
            "\n",
            "Train epoch: 167 [0/50000 (0%)]\tLoss: 0.310723\n",
            "Train epoch: 167 [3200/50000 (6%)]\tLoss: 0.458261\n",
            "Train epoch: 167 [6400/50000 (13%)]\tLoss: 0.614829\n",
            "Train epoch: 167 [9600/50000 (19%)]\tLoss: 0.657113\n",
            "Train epoch: 167 [12800/50000 (26%)]\tLoss: 0.599466\n",
            "Train epoch: 167 [16000/50000 (32%)]\tLoss: 0.603918\n",
            "Train epoch: 167 [19200/50000 (38%)]\tLoss: 0.650380\n",
            "Train epoch: 167 [22400/50000 (45%)]\tLoss: 0.703177\n",
            "Train epoch: 167 [25600/50000 (51%)]\tLoss: 0.532023\n",
            "Train epoch: 167 [28800/50000 (58%)]\tLoss: 0.911919\n",
            "Train epoch: 167 [32000/50000 (64%)]\tLoss: 0.630902\n",
            "Train epoch: 167 [35200/50000 (70%)]\tLoss: 0.495588\n",
            "Train epoch: 167 [38400/50000 (77%)]\tLoss: 0.370549\n",
            "Train epoch: 167 [41600/50000 (83%)]\tLoss: 0.593617\n",
            "Train epoch: 167 [44800/50000 (90%)]\tLoss: 0.432558\n",
            "Train epoch: 167 [48000/50000 (96%)]\tLoss: 0.398033\n",
            "\n",
            "Test set: Average loss: 0.0059, Accuracy: 75.36000061035156 (75%)\n",
            "\n"
          ]
        },
        {
          "output_type": "stream",
          "name": "stderr",
          "text": [
            "/usr/local/lib/python3.10/dist-packages/torchvision/transforms/functional.py:1603: UserWarning: The default value of the antialias parameter of all the resizing transforms (Resize(), RandomResizedCrop(), etc.) will change from None to True in v0.17, in order to be consistent across the PIL and Tensor backends. To suppress this warning, directly pass antialias=True (recommended, future default), antialias=None (current default, which means False for Tensors and True for PIL), or antialias=False (only works on Tensors - PIL will still use antialiasing). This also applies if you are using the inference transforms from the models weights: update the call to weights.transforms(antialias=True).\n",
            "  warnings.warn(\n"
          ]
        },
        {
          "output_type": "stream",
          "name": "stdout",
          "text": [
            "\n",
            "Test set: Average loss: 0.0261, Accuracy: 24.729999542236328 (25%)\n",
            "\n",
            "Train epoch: 168 [0/50000 (0%)]\tLoss: 0.571986\n",
            "Train epoch: 168 [3200/50000 (6%)]\tLoss: 0.597675\n",
            "Train epoch: 168 [6400/50000 (13%)]\tLoss: 0.458229\n",
            "Train epoch: 168 [9600/50000 (19%)]\tLoss: 0.478520\n",
            "Train epoch: 168 [12800/50000 (26%)]\tLoss: 0.354891\n",
            "Train epoch: 168 [16000/50000 (32%)]\tLoss: 0.583044\n",
            "Train epoch: 168 [19200/50000 (38%)]\tLoss: 0.615970\n",
            "Train epoch: 168 [22400/50000 (45%)]\tLoss: 0.559208\n",
            "Train epoch: 168 [25600/50000 (51%)]\tLoss: 0.323730\n",
            "Train epoch: 168 [28800/50000 (58%)]\tLoss: 0.576132\n",
            "Train epoch: 168 [32000/50000 (64%)]\tLoss: 0.894533\n",
            "Train epoch: 168 [35200/50000 (70%)]\tLoss: 0.417445\n",
            "Train epoch: 168 [38400/50000 (77%)]\tLoss: 0.744670\n",
            "Train epoch: 168 [41600/50000 (83%)]\tLoss: 0.472531\n",
            "Train epoch: 168 [44800/50000 (90%)]\tLoss: 0.509433\n",
            "Train epoch: 168 [48000/50000 (96%)]\tLoss: 0.551314\n",
            "\n",
            "Test set: Average loss: 0.0053, Accuracy: 77.12000274658203 (77%)\n",
            "\n"
          ]
        },
        {
          "output_type": "stream",
          "name": "stderr",
          "text": [
            "/usr/local/lib/python3.10/dist-packages/torchvision/transforms/functional.py:1603: UserWarning: The default value of the antialias parameter of all the resizing transforms (Resize(), RandomResizedCrop(), etc.) will change from None to True in v0.17, in order to be consistent across the PIL and Tensor backends. To suppress this warning, directly pass antialias=True (recommended, future default), antialias=None (current default, which means False for Tensors and True for PIL), or antialias=False (only works on Tensors - PIL will still use antialiasing). This also applies if you are using the inference transforms from the models weights: update the call to weights.transforms(antialias=True).\n",
            "  warnings.warn(\n"
          ]
        },
        {
          "output_type": "stream",
          "name": "stdout",
          "text": [
            "\n",
            "Test set: Average loss: 0.0228, Accuracy: 25.950000762939453 (26%)\n",
            "\n",
            "Train epoch: 169 [0/50000 (0%)]\tLoss: 0.409533\n",
            "Train epoch: 169 [3200/50000 (6%)]\tLoss: 0.570054\n",
            "Train epoch: 169 [6400/50000 (13%)]\tLoss: 0.474782\n",
            "Train epoch: 169 [9600/50000 (19%)]\tLoss: 0.631815\n",
            "Train epoch: 169 [12800/50000 (26%)]\tLoss: 0.435644\n",
            "Train epoch: 169 [16000/50000 (32%)]\tLoss: 0.547488\n",
            "Train epoch: 169 [19200/50000 (38%)]\tLoss: 0.756732\n",
            "Train epoch: 169 [22400/50000 (45%)]\tLoss: 0.491983\n",
            "Train epoch: 169 [25600/50000 (51%)]\tLoss: 0.403779\n",
            "Train epoch: 169 [28800/50000 (58%)]\tLoss: 0.681143\n",
            "Train epoch: 169 [32000/50000 (64%)]\tLoss: 0.710339\n",
            "Train epoch: 169 [35200/50000 (70%)]\tLoss: 0.448029\n",
            "Train epoch: 169 [38400/50000 (77%)]\tLoss: 0.413836\n",
            "Train epoch: 169 [41600/50000 (83%)]\tLoss: 0.863037\n",
            "Train epoch: 169 [44800/50000 (90%)]\tLoss: 0.997896\n",
            "Train epoch: 169 [48000/50000 (96%)]\tLoss: 0.743809\n",
            "\n",
            "Test set: Average loss: 0.0056, Accuracy: 76.93000030517578 (77%)\n",
            "\n"
          ]
        },
        {
          "output_type": "stream",
          "name": "stderr",
          "text": [
            "/usr/local/lib/python3.10/dist-packages/torchvision/transforms/functional.py:1603: UserWarning: The default value of the antialias parameter of all the resizing transforms (Resize(), RandomResizedCrop(), etc.) will change from None to True in v0.17, in order to be consistent across the PIL and Tensor backends. To suppress this warning, directly pass antialias=True (recommended, future default), antialias=None (current default, which means False for Tensors and True for PIL), or antialias=False (only works on Tensors - PIL will still use antialiasing). This also applies if you are using the inference transforms from the models weights: update the call to weights.transforms(antialias=True).\n",
            "  warnings.warn(\n"
          ]
        },
        {
          "output_type": "stream",
          "name": "stdout",
          "text": [
            "\n",
            "Test set: Average loss: 0.0241, Accuracy: 24.780000686645508 (25%)\n",
            "\n",
            "Train epoch: 170 [0/50000 (0%)]\tLoss: 0.642401\n",
            "Train epoch: 170 [3200/50000 (6%)]\tLoss: 0.938418\n",
            "Train epoch: 170 [6400/50000 (13%)]\tLoss: 0.636574\n",
            "Train epoch: 170 [9600/50000 (19%)]\tLoss: 0.589104\n",
            "Train epoch: 170 [12800/50000 (26%)]\tLoss: 0.497416\n",
            "Train epoch: 170 [16000/50000 (32%)]\tLoss: 0.503910\n",
            "Train epoch: 170 [19200/50000 (38%)]\tLoss: 0.643543\n",
            "Train epoch: 170 [22400/50000 (45%)]\tLoss: 0.913356\n",
            "Train epoch: 170 [25600/50000 (51%)]\tLoss: 0.678626\n",
            "Train epoch: 170 [28800/50000 (58%)]\tLoss: 0.337591\n",
            "Train epoch: 170 [32000/50000 (64%)]\tLoss: 0.601294\n",
            "Train epoch: 170 [35200/50000 (70%)]\tLoss: 0.617504\n",
            "Train epoch: 170 [38400/50000 (77%)]\tLoss: 0.243154\n",
            "Train epoch: 170 [41600/50000 (83%)]\tLoss: 0.630919\n",
            "Train epoch: 170 [44800/50000 (90%)]\tLoss: 0.735766\n",
            "Train epoch: 170 [48000/50000 (96%)]\tLoss: 0.816385\n",
            "\n",
            "Test set: Average loss: 0.0059, Accuracy: 74.87999725341797 (75%)\n",
            "\n"
          ]
        },
        {
          "output_type": "stream",
          "name": "stderr",
          "text": [
            "/usr/local/lib/python3.10/dist-packages/torchvision/transforms/functional.py:1603: UserWarning: The default value of the antialias parameter of all the resizing transforms (Resize(), RandomResizedCrop(), etc.) will change from None to True in v0.17, in order to be consistent across the PIL and Tensor backends. To suppress this warning, directly pass antialias=True (recommended, future default), antialias=None (current default, which means False for Tensors and True for PIL), or antialias=False (only works on Tensors - PIL will still use antialiasing). This also applies if you are using the inference transforms from the models weights: update the call to weights.transforms(antialias=True).\n",
            "  warnings.warn(\n"
          ]
        },
        {
          "output_type": "stream",
          "name": "stdout",
          "text": [
            "\n",
            "Test set: Average loss: 0.0298, Accuracy: 19.719999313354492 (20%)\n",
            "\n",
            "\n",
            "    -------------------------------\n",
            "    Normal Data Saved: (170, 74.88)\n",
            "    -------------------------------\n",
            "    \n",
            "\n",
            "    --------------------------------\n",
            "    Altered Data Saved: (170, 19.72)\n",
            "    --------------------------------\n",
            "    \n",
            "Train epoch: 171 [0/50000 (0%)]\tLoss: 0.430021\n",
            "Train epoch: 171 [3200/50000 (6%)]\tLoss: 0.581622\n",
            "Train epoch: 171 [6400/50000 (13%)]\tLoss: 1.115669\n",
            "Train epoch: 171 [9600/50000 (19%)]\tLoss: 0.529939\n",
            "Train epoch: 171 [12800/50000 (26%)]\tLoss: 0.778650\n",
            "Train epoch: 171 [16000/50000 (32%)]\tLoss: 0.426676\n",
            "Train epoch: 171 [19200/50000 (38%)]\tLoss: 0.386295\n",
            "Train epoch: 171 [22400/50000 (45%)]\tLoss: 0.404578\n",
            "Train epoch: 171 [25600/50000 (51%)]\tLoss: 0.581997\n",
            "Train epoch: 171 [28800/50000 (58%)]\tLoss: 0.828045\n",
            "Train epoch: 171 [32000/50000 (64%)]\tLoss: 1.034922\n",
            "Train epoch: 171 [35200/50000 (70%)]\tLoss: 0.427220\n",
            "Train epoch: 171 [38400/50000 (77%)]\tLoss: 0.541616\n",
            "Train epoch: 171 [41600/50000 (83%)]\tLoss: 0.862776\n",
            "Train epoch: 171 [44800/50000 (90%)]\tLoss: 0.473683\n",
            "Train epoch: 171 [48000/50000 (96%)]\tLoss: 0.774948\n",
            "\n",
            "Test set: Average loss: 0.0057, Accuracy: 76.45999908447266 (76%)\n",
            "\n"
          ]
        },
        {
          "output_type": "stream",
          "name": "stderr",
          "text": [
            "/usr/local/lib/python3.10/dist-packages/torchvision/transforms/functional.py:1603: UserWarning: The default value of the antialias parameter of all the resizing transforms (Resize(), RandomResizedCrop(), etc.) will change from None to True in v0.17, in order to be consistent across the PIL and Tensor backends. To suppress this warning, directly pass antialias=True (recommended, future default), antialias=None (current default, which means False for Tensors and True for PIL), or antialias=False (only works on Tensors - PIL will still use antialiasing). This also applies if you are using the inference transforms from the models weights: update the call to weights.transforms(antialias=True).\n",
            "  warnings.warn(\n"
          ]
        },
        {
          "output_type": "stream",
          "name": "stdout",
          "text": [
            "\n",
            "Test set: Average loss: 0.0276, Accuracy: 23.5 (24%)\n",
            "\n",
            "Train epoch: 172 [0/50000 (0%)]\tLoss: 0.550539\n",
            "Train epoch: 172 [3200/50000 (6%)]\tLoss: 0.457222\n",
            "Train epoch: 172 [6400/50000 (13%)]\tLoss: 0.468864\n",
            "Train epoch: 172 [9600/50000 (19%)]\tLoss: 0.589216\n",
            "Train epoch: 172 [12800/50000 (26%)]\tLoss: 0.938409\n",
            "Train epoch: 172 [16000/50000 (32%)]\tLoss: 0.490230\n",
            "Train epoch: 172 [19200/50000 (38%)]\tLoss: 0.512574\n",
            "Train epoch: 172 [22400/50000 (45%)]\tLoss: 0.567161\n",
            "Train epoch: 172 [25600/50000 (51%)]\tLoss: 0.350181\n",
            "Train epoch: 172 [28800/50000 (58%)]\tLoss: 0.491196\n",
            "Train epoch: 172 [32000/50000 (64%)]\tLoss: 0.575188\n",
            "Train epoch: 172 [35200/50000 (70%)]\tLoss: 0.617177\n",
            "Train epoch: 172 [38400/50000 (77%)]\tLoss: 0.497803\n",
            "Train epoch: 172 [41600/50000 (83%)]\tLoss: 0.395397\n",
            "Train epoch: 172 [44800/50000 (90%)]\tLoss: 0.513460\n",
            "Train epoch: 172 [48000/50000 (96%)]\tLoss: 0.643351\n",
            "\n",
            "Test set: Average loss: 0.0051, Accuracy: 78.19999694824219 (78%)\n",
            "\n"
          ]
        },
        {
          "output_type": "stream",
          "name": "stderr",
          "text": [
            "/usr/local/lib/python3.10/dist-packages/torchvision/transforms/functional.py:1603: UserWarning: The default value of the antialias parameter of all the resizing transforms (Resize(), RandomResizedCrop(), etc.) will change from None to True in v0.17, in order to be consistent across the PIL and Tensor backends. To suppress this warning, directly pass antialias=True (recommended, future default), antialias=None (current default, which means False for Tensors and True for PIL), or antialias=False (only works on Tensors - PIL will still use antialiasing). This also applies if you are using the inference transforms from the models weights: update the call to weights.transforms(antialias=True).\n",
            "  warnings.warn(\n"
          ]
        },
        {
          "output_type": "stream",
          "name": "stdout",
          "text": [
            "\n",
            "Test set: Average loss: 0.0248, Accuracy: 24.1200008392334 (24%)\n",
            "\n",
            "Train epoch: 173 [0/50000 (0%)]\tLoss: 0.456509\n",
            "Train epoch: 173 [3200/50000 (6%)]\tLoss: 0.812950\n",
            "Train epoch: 173 [6400/50000 (13%)]\tLoss: 0.456668\n",
            "Train epoch: 173 [9600/50000 (19%)]\tLoss: 0.451715\n",
            "Train epoch: 173 [12800/50000 (26%)]\tLoss: 0.177163\n",
            "Train epoch: 173 [16000/50000 (32%)]\tLoss: 0.680899\n",
            "Train epoch: 173 [19200/50000 (38%)]\tLoss: 0.760343\n",
            "Train epoch: 173 [22400/50000 (45%)]\tLoss: 0.599015\n",
            "Train epoch: 173 [25600/50000 (51%)]\tLoss: 0.701271\n",
            "Train epoch: 173 [28800/50000 (58%)]\tLoss: 0.742329\n",
            "Train epoch: 173 [32000/50000 (64%)]\tLoss: 0.505315\n",
            "Train epoch: 173 [35200/50000 (70%)]\tLoss: 0.557937\n",
            "Train epoch: 173 [38400/50000 (77%)]\tLoss: 0.377603\n",
            "Train epoch: 173 [41600/50000 (83%)]\tLoss: 0.554697\n",
            "Train epoch: 173 [44800/50000 (90%)]\tLoss: 0.489555\n",
            "Train epoch: 173 [48000/50000 (96%)]\tLoss: 0.843975\n",
            "\n",
            "Test set: Average loss: 0.0053, Accuracy: 77.04000091552734 (77%)\n",
            "\n"
          ]
        },
        {
          "output_type": "stream",
          "name": "stderr",
          "text": [
            "/usr/local/lib/python3.10/dist-packages/torchvision/transforms/functional.py:1603: UserWarning: The default value of the antialias parameter of all the resizing transforms (Resize(), RandomResizedCrop(), etc.) will change from None to True in v0.17, in order to be consistent across the PIL and Tensor backends. To suppress this warning, directly pass antialias=True (recommended, future default), antialias=None (current default, which means False for Tensors and True for PIL), or antialias=False (only works on Tensors - PIL will still use antialiasing). This also applies if you are using the inference transforms from the models weights: update the call to weights.transforms(antialias=True).\n",
            "  warnings.warn(\n"
          ]
        },
        {
          "output_type": "stream",
          "name": "stdout",
          "text": [
            "\n",
            "Test set: Average loss: 0.0251, Accuracy: 23.989999771118164 (24%)\n",
            "\n",
            "Train epoch: 174 [0/50000 (0%)]\tLoss: 0.228508\n",
            "Train epoch: 174 [3200/50000 (6%)]\tLoss: 0.699214\n",
            "Train epoch: 174 [6400/50000 (13%)]\tLoss: 0.468002\n",
            "Train epoch: 174 [9600/50000 (19%)]\tLoss: 0.599995\n",
            "Train epoch: 174 [12800/50000 (26%)]\tLoss: 0.485649\n",
            "Train epoch: 174 [16000/50000 (32%)]\tLoss: 0.280151\n",
            "Train epoch: 174 [19200/50000 (38%)]\tLoss: 0.538026\n",
            "Train epoch: 174 [22400/50000 (45%)]\tLoss: 0.856293\n",
            "Train epoch: 174 [25600/50000 (51%)]\tLoss: 0.530841\n",
            "Train epoch: 174 [28800/50000 (58%)]\tLoss: 0.481742\n",
            "Train epoch: 174 [32000/50000 (64%)]\tLoss: 0.353496\n",
            "Train epoch: 174 [35200/50000 (70%)]\tLoss: 0.267217\n",
            "Train epoch: 174 [38400/50000 (77%)]\tLoss: 0.628372\n",
            "Train epoch: 174 [41600/50000 (83%)]\tLoss: 0.771705\n",
            "Train epoch: 174 [44800/50000 (90%)]\tLoss: 0.589237\n",
            "Train epoch: 174 [48000/50000 (96%)]\tLoss: 0.564383\n",
            "\n",
            "Test set: Average loss: 0.0054, Accuracy: 77.08999633789062 (77%)\n",
            "\n"
          ]
        },
        {
          "output_type": "stream",
          "name": "stderr",
          "text": [
            "/usr/local/lib/python3.10/dist-packages/torchvision/transforms/functional.py:1603: UserWarning: The default value of the antialias parameter of all the resizing transforms (Resize(), RandomResizedCrop(), etc.) will change from None to True in v0.17, in order to be consistent across the PIL and Tensor backends. To suppress this warning, directly pass antialias=True (recommended, future default), antialias=None (current default, which means False for Tensors and True for PIL), or antialias=False (only works on Tensors - PIL will still use antialiasing). This also applies if you are using the inference transforms from the models weights: update the call to weights.transforms(antialias=True).\n",
            "  warnings.warn(\n"
          ]
        },
        {
          "output_type": "stream",
          "name": "stdout",
          "text": [
            "\n",
            "Test set: Average loss: 0.0251, Accuracy: 24.889999389648438 (25%)\n",
            "\n",
            "Train epoch: 175 [0/50000 (0%)]\tLoss: 0.704222\n",
            "Train epoch: 175 [3200/50000 (6%)]\tLoss: 0.952510\n",
            "Train epoch: 175 [6400/50000 (13%)]\tLoss: 0.451301\n",
            "Train epoch: 175 [9600/50000 (19%)]\tLoss: 0.560006\n",
            "Train epoch: 175 [12800/50000 (26%)]\tLoss: 0.589717\n",
            "Train epoch: 175 [16000/50000 (32%)]\tLoss: 0.825912\n",
            "Train epoch: 175 [19200/50000 (38%)]\tLoss: 0.447283\n",
            "Train epoch: 175 [22400/50000 (45%)]\tLoss: 0.469461\n",
            "Train epoch: 175 [25600/50000 (51%)]\tLoss: 0.499255\n",
            "Train epoch: 175 [28800/50000 (58%)]\tLoss: 0.507543\n",
            "Train epoch: 175 [32000/50000 (64%)]\tLoss: 0.491800\n",
            "Train epoch: 175 [35200/50000 (70%)]\tLoss: 0.359823\n",
            "Train epoch: 175 [38400/50000 (77%)]\tLoss: 0.707167\n",
            "Train epoch: 175 [41600/50000 (83%)]\tLoss: 0.492727\n",
            "Train epoch: 175 [44800/50000 (90%)]\tLoss: 0.561873\n",
            "Train epoch: 175 [48000/50000 (96%)]\tLoss: 0.554025\n",
            "\n",
            "Test set: Average loss: 0.0054, Accuracy: 77.08000183105469 (77%)\n",
            "\n"
          ]
        },
        {
          "output_type": "stream",
          "name": "stderr",
          "text": [
            "/usr/local/lib/python3.10/dist-packages/torchvision/transforms/functional.py:1603: UserWarning: The default value of the antialias parameter of all the resizing transforms (Resize(), RandomResizedCrop(), etc.) will change from None to True in v0.17, in order to be consistent across the PIL and Tensor backends. To suppress this warning, directly pass antialias=True (recommended, future default), antialias=None (current default, which means False for Tensors and True for PIL), or antialias=False (only works on Tensors - PIL will still use antialiasing). This also applies if you are using the inference transforms from the models weights: update the call to weights.transforms(antialias=True).\n",
            "  warnings.warn(\n"
          ]
        },
        {
          "output_type": "stream",
          "name": "stdout",
          "text": [
            "\n",
            "Test set: Average loss: 0.0258, Accuracy: 24.18000030517578 (24%)\n",
            "\n",
            "Train epoch: 176 [0/50000 (0%)]\tLoss: 0.591337\n",
            "Train epoch: 176 [3200/50000 (6%)]\tLoss: 0.674600\n",
            "Train epoch: 176 [6400/50000 (13%)]\tLoss: 0.640068\n",
            "Train epoch: 176 [9600/50000 (19%)]\tLoss: 0.476819\n",
            "Train epoch: 176 [12800/50000 (26%)]\tLoss: 0.236365\n",
            "Train epoch: 176 [16000/50000 (32%)]\tLoss: 0.793910\n",
            "Train epoch: 176 [19200/50000 (38%)]\tLoss: 0.760049\n",
            "Train epoch: 176 [22400/50000 (45%)]\tLoss: 0.821457\n",
            "Train epoch: 176 [25600/50000 (51%)]\tLoss: 0.843207\n",
            "Train epoch: 176 [28800/50000 (58%)]\tLoss: 0.738719\n",
            "Train epoch: 176 [32000/50000 (64%)]\tLoss: 0.577135\n",
            "Train epoch: 176 [35200/50000 (70%)]\tLoss: 0.725632\n",
            "Train epoch: 176 [38400/50000 (77%)]\tLoss: 0.621833\n",
            "Train epoch: 176 [41600/50000 (83%)]\tLoss: 0.645376\n",
            "Train epoch: 176 [44800/50000 (90%)]\tLoss: 0.657515\n",
            "Train epoch: 176 [48000/50000 (96%)]\tLoss: 0.800616\n",
            "\n",
            "Test set: Average loss: 0.0052, Accuracy: 77.80000305175781 (78%)\n",
            "\n"
          ]
        },
        {
          "output_type": "stream",
          "name": "stderr",
          "text": [
            "/usr/local/lib/python3.10/dist-packages/torchvision/transforms/functional.py:1603: UserWarning: The default value of the antialias parameter of all the resizing transforms (Resize(), RandomResizedCrop(), etc.) will change from None to True in v0.17, in order to be consistent across the PIL and Tensor backends. To suppress this warning, directly pass antialias=True (recommended, future default), antialias=None (current default, which means False for Tensors and True for PIL), or antialias=False (only works on Tensors - PIL will still use antialiasing). This also applies if you are using the inference transforms from the models weights: update the call to weights.transforms(antialias=True).\n",
            "  warnings.warn(\n"
          ]
        },
        {
          "output_type": "stream",
          "name": "stdout",
          "text": [
            "\n",
            "Test set: Average loss: 0.0254, Accuracy: 23.690000534057617 (24%)\n",
            "\n",
            "Train epoch: 177 [0/50000 (0%)]\tLoss: 0.459515\n",
            "Train epoch: 177 [3200/50000 (6%)]\tLoss: 0.543800\n",
            "Train epoch: 177 [6400/50000 (13%)]\tLoss: 0.480887\n",
            "Train epoch: 177 [9600/50000 (19%)]\tLoss: 0.534597\n",
            "Train epoch: 177 [12800/50000 (26%)]\tLoss: 0.567791\n",
            "Train epoch: 177 [16000/50000 (32%)]\tLoss: 0.543600\n",
            "Train epoch: 177 [19200/50000 (38%)]\tLoss: 0.517472\n",
            "Train epoch: 177 [22400/50000 (45%)]\tLoss: 0.425616\n",
            "Train epoch: 177 [25600/50000 (51%)]\tLoss: 0.593451\n",
            "Train epoch: 177 [28800/50000 (58%)]\tLoss: 0.588014\n",
            "Train epoch: 177 [32000/50000 (64%)]\tLoss: 0.480868\n",
            "Train epoch: 177 [35200/50000 (70%)]\tLoss: 0.834196\n",
            "Train epoch: 177 [38400/50000 (77%)]\tLoss: 0.467284\n",
            "Train epoch: 177 [41600/50000 (83%)]\tLoss: 0.677437\n",
            "Train epoch: 177 [44800/50000 (90%)]\tLoss: 1.066760\n",
            "Train epoch: 177 [48000/50000 (96%)]\tLoss: 0.612044\n",
            "\n",
            "Test set: Average loss: 0.0053, Accuracy: 77.58999633789062 (78%)\n",
            "\n"
          ]
        },
        {
          "output_type": "stream",
          "name": "stderr",
          "text": [
            "/usr/local/lib/python3.10/dist-packages/torchvision/transforms/functional.py:1603: UserWarning: The default value of the antialias parameter of all the resizing transforms (Resize(), RandomResizedCrop(), etc.) will change from None to True in v0.17, in order to be consistent across the PIL and Tensor backends. To suppress this warning, directly pass antialias=True (recommended, future default), antialias=None (current default, which means False for Tensors and True for PIL), or antialias=False (only works on Tensors - PIL will still use antialiasing). This also applies if you are using the inference transforms from the models weights: update the call to weights.transforms(antialias=True).\n",
            "  warnings.warn(\n"
          ]
        },
        {
          "output_type": "stream",
          "name": "stdout",
          "text": [
            "\n",
            "Test set: Average loss: 0.0262, Accuracy: 24.25 (24%)\n",
            "\n",
            "Train epoch: 178 [0/50000 (0%)]\tLoss: 0.425891\n",
            "Train epoch: 178 [3200/50000 (6%)]\tLoss: 0.794496\n",
            "Train epoch: 178 [6400/50000 (13%)]\tLoss: 0.845803\n",
            "Train epoch: 178 [9600/50000 (19%)]\tLoss: 0.708300\n",
            "Train epoch: 178 [12800/50000 (26%)]\tLoss: 0.430188\n",
            "Train epoch: 178 [16000/50000 (32%)]\tLoss: 0.627004\n",
            "Train epoch: 178 [19200/50000 (38%)]\tLoss: 0.338631\n",
            "Train epoch: 178 [22400/50000 (45%)]\tLoss: 0.680132\n",
            "Train epoch: 178 [25600/50000 (51%)]\tLoss: 0.743336\n",
            "Train epoch: 178 [28800/50000 (58%)]\tLoss: 0.762243\n",
            "Train epoch: 178 [32000/50000 (64%)]\tLoss: 0.466629\n",
            "Train epoch: 178 [35200/50000 (70%)]\tLoss: 0.421729\n",
            "Train epoch: 178 [38400/50000 (77%)]\tLoss: 0.626957\n",
            "Train epoch: 178 [41600/50000 (83%)]\tLoss: 0.922355\n",
            "Train epoch: 178 [44800/50000 (90%)]\tLoss: 0.349144\n",
            "Train epoch: 178 [48000/50000 (96%)]\tLoss: 0.539213\n",
            "\n",
            "Test set: Average loss: 0.0053, Accuracy: 77.7699966430664 (78%)\n",
            "\n"
          ]
        },
        {
          "output_type": "stream",
          "name": "stderr",
          "text": [
            "/usr/local/lib/python3.10/dist-packages/torchvision/transforms/functional.py:1603: UserWarning: The default value of the antialias parameter of all the resizing transforms (Resize(), RandomResizedCrop(), etc.) will change from None to True in v0.17, in order to be consistent across the PIL and Tensor backends. To suppress this warning, directly pass antialias=True (recommended, future default), antialias=None (current default, which means False for Tensors and True for PIL), or antialias=False (only works on Tensors - PIL will still use antialiasing). This also applies if you are using the inference transforms from the models weights: update the call to weights.transforms(antialias=True).\n",
            "  warnings.warn(\n"
          ]
        },
        {
          "output_type": "stream",
          "name": "stdout",
          "text": [
            "\n",
            "Test set: Average loss: 0.0275, Accuracy: 24.860000610351562 (25%)\n",
            "\n",
            "Train epoch: 179 [0/50000 (0%)]\tLoss: 0.879374\n",
            "Train epoch: 179 [3200/50000 (6%)]\tLoss: 0.674074\n",
            "Train epoch: 179 [6400/50000 (13%)]\tLoss: 0.450721\n",
            "Train epoch: 179 [9600/50000 (19%)]\tLoss: 0.667897\n",
            "Train epoch: 179 [12800/50000 (26%)]\tLoss: 0.391764\n",
            "Train epoch: 179 [16000/50000 (32%)]\tLoss: 0.427666\n",
            "Train epoch: 179 [19200/50000 (38%)]\tLoss: 0.673459\n",
            "Train epoch: 179 [22400/50000 (45%)]\tLoss: 0.286398\n",
            "Train epoch: 179 [25600/50000 (51%)]\tLoss: 0.584733\n",
            "Train epoch: 179 [28800/50000 (58%)]\tLoss: 0.350355\n",
            "Train epoch: 179 [32000/50000 (64%)]\tLoss: 0.510058\n",
            "Train epoch: 179 [35200/50000 (70%)]\tLoss: 0.480300\n",
            "Train epoch: 179 [38400/50000 (77%)]\tLoss: 0.368808\n",
            "Train epoch: 179 [41600/50000 (83%)]\tLoss: 0.493901\n",
            "Train epoch: 179 [44800/50000 (90%)]\tLoss: 0.751970\n",
            "Train epoch: 179 [48000/50000 (96%)]\tLoss: 0.709835\n",
            "\n",
            "Test set: Average loss: 0.0051, Accuracy: 78.36000061035156 (78%)\n",
            "\n"
          ]
        },
        {
          "output_type": "stream",
          "name": "stderr",
          "text": [
            "/usr/local/lib/python3.10/dist-packages/torchvision/transforms/functional.py:1603: UserWarning: The default value of the antialias parameter of all the resizing transforms (Resize(), RandomResizedCrop(), etc.) will change from None to True in v0.17, in order to be consistent across the PIL and Tensor backends. To suppress this warning, directly pass antialias=True (recommended, future default), antialias=None (current default, which means False for Tensors and True for PIL), or antialias=False (only works on Tensors - PIL will still use antialiasing). This also applies if you are using the inference transforms from the models weights: update the call to weights.transforms(antialias=True).\n",
            "  warnings.warn(\n"
          ]
        },
        {
          "output_type": "stream",
          "name": "stdout",
          "text": [
            "\n",
            "Test set: Average loss: 0.0249, Accuracy: 24.920000076293945 (25%)\n",
            "\n",
            "Train epoch: 180 [0/50000 (0%)]\tLoss: 0.539803\n",
            "Train epoch: 180 [3200/50000 (6%)]\tLoss: 0.697917\n",
            "Train epoch: 180 [6400/50000 (13%)]\tLoss: 0.525568\n",
            "Train epoch: 180 [9600/50000 (19%)]\tLoss: 0.539981\n",
            "Train epoch: 180 [12800/50000 (26%)]\tLoss: 0.484680\n",
            "Train epoch: 180 [16000/50000 (32%)]\tLoss: 0.538076\n",
            "Train epoch: 180 [19200/50000 (38%)]\tLoss: 0.812398\n",
            "Train epoch: 180 [22400/50000 (45%)]\tLoss: 0.745481\n",
            "Train epoch: 180 [25600/50000 (51%)]\tLoss: 0.444111\n",
            "Train epoch: 180 [28800/50000 (58%)]\tLoss: 0.656237\n",
            "Train epoch: 180 [32000/50000 (64%)]\tLoss: 0.454797\n",
            "Train epoch: 180 [35200/50000 (70%)]\tLoss: 0.865038\n",
            "Train epoch: 180 [38400/50000 (77%)]\tLoss: 0.368418\n",
            "Train epoch: 180 [41600/50000 (83%)]\tLoss: 0.521874\n",
            "Train epoch: 180 [44800/50000 (90%)]\tLoss: 0.322428\n",
            "Train epoch: 180 [48000/50000 (96%)]\tLoss: 0.491389\n",
            "\n",
            "Test set: Average loss: 0.0054, Accuracy: 77.2699966430664 (77%)\n",
            "\n"
          ]
        },
        {
          "output_type": "stream",
          "name": "stderr",
          "text": [
            "/usr/local/lib/python3.10/dist-packages/torchvision/transforms/functional.py:1603: UserWarning: The default value of the antialias parameter of all the resizing transforms (Resize(), RandomResizedCrop(), etc.) will change from None to True in v0.17, in order to be consistent across the PIL and Tensor backends. To suppress this warning, directly pass antialias=True (recommended, future default), antialias=None (current default, which means False for Tensors and True for PIL), or antialias=False (only works on Tensors - PIL will still use antialiasing). This also applies if you are using the inference transforms from the models weights: update the call to weights.transforms(antialias=True).\n",
            "  warnings.warn(\n"
          ]
        },
        {
          "output_type": "stream",
          "name": "stdout",
          "text": [
            "\n",
            "Test set: Average loss: 0.0259, Accuracy: 23.8799991607666 (24%)\n",
            "\n",
            "\n",
            "    -------------------------------\n",
            "    Normal Data Saved: (180, 77.27)\n",
            "    -------------------------------\n",
            "    \n",
            "\n",
            "    --------------------------------\n",
            "    Altered Data Saved: (180, 23.88)\n",
            "    --------------------------------\n",
            "    \n",
            "Train epoch: 181 [0/50000 (0%)]\tLoss: 0.410292\n",
            "Train epoch: 181 [3200/50000 (6%)]\tLoss: 0.435753\n",
            "Train epoch: 181 [6400/50000 (13%)]\tLoss: 0.623167\n",
            "Train epoch: 181 [9600/50000 (19%)]\tLoss: 0.525298\n",
            "Train epoch: 181 [12800/50000 (26%)]\tLoss: 0.723431\n",
            "Train epoch: 181 [16000/50000 (32%)]\tLoss: 0.512508\n",
            "Train epoch: 181 [19200/50000 (38%)]\tLoss: 0.741727\n",
            "Train epoch: 181 [22400/50000 (45%)]\tLoss: 0.462098\n",
            "Train epoch: 181 [25600/50000 (51%)]\tLoss: 0.626562\n",
            "Train epoch: 181 [28800/50000 (58%)]\tLoss: 0.483985\n",
            "Train epoch: 181 [32000/50000 (64%)]\tLoss: 0.364510\n",
            "Train epoch: 181 [35200/50000 (70%)]\tLoss: 0.819854\n",
            "Train epoch: 181 [38400/50000 (77%)]\tLoss: 0.580805\n",
            "Train epoch: 181 [41600/50000 (83%)]\tLoss: 0.494512\n",
            "Train epoch: 181 [44800/50000 (90%)]\tLoss: 0.520979\n",
            "Train epoch: 181 [48000/50000 (96%)]\tLoss: 0.829749\n",
            "\n",
            "Test set: Average loss: 0.0056, Accuracy: 76.81999969482422 (77%)\n",
            "\n"
          ]
        },
        {
          "output_type": "stream",
          "name": "stderr",
          "text": [
            "/usr/local/lib/python3.10/dist-packages/torchvision/transforms/functional.py:1603: UserWarning: The default value of the antialias parameter of all the resizing transforms (Resize(), RandomResizedCrop(), etc.) will change from None to True in v0.17, in order to be consistent across the PIL and Tensor backends. To suppress this warning, directly pass antialias=True (recommended, future default), antialias=None (current default, which means False for Tensors and True for PIL), or antialias=False (only works on Tensors - PIL will still use antialiasing). This also applies if you are using the inference transforms from the models weights: update the call to weights.transforms(antialias=True).\n",
            "  warnings.warn(\n"
          ]
        },
        {
          "output_type": "stream",
          "name": "stdout",
          "text": [
            "\n",
            "Test set: Average loss: 0.0258, Accuracy: 24.270000457763672 (24%)\n",
            "\n",
            "Train epoch: 182 [0/50000 (0%)]\tLoss: 0.482440\n",
            "Train epoch: 182 [3200/50000 (6%)]\tLoss: 0.683426\n",
            "Train epoch: 182 [6400/50000 (13%)]\tLoss: 0.274429\n",
            "Train epoch: 182 [9600/50000 (19%)]\tLoss: 0.442786\n",
            "Train epoch: 182 [12800/50000 (26%)]\tLoss: 0.686310\n",
            "Train epoch: 182 [16000/50000 (32%)]\tLoss: 0.431769\n",
            "Train epoch: 182 [19200/50000 (38%)]\tLoss: 0.463790\n",
            "Train epoch: 182 [22400/50000 (45%)]\tLoss: 0.570470\n",
            "Train epoch: 182 [25600/50000 (51%)]\tLoss: 0.766149\n",
            "Train epoch: 182 [28800/50000 (58%)]\tLoss: 0.543501\n",
            "Train epoch: 182 [32000/50000 (64%)]\tLoss: 0.658733\n",
            "Train epoch: 182 [35200/50000 (70%)]\tLoss: 0.549128\n",
            "Train epoch: 182 [38400/50000 (77%)]\tLoss: 0.664838\n",
            "Train epoch: 182 [41600/50000 (83%)]\tLoss: 0.582511\n",
            "Train epoch: 182 [44800/50000 (90%)]\tLoss: 0.649608\n",
            "Train epoch: 182 [48000/50000 (96%)]\tLoss: 0.309307\n",
            "\n",
            "Test set: Average loss: 0.0054, Accuracy: 77.55999755859375 (78%)\n",
            "\n"
          ]
        },
        {
          "output_type": "stream",
          "name": "stderr",
          "text": [
            "/usr/local/lib/python3.10/dist-packages/torchvision/transforms/functional.py:1603: UserWarning: The default value of the antialias parameter of all the resizing transforms (Resize(), RandomResizedCrop(), etc.) will change from None to True in v0.17, in order to be consistent across the PIL and Tensor backends. To suppress this warning, directly pass antialias=True (recommended, future default), antialias=None (current default, which means False for Tensors and True for PIL), or antialias=False (only works on Tensors - PIL will still use antialiasing). This also applies if you are using the inference transforms from the models weights: update the call to weights.transforms(antialias=True).\n",
            "  warnings.warn(\n"
          ]
        },
        {
          "output_type": "stream",
          "name": "stdout",
          "text": [
            "\n",
            "Test set: Average loss: 0.0257, Accuracy: 23.790000915527344 (24%)\n",
            "\n",
            "Train epoch: 183 [0/50000 (0%)]\tLoss: 0.631533\n",
            "Train epoch: 183 [3200/50000 (6%)]\tLoss: 0.684493\n",
            "Train epoch: 183 [6400/50000 (13%)]\tLoss: 0.707691\n",
            "Train epoch: 183 [9600/50000 (19%)]\tLoss: 0.377111\n",
            "Train epoch: 183 [12800/50000 (26%)]\tLoss: 0.604388\n",
            "Train epoch: 183 [16000/50000 (32%)]\tLoss: 0.510855\n",
            "Train epoch: 183 [19200/50000 (38%)]\tLoss: 0.560402\n",
            "Train epoch: 183 [22400/50000 (45%)]\tLoss: 0.532313\n",
            "Train epoch: 183 [25600/50000 (51%)]\tLoss: 0.536918\n",
            "Train epoch: 183 [28800/50000 (58%)]\tLoss: 0.485030\n",
            "Train epoch: 183 [32000/50000 (64%)]\tLoss: 0.427082\n",
            "Train epoch: 183 [35200/50000 (70%)]\tLoss: 0.613240\n",
            "Train epoch: 183 [38400/50000 (77%)]\tLoss: 0.733451\n",
            "Train epoch: 183 [41600/50000 (83%)]\tLoss: 0.617693\n",
            "Train epoch: 183 [44800/50000 (90%)]\tLoss: 0.591154\n",
            "Train epoch: 183 [48000/50000 (96%)]\tLoss: 0.453923\n",
            "\n",
            "Test set: Average loss: 0.0052, Accuracy: 78.48999786376953 (78%)\n",
            "\n"
          ]
        },
        {
          "output_type": "stream",
          "name": "stderr",
          "text": [
            "/usr/local/lib/python3.10/dist-packages/torchvision/transforms/functional.py:1603: UserWarning: The default value of the antialias parameter of all the resizing transforms (Resize(), RandomResizedCrop(), etc.) will change from None to True in v0.17, in order to be consistent across the PIL and Tensor backends. To suppress this warning, directly pass antialias=True (recommended, future default), antialias=None (current default, which means False for Tensors and True for PIL), or antialias=False (only works on Tensors - PIL will still use antialiasing). This also applies if you are using the inference transforms from the models weights: update the call to weights.transforms(antialias=True).\n",
            "  warnings.warn(\n"
          ]
        },
        {
          "output_type": "stream",
          "name": "stdout",
          "text": [
            "\n",
            "Test set: Average loss: 0.0259, Accuracy: 25.25 (25%)\n",
            "\n",
            "Train epoch: 184 [0/50000 (0%)]\tLoss: 0.584738\n",
            "Train epoch: 184 [3200/50000 (6%)]\tLoss: 0.594572\n",
            "Train epoch: 184 [6400/50000 (13%)]\tLoss: 0.659444\n",
            "Train epoch: 184 [9600/50000 (19%)]\tLoss: 0.591848\n",
            "Train epoch: 184 [12800/50000 (26%)]\tLoss: 0.443757\n",
            "Train epoch: 184 [16000/50000 (32%)]\tLoss: 0.365981\n",
            "Train epoch: 184 [19200/50000 (38%)]\tLoss: 0.342156\n",
            "Train epoch: 184 [22400/50000 (45%)]\tLoss: 1.092439\n",
            "Train epoch: 184 [25600/50000 (51%)]\tLoss: 0.379328\n",
            "Train epoch: 184 [28800/50000 (58%)]\tLoss: 0.576111\n",
            "Train epoch: 184 [32000/50000 (64%)]\tLoss: 0.384635\n",
            "Train epoch: 184 [35200/50000 (70%)]\tLoss: 0.610404\n",
            "Train epoch: 184 [38400/50000 (77%)]\tLoss: 0.738966\n",
            "Train epoch: 184 [41600/50000 (83%)]\tLoss: 0.583088\n",
            "Train epoch: 184 [44800/50000 (90%)]\tLoss: 0.731546\n",
            "Train epoch: 184 [48000/50000 (96%)]\tLoss: 0.517557\n",
            "\n",
            "Test set: Average loss: 0.0053, Accuracy: 78.05999755859375 (78%)\n",
            "\n"
          ]
        },
        {
          "output_type": "stream",
          "name": "stderr",
          "text": [
            "/usr/local/lib/python3.10/dist-packages/torchvision/transforms/functional.py:1603: UserWarning: The default value of the antialias parameter of all the resizing transforms (Resize(), RandomResizedCrop(), etc.) will change from None to True in v0.17, in order to be consistent across the PIL and Tensor backends. To suppress this warning, directly pass antialias=True (recommended, future default), antialias=None (current default, which means False for Tensors and True for PIL), or antialias=False (only works on Tensors - PIL will still use antialiasing). This also applies if you are using the inference transforms from the models weights: update the call to weights.transforms(antialias=True).\n",
            "  warnings.warn(\n"
          ]
        },
        {
          "output_type": "stream",
          "name": "stdout",
          "text": [
            "\n",
            "Test set: Average loss: 0.0279, Accuracy: 24.030000686645508 (24%)\n",
            "\n",
            "Train epoch: 185 [0/50000 (0%)]\tLoss: 0.694580\n",
            "Train epoch: 185 [3200/50000 (6%)]\tLoss: 0.571432\n",
            "Train epoch: 185 [6400/50000 (13%)]\tLoss: 0.523032\n",
            "Train epoch: 185 [9600/50000 (19%)]\tLoss: 0.603366\n",
            "Train epoch: 185 [12800/50000 (26%)]\tLoss: 0.354868\n",
            "Train epoch: 185 [16000/50000 (32%)]\tLoss: 0.503200\n",
            "Train epoch: 185 [19200/50000 (38%)]\tLoss: 0.610142\n",
            "Train epoch: 185 [22400/50000 (45%)]\tLoss: 0.519337\n",
            "Train epoch: 185 [25600/50000 (51%)]\tLoss: 0.537303\n",
            "Train epoch: 185 [28800/50000 (58%)]\tLoss: 0.469571\n",
            "Train epoch: 185 [32000/50000 (64%)]\tLoss: 0.773406\n",
            "Train epoch: 185 [35200/50000 (70%)]\tLoss: 0.762395\n",
            "Train epoch: 185 [38400/50000 (77%)]\tLoss: 0.390314\n",
            "Train epoch: 185 [41600/50000 (83%)]\tLoss: 0.579598\n",
            "Train epoch: 185 [44800/50000 (90%)]\tLoss: 0.725569\n",
            "Train epoch: 185 [48000/50000 (96%)]\tLoss: 0.575797\n",
            "\n",
            "Test set: Average loss: 0.0053, Accuracy: 78.26000213623047 (78%)\n",
            "\n"
          ]
        },
        {
          "output_type": "stream",
          "name": "stderr",
          "text": [
            "/usr/local/lib/python3.10/dist-packages/torchvision/transforms/functional.py:1603: UserWarning: The default value of the antialias parameter of all the resizing transforms (Resize(), RandomResizedCrop(), etc.) will change from None to True in v0.17, in order to be consistent across the PIL and Tensor backends. To suppress this warning, directly pass antialias=True (recommended, future default), antialias=None (current default, which means False for Tensors and True for PIL), or antialias=False (only works on Tensors - PIL will still use antialiasing). This also applies if you are using the inference transforms from the models weights: update the call to weights.transforms(antialias=True).\n",
            "  warnings.warn(\n"
          ]
        },
        {
          "output_type": "stream",
          "name": "stdout",
          "text": [
            "\n",
            "Test set: Average loss: 0.0283, Accuracy: 22.350000381469727 (22%)\n",
            "\n",
            "Train epoch: 186 [0/50000 (0%)]\tLoss: 0.349223\n",
            "Train epoch: 186 [3200/50000 (6%)]\tLoss: 0.520857\n",
            "Train epoch: 186 [6400/50000 (13%)]\tLoss: 0.333911\n",
            "Train epoch: 186 [9600/50000 (19%)]\tLoss: 0.347561\n",
            "Train epoch: 186 [12800/50000 (26%)]\tLoss: 0.498453\n",
            "Train epoch: 186 [16000/50000 (32%)]\tLoss: 0.628886\n",
            "Train epoch: 186 [19200/50000 (38%)]\tLoss: 0.609978\n",
            "Train epoch: 186 [22400/50000 (45%)]\tLoss: 0.815125\n",
            "Train epoch: 186 [25600/50000 (51%)]\tLoss: 0.309486\n",
            "Train epoch: 186 [28800/50000 (58%)]\tLoss: 1.032689\n",
            "Train epoch: 186 [32000/50000 (64%)]\tLoss: 0.450309\n",
            "Train epoch: 186 [35200/50000 (70%)]\tLoss: 0.501307\n",
            "Train epoch: 186 [38400/50000 (77%)]\tLoss: 0.583524\n",
            "Train epoch: 186 [41600/50000 (83%)]\tLoss: 0.304150\n",
            "Train epoch: 186 [44800/50000 (90%)]\tLoss: 0.238634\n",
            "Train epoch: 186 [48000/50000 (96%)]\tLoss: 0.617130\n",
            "\n",
            "Test set: Average loss: 0.0051, Accuracy: 78.37999725341797 (78%)\n",
            "\n"
          ]
        },
        {
          "output_type": "stream",
          "name": "stderr",
          "text": [
            "/usr/local/lib/python3.10/dist-packages/torchvision/transforms/functional.py:1603: UserWarning: The default value of the antialias parameter of all the resizing transforms (Resize(), RandomResizedCrop(), etc.) will change from None to True in v0.17, in order to be consistent across the PIL and Tensor backends. To suppress this warning, directly pass antialias=True (recommended, future default), antialias=None (current default, which means False for Tensors and True for PIL), or antialias=False (only works on Tensors - PIL will still use antialiasing). This also applies if you are using the inference transforms from the models weights: update the call to weights.transforms(antialias=True).\n",
            "  warnings.warn(\n"
          ]
        },
        {
          "output_type": "stream",
          "name": "stdout",
          "text": [
            "\n",
            "Test set: Average loss: 0.0274, Accuracy: 24.1299991607666 (24%)\n",
            "\n",
            "Train epoch: 187 [0/50000 (0%)]\tLoss: 0.333718\n",
            "Train epoch: 187 [3200/50000 (6%)]\tLoss: 0.334697\n",
            "Train epoch: 187 [6400/50000 (13%)]\tLoss: 0.500160\n",
            "Train epoch: 187 [9600/50000 (19%)]\tLoss: 0.565853\n",
            "Train epoch: 187 [12800/50000 (26%)]\tLoss: 0.529233\n",
            "Train epoch: 187 [16000/50000 (32%)]\tLoss: 0.723546\n",
            "Train epoch: 187 [19200/50000 (38%)]\tLoss: 0.923428\n",
            "Train epoch: 187 [22400/50000 (45%)]\tLoss: 0.396954\n",
            "Train epoch: 187 [25600/50000 (51%)]\tLoss: 0.889432\n",
            "Train epoch: 187 [28800/50000 (58%)]\tLoss: 0.523376\n",
            "Train epoch: 187 [32000/50000 (64%)]\tLoss: 0.658145\n",
            "Train epoch: 187 [35200/50000 (70%)]\tLoss: 0.689378\n",
            "Train epoch: 187 [38400/50000 (77%)]\tLoss: 0.569223\n",
            "Train epoch: 187 [41600/50000 (83%)]\tLoss: 0.679889\n",
            "Train epoch: 187 [44800/50000 (90%)]\tLoss: 0.601542\n",
            "Train epoch: 187 [48000/50000 (96%)]\tLoss: 0.613567\n",
            "\n",
            "Test set: Average loss: 0.0051, Accuracy: 78.62000274658203 (79%)\n",
            "\n"
          ]
        },
        {
          "output_type": "stream",
          "name": "stderr",
          "text": [
            "/usr/local/lib/python3.10/dist-packages/torchvision/transforms/functional.py:1603: UserWarning: The default value of the antialias parameter of all the resizing transforms (Resize(), RandomResizedCrop(), etc.) will change from None to True in v0.17, in order to be consistent across the PIL and Tensor backends. To suppress this warning, directly pass antialias=True (recommended, future default), antialias=None (current default, which means False for Tensors and True for PIL), or antialias=False (only works on Tensors - PIL will still use antialiasing). This also applies if you are using the inference transforms from the models weights: update the call to weights.transforms(antialias=True).\n",
            "  warnings.warn(\n"
          ]
        },
        {
          "output_type": "stream",
          "name": "stdout",
          "text": [
            "\n",
            "Test set: Average loss: 0.0285, Accuracy: 22.809999465942383 (23%)\n",
            "\n",
            "Train epoch: 188 [0/50000 (0%)]\tLoss: 0.640088\n",
            "Train epoch: 188 [3200/50000 (6%)]\tLoss: 0.288199\n",
            "Train epoch: 188 [6400/50000 (13%)]\tLoss: 0.503408\n",
            "Train epoch: 188 [9600/50000 (19%)]\tLoss: 0.408940\n",
            "Train epoch: 188 [12800/50000 (26%)]\tLoss: 0.653201\n",
            "Train epoch: 188 [16000/50000 (32%)]\tLoss: 0.708706\n",
            "Train epoch: 188 [19200/50000 (38%)]\tLoss: 0.200452\n",
            "Train epoch: 188 [22400/50000 (45%)]\tLoss: 0.517752\n",
            "Train epoch: 188 [25600/50000 (51%)]\tLoss: 0.270345\n",
            "Train epoch: 188 [28800/50000 (58%)]\tLoss: 0.732473\n",
            "Train epoch: 188 [32000/50000 (64%)]\tLoss: 0.625641\n",
            "Train epoch: 188 [35200/50000 (70%)]\tLoss: 0.747358\n",
            "Train epoch: 188 [38400/50000 (77%)]\tLoss: 0.520678\n",
            "Train epoch: 188 [41600/50000 (83%)]\tLoss: 0.894318\n",
            "Train epoch: 188 [44800/50000 (90%)]\tLoss: 0.349372\n",
            "Train epoch: 188 [48000/50000 (96%)]\tLoss: 0.454588\n",
            "\n",
            "Test set: Average loss: 0.0050, Accuracy: 78.55000305175781 (79%)\n",
            "\n"
          ]
        },
        {
          "output_type": "stream",
          "name": "stderr",
          "text": [
            "/usr/local/lib/python3.10/dist-packages/torchvision/transforms/functional.py:1603: UserWarning: The default value of the antialias parameter of all the resizing transforms (Resize(), RandomResizedCrop(), etc.) will change from None to True in v0.17, in order to be consistent across the PIL and Tensor backends. To suppress this warning, directly pass antialias=True (recommended, future default), antialias=None (current default, which means False for Tensors and True for PIL), or antialias=False (only works on Tensors - PIL will still use antialiasing). This also applies if you are using the inference transforms from the models weights: update the call to weights.transforms(antialias=True).\n",
            "  warnings.warn(\n"
          ]
        },
        {
          "output_type": "stream",
          "name": "stdout",
          "text": [
            "\n",
            "Test set: Average loss: 0.0246, Accuracy: 26.920000076293945 (27%)\n",
            "\n",
            "Train epoch: 189 [0/50000 (0%)]\tLoss: 0.734116\n",
            "Train epoch: 189 [3200/50000 (6%)]\tLoss: 0.534777\n",
            "Train epoch: 189 [6400/50000 (13%)]\tLoss: 0.614468\n",
            "Train epoch: 189 [9600/50000 (19%)]\tLoss: 0.321443\n",
            "Train epoch: 189 [12800/50000 (26%)]\tLoss: 0.424859\n",
            "Train epoch: 189 [16000/50000 (32%)]\tLoss: 0.447130\n",
            "Train epoch: 189 [19200/50000 (38%)]\tLoss: 0.525118\n",
            "Train epoch: 189 [22400/50000 (45%)]\tLoss: 0.571034\n",
            "Train epoch: 189 [25600/50000 (51%)]\tLoss: 0.425521\n",
            "Train epoch: 189 [28800/50000 (58%)]\tLoss: 0.406982\n",
            "Train epoch: 189 [32000/50000 (64%)]\tLoss: 0.627388\n",
            "Train epoch: 189 [35200/50000 (70%)]\tLoss: 0.299951\n",
            "Train epoch: 189 [38400/50000 (77%)]\tLoss: 0.623793\n",
            "Train epoch: 189 [41600/50000 (83%)]\tLoss: 0.204930\n",
            "Train epoch: 189 [44800/50000 (90%)]\tLoss: 0.533312\n",
            "Train epoch: 189 [48000/50000 (96%)]\tLoss: 0.588941\n",
            "\n",
            "Test set: Average loss: 0.0050, Accuracy: 78.41000366210938 (78%)\n",
            "\n"
          ]
        },
        {
          "output_type": "stream",
          "name": "stderr",
          "text": [
            "/usr/local/lib/python3.10/dist-packages/torchvision/transforms/functional.py:1603: UserWarning: The default value of the antialias parameter of all the resizing transforms (Resize(), RandomResizedCrop(), etc.) will change from None to True in v0.17, in order to be consistent across the PIL and Tensor backends. To suppress this warning, directly pass antialias=True (recommended, future default), antialias=None (current default, which means False for Tensors and True for PIL), or antialias=False (only works on Tensors - PIL will still use antialiasing). This also applies if you are using the inference transforms from the models weights: update the call to weights.transforms(antialias=True).\n",
            "  warnings.warn(\n"
          ]
        },
        {
          "output_type": "stream",
          "name": "stdout",
          "text": [
            "\n",
            "Test set: Average loss: 0.0252, Accuracy: 25.149999618530273 (25%)\n",
            "\n",
            "Train epoch: 190 [0/50000 (0%)]\tLoss: 0.664262\n",
            "Train epoch: 190 [3200/50000 (6%)]\tLoss: 0.443062\n",
            "Train epoch: 190 [6400/50000 (13%)]\tLoss: 0.900486\n",
            "Train epoch: 190 [9600/50000 (19%)]\tLoss: 0.757586\n",
            "Train epoch: 190 [12800/50000 (26%)]\tLoss: 0.549499\n",
            "Train epoch: 190 [16000/50000 (32%)]\tLoss: 0.671614\n",
            "Train epoch: 190 [19200/50000 (38%)]\tLoss: 0.661361\n",
            "Train epoch: 190 [22400/50000 (45%)]\tLoss: 0.431219\n",
            "Train epoch: 190 [25600/50000 (51%)]\tLoss: 0.625800\n",
            "Train epoch: 190 [28800/50000 (58%)]\tLoss: 0.775108\n",
            "Train epoch: 190 [32000/50000 (64%)]\tLoss: 0.588399\n",
            "Train epoch: 190 [35200/50000 (70%)]\tLoss: 0.460954\n",
            "Train epoch: 190 [38400/50000 (77%)]\tLoss: 0.515676\n",
            "Train epoch: 190 [41600/50000 (83%)]\tLoss: 0.596969\n",
            "Train epoch: 190 [44800/50000 (90%)]\tLoss: 0.780252\n",
            "Train epoch: 190 [48000/50000 (96%)]\tLoss: 0.445498\n",
            "\n",
            "Test set: Average loss: 0.0050, Accuracy: 79.08000183105469 (79%)\n",
            "\n"
          ]
        },
        {
          "output_type": "stream",
          "name": "stderr",
          "text": [
            "/usr/local/lib/python3.10/dist-packages/torchvision/transforms/functional.py:1603: UserWarning: The default value of the antialias parameter of all the resizing transforms (Resize(), RandomResizedCrop(), etc.) will change from None to True in v0.17, in order to be consistent across the PIL and Tensor backends. To suppress this warning, directly pass antialias=True (recommended, future default), antialias=None (current default, which means False for Tensors and True for PIL), or antialias=False (only works on Tensors - PIL will still use antialiasing). This also applies if you are using the inference transforms from the models weights: update the call to weights.transforms(antialias=True).\n",
            "  warnings.warn(\n"
          ]
        },
        {
          "output_type": "stream",
          "name": "stdout",
          "text": [
            "\n",
            "Test set: Average loss: 0.0260, Accuracy: 23.979999542236328 (24%)\n",
            "\n",
            "\n",
            "    -------------------------------\n",
            "    Normal Data Saved: (190, 79.08)\n",
            "    -------------------------------\n",
            "    \n",
            "\n",
            "    --------------------------------\n",
            "    Altered Data Saved: (190, 23.98)\n",
            "    --------------------------------\n",
            "    \n",
            "Train epoch: 191 [0/50000 (0%)]\tLoss: 0.343018\n",
            "Train epoch: 191 [3200/50000 (6%)]\tLoss: 0.484254\n",
            "Train epoch: 191 [6400/50000 (13%)]\tLoss: 0.548377\n",
            "Train epoch: 191 [9600/50000 (19%)]\tLoss: 0.449799\n",
            "Train epoch: 191 [12800/50000 (26%)]\tLoss: 0.527938\n",
            "Train epoch: 191 [16000/50000 (32%)]\tLoss: 0.631398\n",
            "Train epoch: 191 [19200/50000 (38%)]\tLoss: 0.845512\n",
            "Train epoch: 191 [22400/50000 (45%)]\tLoss: 0.370644\n",
            "Train epoch: 191 [25600/50000 (51%)]\tLoss: 0.430059\n",
            "Train epoch: 191 [28800/50000 (58%)]\tLoss: 0.437513\n",
            "Train epoch: 191 [32000/50000 (64%)]\tLoss: 0.677926\n",
            "Train epoch: 191 [35200/50000 (70%)]\tLoss: 0.485366\n",
            "Train epoch: 191 [38400/50000 (77%)]\tLoss: 0.318089\n",
            "Train epoch: 191 [41600/50000 (83%)]\tLoss: 0.678880\n",
            "Train epoch: 191 [44800/50000 (90%)]\tLoss: 0.815667\n",
            "Train epoch: 191 [48000/50000 (96%)]\tLoss: 0.549229\n",
            "\n",
            "Test set: Average loss: 0.0051, Accuracy: 78.19000244140625 (78%)\n",
            "\n"
          ]
        },
        {
          "output_type": "stream",
          "name": "stderr",
          "text": [
            "/usr/local/lib/python3.10/dist-packages/torchvision/transforms/functional.py:1603: UserWarning: The default value of the antialias parameter of all the resizing transforms (Resize(), RandomResizedCrop(), etc.) will change from None to True in v0.17, in order to be consistent across the PIL and Tensor backends. To suppress this warning, directly pass antialias=True (recommended, future default), antialias=None (current default, which means False for Tensors and True for PIL), or antialias=False (only works on Tensors - PIL will still use antialiasing). This also applies if you are using the inference transforms from the models weights: update the call to weights.transforms(antialias=True).\n",
            "  warnings.warn(\n"
          ]
        },
        {
          "output_type": "stream",
          "name": "stdout",
          "text": [
            "\n",
            "Test set: Average loss: 0.0269, Accuracy: 22.200000762939453 (22%)\n",
            "\n",
            "Train epoch: 192 [0/50000 (0%)]\tLoss: 0.362796\n",
            "Train epoch: 192 [3200/50000 (6%)]\tLoss: 0.533093\n",
            "Train epoch: 192 [6400/50000 (13%)]\tLoss: 0.591941\n",
            "Train epoch: 192 [9600/50000 (19%)]\tLoss: 0.731837\n",
            "Train epoch: 192 [12800/50000 (26%)]\tLoss: 0.753257\n",
            "Train epoch: 192 [16000/50000 (32%)]\tLoss: 0.400952\n",
            "Train epoch: 192 [19200/50000 (38%)]\tLoss: 0.261228\n",
            "Train epoch: 192 [22400/50000 (45%)]\tLoss: 0.784014\n",
            "Train epoch: 192 [25600/50000 (51%)]\tLoss: 0.381125\n",
            "Train epoch: 192 [28800/50000 (58%)]\tLoss: 0.530469\n",
            "Train epoch: 192 [32000/50000 (64%)]\tLoss: 0.753116\n",
            "Train epoch: 192 [35200/50000 (70%)]\tLoss: 0.789212\n",
            "Train epoch: 192 [38400/50000 (77%)]\tLoss: 0.407852\n",
            "Train epoch: 192 [41600/50000 (83%)]\tLoss: 0.381675\n",
            "Train epoch: 192 [44800/50000 (90%)]\tLoss: 0.415864\n",
            "Train epoch: 192 [48000/50000 (96%)]\tLoss: 0.533568\n",
            "\n",
            "Test set: Average loss: 0.0049, Accuracy: 78.94999694824219 (79%)\n",
            "\n"
          ]
        },
        {
          "output_type": "stream",
          "name": "stderr",
          "text": [
            "/usr/local/lib/python3.10/dist-packages/torchvision/transforms/functional.py:1603: UserWarning: The default value of the antialias parameter of all the resizing transforms (Resize(), RandomResizedCrop(), etc.) will change from None to True in v0.17, in order to be consistent across the PIL and Tensor backends. To suppress this warning, directly pass antialias=True (recommended, future default), antialias=None (current default, which means False for Tensors and True for PIL), or antialias=False (only works on Tensors - PIL will still use antialiasing). This also applies if you are using the inference transforms from the models weights: update the call to weights.transforms(antialias=True).\n",
            "  warnings.warn(\n"
          ]
        },
        {
          "output_type": "stream",
          "name": "stdout",
          "text": [
            "\n",
            "Test set: Average loss: 0.0274, Accuracy: 23.489999771118164 (23%)\n",
            "\n",
            "Train epoch: 193 [0/50000 (0%)]\tLoss: 0.325761\n",
            "Train epoch: 193 [3200/50000 (6%)]\tLoss: 0.416279\n",
            "Train epoch: 193 [6400/50000 (13%)]\tLoss: 0.524354\n",
            "Train epoch: 193 [9600/50000 (19%)]\tLoss: 0.305864\n",
            "Train epoch: 193 [12800/50000 (26%)]\tLoss: 0.716449\n",
            "Train epoch: 193 [16000/50000 (32%)]\tLoss: 0.428245\n",
            "Train epoch: 193 [19200/50000 (38%)]\tLoss: 0.540187\n",
            "Train epoch: 193 [22400/50000 (45%)]\tLoss: 0.292941\n",
            "Train epoch: 193 [25600/50000 (51%)]\tLoss: 0.393317\n",
            "Train epoch: 193 [28800/50000 (58%)]\tLoss: 0.421295\n",
            "Train epoch: 193 [32000/50000 (64%)]\tLoss: 0.462435\n",
            "Train epoch: 193 [35200/50000 (70%)]\tLoss: 0.418664\n",
            "Train epoch: 193 [38400/50000 (77%)]\tLoss: 0.371903\n",
            "Train epoch: 193 [41600/50000 (83%)]\tLoss: 0.662383\n",
            "Train epoch: 193 [44800/50000 (90%)]\tLoss: 0.831325\n",
            "Train epoch: 193 [48000/50000 (96%)]\tLoss: 0.737411\n",
            "\n",
            "Test set: Average loss: 0.0051, Accuracy: 78.81999969482422 (79%)\n",
            "\n"
          ]
        },
        {
          "output_type": "stream",
          "name": "stderr",
          "text": [
            "/usr/local/lib/python3.10/dist-packages/torchvision/transforms/functional.py:1603: UserWarning: The default value of the antialias parameter of all the resizing transforms (Resize(), RandomResizedCrop(), etc.) will change from None to True in v0.17, in order to be consistent across the PIL and Tensor backends. To suppress this warning, directly pass antialias=True (recommended, future default), antialias=None (current default, which means False for Tensors and True for PIL), or antialias=False (only works on Tensors - PIL will still use antialiasing). This also applies if you are using the inference transforms from the models weights: update the call to weights.transforms(antialias=True).\n",
            "  warnings.warn(\n"
          ]
        },
        {
          "output_type": "stream",
          "name": "stdout",
          "text": [
            "\n",
            "Test set: Average loss: 0.0246, Accuracy: 26.329999923706055 (26%)\n",
            "\n",
            "Train epoch: 194 [0/50000 (0%)]\tLoss: 0.624003\n",
            "Train epoch: 194 [3200/50000 (6%)]\tLoss: 0.158025\n",
            "Train epoch: 194 [6400/50000 (13%)]\tLoss: 0.567921\n",
            "Train epoch: 194 [9600/50000 (19%)]\tLoss: 0.602749\n",
            "Train epoch: 194 [12800/50000 (26%)]\tLoss: 0.515812\n",
            "Train epoch: 194 [16000/50000 (32%)]\tLoss: 0.534981\n",
            "Train epoch: 194 [19200/50000 (38%)]\tLoss: 0.893698\n",
            "Train epoch: 194 [22400/50000 (45%)]\tLoss: 0.330271\n",
            "Train epoch: 194 [25600/50000 (51%)]\tLoss: 0.922022\n",
            "Train epoch: 194 [28800/50000 (58%)]\tLoss: 0.488773\n",
            "Train epoch: 194 [32000/50000 (64%)]\tLoss: 0.516163\n",
            "Train epoch: 194 [35200/50000 (70%)]\tLoss: 0.480307\n",
            "Train epoch: 194 [38400/50000 (77%)]\tLoss: 0.524473\n",
            "Train epoch: 194 [41600/50000 (83%)]\tLoss: 0.282433\n",
            "Train epoch: 194 [44800/50000 (90%)]\tLoss: 0.516536\n",
            "Train epoch: 194 [48000/50000 (96%)]\tLoss: 0.274611\n",
            "\n",
            "Test set: Average loss: 0.0050, Accuracy: 79.38999938964844 (79%)\n",
            "\n"
          ]
        },
        {
          "output_type": "stream",
          "name": "stderr",
          "text": [
            "/usr/local/lib/python3.10/dist-packages/torchvision/transforms/functional.py:1603: UserWarning: The default value of the antialias parameter of all the resizing transforms (Resize(), RandomResizedCrop(), etc.) will change from None to True in v0.17, in order to be consistent across the PIL and Tensor backends. To suppress this warning, directly pass antialias=True (recommended, future default), antialias=None (current default, which means False for Tensors and True for PIL), or antialias=False (only works on Tensors - PIL will still use antialiasing). This also applies if you are using the inference transforms from the models weights: update the call to weights.transforms(antialias=True).\n",
            "  warnings.warn(\n"
          ]
        },
        {
          "output_type": "stream",
          "name": "stdout",
          "text": [
            "\n",
            "Test set: Average loss: 0.0265, Accuracy: 24.200000762939453 (24%)\n",
            "\n",
            "Train epoch: 195 [0/50000 (0%)]\tLoss: 0.412430\n",
            "Train epoch: 195 [3200/50000 (6%)]\tLoss: 0.457984\n",
            "Train epoch: 195 [6400/50000 (13%)]\tLoss: 0.354399\n",
            "Train epoch: 195 [9600/50000 (19%)]\tLoss: 0.462524\n",
            "Train epoch: 195 [12800/50000 (26%)]\tLoss: 0.732824\n",
            "Train epoch: 195 [16000/50000 (32%)]\tLoss: 0.612214\n",
            "Train epoch: 195 [19200/50000 (38%)]\tLoss: 0.894824\n",
            "Train epoch: 195 [22400/50000 (45%)]\tLoss: 0.631664\n",
            "Train epoch: 195 [25600/50000 (51%)]\tLoss: 0.692510\n",
            "Train epoch: 195 [28800/50000 (58%)]\tLoss: 0.395314\n",
            "Train epoch: 195 [32000/50000 (64%)]\tLoss: 0.530931\n",
            "Train epoch: 195 [35200/50000 (70%)]\tLoss: 0.869377\n",
            "Train epoch: 195 [38400/50000 (77%)]\tLoss: 0.413200\n",
            "Train epoch: 195 [41600/50000 (83%)]\tLoss: 0.815658\n",
            "Train epoch: 195 [44800/50000 (90%)]\tLoss: 0.494307\n",
            "Train epoch: 195 [48000/50000 (96%)]\tLoss: 0.417884\n",
            "\n",
            "Test set: Average loss: 0.0051, Accuracy: 78.44999694824219 (78%)\n",
            "\n"
          ]
        },
        {
          "output_type": "stream",
          "name": "stderr",
          "text": [
            "/usr/local/lib/python3.10/dist-packages/torchvision/transforms/functional.py:1603: UserWarning: The default value of the antialias parameter of all the resizing transforms (Resize(), RandomResizedCrop(), etc.) will change from None to True in v0.17, in order to be consistent across the PIL and Tensor backends. To suppress this warning, directly pass antialias=True (recommended, future default), antialias=None (current default, which means False for Tensors and True for PIL), or antialias=False (only works on Tensors - PIL will still use antialiasing). This also applies if you are using the inference transforms from the models weights: update the call to weights.transforms(antialias=True).\n",
            "  warnings.warn(\n"
          ]
        },
        {
          "output_type": "stream",
          "name": "stdout",
          "text": [
            "\n",
            "Test set: Average loss: 0.0300, Accuracy: 22.15999984741211 (22%)\n",
            "\n",
            "Train epoch: 196 [0/50000 (0%)]\tLoss: 0.567272\n",
            "Train epoch: 196 [3200/50000 (6%)]\tLoss: 0.605928\n",
            "Train epoch: 196 [6400/50000 (13%)]\tLoss: 0.409359\n",
            "Train epoch: 196 [9600/50000 (19%)]\tLoss: 0.802957\n",
            "Train epoch: 196 [12800/50000 (26%)]\tLoss: 0.453062\n",
            "Train epoch: 196 [16000/50000 (32%)]\tLoss: 0.693303\n",
            "Train epoch: 196 [19200/50000 (38%)]\tLoss: 0.820000\n",
            "Train epoch: 196 [22400/50000 (45%)]\tLoss: 0.364001\n",
            "Train epoch: 196 [25600/50000 (51%)]\tLoss: 0.577733\n",
            "Train epoch: 196 [28800/50000 (58%)]\tLoss: 0.389992\n",
            "Train epoch: 196 [32000/50000 (64%)]\tLoss: 0.566353\n",
            "Train epoch: 196 [35200/50000 (70%)]\tLoss: 0.447652\n",
            "Train epoch: 196 [38400/50000 (77%)]\tLoss: 0.317263\n",
            "Train epoch: 196 [41600/50000 (83%)]\tLoss: 0.473169\n",
            "Train epoch: 196 [44800/50000 (90%)]\tLoss: 0.542356\n",
            "Train epoch: 196 [48000/50000 (96%)]\tLoss: 0.512392\n",
            "\n",
            "Test set: Average loss: 0.0050, Accuracy: 79.5999984741211 (80%)\n",
            "\n"
          ]
        },
        {
          "output_type": "stream",
          "name": "stderr",
          "text": [
            "/usr/local/lib/python3.10/dist-packages/torchvision/transforms/functional.py:1603: UserWarning: The default value of the antialias parameter of all the resizing transforms (Resize(), RandomResizedCrop(), etc.) will change from None to True in v0.17, in order to be consistent across the PIL and Tensor backends. To suppress this warning, directly pass antialias=True (recommended, future default), antialias=None (current default, which means False for Tensors and True for PIL), or antialias=False (only works on Tensors - PIL will still use antialiasing). This also applies if you are using the inference transforms from the models weights: update the call to weights.transforms(antialias=True).\n",
            "  warnings.warn(\n"
          ]
        },
        {
          "output_type": "stream",
          "name": "stdout",
          "text": [
            "\n",
            "Test set: Average loss: 0.0266, Accuracy: 24.360000610351562 (24%)\n",
            "\n",
            "Train epoch: 197 [0/50000 (0%)]\tLoss: 0.462870\n",
            "Train epoch: 197 [3200/50000 (6%)]\tLoss: 0.525462\n",
            "Train epoch: 197 [6400/50000 (13%)]\tLoss: 0.531846\n",
            "Train epoch: 197 [9600/50000 (19%)]\tLoss: 0.657369\n",
            "Train epoch: 197 [12800/50000 (26%)]\tLoss: 0.455123\n",
            "Train epoch: 197 [16000/50000 (32%)]\tLoss: 0.339111\n",
            "Train epoch: 197 [19200/50000 (38%)]\tLoss: 0.258317\n",
            "Train epoch: 197 [22400/50000 (45%)]\tLoss: 0.519871\n",
            "Train epoch: 197 [25600/50000 (51%)]\tLoss: 0.405892\n",
            "Train epoch: 197 [28800/50000 (58%)]\tLoss: 0.586634\n",
            "Train epoch: 197 [32000/50000 (64%)]\tLoss: 0.586802\n",
            "Train epoch: 197 [35200/50000 (70%)]\tLoss: 0.545191\n",
            "Train epoch: 197 [38400/50000 (77%)]\tLoss: 0.434464\n",
            "Train epoch: 197 [41600/50000 (83%)]\tLoss: 0.478634\n",
            "Train epoch: 197 [44800/50000 (90%)]\tLoss: 0.510963\n",
            "Train epoch: 197 [48000/50000 (96%)]\tLoss: 0.231092\n",
            "\n",
            "Test set: Average loss: 0.0051, Accuracy: 78.98999786376953 (79%)\n",
            "\n"
          ]
        },
        {
          "output_type": "stream",
          "name": "stderr",
          "text": [
            "/usr/local/lib/python3.10/dist-packages/torchvision/transforms/functional.py:1603: UserWarning: The default value of the antialias parameter of all the resizing transforms (Resize(), RandomResizedCrop(), etc.) will change from None to True in v0.17, in order to be consistent across the PIL and Tensor backends. To suppress this warning, directly pass antialias=True (recommended, future default), antialias=None (current default, which means False for Tensors and True for PIL), or antialias=False (only works on Tensors - PIL will still use antialiasing). This also applies if you are using the inference transforms from the models weights: update the call to weights.transforms(antialias=True).\n",
            "  warnings.warn(\n"
          ]
        },
        {
          "output_type": "stream",
          "name": "stdout",
          "text": [
            "\n",
            "Test set: Average loss: 0.0321, Accuracy: 21.25 (21%)\n",
            "\n",
            "Train epoch: 198 [0/50000 (0%)]\tLoss: 0.366382\n",
            "Train epoch: 198 [3200/50000 (6%)]\tLoss: 0.717668\n",
            "Train epoch: 198 [6400/50000 (13%)]\tLoss: 0.284197\n",
            "Train epoch: 198 [9600/50000 (19%)]\tLoss: 0.510536\n",
            "Train epoch: 198 [12800/50000 (26%)]\tLoss: 0.780028\n",
            "Train epoch: 198 [16000/50000 (32%)]\tLoss: 0.362703\n",
            "Train epoch: 198 [19200/50000 (38%)]\tLoss: 0.388046\n",
            "Train epoch: 198 [22400/50000 (45%)]\tLoss: 0.472177\n",
            "Train epoch: 198 [25600/50000 (51%)]\tLoss: 0.520437\n",
            "Train epoch: 198 [28800/50000 (58%)]\tLoss: 0.494027\n",
            "Train epoch: 198 [32000/50000 (64%)]\tLoss: 0.476791\n",
            "Train epoch: 198 [35200/50000 (70%)]\tLoss: 0.567187\n",
            "Train epoch: 198 [38400/50000 (77%)]\tLoss: 0.243003\n",
            "Train epoch: 198 [41600/50000 (83%)]\tLoss: 0.647929\n",
            "Train epoch: 198 [44800/50000 (90%)]\tLoss: 0.418223\n",
            "Train epoch: 198 [48000/50000 (96%)]\tLoss: 0.569132\n",
            "\n",
            "Test set: Average loss: 0.0051, Accuracy: 78.72000122070312 (79%)\n",
            "\n"
          ]
        },
        {
          "output_type": "stream",
          "name": "stderr",
          "text": [
            "/usr/local/lib/python3.10/dist-packages/torchvision/transforms/functional.py:1603: UserWarning: The default value of the antialias parameter of all the resizing transforms (Resize(), RandomResizedCrop(), etc.) will change from None to True in v0.17, in order to be consistent across the PIL and Tensor backends. To suppress this warning, directly pass antialias=True (recommended, future default), antialias=None (current default, which means False for Tensors and True for PIL), or antialias=False (only works on Tensors - PIL will still use antialiasing). This also applies if you are using the inference transforms from the models weights: update the call to weights.transforms(antialias=True).\n",
            "  warnings.warn(\n"
          ]
        },
        {
          "output_type": "stream",
          "name": "stdout",
          "text": [
            "\n",
            "Test set: Average loss: 0.0298, Accuracy: 21.829999923706055 (22%)\n",
            "\n",
            "Train epoch: 199 [0/50000 (0%)]\tLoss: 0.628735\n",
            "Train epoch: 199 [3200/50000 (6%)]\tLoss: 0.187230\n",
            "Train epoch: 199 [6400/50000 (13%)]\tLoss: 0.493365\n",
            "Train epoch: 199 [9600/50000 (19%)]\tLoss: 0.264351\n",
            "Train epoch: 199 [12800/50000 (26%)]\tLoss: 0.406345\n",
            "Train epoch: 199 [16000/50000 (32%)]\tLoss: 0.504876\n",
            "Train epoch: 199 [19200/50000 (38%)]\tLoss: 0.597438\n",
            "Train epoch: 199 [22400/50000 (45%)]\tLoss: 0.324050\n",
            "Train epoch: 199 [25600/50000 (51%)]\tLoss: 0.657098\n",
            "Train epoch: 199 [28800/50000 (58%)]\tLoss: 0.777214\n",
            "Train epoch: 199 [32000/50000 (64%)]\tLoss: 0.510742\n",
            "Train epoch: 199 [35200/50000 (70%)]\tLoss: 0.611864\n",
            "Train epoch: 199 [38400/50000 (77%)]\tLoss: 0.472087\n",
            "Train epoch: 199 [41600/50000 (83%)]\tLoss: 0.432397\n",
            "Train epoch: 199 [44800/50000 (90%)]\tLoss: 0.364710\n",
            "Train epoch: 199 [48000/50000 (96%)]\tLoss: 0.502741\n",
            "\n",
            "Test set: Average loss: 0.0047, Accuracy: 80.66999816894531 (81%)\n",
            "\n"
          ]
        },
        {
          "output_type": "stream",
          "name": "stderr",
          "text": [
            "/usr/local/lib/python3.10/dist-packages/torchvision/transforms/functional.py:1603: UserWarning: The default value of the antialias parameter of all the resizing transforms (Resize(), RandomResizedCrop(), etc.) will change from None to True in v0.17, in order to be consistent across the PIL and Tensor backends. To suppress this warning, directly pass antialias=True (recommended, future default), antialias=None (current default, which means False for Tensors and True for PIL), or antialias=False (only works on Tensors - PIL will still use antialiasing). This also applies if you are using the inference transforms from the models weights: update the call to weights.transforms(antialias=True).\n",
            "  warnings.warn(\n"
          ]
        },
        {
          "output_type": "stream",
          "name": "stdout",
          "text": [
            "\n",
            "Test set: Average loss: 0.0279, Accuracy: 24.06999969482422 (24%)\n",
            "\n",
            "Train epoch: 200 [0/50000 (0%)]\tLoss: 0.753006\n",
            "Train epoch: 200 [3200/50000 (6%)]\tLoss: 0.243413\n",
            "Train epoch: 200 [6400/50000 (13%)]\tLoss: 0.602540\n",
            "Train epoch: 200 [9600/50000 (19%)]\tLoss: 0.478200\n",
            "Train epoch: 200 [12800/50000 (26%)]\tLoss: 0.749331\n",
            "Train epoch: 200 [16000/50000 (32%)]\tLoss: 0.774096\n",
            "Train epoch: 200 [19200/50000 (38%)]\tLoss: 0.302779\n",
            "Train epoch: 200 [22400/50000 (45%)]\tLoss: 0.745445\n",
            "Train epoch: 200 [25600/50000 (51%)]\tLoss: 0.377466\n",
            "Train epoch: 200 [28800/50000 (58%)]\tLoss: 0.531251\n",
            "Train epoch: 200 [32000/50000 (64%)]\tLoss: 0.355719\n",
            "Train epoch: 200 [35200/50000 (70%)]\tLoss: 0.444277\n",
            "Train epoch: 200 [38400/50000 (77%)]\tLoss: 0.459674\n",
            "Train epoch: 200 [41600/50000 (83%)]\tLoss: 0.675107\n",
            "Train epoch: 200 [44800/50000 (90%)]\tLoss: 0.284013\n",
            "Train epoch: 200 [48000/50000 (96%)]\tLoss: 0.290942\n",
            "\n",
            "Test set: Average loss: 0.0048, Accuracy: 79.9800033569336 (80%)\n",
            "\n"
          ]
        },
        {
          "output_type": "stream",
          "name": "stderr",
          "text": [
            "/usr/local/lib/python3.10/dist-packages/torchvision/transforms/functional.py:1603: UserWarning: The default value of the antialias parameter of all the resizing transforms (Resize(), RandomResizedCrop(), etc.) will change from None to True in v0.17, in order to be consistent across the PIL and Tensor backends. To suppress this warning, directly pass antialias=True (recommended, future default), antialias=None (current default, which means False for Tensors and True for PIL), or antialias=False (only works on Tensors - PIL will still use antialiasing). This also applies if you are using the inference transforms from the models weights: update the call to weights.transforms(antialias=True).\n",
            "  warnings.warn(\n"
          ]
        },
        {
          "output_type": "stream",
          "name": "stdout",
          "text": [
            "\n",
            "Test set: Average loss: 0.0276, Accuracy: 23.18000030517578 (23%)\n",
            "\n",
            "\n",
            "    -------------------------------\n",
            "    Normal Data Saved: (200, 79.98)\n",
            "    -------------------------------\n",
            "    \n",
            "\n",
            "    --------------------------------\n",
            "    Altered Data Saved: (200, 23.18)\n",
            "    --------------------------------\n",
            "    \n",
            "\n",
            "    ********************************\n",
            "    final accuracy: 79.9800033569336\n",
            "    ********************************\n",
            "    \n"
          ]
        },
        {
          "output_type": "error",
          "ename": "TypeError",
          "evalue": "save_model() got an unexpected keyword argument 'began_blur_epoch'",
          "traceback": [
            "\u001b[0;31m---------------------------------------------------------------------------\u001b[0m",
            "\u001b[0;31mTypeError\u001b[0m                                 Traceback (most recent call last)",
            "\u001b[0;32m<ipython-input-34-fdf83e975c42>\u001b[0m in \u001b[0;36m<cell line: 19>\u001b[0;34m()\u001b[0m\n\u001b[1;32m     17\u001b[0m \u001b[0mcheckpoint_save_path\u001b[0m \u001b[0;34m=\u001b[0m \u001b[0mstd_text\u001b[0m \u001b[0;34m+\u001b[0m \u001b[0;34mf\"/40epochs_blur_checkpts/40blurred_from_0.pt\"\u001b[0m\u001b[0;34m\u001b[0m\u001b[0;34m\u001b[0m\u001b[0m\n\u001b[1;32m     18\u001b[0m \u001b[0;34m\u001b[0m\u001b[0m\n\u001b[0;32m---> 19\u001b[0;31m save_model(began_blur_epoch=pretrained_epochs,\n\u001b[0m\u001b[1;32m     20\u001b[0m            \u001b[0mmodel_state_dict\u001b[0m\u001b[0;34m=\u001b[0m\u001b[0mmodel\u001b[0m\u001b[0;34m.\u001b[0m\u001b[0mstate_dict\u001b[0m\u001b[0;34m(\u001b[0m\u001b[0;34m)\u001b[0m\u001b[0;34m,\u001b[0m\u001b[0;34m\u001b[0m\u001b[0;34m\u001b[0m\u001b[0m\n\u001b[1;32m     21\u001b[0m            \u001b[0moptimizer_state_dict\u001b[0m\u001b[0;34m=\u001b[0m\u001b[0moptimizer\u001b[0m\u001b[0;34m.\u001b[0m\u001b[0mstate_dict\u001b[0m\u001b[0;34m(\u001b[0m\u001b[0;34m)\u001b[0m\u001b[0;34m,\u001b[0m\u001b[0;34m\u001b[0m\u001b[0;34m\u001b[0m\u001b[0m\n",
            "\u001b[0;31mTypeError\u001b[0m: save_model() got an unexpected keyword argument 'began_blur_epoch'"
          ]
        }
      ],
      "source": [
        "# Entrenamos modelo que empieza con 40 épocas blur y sigue con 120 normales\n",
        "#PROXIMO CODIGO A EJECUTAR\n",
        "std_text = f'/content/gdrive/MyDrive/Christ Diego Mircea/resultados experimentos'\n",
        "whole_data = begin_model_easy(normal_loader=train_loader,\n",
        "                              altered_loader=train_loader_blur,\n",
        "                              normal_test=test_loader,\n",
        "                              altered_test=test_loader_blur)\n",
        "\n",
        "model_data = whole_data['model_data']\n",
        "model = whole_data['model']\n",
        "final_accuracy = whole_data['final_accuracy']\n",
        "optimizer = whole_data['optimizer']\n",
        "training_data_dict = whole_data['training_data_dict']\n",
        "test_data_dict = whole_data['test_data_dict']\n",
        "pretrained_epochs = model_data['pretrained_epochs']\n",
        "\n",
        "checkpoint_save_path = std_text + f\"/40epochs_blur_checkpts/40blurred_from_0.pt\"\n",
        "\n",
        "save_model(pretrained_epochs=pretrained_epochs,\n",
        "           model_state_dict=model.state_dict(),\n",
        "           optimizer_state_dict=optimizer.state_dict(),\n",
        "           final_accuracy=round(final_accuracy, 2),\n",
        "           training_data_dict=training_data_dict,\n",
        "           test_data_dict=test_data_dict,\n",
        "           checkpt_path=checkpoint_save_path)"
      ]
    },
    {
      "cell_type": "code",
      "source": [
        "# EJECUTAR PLOT despues de que tengamos modelo normal a 360 épocas\n",
        "\n",
        "std_text = f'/content/gdrive/MyDrive/Christ Diego Mircea/resultados experimentos'\n",
        "checkpoint_save_path = std_text + f\"/40epochs_blur_checkpts/40blurred_from_0.pt\"\n",
        "\n",
        "save_model(pretrained_epochs=pretrained_epochs,\n",
        "           model_state_dict=model.state_dict(),\n",
        "           optimizer_state_dict=optimizer.state_dict(),\n",
        "           final_accuracy=round(final_accuracy, 2),\n",
        "           training_data_dict=training_data_dict,\n",
        "           test_data_dict=test_data_dict,\n",
        "           checkpt_path=checkpoint_save_path)\n",
        "\n",
        "data = load_pretrained_model(checkpoint_save_path)\n",
        "\n",
        "plot_path = std_text + f\"/Graficos/Blur training graphs/Blur_training_from_0\"\n",
        "save_plot(path=plot_path, blur=True, training_data=training_data_dict,\n",
        "          altered_test_data=model_data['test_data_dict'], altered_begin=0)"
      ],
      "metadata": {
        "id": "iXuLp0sLEQaG",
        "colab": {
          "base_uri": "https://localhost:8080/",
          "height": 607
        },
        "outputId": "f903df37-3e60-4124-c641-1c2ced15287f"
      },
      "execution_count": null,
      "outputs": [
        {
          "output_type": "display_data",
          "data": {
            "text/plain": [
              "<Figure size 1200x600 with 1 Axes>"
            ],
            "image/png": "[encoded data removed]"
          },
          "metadata": {}
        }
      ]
    },
    {
      "cell_type": "markdown",
      "source": [
        "### 4.2 Modelo particular"
      ],
      "metadata": {
        "id": "4ArewZE4GUEZ"
      }
    },
    {
      "cell_type": "code",
      "source": [
        "# desde 10 epocas\n",
        "\n",
        "std_text = f'/content/gdrive/MyDrive/Christ Diego Mircea/resultados experimentos'\n",
        "mod_path = std_text + f'/allconv_noblur_checkpts/checkpoint_epoch_10.pt'\n",
        "\n",
        "model_info  = begin_model_easy(normal_loader=train_loader,\n",
        "                               altered_loader=train_loader_blur,\n",
        "                               normal_test=test_loader,\n",
        "                               altered_test=test_loader_blur,\n",
        "                               model_path=mod_path)\n",
        "\n",
        "model_data = model_info['model_data']\n",
        "\n",
        "text = f\"Training the model with Blur starting from {pretrained_epochs} non-blurred epochs\"\n",
        "pretty_print(text, '.')\n",
        "\n",
        "checkpoint_save_path = std_text + f\"/40epochs_blur_checkpts/40Blurred_from_10.pt\"\n",
        "save_model(pretrained_epochs=model_data['pretrained_epochs'],\n",
        "           model_state_dict=model_info['model'].state_dict(),\n",
        "           optimizer_state_dict=model_info['optimizer'].state_dict(),\n",
        "           final_accuracy=round(model_info['final_accuracy'], 2),\n",
        "           training_data_dict=model_info['training_data_dict'],\n",
        "           test_data_dict=model_info['test_data_dict'],\n",
        "           checkpt_path=checkpoint_save_path)\n",
        "\n",
        "plot_path = std_text + f\"/Graficos/Blur training graphs/Blur_training_from_10.png\"\n",
        "save_plot(plot_path, training_data=model_info['training_data_dict'],\n",
        "          altered_test_data=model_info['test_data_dict'],\n",
        "          altered_begin='10', blur=True)"
      ],
      "metadata": {
        "id": "15dQVDl3T9Hk"
      },
      "execution_count": null,
      "outputs": []
    },
    {
      "cell_type": "markdown",
      "source": [
        "#### En caso de que se guardó mal, editar y ejecutar este:"
      ],
      "metadata": {
        "id": "AlSLI4a4Jv7A"
      }
    },
    {
      "cell_type": "code",
      "source": [
        "pretrained_epochs = model_data['pretrained_epochs']\n",
        "checkpoint_save_path = std_text + f\"/40epochs_blur_checkpts/40Blurred_from_120.pt\"\n",
        "save_model(began_blur_epoch=pretrained_epochs,\n",
        "           model_state_dict=model_info['model'].state_dict(),\n",
        "           optimizer_state_dict=model_info['optimizer'].state_dict(),\n",
        "           final_accuracy=round(model_info['final_accuracy'], 2),\n",
        "           training_data_dict=model_info['training_data_dict'],\n",
        "           checkpt_path=checkpoint_save_path)\n",
        "\n",
        "plot_path = std_text + f\"/Graficos/Blur training graphs/Blur_training_from_120.png\"\n",
        "save_plot(plot_path, model_info['training_data_dict'], '120', blur=True)"
      ],
      "metadata": {
        "colab": {
          "base_uri": "https://localhost:8080/",
          "height": 607
        },
        "id": "8eufMENGsJew",
        "outputId": "0158534a-0792-4dac-da84-3ff2cd7d4380"
      },
      "execution_count": null,
      "outputs": [
        {
          "output_type": "display_data",
          "data": {
            "text/plain": [
              "<Figure size 1200x600 with 1 Axes>"
            ],
            "image/png": "[encoded data removed]"
          },
          "metadata": {}
        }
      ]
    },
    {
      "cell_type": "markdown",
      "metadata": {
        "id": "h3ONGV41MjOu"
      },
      "source": [
        "## 5.1. Generar gráfico de precisión vs época en donde se comenzó a entrenar con blur"
      ]
    },
    {
      "cell_type": "code",
      "execution_count": null,
      "metadata": {
        "id": "psLYGkQoMmXs"
      },
      "outputs": [],
      "source": [
        "cant_archivos = 10 # cambiarlo a la cantidad de modelos que ya se encuentren en la carpeta 40epochs_blur_checkpoints\n",
        "\n",
        "model_paths = [f\"/content/gdrive/MyDrive/Christ Diego Mircea/resultados experimentos/40epochs_blur_checkpts/40Blurred_from_{10*i}.pt\" for i in range(1,cant_archivos)]\n",
        "accuracies = []\n",
        "begin_epoch = [10*i for i in range(1,cant_archivos)]\n",
        "\n",
        "for path in model_paths:\n",
        "  model_data = torch.load(path)\n",
        "  accuracies.append(model_data['final_accuracy'])"
      ]
    },
    {
      "cell_type": "code",
      "execution_count": null,
      "metadata": {
        "id": "8D2t-4QZUvdO",
        "colab": {
          "base_uri": "https://localhost:8080/",
          "height": 689
        },
        "outputId": "1950fbb3-d082-4afd-d69c-c3d15272adcb"
      },
      "outputs": [
        {
          "output_type": "display_data",
          "data": {
            "text/plain": [
              "<Figure size 1000x700 with 1 Axes>"
            ],
            "image/png": "[encoded data removed]"
          },
          "metadata": {}
        }
      ],
      "source": [
        "\n",
        "fig, ax = plt.subplots(figsize=(10, 7))\n",
        "ax.plot(begin_epoch, accuracies, color='purple')\n",
        "ax.grid()\n",
        "ax.scatter(begin_epoch, accuracies, color='orange')\n",
        "plt.ylabel('Accuracy')\n",
        "plt.xlabel('Epoch')\n",
        "plt.suptitle('accuracies vs blurring-begin epoch (Achille et al.)');"
      ]
    },
    {
      "cell_type": "code",
      "source": [
        "save_path = f\"/content/gdrive/MyDrive/Christ Diego Mircea/resultados experimentos/Graficos/Acc Vs Epoch  (Epoch when blurred training began).png\"\n",
        "plt.savefig(save_path, bbox_inches='tight', pad_inches=0.1)"
      ],
      "metadata": {
        "colab": {
          "base_uri": "https://localhost:8080/",
          "height": 35
        },
        "id": "x0m1oPog0h14",
        "outputId": "108294be-6838-4b17-b8c8-ca77c63a1303"
      },
      "execution_count": null,
      "outputs": [
        {
          "output_type": "display_data",
          "data": {
            "text/plain": [
              "<Figure size 640x480 with 0 Axes>"
            ]
          },
          "metadata": {}
        }
      ]
    },
    {
      "cell_type": "code",
      "source": [],
      "metadata": {
        "id": "wYD4MC08GTp8"
      },
      "execution_count": null,
      "outputs": []
    }
  ],
  "metadata": {
    "accelerator": "GPU",
    "colab": {
      "provenance": [],
      "collapsed_sections": [
        "3TG3IHqeXm4r",
        "cuhtKPPcXqKN",
        "4ArewZE4GUEZ",
        "AlSLI4a4Jv7A"
      ]
    },
    "kernelspec": {
      "display_name": "Python 3",
      "name": "python3"
    },
    "language_info": {
      "codemirror_mode": {
        "name": "ipython",
        "version": 3
      },
      "file_extension": ".py",
      "mimetype": "text/x-python",
      "name": "python",
      "nbconvert_exporter": "python",
      "pygments_lexer": "ipython3",
      "version": "3.9.16"
    }
  },
  "nbformat": 4,
  "nbformat_minor": 0
}