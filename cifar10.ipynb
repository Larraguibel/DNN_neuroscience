{
  "cells": [
    {
      "cell_type": "code",
      "execution_count": 4,
      "metadata": {
        "id": "NjsA9TTlvXU7"
      },
      "outputs": [],
      "source": [
        "cuda = True\n",
        "train_batch_size = 32\n",
        "test_batch_size = 124\n",
        "best_loss = float(\"inf\")\n",
        "best_epoch = -1\n",
        "dataset_path = './cifar10'\n",
        "gsync_save = True"
      ]
    },
    {
      "cell_type": "code",
      "execution_count": 1,
      "metadata": {
        "id": "z0LLDiZnvXU-"
      },
      "outputs": [],
      "source": [
        "try:\n",
        "    import torch\n",
        "except ModuleNotFoundError:\n",
        "    from os import path\n",
        "    from wheel.pep425tags import get_abbr_impl, get_impl_ver, get_abi_tag\n",
        "    platform = '{}{}-{}'.format(get_abbr_impl(), get_impl_ver(), get_abi_tag())\n",
        "\n",
        "    accelerator = 'cu80' if path.exists('/opt/bin/nvidia-smi') else 'cpu'\n",
        "\n",
        "    !pip install -q http://download.pytorch.org/whl/{accelerator}/torch-0.3.1-{platform}-linux_x86_64.whl\n",
        "    import torch\n",
        "import torch.nn as nn\n",
        "import torch.nn.functional as F\n",
        "import torch.optim as optim\n",
        "from torch.autograd import Variable"
      ]
    },
    {
      "cell_type": "code",
      "execution_count": 2,
      "metadata": {
        "id": "g_41e1ZYvXVB"
      },
      "outputs": [],
      "source": [
        "try:\n",
        "    import torchvision\n",
        "except ModuleNotFoundError:\n",
        "    !pip install -q torchvision\n",
        "\n",
        "from torchvision import datasets, transforms"
      ]
    },
    {
      "cell_type": "code",
      "execution_count": null,
      "metadata": {
        "colab": {
          "base_uri": "https://localhost:8080/"
        },
        "id": "qykF9_LVLB7u",
        "outputId": "9e6c2643-56bd-4c0d-f1f9-7c9799985b64"
      },
      "outputs": [],
      "source": [
        "if gsync_save:\n",
        "    try:\n",
        "        import utils\n",
        "    except ModuleNotFoundError:\n",
        "        !wget https://raw.githubusercontent.com/StefOe/colab-pytorch-utils/HEAD/utils.py\n",
        "        import utils\n",
        "\n",
        "    gsync = utils.GDriveSync()"
      ]
    },
    {
      "cell_type": "code",
      "execution_count": 8,
      "metadata": {
        "colab": {
          "base_uri": "https://localhost:8080/"
        },
        "id": "Lam-625bvXVE",
        "outputId": "645f71f5-031c-4834-8658-17b80825cd21"
      },
      "outputs": [
        {
          "name": "stdout",
          "output_type": "stream",
          "text": [
            "--2023-10-24 20:31:50--  https://github.com/StefOe/all-conv-pytorch/raw/HEAD/allconv.py\n",
            "Resolving github.com (github.com)... 20.205.243.166\n",
            "Connecting to github.com (github.com)|20.205.243.166|:443... connected.\n",
            "HTTP request sent, awaiting response... 302 Found\n",
            "Location: https://raw.githubusercontent.com/StefOe/all-conv-pytorch/8545bb3ff7ac4410e52d8db930f0485074073ea9/allconv.py [following]\n",
            "--2023-10-24 20:31:50--  https://raw.githubusercontent.com/StefOe/all-conv-pytorch/8545bb3ff7ac4410e52d8db930f0485074073ea9/allconv.py\n",
            "Resolving raw.githubusercontent.com (raw.githubusercontent.com)... 185.199.108.133, 185.199.109.133, 185.199.110.133, ...\n",
            "Connecting to raw.githubusercontent.com (raw.githubusercontent.com)|185.199.108.133|:443... connected.\n",
            "HTTP request sent, awaiting response... 200 OK\n",
            "Length: 1457 (1.4K) [text/plain]\n",
            "Saving to: ‘allconv.py’\n",
            "\n",
            "allconv.py          100%[===================>]   1.42K  --.-KB/s    in 0s      \n",
            "\n",
            "2023-10-24 20:31:51 (28.7 MB/s) - ‘allconv.py’ saved [1457/1457]\n",
            "\n"
          ]
        }
      ],
      "source": [
        "try:\n",
        "    from allconv import AllConvNet\n",
        "except ModuleNotFoundError:\n",
        "    !wget https://github.com/StefOe/all-conv-pytorch/raw/HEAD/allconv.py\n",
        "    from allconv import AllConvNet"
      ]
    },
    {
      "cell_type": "code",
      "execution_count": 11,
      "metadata": {
        "colab": {
          "base_uri": "https://localhost:8080/"
        },
        "id": "rZu8tSSYvXVL",
        "outputId": "4345ace8-03b9-478d-93b8-e7815a3cf71c"
      },
      "outputs": [
        {
          "name": "stdout",
          "output_type": "stream",
          "text": [
            "Files already downloaded and verified\n",
            "Files already downloaded and verified\n",
            "Files already downloaded and verified\n"
          ]
        }
      ],
      "source": [
        "cuda = cuda and torch.cuda.is_available()\n",
        "trainset = datasets.CIFAR10(root=dataset_path, train=True, download=True)\n",
        "train_mean = trainset.data.mean(axis=(0, 1, 2)) / 255\n",
        "train_std = trainset.data.std(axis=(0, 1, 2)) / 255\n",
        "transform_train = transforms.Compose([\n",
        "    transforms.RandomCrop(32, padding=4),\n",
        "    transforms.RandomHorizontalFlip(),\n",
        "    transforms.ToTensor(),\n",
        "    transforms.Normalize(train_mean, train_std),\n",
        "])\n",
        "\n",
        "transform_test = transforms.Compose([\n",
        "    transforms.ToTensor(),\n",
        "    transforms.Normalize(train_mean, train_std),\n",
        "])\n",
        "kwargs = {'num_workers': 1, 'pin_memory': True} if cuda else {}\n",
        "train_loader = torch.utils.data.DataLoader(datasets.CIFAR10(\n",
        "    root=dataset_path, train=True, download=True,\n",
        "    transform=transform_train),\n",
        "    batch_size=train_batch_size, shuffle=True, **kwargs)\n",
        "test_loader = torch.utils.data.DataLoader(\n",
        "    datasets.CIFAR10(root=dataset_path, train=False, download=True,\n",
        "    transform=transform_test),\n",
        "    batch_size=test_batch_size, shuffle=False, **kwargs)"
      ]
    },
    {
      "cell_type": "code",
      "execution_count": 12,
      "metadata": {
        "id": "3WISJzjRvXVP"
      },
      "outputs": [],
      "source": [
        "model = AllConvNet(3)\n",
        "if cuda:\n",
        "    model.cuda()\n",
        "\n",
        "criterion = nn.CrossEntropyLoss()\n",
        "optimizer = optim.SGD(model.parameters(), lr=0.001, momentum=0.9)\n",
        "scheduler = optim.lr_scheduler.MultiStepLR(\n",
        "    optimizer, milestones=[200, 250, 300], gamma=0.1)"
      ]
    },
    {
      "cell_type": "code",
      "execution_count": 17,
      "metadata": {
        "id": "5shX88fvvXVR"
      },
      "outputs": [],
      "source": [
        "def train(epoch):\n",
        "    model.train()\n",
        "    for batch_idx, (data, target) in enumerate(train_loader):\n",
        "        if cuda:\n",
        "            data, target = data.cuda(), target.cuda()\n",
        "        data, target = Variable(data), Variable(target)\n",
        "\n",
        "        optimizer.zero_grad()\n",
        "        output = model(data)\n",
        "        loss = criterion(output, target)\n",
        "        loss.backward()\n",
        "        optimizer.step()\n",
        "        if batch_idx % 100 == 0:\n",
        "          print('Train Epoch: {} [{}/{} ({:.0f}%)]\\tLoss: {:.6f}'.format(\n",
        "              epoch, batch_idx * len(data), len(train_loader.dataset),\n",
        "              100. * batch_idx / len(train_loader), loss.item()))\n",
        "\n",
        "\n",
        "def test(epoch, best_loss, best_epoch):\n",
        "    model.eval()\n",
        "    test_loss = 0\n",
        "    correct = 0\n",
        "    for data, target in test_loader:\n",
        "        if cuda:\n",
        "            data, target = data.cuda(), target.cuda()\n",
        "        data, target = Variable(data), Variable(target)\n",
        "\n",
        "        output = model(data)\n",
        "        # sum up batch loss\n",
        "        test_loss += criterion(output, target).item()\n",
        "        # get the index of the max log-probability\n",
        "        pred = output.data.max(1, keepdim=True)[1]\n",
        "        correct += pred.eq(target.data.view_as(pred)).long().cpu().sum()\n",
        "\n",
        "    test_loss /= len(test_loader.dataset)\n",
        "    print(\n",
        "        '\\nTest set: Average loss: {:.4f}, Accuracy: {}/{} ({:.0f}%)\\n'.format(\n",
        "            test_loss, correct, len(test_loader.dataset), 100. * correct /\n",
        "            len(test_loader.dataset)))\n",
        "\n",
        "    if test_loss < best_loss:\n",
        "        best_epoch = epoch\n",
        "        best_loss = test_loss\n",
        "        torch.save(model, \"best.pt\")\n",
        "        if gsync_save:\n",
        "            gsync.update_file_to_folder(\"best.pt\")\n",
        "    return best_loss, best_epoch"
      ]
    },
    {
      "cell_type": "code",
      "execution_count": null,
      "metadata": {
        "colab": {
          "base_uri": "https://localhost:8080/"
        },
        "id": "Q_YHklUQvXVU",
        "outputId": "79c0589e-abdc-493a-d180-1093236feada"
      },
      "outputs": [
        {
          "name": "stdout",
          "output_type": "stream",
          "text": [
            "Train Epoch: 0 [0/50000 (0%)]\tLoss: 2.302415\n",
            "Train Epoch: 0 [3200/50000 (6%)]\tLoss: 2.302252\n",
            "Train Epoch: 0 [6400/50000 (13%)]\tLoss: 2.302697\n",
            "Train Epoch: 0 [9600/50000 (19%)]\tLoss: 2.302792\n",
            "Train Epoch: 0 [12800/50000 (26%)]\tLoss: 2.302699\n",
            "Train Epoch: 0 [16000/50000 (32%)]\tLoss: 2.303305\n",
            "Train Epoch: 0 [19200/50000 (38%)]\tLoss: 2.302625\n",
            "Train Epoch: 0 [22400/50000 (45%)]\tLoss: 2.302336\n",
            "Train Epoch: 0 [25600/50000 (51%)]\tLoss: 2.301642\n",
            "Train Epoch: 0 [28800/50000 (58%)]\tLoss: 2.304374\n",
            "Train Epoch: 0 [32000/50000 (64%)]\tLoss: 2.303802\n",
            "Train Epoch: 0 [35200/50000 (70%)]\tLoss: 2.303093\n",
            "Train Epoch: 0 [38400/50000 (77%)]\tLoss: 2.302794\n",
            "Train Epoch: 0 [41600/50000 (83%)]\tLoss: 2.302592\n",
            "Train Epoch: 0 [44800/50000 (90%)]\tLoss: 2.302551\n",
            "Train Epoch: 0 [48000/50000 (96%)]\tLoss: 2.302581\n",
            "\n",
            "Test set: Average loss: 0.0187, Accuracy: 1000/10000 (10%)\n",
            "\n"
          ]
        },
        {
          "name": "stderr",
          "output_type": "stream",
          "text": [
            "Uploading file best.pt: 100%|██████████| 100/100 [00:02<00:00, 47.48it/s]\n"
          ]
        },
        {
          "name": "stdout",
          "output_type": "stream",
          "text": [
            "Train Epoch: 1 [0/50000 (0%)]\tLoss: 2.302653\n",
            "Train Epoch: 1 [3200/50000 (6%)]\tLoss: 2.302873\n",
            "Train Epoch: 1 [6400/50000 (13%)]\tLoss: 2.301713\n",
            "Train Epoch: 1 [9600/50000 (19%)]\tLoss: 2.301794\n",
            "Train Epoch: 1 [12800/50000 (26%)]\tLoss: 2.303112\n",
            "Train Epoch: 1 [16000/50000 (32%)]\tLoss: 2.302608\n",
            "Train Epoch: 1 [19200/50000 (38%)]\tLoss: 2.302585\n",
            "Train Epoch: 1 [22400/50000 (45%)]\tLoss: 2.302583\n",
            "Train Epoch: 1 [25600/50000 (51%)]\tLoss: 2.302585\n",
            "Train Epoch: 1 [28800/50000 (58%)]\tLoss: 2.302585\n",
            "Train Epoch: 1 [32000/50000 (64%)]\tLoss: 2.302585\n",
            "Train Epoch: 1 [35200/50000 (70%)]\tLoss: 2.302585\n",
            "Train Epoch: 1 [38400/50000 (77%)]\tLoss: 2.302585\n",
            "Train Epoch: 1 [41600/50000 (83%)]\tLoss: 2.302586\n",
            "Train Epoch: 1 [44800/50000 (90%)]\tLoss: 2.302585\n",
            "Train Epoch: 1 [48000/50000 (96%)]\tLoss: 2.302585\n",
            "\n",
            "Test set: Average loss: 0.0187, Accuracy: 901/10000 (9%)\n",
            "\n",
            "Train Epoch: 2 [0/50000 (0%)]\tLoss: 2.302585\n",
            "Train Epoch: 2 [3200/50000 (6%)]\tLoss: 2.302585\n",
            "Train Epoch: 2 [6400/50000 (13%)]\tLoss: 2.302585\n",
            "Train Epoch: 2 [9600/50000 (19%)]\tLoss: 2.302585\n",
            "Train Epoch: 2 [12800/50000 (26%)]\tLoss: 2.302585\n",
            "Train Epoch: 2 [16000/50000 (32%)]\tLoss: 2.302585\n",
            "Train Epoch: 2 [19200/50000 (38%)]\tLoss: 2.302585\n",
            "Train Epoch: 2 [22400/50000 (45%)]\tLoss: 2.302585\n",
            "Train Epoch: 2 [25600/50000 (51%)]\tLoss: 2.302585\n",
            "Train Epoch: 2 [28800/50000 (58%)]\tLoss: 2.302585\n",
            "Train Epoch: 2 [32000/50000 (64%)]\tLoss: 2.302585\n",
            "Train Epoch: 2 [35200/50000 (70%)]\tLoss: 2.302585\n",
            "Train Epoch: 2 [38400/50000 (77%)]\tLoss: 2.302585\n",
            "Train Epoch: 2 [41600/50000 (83%)]\tLoss: 2.302585\n",
            "Train Epoch: 2 [44800/50000 (90%)]\tLoss: 2.302585\n",
            "Train Epoch: 2 [48000/50000 (96%)]\tLoss: 2.302585\n",
            "\n",
            "Test set: Average loss: 0.0187, Accuracy: 914/10000 (9%)\n",
            "\n",
            "Train Epoch: 3 [0/50000 (0%)]\tLoss: 2.302585\n",
            "Train Epoch: 3 [3200/50000 (6%)]\tLoss: 2.302585\n",
            "Train Epoch: 3 [6400/50000 (13%)]\tLoss: 2.302584\n",
            "Train Epoch: 3 [9600/50000 (19%)]\tLoss: 2.302585\n",
            "Train Epoch: 3 [12800/50000 (26%)]\tLoss: 2.302586\n",
            "Train Epoch: 3 [16000/50000 (32%)]\tLoss: 2.302585\n",
            "Train Epoch: 3 [19200/50000 (38%)]\tLoss: 2.302533\n",
            "Train Epoch: 3 [22400/50000 (45%)]\tLoss: 2.302624\n",
            "Train Epoch: 3 [25600/50000 (51%)]\tLoss: 2.302583\n",
            "Train Epoch: 3 [28800/50000 (58%)]\tLoss: 2.302585\n",
            "Train Epoch: 3 [32000/50000 (64%)]\tLoss: 2.302585\n",
            "Train Epoch: 3 [35200/50000 (70%)]\tLoss: 2.302584\n",
            "Train Epoch: 3 [38400/50000 (77%)]\tLoss: 2.302581\n",
            "Train Epoch: 3 [41600/50000 (83%)]\tLoss: 2.302583\n",
            "Train Epoch: 3 [44800/50000 (90%)]\tLoss: 2.302585\n",
            "Train Epoch: 3 [48000/50000 (96%)]\tLoss: 2.302580\n",
            "\n",
            "Test set: Average loss: 0.0187, Accuracy: 1000/10000 (10%)\n",
            "\n",
            "Train Epoch: 4 [0/50000 (0%)]\tLoss: 2.302590\n",
            "Train Epoch: 4 [3200/50000 (6%)]\tLoss: 2.302584\n",
            "Train Epoch: 4 [6400/50000 (13%)]\tLoss: 2.302538\n",
            "Train Epoch: 4 [9600/50000 (19%)]\tLoss: 2.302452\n",
            "Train Epoch: 4 [12800/50000 (26%)]\tLoss: 2.302574\n",
            "Train Epoch: 4 [16000/50000 (32%)]\tLoss: 2.302588\n",
            "Train Epoch: 4 [19200/50000 (38%)]\tLoss: 2.302586\n",
            "Train Epoch: 4 [22400/50000 (45%)]\tLoss: 2.302583\n",
            "Train Epoch: 4 [25600/50000 (51%)]\tLoss: 2.302615\n",
            "Train Epoch: 4 [28800/50000 (58%)]\tLoss: 2.302601\n",
            "Train Epoch: 4 [32000/50000 (64%)]\tLoss: 2.302574\n",
            "Train Epoch: 4 [35200/50000 (70%)]\tLoss: 2.302614\n",
            "Train Epoch: 4 [38400/50000 (77%)]\tLoss: 2.303288\n",
            "Train Epoch: 4 [41600/50000 (83%)]\tLoss: 2.301245\n",
            "Train Epoch: 4 [44800/50000 (90%)]\tLoss: 2.303176\n",
            "Train Epoch: 4 [48000/50000 (96%)]\tLoss: 2.302613\n",
            "\n",
            "Test set: Average loss: 0.0187, Accuracy: 1000/10000 (10%)\n",
            "\n"
          ]
        },
        {
          "name": "stderr",
          "output_type": "stream",
          "text": [
            "Uploading file best.pt: 100%|██████████| 100/100 [00:02<00:00, 42.41it/s]\n"
          ]
        },
        {
          "name": "stdout",
          "output_type": "stream",
          "text": [
            "Train Epoch: 5 [0/50000 (0%)]\tLoss: 2.302986\n",
            "Train Epoch: 5 [3200/50000 (6%)]\tLoss: 2.302288\n",
            "Train Epoch: 5 [6400/50000 (13%)]\tLoss: 2.302601\n",
            "Train Epoch: 5 [9600/50000 (19%)]\tLoss: 2.302581\n",
            "Train Epoch: 5 [12800/50000 (26%)]\tLoss: 2.302652\n",
            "Train Epoch: 5 [16000/50000 (32%)]\tLoss: 2.302585\n",
            "Train Epoch: 5 [19200/50000 (38%)]\tLoss: 2.302585\n",
            "Train Epoch: 5 [22400/50000 (45%)]\tLoss: 2.302584\n",
            "Train Epoch: 5 [25600/50000 (51%)]\tLoss: 2.302583\n",
            "Train Epoch: 5 [28800/50000 (58%)]\tLoss: 2.302551\n",
            "Train Epoch: 5 [32000/50000 (64%)]\tLoss: 2.303180\n",
            "Train Epoch: 5 [35200/50000 (70%)]\tLoss: 2.302823\n",
            "Train Epoch: 5 [38400/50000 (77%)]\tLoss: 2.302194\n",
            "Train Epoch: 5 [41600/50000 (83%)]\tLoss: 2.302741\n",
            "Train Epoch: 5 [44800/50000 (90%)]\tLoss: 2.302732\n",
            "Train Epoch: 5 [48000/50000 (96%)]\tLoss: 2.303854\n",
            "\n",
            "Test set: Average loss: 0.0187, Accuracy: 1000/10000 (10%)\n",
            "\n",
            "Train Epoch: 6 [0/50000 (0%)]\tLoss: 2.303094\n",
            "Train Epoch: 6 [3200/50000 (6%)]\tLoss: 2.303015\n",
            "Train Epoch: 6 [6400/50000 (13%)]\tLoss: 2.302680\n",
            "Train Epoch: 6 [9600/50000 (19%)]\tLoss: 2.302664\n",
            "Train Epoch: 6 [12800/50000 (26%)]\tLoss: 2.304193\n",
            "Train Epoch: 6 [16000/50000 (32%)]\tLoss: 2.301477\n",
            "Train Epoch: 6 [19200/50000 (38%)]\tLoss: 2.303052\n",
            "Train Epoch: 6 [22400/50000 (45%)]\tLoss: 2.302105\n",
            "Train Epoch: 6 [25600/50000 (51%)]\tLoss: 2.303097\n",
            "Train Epoch: 6 [28800/50000 (58%)]\tLoss: 2.302261\n",
            "Train Epoch: 6 [32000/50000 (64%)]\tLoss: 2.303035\n",
            "Train Epoch: 6 [35200/50000 (70%)]\tLoss: 2.302320\n",
            "Train Epoch: 6 [38400/50000 (77%)]\tLoss: 2.302652\n",
            "Train Epoch: 6 [41600/50000 (83%)]\tLoss: 2.303042\n",
            "Train Epoch: 6 [44800/50000 (90%)]\tLoss: 2.302498\n",
            "Train Epoch: 6 [48000/50000 (96%)]\tLoss: 2.302584\n",
            "\n",
            "Test set: Average loss: 0.0187, Accuracy: 1000/10000 (10%)\n",
            "\n"
          ]
        },
        {
          "name": "stderr",
          "output_type": "stream",
          "text": [
            "Uploading file best.pt: 100%|██████████| 100/100 [00:02<00:00, 49.36it/s]"
          ]
        }
      ],
      "source": [
        "for epoch in range(350):\n",
        "    scheduler.step()\n",
        "    train(epoch)\n",
        "    best_loss, best_epoch = test(epoch, best_loss, best_epoch)"
      ]
    },
    {
      "cell_type": "code",
      "execution_count": null,
      "metadata": {
        "id": "1-9ksOb8ykHx"
      },
      "outputs": [],
      "source": [
        "# if in Google Colab, download your model with this\n",
        "from google.colab import files\n",
        "files.download(\"best.pt\")"
      ]
    },
    {
      "cell_type": "code",
      "execution_count": null,
      "metadata": {
        "id": "u1UIFa02y_eH"
      },
      "outputs": [],
      "source": []
    }
  ],
  "metadata": {
    "accelerator": "GPU",
    "colab": {
      "name": "cifar10.ipynb",
      "provenance": []
    },
    "kernelspec": {
      "display_name": "Python 3",
      "language": "python",
      "name": "python3"
    },
    "language_info": {
      "codemirror_mode": {
        "name": "ipython",
        "version": 3
      },
      "file_extension": ".py",
      "mimetype": "text/x-python",
      "name": "python",
      "nbconvert_exporter": "python",
      "pygments_lexer": "ipython3",
      "version": "3.9.16"
    }
  },
  "nbformat": 4,
  "nbformat_minor": 0
}
